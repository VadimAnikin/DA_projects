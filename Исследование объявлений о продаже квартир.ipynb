{
 "cells": [
  {
   "cell_type": "markdown",
   "metadata": {},
   "source": [
    "Артем, привет!\n",
    "\n",
    "Спасибо большое за твои замечания!). Описательная часть в работе для меня самая сложная, но в следующих работах постараюсь исправиться)\n",
    "\n",
    "В данной работе попытался исправить недочеты: написал небольшое вступление и новый вывод, подписал графики."
   ]
  },
  {
   "cell_type": "markdown",
   "metadata": {},
   "source": [
    "Привет, меня зовут Гребенюк Артём. Сегодня я буду делать ревью твоего проекта!\\\n",
    "В Практикуме принято общаться на \"ты\", однако если это неудобно - дай знать, и можем перейти на более официальное общение.\n",
    "\n",
    "Ниже ты найдешь мои комментарии - пожалуйста, не перемещай, не изменяй и не удаляй их. Я буду использовать цветовую разметку: \n",
    "\n",
    "<div class=\"alert alert-block alert-success\">\n",
    "<b>Success:</b> Если все сделано хорошо. </div>\n",
    "\n",
    "<div class=\"alert alert-block alert-warning\">\n",
    "<b>Remarks:</b> Некритичное замечание; если таких замечаний меньше трех — проект может быть принят без их отработки.</div>\n",
    "\n",
    "<div class=\"alert alert-block alert-danger\">\n",
    "<b>Needs fixing:</b> Грубая ошибка, необходимо исправить, иначе проект не будет принят.\n",
    "</div>\n",
    "\n",
    "Давай работать над проектом в диалоге: если ты что-то меняешь в проекте или отвечаешь на мои комменатри — пиши об этом. Мне будет легче отследить изменения, если ты выделишь свои комментарии:\n",
    "Например так:\n",
    "<div class=\"alert alert-block alert-info\">\n",
    "<b>Fixed:</b> \n",
    "Hello World!\n",
    "</div>\n",
    "\n",
    "Или можешь использовать эту галочку ✔ в моих комментариях, если писать особо нечего.\n",
    "\n",
    "<div class=\"alert alert-block alert-warning\">\n",
    "<b>Общее впечатление:</b> \n",
    "    \n",
    "- Спасибо за работу :)\n",
    "- У меня есть пара ремарок, которые помогут тебе сделать проект еще лучше.\n",
    "- Пробегись по моим комментариям, исправь недочёты и всё будет отлично :)\n",
    "    \n",
    "</div>"
   ]
  },
  {
   "cell_type": "markdown",
   "metadata": {},
   "source": [
    "<div class=\"alert alert-block alert-success\">\n",
    "<b>Привет!</b> отличная работа над ремарками! Здорово, что все мои комментарии были проработаны (или омтечены), вне зависимости от цвета. Обязательно обрати внимание на оформление в следующем спринте - это для тебя точка роста, как для специалиста! Проект принят, поздравляю! Желаю удачи в дальнейшем обучении :) "
   ]
  },
  {
   "cell_type": "markdown",
   "metadata": {},
   "source": [
    "<div class=\"alert alert-block alert-warning\">\n",
    "<b>Remarks:</b> \n",
    "\n",
    "Любому проекту необззодимо введение - так ты поясняешь читателю, о чем вообще работа. Также стоит задуматься, как еще его можно дополнить, чтобы сделать более ценным для читателя. В студенческом ноушене (если нет доступа, спроси куратора) есть статья о том, как мы оформляем работы.\n",
    "    \n",
    "Также советую тебе взглянуть на <a href=\"https://www.kaggle.com/notebooks/\">работы</a> профессиональных аналитиков, чтобы оценить, как другие люди оформляют и проводят исследования. </div>\n",
    "\n"
   ]
  },
  {
   "cell_type": "markdown",
   "metadata": {},
   "source": [
    "<div class=\"alert alert-block alert-info\">\n",
    "<b>Fixed:</b> \n",
    "Введение\n",
    "</div>"
   ]
  },
  {
   "cell_type": "markdown",
   "metadata": {},
   "source": [
    "Введение\n",
    "\n",
    "В данной работе я собираюсь изучить данные сервиса Яндекс.Недвижимость — архив объявлений о продаже квартир в Санкт-Петербурге и соседних населённых пунктах за несколько лет. Постараюсь определить ключевые факторы влияющие на цену квартир."
   ]
  },
  {
   "cell_type": "markdown",
   "metadata": {},
   "source": [
    "<div class=\"alert alert-block alert-success\">\n",
    "Попытку зачту, но в следующем спринте за такое введение тебе ревьюер тоже ремарку оставит)"
   ]
  },
  {
   "cell_type": "code",
   "execution_count": 192,
   "metadata": {
    "colab": {
     "base_uri": "https://localhost:8080/",
     "height": 592
    },
    "executionInfo": {
     "elapsed": 1771,
     "status": "ok",
     "timestamp": 1615992695032,
     "user": {
      "displayName": "Вадим Аникин",
      "photoUrl": "",
      "userId": "00271984842377798948"
     },
     "user_tz": -180
    },
    "id": "ef-rHx7tmqvX",
    "outputId": "0be955aa-3e7e-40a4-eef0-43385af48f03"
   },
   "outputs": [],
   "source": [
    "import pandas as pd\n",
    "import matplotlib.pyplot as plt\n",
    "import pylab as pl"
   ]
  },
  {
   "cell_type": "code",
   "execution_count": 193,
   "metadata": {},
   "outputs": [
    {
     "data": {
      "text/html": [
       "<div>\n",
       "<style scoped>\n",
       "    .dataframe tbody tr th:only-of-type {\n",
       "        vertical-align: middle;\n",
       "    }\n",
       "\n",
       "    .dataframe tbody tr th {\n",
       "        vertical-align: top;\n",
       "    }\n",
       "\n",
       "    .dataframe thead th {\n",
       "        text-align: right;\n",
       "    }\n",
       "</style>\n",
       "<table border=\"1\" class=\"dataframe\">\n",
       "  <thead>\n",
       "    <tr style=\"text-align: right;\">\n",
       "      <th></th>\n",
       "      <th>total_images</th>\n",
       "      <th>last_price</th>\n",
       "      <th>total_area</th>\n",
       "      <th>first_day_exposition</th>\n",
       "      <th>rooms</th>\n",
       "      <th>ceiling_height</th>\n",
       "      <th>floors_total</th>\n",
       "      <th>living_area</th>\n",
       "      <th>floor</th>\n",
       "      <th>is_apartment</th>\n",
       "      <th>...</th>\n",
       "      <th>kitchen_area</th>\n",
       "      <th>balcony</th>\n",
       "      <th>locality_name</th>\n",
       "      <th>airports_nearest</th>\n",
       "      <th>cityCenters_nearest</th>\n",
       "      <th>parks_around3000</th>\n",
       "      <th>parks_nearest</th>\n",
       "      <th>ponds_around3000</th>\n",
       "      <th>ponds_nearest</th>\n",
       "      <th>days_exposition</th>\n",
       "    </tr>\n",
       "  </thead>\n",
       "  <tbody>\n",
       "    <tr>\n",
       "      <td>0</td>\n",
       "      <td>20</td>\n",
       "      <td>13000000.0</td>\n",
       "      <td>108.00</td>\n",
       "      <td>2019-03-07T00:00:00</td>\n",
       "      <td>3</td>\n",
       "      <td>2.70</td>\n",
       "      <td>16.0</td>\n",
       "      <td>51.0</td>\n",
       "      <td>8</td>\n",
       "      <td>NaN</td>\n",
       "      <td>...</td>\n",
       "      <td>25.00</td>\n",
       "      <td>NaN</td>\n",
       "      <td>Санкт-Петербург</td>\n",
       "      <td>18863.0</td>\n",
       "      <td>16028.0</td>\n",
       "      <td>1.0</td>\n",
       "      <td>482.0</td>\n",
       "      <td>2.0</td>\n",
       "      <td>755.0</td>\n",
       "      <td>NaN</td>\n",
       "    </tr>\n",
       "    <tr>\n",
       "      <td>1</td>\n",
       "      <td>7</td>\n",
       "      <td>3350000.0</td>\n",
       "      <td>40.40</td>\n",
       "      <td>2018-12-04T00:00:00</td>\n",
       "      <td>1</td>\n",
       "      <td>NaN</td>\n",
       "      <td>11.0</td>\n",
       "      <td>18.6</td>\n",
       "      <td>1</td>\n",
       "      <td>NaN</td>\n",
       "      <td>...</td>\n",
       "      <td>11.00</td>\n",
       "      <td>2.0</td>\n",
       "      <td>посёлок Шушары</td>\n",
       "      <td>12817.0</td>\n",
       "      <td>18603.0</td>\n",
       "      <td>0.0</td>\n",
       "      <td>NaN</td>\n",
       "      <td>0.0</td>\n",
       "      <td>NaN</td>\n",
       "      <td>81.0</td>\n",
       "    </tr>\n",
       "    <tr>\n",
       "      <td>2</td>\n",
       "      <td>10</td>\n",
       "      <td>5196000.0</td>\n",
       "      <td>56.00</td>\n",
       "      <td>2015-08-20T00:00:00</td>\n",
       "      <td>2</td>\n",
       "      <td>NaN</td>\n",
       "      <td>5.0</td>\n",
       "      <td>34.3</td>\n",
       "      <td>4</td>\n",
       "      <td>NaN</td>\n",
       "      <td>...</td>\n",
       "      <td>8.30</td>\n",
       "      <td>0.0</td>\n",
       "      <td>Санкт-Петербург</td>\n",
       "      <td>21741.0</td>\n",
       "      <td>13933.0</td>\n",
       "      <td>1.0</td>\n",
       "      <td>90.0</td>\n",
       "      <td>2.0</td>\n",
       "      <td>574.0</td>\n",
       "      <td>558.0</td>\n",
       "    </tr>\n",
       "    <tr>\n",
       "      <td>3</td>\n",
       "      <td>0</td>\n",
       "      <td>64900000.0</td>\n",
       "      <td>159.00</td>\n",
       "      <td>2015-07-24T00:00:00</td>\n",
       "      <td>3</td>\n",
       "      <td>NaN</td>\n",
       "      <td>14.0</td>\n",
       "      <td>NaN</td>\n",
       "      <td>9</td>\n",
       "      <td>NaN</td>\n",
       "      <td>...</td>\n",
       "      <td>NaN</td>\n",
       "      <td>0.0</td>\n",
       "      <td>Санкт-Петербург</td>\n",
       "      <td>28098.0</td>\n",
       "      <td>6800.0</td>\n",
       "      <td>2.0</td>\n",
       "      <td>84.0</td>\n",
       "      <td>3.0</td>\n",
       "      <td>234.0</td>\n",
       "      <td>424.0</td>\n",
       "    </tr>\n",
       "    <tr>\n",
       "      <td>4</td>\n",
       "      <td>2</td>\n",
       "      <td>10000000.0</td>\n",
       "      <td>100.00</td>\n",
       "      <td>2018-06-19T00:00:00</td>\n",
       "      <td>2</td>\n",
       "      <td>3.03</td>\n",
       "      <td>14.0</td>\n",
       "      <td>32.0</td>\n",
       "      <td>13</td>\n",
       "      <td>NaN</td>\n",
       "      <td>...</td>\n",
       "      <td>41.00</td>\n",
       "      <td>NaN</td>\n",
       "      <td>Санкт-Петербург</td>\n",
       "      <td>31856.0</td>\n",
       "      <td>8098.0</td>\n",
       "      <td>2.0</td>\n",
       "      <td>112.0</td>\n",
       "      <td>1.0</td>\n",
       "      <td>48.0</td>\n",
       "      <td>121.0</td>\n",
       "    </tr>\n",
       "    <tr>\n",
       "      <td>...</td>\n",
       "      <td>...</td>\n",
       "      <td>...</td>\n",
       "      <td>...</td>\n",
       "      <td>...</td>\n",
       "      <td>...</td>\n",
       "      <td>...</td>\n",
       "      <td>...</td>\n",
       "      <td>...</td>\n",
       "      <td>...</td>\n",
       "      <td>...</td>\n",
       "      <td>...</td>\n",
       "      <td>...</td>\n",
       "      <td>...</td>\n",
       "      <td>...</td>\n",
       "      <td>...</td>\n",
       "      <td>...</td>\n",
       "      <td>...</td>\n",
       "      <td>...</td>\n",
       "      <td>...</td>\n",
       "      <td>...</td>\n",
       "      <td>...</td>\n",
       "    </tr>\n",
       "    <tr>\n",
       "      <td>23694</td>\n",
       "      <td>9</td>\n",
       "      <td>9700000.0</td>\n",
       "      <td>133.81</td>\n",
       "      <td>2017-03-21T00:00:00</td>\n",
       "      <td>3</td>\n",
       "      <td>3.70</td>\n",
       "      <td>5.0</td>\n",
       "      <td>73.3</td>\n",
       "      <td>3</td>\n",
       "      <td>NaN</td>\n",
       "      <td>...</td>\n",
       "      <td>13.83</td>\n",
       "      <td>NaN</td>\n",
       "      <td>Санкт-Петербург</td>\n",
       "      <td>24665.0</td>\n",
       "      <td>4232.0</td>\n",
       "      <td>1.0</td>\n",
       "      <td>796.0</td>\n",
       "      <td>3.0</td>\n",
       "      <td>381.0</td>\n",
       "      <td>NaN</td>\n",
       "    </tr>\n",
       "    <tr>\n",
       "      <td>23695</td>\n",
       "      <td>14</td>\n",
       "      <td>3100000.0</td>\n",
       "      <td>59.00</td>\n",
       "      <td>2018-01-15T00:00:00</td>\n",
       "      <td>3</td>\n",
       "      <td>NaN</td>\n",
       "      <td>5.0</td>\n",
       "      <td>38.0</td>\n",
       "      <td>4</td>\n",
       "      <td>NaN</td>\n",
       "      <td>...</td>\n",
       "      <td>8.50</td>\n",
       "      <td>NaN</td>\n",
       "      <td>Тосно</td>\n",
       "      <td>NaN</td>\n",
       "      <td>NaN</td>\n",
       "      <td>NaN</td>\n",
       "      <td>NaN</td>\n",
       "      <td>NaN</td>\n",
       "      <td>NaN</td>\n",
       "      <td>45.0</td>\n",
       "    </tr>\n",
       "    <tr>\n",
       "      <td>23696</td>\n",
       "      <td>18</td>\n",
       "      <td>2500000.0</td>\n",
       "      <td>56.70</td>\n",
       "      <td>2018-02-11T00:00:00</td>\n",
       "      <td>2</td>\n",
       "      <td>NaN</td>\n",
       "      <td>3.0</td>\n",
       "      <td>29.7</td>\n",
       "      <td>1</td>\n",
       "      <td>NaN</td>\n",
       "      <td>...</td>\n",
       "      <td>NaN</td>\n",
       "      <td>NaN</td>\n",
       "      <td>село Рождествено</td>\n",
       "      <td>NaN</td>\n",
       "      <td>NaN</td>\n",
       "      <td>NaN</td>\n",
       "      <td>NaN</td>\n",
       "      <td>NaN</td>\n",
       "      <td>NaN</td>\n",
       "      <td>NaN</td>\n",
       "    </tr>\n",
       "    <tr>\n",
       "      <td>23697</td>\n",
       "      <td>13</td>\n",
       "      <td>11475000.0</td>\n",
       "      <td>76.75</td>\n",
       "      <td>2017-03-28T00:00:00</td>\n",
       "      <td>2</td>\n",
       "      <td>3.00</td>\n",
       "      <td>17.0</td>\n",
       "      <td>NaN</td>\n",
       "      <td>12</td>\n",
       "      <td>NaN</td>\n",
       "      <td>...</td>\n",
       "      <td>23.30</td>\n",
       "      <td>2.0</td>\n",
       "      <td>Санкт-Петербург</td>\n",
       "      <td>39140.0</td>\n",
       "      <td>10364.0</td>\n",
       "      <td>2.0</td>\n",
       "      <td>173.0</td>\n",
       "      <td>3.0</td>\n",
       "      <td>196.0</td>\n",
       "      <td>602.0</td>\n",
       "    </tr>\n",
       "    <tr>\n",
       "      <td>23698</td>\n",
       "      <td>4</td>\n",
       "      <td>1350000.0</td>\n",
       "      <td>32.30</td>\n",
       "      <td>2017-07-21T00:00:00</td>\n",
       "      <td>1</td>\n",
       "      <td>2.50</td>\n",
       "      <td>5.0</td>\n",
       "      <td>12.3</td>\n",
       "      <td>1</td>\n",
       "      <td>NaN</td>\n",
       "      <td>...</td>\n",
       "      <td>9.00</td>\n",
       "      <td>NaN</td>\n",
       "      <td>поселок Новый Учхоз</td>\n",
       "      <td>NaN</td>\n",
       "      <td>NaN</td>\n",
       "      <td>NaN</td>\n",
       "      <td>NaN</td>\n",
       "      <td>NaN</td>\n",
       "      <td>NaN</td>\n",
       "      <td>NaN</td>\n",
       "    </tr>\n",
       "  </tbody>\n",
       "</table>\n",
       "<p>23699 rows × 22 columns</p>\n",
       "</div>"
      ],
      "text/plain": [
       "       total_images  last_price  total_area first_day_exposition  rooms  \\\n",
       "0                20  13000000.0      108.00  2019-03-07T00:00:00      3   \n",
       "1                 7   3350000.0       40.40  2018-12-04T00:00:00      1   \n",
       "2                10   5196000.0       56.00  2015-08-20T00:00:00      2   \n",
       "3                 0  64900000.0      159.00  2015-07-24T00:00:00      3   \n",
       "4                 2  10000000.0      100.00  2018-06-19T00:00:00      2   \n",
       "...             ...         ...         ...                  ...    ...   \n",
       "23694             9   9700000.0      133.81  2017-03-21T00:00:00      3   \n",
       "23695            14   3100000.0       59.00  2018-01-15T00:00:00      3   \n",
       "23696            18   2500000.0       56.70  2018-02-11T00:00:00      2   \n",
       "23697            13  11475000.0       76.75  2017-03-28T00:00:00      2   \n",
       "23698             4   1350000.0       32.30  2017-07-21T00:00:00      1   \n",
       "\n",
       "       ceiling_height  floors_total  living_area  floor is_apartment  ...  \\\n",
       "0                2.70          16.0         51.0      8          NaN  ...   \n",
       "1                 NaN          11.0         18.6      1          NaN  ...   \n",
       "2                 NaN           5.0         34.3      4          NaN  ...   \n",
       "3                 NaN          14.0          NaN      9          NaN  ...   \n",
       "4                3.03          14.0         32.0     13          NaN  ...   \n",
       "...               ...           ...          ...    ...          ...  ...   \n",
       "23694            3.70           5.0         73.3      3          NaN  ...   \n",
       "23695             NaN           5.0         38.0      4          NaN  ...   \n",
       "23696             NaN           3.0         29.7      1          NaN  ...   \n",
       "23697            3.00          17.0          NaN     12          NaN  ...   \n",
       "23698            2.50           5.0         12.3      1          NaN  ...   \n",
       "\n",
       "       kitchen_area  balcony        locality_name  airports_nearest  \\\n",
       "0             25.00      NaN      Санкт-Петербург           18863.0   \n",
       "1             11.00      2.0       посёлок Шушары           12817.0   \n",
       "2              8.30      0.0      Санкт-Петербург           21741.0   \n",
       "3               NaN      0.0      Санкт-Петербург           28098.0   \n",
       "4             41.00      NaN      Санкт-Петербург           31856.0   \n",
       "...             ...      ...                  ...               ...   \n",
       "23694         13.83      NaN      Санкт-Петербург           24665.0   \n",
       "23695          8.50      NaN                Тосно               NaN   \n",
       "23696           NaN      NaN     село Рождествено               NaN   \n",
       "23697         23.30      2.0      Санкт-Петербург           39140.0   \n",
       "23698          9.00      NaN  поселок Новый Учхоз               NaN   \n",
       "\n",
       "      cityCenters_nearest  parks_around3000  parks_nearest  ponds_around3000  \\\n",
       "0                 16028.0               1.0          482.0               2.0   \n",
       "1                 18603.0               0.0            NaN               0.0   \n",
       "2                 13933.0               1.0           90.0               2.0   \n",
       "3                  6800.0               2.0           84.0               3.0   \n",
       "4                  8098.0               2.0          112.0               1.0   \n",
       "...                   ...               ...            ...               ...   \n",
       "23694              4232.0               1.0          796.0               3.0   \n",
       "23695                 NaN               NaN            NaN               NaN   \n",
       "23696                 NaN               NaN            NaN               NaN   \n",
       "23697             10364.0               2.0          173.0               3.0   \n",
       "23698                 NaN               NaN            NaN               NaN   \n",
       "\n",
       "       ponds_nearest  days_exposition  \n",
       "0              755.0              NaN  \n",
       "1                NaN             81.0  \n",
       "2              574.0            558.0  \n",
       "3              234.0            424.0  \n",
       "4               48.0            121.0  \n",
       "...              ...              ...  \n",
       "23694          381.0              NaN  \n",
       "23695            NaN             45.0  \n",
       "23696            NaN              NaN  \n",
       "23697          196.0            602.0  \n",
       "23698            NaN              NaN  \n",
       "\n",
       "[23699 rows x 22 columns]"
      ]
     },
     "execution_count": 193,
     "metadata": {},
     "output_type": "execute_result"
    }
   ],
   "source": [
    "df = pd.read_csv('/datasets/real_estate_data.csv', sep='\\t')\n",
    "df"
   ]
  },
  {
   "cell_type": "markdown",
   "metadata": {},
   "source": [
    "<div class=\"alert alert-block alert-warning\">\n",
    "<b>Remarks:</b> \n",
    "    \n",
    "- стоит отделять импорты от открытия датасета. Это делается для того, чтобы иметь возмонжность в любой момент дописать нвоые библиотеки, перезапустить ячейку с импортами и продолжить работу, не перетирая датасет.\n",
    "- также я заметил, что нумерация ячеек у тебя идёт не с `1`. Скорее всего, код на сервере не был запущен. Из-за этого была упущена важная деталь - путь до файла указан локальный, т.е. на сервере твой проект вообще не запустился. Как считаешь, станет ли заказчик исправлять твои ошибки в коде, чтобы проверить твою работу? Для тренировки теперь реализуй открытие и локального и серверного датасетов при помощи конструкции try\\except"
   ]
  },
  {
   "cell_type": "markdown",
   "metadata": {},
   "source": []
  },
  {
   "cell_type": "code",
   "execution_count": 194,
   "metadata": {
    "colab": {
     "base_uri": "https://localhost:8080/"
    },
    "executionInfo": {
     "elapsed": 2760,
     "status": "ok",
     "timestamp": 1615992696040,
     "user": {
      "displayName": "Вадим Аникин",
      "photoUrl": "",
      "userId": "00271984842377798948"
     },
     "user_tz": -180
    },
    "id": "BFgxFnNlmsB-",
    "outputId": "0811e8e6-b677-4708-9b4b-3f17d170e3e8"
   },
   "outputs": [
    {
     "name": "stdout",
     "output_type": "stream",
     "text": [
      "<class 'pandas.core.frame.DataFrame'>\n",
      "RangeIndex: 23699 entries, 0 to 23698\n",
      "Data columns (total 22 columns):\n",
      "total_images            23699 non-null int64\n",
      "last_price              23699 non-null float64\n",
      "total_area              23699 non-null float64\n",
      "first_day_exposition    23699 non-null object\n",
      "rooms                   23699 non-null int64\n",
      "ceiling_height          14504 non-null float64\n",
      "floors_total            23613 non-null float64\n",
      "living_area             21796 non-null float64\n",
      "floor                   23699 non-null int64\n",
      "is_apartment            2775 non-null object\n",
      "studio                  23699 non-null bool\n",
      "open_plan               23699 non-null bool\n",
      "kitchen_area            21421 non-null float64\n",
      "balcony                 12180 non-null float64\n",
      "locality_name           23650 non-null object\n",
      "airports_nearest        18157 non-null float64\n",
      "cityCenters_nearest     18180 non-null float64\n",
      "parks_around3000        18181 non-null float64\n",
      "parks_nearest           8079 non-null float64\n",
      "ponds_around3000        18181 non-null float64\n",
      "ponds_nearest           9110 non-null float64\n",
      "days_exposition         20518 non-null float64\n",
      "dtypes: bool(2), float64(14), int64(3), object(3)\n",
      "memory usage: 3.7+ MB\n"
     ]
    }
   ],
   "source": [
    "df.info()"
   ]
  },
  {
   "cell_type": "markdown",
   "metadata": {
    "id": "ri237ncm3Ej8"
   },
   "source": [
    "Из вызова функции  `info()` видно, что первые 5 столбцов не содержат пропуски, так же пропуски отсутсвуют в столбцах: `floor`, `studio` и `open_plan`. Во всех остальных столбцах присутвуют пропуски, особенно много пропусков в столбце `is_apartment `. Посмотрим на этот столбец подробнее."
   ]
  },
  {
   "cell_type": "code",
   "execution_count": 195,
   "metadata": {
    "colab": {
     "base_uri": "https://localhost:8080/"
    },
    "executionInfo": {
     "elapsed": 2749,
     "status": "ok",
     "timestamp": 1615992696044,
     "user": {
      "displayName": "Вадим Аникин",
      "photoUrl": "",
      "userId": "00271984842377798948"
     },
     "user_tz": -180
    },
    "id": "gQocZFp8RQmm",
    "outputId": "0dda84ed-9c59-4b3f-efc7-0f4e7d522ba4"
   },
   "outputs": [
    {
     "data": {
      "text/plain": [
       "False    2725\n",
       "True       50\n",
       "Name: is_apartment, dtype: int64"
      ]
     },
     "execution_count": 195,
     "metadata": {},
     "output_type": "execute_result"
    }
   ],
   "source": [
    "df['is_apartment'].value_counts()"
   ]
  },
  {
   "cell_type": "markdown",
   "metadata": {
    "id": "cgK01DKgR29Y"
   },
   "source": [
    "Всего 2 значения `False` и `True`. Скорее всего нужно заменить у этого столбца тип данных, на `bool` и все нулевые значения заменить на `False`."
   ]
  },
  {
   "cell_type": "markdown",
   "metadata": {
    "id": "WcmjfcP5STOo"
   },
   "source": [
    "На мой вгляд, с пропусками в некоторых столбцах можно и нужно бороться. Например пропуски в столбце `balcony`, скорее всего пропущенные значения означают что в доме нет балконов, а значит значения NaN можно заменить на 0. А вот в столбце `floors_total` с пропусками ничего не поделать, мы никак не сможем узнать сколько всего в доме этажей. Так же много пропусков в столбцах начиная с a`irports_nearest`. Возможно просто рядом нет аэропорта, поэтому значения пропущены, но это не так. Большинство пропусков начиная с `airports_nearest` и заканчивая `days_exposition` происходит в одинаковых строках. Из `info()` видно что у столбцов: `parks_around3000` и `ponds_around3000`, одинаковое кол-во пропусков, посмотрим на это."
   ]
  },
  {
   "cell_type": "code",
   "execution_count": 196,
   "metadata": {
    "colab": {
     "base_uri": "https://localhost:8080/"
    },
    "executionInfo": {
     "elapsed": 2734,
     "status": "ok",
     "timestamp": 1615992696045,
     "user": {
      "displayName": "Вадим Аникин",
      "photoUrl": "",
      "userId": "00271984842377798948"
     },
     "user_tz": -180
    },
    "id": "83EsBSG_VJvA",
    "outputId": "9e2dcbfa-4eb3-4aa3-a3d0-77a26c200982"
   },
   "outputs": [
    {
     "data": {
      "text/plain": [
       "total_images            5518\n",
       "last_price              5518\n",
       "total_area              5518\n",
       "first_day_exposition    5518\n",
       "rooms                   5518\n",
       "ceiling_height          2943\n",
       "floors_total            5508\n",
       "living_area             4895\n",
       "floor                   5518\n",
       "is_apartment             628\n",
       "studio                  5518\n",
       "open_plan               5518\n",
       "kitchen_area            4803\n",
       "balcony                 2808\n",
       "locality_name           5510\n",
       "airports_nearest           0\n",
       "cityCenters_nearest        0\n",
       "parks_around3000           0\n",
       "parks_nearest              0\n",
       "ponds_around3000           0\n",
       "ponds_nearest              0\n",
       "days_exposition         4653\n",
       "dtype: int64"
      ]
     },
     "execution_count": 196,
     "metadata": {},
     "output_type": "execute_result"
    }
   ],
   "source": [
    "df[(df['parks_around3000'].isna())&(df['ponds_around3000'].isna())].count()"
   ]
  },
  {
   "cell_type": "markdown",
   "metadata": {
    "id": "DripKpiycbsK"
   },
   "source": [
    "Видно, что когда в этих строчках нули, в соседних столбцах начиная с `airports_nearest` тоже нули."
   ]
  },
  {
   "cell_type": "code",
   "execution_count": 197,
   "metadata": {
    "colab": {
     "base_uri": "https://localhost:8080/"
    },
    "executionInfo": {
     "elapsed": 2719,
     "status": "ok",
     "timestamp": 1615992696046,
     "user": {
      "displayName": "Вадим Аникин",
      "photoUrl": "",
      "userId": "00271984842377798948"
     },
     "user_tz": -180
    },
    "id": "2kEs0MBpdKHy",
    "outputId": "b94f68a3-7c00-4501-fd2f-c706069dc07b"
   },
   "outputs": [
    {
     "data": {
      "text/plain": [
       "5518"
      ]
     },
     "execution_count": 197,
     "metadata": {},
     "output_type": "execute_result"
    }
   ],
   "source": [
    "df['parks_around3000'].isna().sum()"
   ]
  },
  {
   "cell_type": "markdown",
   "metadata": {
    "id": "kDLD2rIqd96O"
   },
   "source": [
    "Получается взаимосвязанных пропусков 5518. Но в столбцах `parks_nearest` и ponds_nearest пропусков гораздо больше, скорее всего это связано с тем, что в столбцах `parks_around3000` и `ponds_around3000` встречаются 0, то есть рядом нет парков, значит для таких отсутсвующих парков не будет и расстояния до них. Есть еще небольшие пропуски в столбцах `airports_nearest` и `cityCenters_nearest`. Возможно просто нет данных. Посмотрим конкретнее чуть позже. \n",
    "\n",
    "Еще есть пропуски в столбце `days_exposition`, скорее всего потому что эти объявления до сих пор активны, поэтому заменю пропуски на \"активно\"\n",
    "\n",
    "Остались пропуски связаные с размерами жилой площади, а именно пропуски в столбцах: ceiling_height, living_area и kitchen_area."
   ]
  },
  {
   "cell_type": "code",
   "execution_count": 198,
   "metadata": {
    "colab": {
     "base_uri": "https://localhost:8080/"
    },
    "executionInfo": {
     "elapsed": 2704,
     "status": "ok",
     "timestamp": 1615992696047,
     "user": {
      "displayName": "Вадим Аникин",
      "photoUrl": "",
      "userId": "00271984842377798948"
     },
     "user_tz": -180
    },
    "id": "EQ_uO2ENg5B2",
    "outputId": "c72c31f2-0966-45e8-8dd4-4506fe2e4669"
   },
   "outputs": [
    {
     "data": {
      "text/plain": [
       "count    14504.000000\n",
       "mean         2.771499\n",
       "std          1.261056\n",
       "min          1.000000\n",
       "25%          2.520000\n",
       "50%          2.650000\n",
       "75%          2.800000\n",
       "max        100.000000\n",
       "Name: ceiling_height, dtype: float64"
      ]
     },
     "execution_count": 198,
     "metadata": {},
     "output_type": "execute_result"
    }
   ],
   "source": [
    "df['ceiling_height'].describe()"
   ]
  },
  {
   "cell_type": "markdown",
   "metadata": {
    "id": "94agYmW6hlZ-"
   },
   "source": [
    "Если посмотреть на значения `ceiling_height`, то можно заметить что 75% значений имеет высоту меньше 2.8 м,(так и есть ведь сейчас это стандартная высота для всех домов) хотя самое максимальное 100м. Скорее всего пропуски можно будет заменить средним или медианым значением(они примерно равны)\n",
    "\n",
    "А вот как поступать с `living_area`и `kitchen_area`, я не знаю. Можно в тех ситуациях когда известна жилая площадь посчитать площадь кухни(из общей площади вычесть жилую, ведь общая площадь известна для всех) или наоборот, если известна площадь кухни. Но встречаются и такие строки где нет ни площади кухни ни площади жилой. Над этим нужно подумать."
   ]
  },
  {
   "cell_type": "code",
   "execution_count": 199,
   "metadata": {
    "colab": {
     "base_uri": "https://localhost:8080/",
     "height": 317
    },
    "executionInfo": {
     "elapsed": 2688,
     "status": "ok",
     "timestamp": 1615992696047,
     "user": {
      "displayName": "Вадим Аникин",
      "photoUrl": "",
      "userId": "00271984842377798948"
     },
     "user_tz": -180
    },
    "id": "AbwsLKZnuqW2",
    "outputId": "8e51e6af-201a-4c57-a86b-80cee621a97d",
    "scrolled": true
   },
   "outputs": [
    {
     "data": {
      "text/html": [
       "<div>\n",
       "<style scoped>\n",
       "    .dataframe tbody tr th:only-of-type {\n",
       "        vertical-align: middle;\n",
       "    }\n",
       "\n",
       "    .dataframe tbody tr th {\n",
       "        vertical-align: top;\n",
       "    }\n",
       "\n",
       "    .dataframe thead th {\n",
       "        text-align: right;\n",
       "    }\n",
       "</style>\n",
       "<table border=\"1\" class=\"dataframe\">\n",
       "  <thead>\n",
       "    <tr style=\"text-align: right;\">\n",
       "      <th></th>\n",
       "      <th>count</th>\n",
       "      <th>mean</th>\n",
       "      <th>std</th>\n",
       "      <th>min</th>\n",
       "      <th>25%</th>\n",
       "      <th>50%</th>\n",
       "      <th>75%</th>\n",
       "      <th>max</th>\n",
       "    </tr>\n",
       "  </thead>\n",
       "  <tbody>\n",
       "    <tr>\n",
       "      <td>total_images</td>\n",
       "      <td>23699.0</td>\n",
       "      <td>9.858475e+00</td>\n",
       "      <td>5.682529e+00</td>\n",
       "      <td>0.0</td>\n",
       "      <td>6.00</td>\n",
       "      <td>9.00</td>\n",
       "      <td>14.0</td>\n",
       "      <td>50.0</td>\n",
       "    </tr>\n",
       "    <tr>\n",
       "      <td>last_price</td>\n",
       "      <td>23699.0</td>\n",
       "      <td>6.541549e+06</td>\n",
       "      <td>1.088701e+07</td>\n",
       "      <td>12190.0</td>\n",
       "      <td>3400000.00</td>\n",
       "      <td>4650000.00</td>\n",
       "      <td>6800000.0</td>\n",
       "      <td>763000000.0</td>\n",
       "    </tr>\n",
       "    <tr>\n",
       "      <td>total_area</td>\n",
       "      <td>23699.0</td>\n",
       "      <td>6.034865e+01</td>\n",
       "      <td>3.565408e+01</td>\n",
       "      <td>12.0</td>\n",
       "      <td>40.00</td>\n",
       "      <td>52.00</td>\n",
       "      <td>69.9</td>\n",
       "      <td>900.0</td>\n",
       "    </tr>\n",
       "    <tr>\n",
       "      <td>rooms</td>\n",
       "      <td>23699.0</td>\n",
       "      <td>2.070636e+00</td>\n",
       "      <td>1.078405e+00</td>\n",
       "      <td>0.0</td>\n",
       "      <td>1.00</td>\n",
       "      <td>2.00</td>\n",
       "      <td>3.0</td>\n",
       "      <td>19.0</td>\n",
       "    </tr>\n",
       "    <tr>\n",
       "      <td>ceiling_height</td>\n",
       "      <td>14504.0</td>\n",
       "      <td>2.771499e+00</td>\n",
       "      <td>1.261056e+00</td>\n",
       "      <td>1.0</td>\n",
       "      <td>2.52</td>\n",
       "      <td>2.65</td>\n",
       "      <td>2.8</td>\n",
       "      <td>100.0</td>\n",
       "    </tr>\n",
       "    <tr>\n",
       "      <td>floors_total</td>\n",
       "      <td>23613.0</td>\n",
       "      <td>1.067382e+01</td>\n",
       "      <td>6.597173e+00</td>\n",
       "      <td>1.0</td>\n",
       "      <td>5.00</td>\n",
       "      <td>9.00</td>\n",
       "      <td>16.0</td>\n",
       "      <td>60.0</td>\n",
       "    </tr>\n",
       "    <tr>\n",
       "      <td>living_area</td>\n",
       "      <td>21796.0</td>\n",
       "      <td>3.445785e+01</td>\n",
       "      <td>2.203045e+01</td>\n",
       "      <td>2.0</td>\n",
       "      <td>18.60</td>\n",
       "      <td>30.00</td>\n",
       "      <td>42.3</td>\n",
       "      <td>409.7</td>\n",
       "    </tr>\n",
       "    <tr>\n",
       "      <td>floor</td>\n",
       "      <td>23699.0</td>\n",
       "      <td>5.892358e+00</td>\n",
       "      <td>4.885249e+00</td>\n",
       "      <td>1.0</td>\n",
       "      <td>2.00</td>\n",
       "      <td>4.00</td>\n",
       "      <td>8.0</td>\n",
       "      <td>33.0</td>\n",
       "    </tr>\n",
       "    <tr>\n",
       "      <td>kitchen_area</td>\n",
       "      <td>21421.0</td>\n",
       "      <td>1.056981e+01</td>\n",
       "      <td>5.905438e+00</td>\n",
       "      <td>1.3</td>\n",
       "      <td>7.00</td>\n",
       "      <td>9.10</td>\n",
       "      <td>12.0</td>\n",
       "      <td>112.0</td>\n",
       "    </tr>\n",
       "    <tr>\n",
       "      <td>balcony</td>\n",
       "      <td>12180.0</td>\n",
       "      <td>1.150082e+00</td>\n",
       "      <td>1.071300e+00</td>\n",
       "      <td>0.0</td>\n",
       "      <td>0.00</td>\n",
       "      <td>1.00</td>\n",
       "      <td>2.0</td>\n",
       "      <td>5.0</td>\n",
       "    </tr>\n",
       "    <tr>\n",
       "      <td>airports_nearest</td>\n",
       "      <td>18157.0</td>\n",
       "      <td>2.879367e+04</td>\n",
       "      <td>1.263088e+04</td>\n",
       "      <td>0.0</td>\n",
       "      <td>18585.00</td>\n",
       "      <td>26726.00</td>\n",
       "      <td>37273.0</td>\n",
       "      <td>84869.0</td>\n",
       "    </tr>\n",
       "    <tr>\n",
       "      <td>cityCenters_nearest</td>\n",
       "      <td>18180.0</td>\n",
       "      <td>1.419128e+04</td>\n",
       "      <td>8.608386e+03</td>\n",
       "      <td>181.0</td>\n",
       "      <td>9238.00</td>\n",
       "      <td>13098.50</td>\n",
       "      <td>16293.0</td>\n",
       "      <td>65968.0</td>\n",
       "    </tr>\n",
       "    <tr>\n",
       "      <td>parks_around3000</td>\n",
       "      <td>18181.0</td>\n",
       "      <td>6.114075e-01</td>\n",
       "      <td>8.020736e-01</td>\n",
       "      <td>0.0</td>\n",
       "      <td>0.00</td>\n",
       "      <td>0.00</td>\n",
       "      <td>1.0</td>\n",
       "      <td>3.0</td>\n",
       "    </tr>\n",
       "    <tr>\n",
       "      <td>parks_nearest</td>\n",
       "      <td>8079.0</td>\n",
       "      <td>4.908046e+02</td>\n",
       "      <td>3.423180e+02</td>\n",
       "      <td>1.0</td>\n",
       "      <td>288.00</td>\n",
       "      <td>455.00</td>\n",
       "      <td>612.0</td>\n",
       "      <td>3190.0</td>\n",
       "    </tr>\n",
       "    <tr>\n",
       "      <td>ponds_around3000</td>\n",
       "      <td>18181.0</td>\n",
       "      <td>7.702547e-01</td>\n",
       "      <td>9.383456e-01</td>\n",
       "      <td>0.0</td>\n",
       "      <td>0.00</td>\n",
       "      <td>1.00</td>\n",
       "      <td>1.0</td>\n",
       "      <td>3.0</td>\n",
       "    </tr>\n",
       "    <tr>\n",
       "      <td>ponds_nearest</td>\n",
       "      <td>9110.0</td>\n",
       "      <td>5.179809e+02</td>\n",
       "      <td>2.777206e+02</td>\n",
       "      <td>13.0</td>\n",
       "      <td>294.00</td>\n",
       "      <td>502.00</td>\n",
       "      <td>729.0</td>\n",
       "      <td>1344.0</td>\n",
       "    </tr>\n",
       "    <tr>\n",
       "      <td>days_exposition</td>\n",
       "      <td>20518.0</td>\n",
       "      <td>1.808886e+02</td>\n",
       "      <td>2.197280e+02</td>\n",
       "      <td>1.0</td>\n",
       "      <td>45.00</td>\n",
       "      <td>95.00</td>\n",
       "      <td>232.0</td>\n",
       "      <td>1580.0</td>\n",
       "    </tr>\n",
       "  </tbody>\n",
       "</table>\n",
       "</div>"
      ],
      "text/plain": [
       "                       count          mean           std      min         25%  \\\n",
       "total_images         23699.0  9.858475e+00  5.682529e+00      0.0        6.00   \n",
       "last_price           23699.0  6.541549e+06  1.088701e+07  12190.0  3400000.00   \n",
       "total_area           23699.0  6.034865e+01  3.565408e+01     12.0       40.00   \n",
       "rooms                23699.0  2.070636e+00  1.078405e+00      0.0        1.00   \n",
       "ceiling_height       14504.0  2.771499e+00  1.261056e+00      1.0        2.52   \n",
       "floors_total         23613.0  1.067382e+01  6.597173e+00      1.0        5.00   \n",
       "living_area          21796.0  3.445785e+01  2.203045e+01      2.0       18.60   \n",
       "floor                23699.0  5.892358e+00  4.885249e+00      1.0        2.00   \n",
       "kitchen_area         21421.0  1.056981e+01  5.905438e+00      1.3        7.00   \n",
       "balcony              12180.0  1.150082e+00  1.071300e+00      0.0        0.00   \n",
       "airports_nearest     18157.0  2.879367e+04  1.263088e+04      0.0    18585.00   \n",
       "cityCenters_nearest  18180.0  1.419128e+04  8.608386e+03    181.0     9238.00   \n",
       "parks_around3000     18181.0  6.114075e-01  8.020736e-01      0.0        0.00   \n",
       "parks_nearest         8079.0  4.908046e+02  3.423180e+02      1.0      288.00   \n",
       "ponds_around3000     18181.0  7.702547e-01  9.383456e-01      0.0        0.00   \n",
       "ponds_nearest         9110.0  5.179809e+02  2.777206e+02     13.0      294.00   \n",
       "days_exposition      20518.0  1.808886e+02  2.197280e+02      1.0       45.00   \n",
       "\n",
       "                            50%        75%          max  \n",
       "total_images               9.00       14.0         50.0  \n",
       "last_price           4650000.00  6800000.0  763000000.0  \n",
       "total_area                52.00       69.9        900.0  \n",
       "rooms                      2.00        3.0         19.0  \n",
       "ceiling_height             2.65        2.8        100.0  \n",
       "floors_total               9.00       16.0         60.0  \n",
       "living_area               30.00       42.3        409.7  \n",
       "floor                      4.00        8.0         33.0  \n",
       "kitchen_area               9.10       12.0        112.0  \n",
       "balcony                    1.00        2.0          5.0  \n",
       "airports_nearest       26726.00    37273.0      84869.0  \n",
       "cityCenters_nearest    13098.50    16293.0      65968.0  \n",
       "parks_around3000           0.00        1.0          3.0  \n",
       "parks_nearest            455.00      612.0       3190.0  \n",
       "ponds_around3000           1.00        1.0          3.0  \n",
       "ponds_nearest            502.00      729.0       1344.0  \n",
       "days_exposition           95.00      232.0       1580.0  "
      ]
     },
     "execution_count": 199,
     "metadata": {},
     "output_type": "execute_result"
    }
   ],
   "source": [
    "df.describe().T"
   ]
  },
  {
   "cell_type": "markdown",
   "metadata": {},
   "source": [
    "<div class=\"alert alert-block alert-warning\">\n",
    "<b>Remarks:</b> \n",
    "    \n",
    "В данном случае аутпут будет выглядеть гораздо лучше, если его развернуть `df.describe().T`"
   ]
  },
  {
   "cell_type": "markdown",
   "metadata": {},
   "source": [
    "<div class=\"alert alert-block alert-info\">\n",
    "<b>Fixed:</b>\n",
    "Развернул аутпут\n",
    "</div>"
   ]
  },
  {
   "cell_type": "markdown",
   "metadata": {
    "id": "Qr0G3SmgjIDb"
   },
   "source": [
    "Посмотрев сводные значения по всем столбцам, можно заметить необычные значения в столбце `ceiling_height`, а именно максимальную и минимальную высоту потолка 1м и 100м. Высота потолка больше 3 м это уже не обычно, но учитывая, что могут продоваться не только квартиры, а всякие технические помещения и дома, такое допустимо. Посмотрим на строку со значением 100 подробнее."
   ]
  },
  {
   "cell_type": "code",
   "execution_count": 200,
   "metadata": {
    "colab": {
     "base_uri": "https://localhost:8080/",
     "height": 117
    },
    "executionInfo": {
     "elapsed": 2670,
     "status": "ok",
     "timestamp": 1615992696048,
     "user": {
      "displayName": "Вадим Аникин",
      "photoUrl": "",
      "userId": "00271984842377798948"
     },
     "user_tz": -180
    },
    "id": "GFLctUABuvYc",
    "outputId": "cc12a969-2fe6-4419-b648-1ba98d818a0c"
   },
   "outputs": [
    {
     "data": {
      "text/html": [
       "<div>\n",
       "<style scoped>\n",
       "    .dataframe tbody tr th:only-of-type {\n",
       "        vertical-align: middle;\n",
       "    }\n",
       "\n",
       "    .dataframe tbody tr th {\n",
       "        vertical-align: top;\n",
       "    }\n",
       "\n",
       "    .dataframe thead th {\n",
       "        text-align: right;\n",
       "    }\n",
       "</style>\n",
       "<table border=\"1\" class=\"dataframe\">\n",
       "  <thead>\n",
       "    <tr style=\"text-align: right;\">\n",
       "      <th></th>\n",
       "      <th>total_images</th>\n",
       "      <th>last_price</th>\n",
       "      <th>total_area</th>\n",
       "      <th>first_day_exposition</th>\n",
       "      <th>rooms</th>\n",
       "      <th>ceiling_height</th>\n",
       "      <th>floors_total</th>\n",
       "      <th>living_area</th>\n",
       "      <th>floor</th>\n",
       "      <th>is_apartment</th>\n",
       "      <th>...</th>\n",
       "      <th>kitchen_area</th>\n",
       "      <th>balcony</th>\n",
       "      <th>locality_name</th>\n",
       "      <th>airports_nearest</th>\n",
       "      <th>cityCenters_nearest</th>\n",
       "      <th>parks_around3000</th>\n",
       "      <th>parks_nearest</th>\n",
       "      <th>ponds_around3000</th>\n",
       "      <th>ponds_nearest</th>\n",
       "      <th>days_exposition</th>\n",
       "    </tr>\n",
       "  </thead>\n",
       "  <tbody>\n",
       "    <tr>\n",
       "      <td>22869</td>\n",
       "      <td>0</td>\n",
       "      <td>15000000.0</td>\n",
       "      <td>25.0</td>\n",
       "      <td>2018-07-25T00:00:00</td>\n",
       "      <td>1</td>\n",
       "      <td>100.0</td>\n",
       "      <td>5.0</td>\n",
       "      <td>14.0</td>\n",
       "      <td>5</td>\n",
       "      <td>True</td>\n",
       "      <td>...</td>\n",
       "      <td>11.0</td>\n",
       "      <td>5.0</td>\n",
       "      <td>Санкт-Петербург</td>\n",
       "      <td>34963.0</td>\n",
       "      <td>8283.0</td>\n",
       "      <td>1.0</td>\n",
       "      <td>223.0</td>\n",
       "      <td>3.0</td>\n",
       "      <td>30.0</td>\n",
       "      <td>19.0</td>\n",
       "    </tr>\n",
       "  </tbody>\n",
       "</table>\n",
       "<p>1 rows × 22 columns</p>\n",
       "</div>"
      ],
      "text/plain": [
       "       total_images  last_price  total_area first_day_exposition  rooms  \\\n",
       "22869             0  15000000.0        25.0  2018-07-25T00:00:00      1   \n",
       "\n",
       "       ceiling_height  floors_total  living_area  floor is_apartment  ...  \\\n",
       "22869           100.0           5.0         14.0      5         True  ...   \n",
       "\n",
       "       kitchen_area  balcony    locality_name  airports_nearest  \\\n",
       "22869          11.0      5.0  Санкт-Петербург           34963.0   \n",
       "\n",
       "      cityCenters_nearest  parks_around3000  parks_nearest  ponds_around3000  \\\n",
       "22869              8283.0               1.0          223.0               3.0   \n",
       "\n",
       "       ponds_nearest  days_exposition  \n",
       "22869           30.0             19.0  \n",
       "\n",
       "[1 rows x 22 columns]"
      ]
     },
     "execution_count": 200,
     "metadata": {},
     "output_type": "execute_result"
    }
   ],
   "source": [
    "df[df['ceiling_height']==100]"
   ]
  },
  {
   "cell_type": "markdown",
   "metadata": {
    "id": "m6NCR4EYkeyx"
   },
   "source": [
    "Понятнее не стало, что это за объект с общей площадью 25 квадратных метров и высотой потолка 100м. Возможно это опечатка и высота потолка обычная, но стоит это нечто 15 миллионов и находится не в самом центре и не рядом с аэропортом. И продалось очень быстро всего 19 дней. Так что возможно это не ошибка, а какая-нибудь башня или маяк."
   ]
  },
  {
   "cell_type": "code",
   "execution_count": 201,
   "metadata": {
    "colab": {
     "base_uri": "https://localhost:8080/",
     "height": 117
    },
    "executionInfo": {
     "elapsed": 2653,
     "status": "ok",
     "timestamp": 1615992696049,
     "user": {
      "displayName": "Вадим Аникин",
      "photoUrl": "",
      "userId": "00271984842377798948"
     },
     "user_tz": -180
    },
    "id": "rryxweIIlbKW",
    "outputId": "4e2be9de-32f0-4be6-a029-4ba06495572c"
   },
   "outputs": [
    {
     "data": {
      "text/html": [
       "<div>\n",
       "<style scoped>\n",
       "    .dataframe tbody tr th:only-of-type {\n",
       "        vertical-align: middle;\n",
       "    }\n",
       "\n",
       "    .dataframe tbody tr th {\n",
       "        vertical-align: top;\n",
       "    }\n",
       "\n",
       "    .dataframe thead th {\n",
       "        text-align: right;\n",
       "    }\n",
       "</style>\n",
       "<table border=\"1\" class=\"dataframe\">\n",
       "  <thead>\n",
       "    <tr style=\"text-align: right;\">\n",
       "      <th></th>\n",
       "      <th>total_images</th>\n",
       "      <th>last_price</th>\n",
       "      <th>total_area</th>\n",
       "      <th>first_day_exposition</th>\n",
       "      <th>rooms</th>\n",
       "      <th>ceiling_height</th>\n",
       "      <th>floors_total</th>\n",
       "      <th>living_area</th>\n",
       "      <th>floor</th>\n",
       "      <th>is_apartment</th>\n",
       "      <th>...</th>\n",
       "      <th>kitchen_area</th>\n",
       "      <th>balcony</th>\n",
       "      <th>locality_name</th>\n",
       "      <th>airports_nearest</th>\n",
       "      <th>cityCenters_nearest</th>\n",
       "      <th>parks_around3000</th>\n",
       "      <th>parks_nearest</th>\n",
       "      <th>ponds_around3000</th>\n",
       "      <th>ponds_nearest</th>\n",
       "      <th>days_exposition</th>\n",
       "    </tr>\n",
       "  </thead>\n",
       "  <tbody>\n",
       "    <tr>\n",
       "      <td>22590</td>\n",
       "      <td>16</td>\n",
       "      <td>6000000.0</td>\n",
       "      <td>55.0</td>\n",
       "      <td>2018-10-31T00:00:00</td>\n",
       "      <td>2</td>\n",
       "      <td>1.0</td>\n",
       "      <td>12.0</td>\n",
       "      <td>32.4</td>\n",
       "      <td>7</td>\n",
       "      <td>NaN</td>\n",
       "      <td>...</td>\n",
       "      <td>10.0</td>\n",
       "      <td>NaN</td>\n",
       "      <td>Санкт-Петербург</td>\n",
       "      <td>33053.0</td>\n",
       "      <td>14217.0</td>\n",
       "      <td>2.0</td>\n",
       "      <td>293.0</td>\n",
       "      <td>2.0</td>\n",
       "      <td>289.0</td>\n",
       "      <td>13.0</td>\n",
       "    </tr>\n",
       "  </tbody>\n",
       "</table>\n",
       "<p>1 rows × 22 columns</p>\n",
       "</div>"
      ],
      "text/plain": [
       "       total_images  last_price  total_area first_day_exposition  rooms  \\\n",
       "22590            16   6000000.0        55.0  2018-10-31T00:00:00      2   \n",
       "\n",
       "       ceiling_height  floors_total  living_area  floor is_apartment  ...  \\\n",
       "22590             1.0          12.0         32.4      7          NaN  ...   \n",
       "\n",
       "       kitchen_area  balcony    locality_name  airports_nearest  \\\n",
       "22590          10.0      NaN  Санкт-Петербург           33053.0   \n",
       "\n",
       "      cityCenters_nearest  parks_around3000  parks_nearest  ponds_around3000  \\\n",
       "22590             14217.0               2.0          293.0               2.0   \n",
       "\n",
       "       ponds_nearest  days_exposition  \n",
       "22590          289.0             13.0  \n",
       "\n",
       "[1 rows x 22 columns]"
      ]
     },
     "execution_count": 201,
     "metadata": {},
     "output_type": "execute_result"
    }
   ],
   "source": [
    "df[df['ceiling_height']==1]"
   ]
  },
  {
   "cell_type": "markdown",
   "metadata": {
    "id": "k8ooGwLJmLAO"
   },
   "source": [
    "Со значеним 1 м все гораздо проще, по всем данным это самая обычная квартира и значения 1м тут скорее всего опечатка, можно заменить на среднее или медианое значение."
   ]
  },
  {
   "cell_type": "code",
   "execution_count": 202,
   "metadata": {
    "executionInfo": {
     "elapsed": 2641,
     "status": "ok",
     "timestamp": 1615992696050,
     "user": {
      "displayName": "Вадим Аникин",
      "photoUrl": "",
      "userId": "00271984842377798948"
     },
     "user_tz": -180
    },
    "id": "oLZhB65_rqK7"
   },
   "outputs": [],
   "source": [
    "df['balcony'].fillna('0',inplace=True)"
   ]
  },
  {
   "cell_type": "markdown",
   "metadata": {
    "id": "B3pVqzGLFfbf"
   },
   "source": [
    "Заменим все пропуски в столбце `balcony` на 0"
   ]
  },
  {
   "cell_type": "code",
   "execution_count": 203,
   "metadata": {
    "executionInfo": {
     "elapsed": 2633,
     "status": "ok",
     "timestamp": 1615992696050,
     "user": {
      "displayName": "Вадим Аникин",
      "photoUrl": "",
      "userId": "00271984842377798948"
     },
     "user_tz": -180
    },
    "id": "NJh4Ti3sAiEr"
   },
   "outputs": [],
   "source": [
    "df['parks_around3000'].fillna('no_info',inplace=True)\n",
    "df['ponds_around3000'].fillna('no_info',inplace=True)"
   ]
  },
  {
   "cell_type": "markdown",
   "metadata": {
    "id": "QQzzCWBEF3fj"
   },
   "source": [
    "Заменим все пропуски в столбцах `parks_around3000` и `ponds_around3000` на no_info, для этих столбцов вряд ли получиться подобрать настоящие значения."
   ]
  },
  {
   "cell_type": "code",
   "execution_count": 204,
   "metadata": {
    "executionInfo": {
     "elapsed": 2626,
     "status": "ok",
     "timestamp": 1615992696051,
     "user": {
      "displayName": "Вадим Аникин",
      "photoUrl": "",
      "userId": "00271984842377798948"
     },
     "user_tz": -180
    },
    "id": "GCeZyn9Zs81J"
   },
   "outputs": [],
   "source": [
    "df['balcony']=df['balcony'].astype('int')\n",
    "df['last_price']=df['last_price'].astype('int')"
   ]
  },
  {
   "cell_type": "markdown",
   "metadata": {
    "id": "OoOlhkoDGfxg"
   },
   "source": [
    "Заменим тип данных на int, чтобы значения были более компактны."
   ]
  },
  {
   "cell_type": "code",
   "execution_count": 205,
   "metadata": {
    "executionInfo": {
     "elapsed": 2619,
     "status": "ok",
     "timestamp": 1615992696051,
     "user": {
      "displayName": "Вадим Аникин",
      "photoUrl": "",
      "userId": "00271984842377798948"
     },
     "user_tz": -180
    },
    "id": "9kHXSDFXGm8o"
   },
   "outputs": [],
   "source": [
    "df.loc[(df['parks_around3000'] ==0), 'parks_nearest'] = df.loc[(df['parks_around3000'] ==0), 'parks_nearest'].fillna('Далеко')\n",
    "df.loc[(df['ponds_around3000'] ==0), 'ponds_nearest'] = df.loc[(df['ponds_around3000'] ==0), 'ponds_nearest'].fillna('Далеко')"
   ]
  },
  {
   "cell_type": "markdown",
   "metadata": {
    "id": "vEDGsxapHRs3"
   },
   "source": [
    "Для тех строк, в которых значение столбцов `parks_around3000` и `ponds_around3000` равно 0, заменим пропуски на \"далеко\". Если парков и прудов рядом нет, значит они далеко."
   ]
  },
  {
   "cell_type": "code",
   "execution_count": 206,
   "metadata": {
    "executionInfo": {
     "elapsed": 2612,
     "status": "ok",
     "timestamp": 1615992696052,
     "user": {
      "displayName": "Вадим Аникин",
      "photoUrl": "",
      "userId": "00271984842377798948"
     },
     "user_tz": -180
    },
    "id": "8gYE6O4vO9uX"
   },
   "outputs": [],
   "source": [
    "df['living_tot']=df['living_area']/df['total_area']"
   ]
  },
  {
   "cell_type": "markdown",
   "metadata": {
    "id": "buqhgD7NIDuo"
   },
   "source": [
    "Посчитаем отношение жилой площади к общей площади и запишем в новый столбец `living_tot`"
   ]
  },
  {
   "cell_type": "code",
   "execution_count": 207,
   "metadata": {
    "executionInfo": {
     "elapsed": 2605,
     "status": "ok",
     "timestamp": 1615992696052,
     "user": {
      "displayName": "Вадим Аникин",
      "photoUrl": "",
      "userId": "00271984842377798948"
     },
     "user_tz": -180
    },
    "id": "H1FfZ6qnPPZh"
   },
   "outputs": [],
   "source": [
    "df['kitch_tot']=df['kitchen_area']/df['total_area']"
   ]
  },
  {
   "cell_type": "markdown",
   "metadata": {},
   "source": [
    "<div class=\"alert alert-block alert-success\">\n",
    "<b>Success:</b> Отличный ход!"
   ]
  },
  {
   "cell_type": "markdown",
   "metadata": {
    "id": "Uh6MkcGze0Mj"
   },
   "source": [
    "Посчитаем отношение площади кухни к общей площади и запишем в новый столбец `kitch_tot`"
   ]
  },
  {
   "cell_type": "code",
   "execution_count": 208,
   "metadata": {
    "colab": {
     "base_uri": "https://localhost:8080/"
    },
    "executionInfo": {
     "elapsed": 2595,
     "status": "ok",
     "timestamp": 1615992696053,
     "user": {
      "displayName": "Вадим Аникин",
      "photoUrl": "",
      "userId": "00271984842377798948"
     },
     "user_tz": -180
    },
    "id": "uADbR212PZ06",
    "outputId": "3693250b-48af-4650-d8e9-9d19ae427f58"
   },
   "outputs": [
    {
     "data": {
      "text/plain": [
       "0.1724137931034483"
      ]
     },
     "execution_count": 208,
     "metadata": {},
     "output_type": "execute_result"
    }
   ],
   "source": [
    "df['kitch_tot'].median()"
   ]
  },
  {
   "cell_type": "code",
   "execution_count": 209,
   "metadata": {
    "colab": {
     "base_uri": "https://localhost:8080/"
    },
    "executionInfo": {
     "elapsed": 2579,
     "status": "ok",
     "timestamp": 1615992696053,
     "user": {
      "displayName": "Вадим Аникин",
      "photoUrl": "",
      "userId": "00271984842377798948"
     },
     "user_tz": -180
    },
    "id": "WOIEjWRjPgbt",
    "outputId": "c2a8ba6a-cbec-4e04-a575-d7d912a76107"
   },
   "outputs": [
    {
     "data": {
      "text/plain": [
       "0.1873547387717406"
      ]
     },
     "execution_count": 209,
     "metadata": {},
     "output_type": "execute_result"
    }
   ],
   "source": [
    "df['kitch_tot'].mean()"
   ]
  },
  {
   "cell_type": "markdown",
   "metadata": {
    "id": "wpv0JJSRIlRw"
   },
   "source": [
    "Найдем среднее и медианное значения для `kitch_tot`"
   ]
  },
  {
   "cell_type": "code",
   "execution_count": 210,
   "metadata": {
    "colab": {
     "base_uri": "https://localhost:8080/"
    },
    "executionInfo": {
     "elapsed": 2565,
     "status": "ok",
     "timestamp": 1615992696054,
     "user": {
      "displayName": "Вадим Аникин",
      "photoUrl": "",
      "userId": "00271984842377798948"
     },
     "user_tz": -180
    },
    "id": "dyxYqHACPiQk",
    "outputId": "51a632b2-e3ab-41fe-c271-e19f8000b127"
   },
   "outputs": [
    {
     "data": {
      "text/plain": [
       "0.5678598992678503"
      ]
     },
     "execution_count": 210,
     "metadata": {},
     "output_type": "execute_result"
    }
   ],
   "source": [
    "df['living_tot'].median()"
   ]
  },
  {
   "cell_type": "markdown",
   "metadata": {
    "id": "pDEDEW_wI5YI"
   },
   "source": [
    "Найдем медианное значение для `living_tot`"
   ]
  },
  {
   "cell_type": "markdown",
   "metadata": {
    "id": "A3f7aAlXJIC0"
   },
   "source": [
    "Нужно все это для того чтобы заполнить пропуски в столбцах жилой площади и площади кухни. Хочу умножить общую площадь на коэффициенты, которые получились в предыдущих пунктах. Тем самым мы получим примерные соотношения жилой площади и площади кухни для каждой общей площади."
   ]
  },
  {
   "cell_type": "code",
   "execution_count": 211,
   "metadata": {
    "executionInfo": {
     "elapsed": 3027,
     "status": "ok",
     "timestamp": 1615992696528,
     "user": {
      "displayName": "Вадим Аникин",
      "photoUrl": "",
      "userId": "00271984842377798948"
     },
     "user_tz": -180
    },
    "id": "OI8WTRLiPnbX"
   },
   "outputs": [],
   "source": [
    "df['living_area']=df['living_area'].fillna(df['total_area']*df['living_tot'].median())"
   ]
  },
  {
   "cell_type": "code",
   "execution_count": 212,
   "metadata": {
    "executionInfo": {
     "elapsed": 3021,
     "status": "ok",
     "timestamp": 1615992696530,
     "user": {
      "displayName": "Вадим Аникин",
      "photoUrl": "",
      "userId": "00271984842377798948"
     },
     "user_tz": -180
    },
    "id": "bSPl4ed8P5ve"
   },
   "outputs": [],
   "source": [
    "df['kitchen_area']=df['kitchen_area'].fillna(df['total_area']*df['kitch_tot'].mean())"
   ]
  },
  {
   "cell_type": "markdown",
   "metadata": {
    "id": "q_uYl0tuJxOt"
   },
   "source": [
    "Заполняю пропуски новыми значениями площадей."
   ]
  },
  {
   "cell_type": "code",
   "execution_count": 213,
   "metadata": {
    "colab": {
     "base_uri": "https://localhost:8080/",
     "height": 566
    },
    "executionInfo": {
     "elapsed": 3010,
     "status": "ok",
     "timestamp": 1615992696531,
     "user": {
      "displayName": "Вадим Аникин",
      "photoUrl": "",
      "userId": "00271984842377798948"
     },
     "user_tz": -180
    },
    "id": "72cwZEXuwAHY",
    "outputId": "81c95495-cb53-4a22-c136-75453c91b83e"
   },
   "outputs": [
    {
     "data": {
      "text/html": [
       "<div>\n",
       "<style scoped>\n",
       "    .dataframe tbody tr th:only-of-type {\n",
       "        vertical-align: middle;\n",
       "    }\n",
       "\n",
       "    .dataframe tbody tr th {\n",
       "        vertical-align: top;\n",
       "    }\n",
       "\n",
       "    .dataframe thead th {\n",
       "        text-align: right;\n",
       "    }\n",
       "</style>\n",
       "<table border=\"1\" class=\"dataframe\">\n",
       "  <thead>\n",
       "    <tr style=\"text-align: right;\">\n",
       "      <th></th>\n",
       "      <th>total_images</th>\n",
       "      <th>last_price</th>\n",
       "      <th>total_area</th>\n",
       "      <th>first_day_exposition</th>\n",
       "      <th>rooms</th>\n",
       "      <th>ceiling_height</th>\n",
       "      <th>floors_total</th>\n",
       "      <th>living_area</th>\n",
       "      <th>floor</th>\n",
       "      <th>is_apartment</th>\n",
       "      <th>...</th>\n",
       "      <th>locality_name</th>\n",
       "      <th>airports_nearest</th>\n",
       "      <th>cityCenters_nearest</th>\n",
       "      <th>parks_around3000</th>\n",
       "      <th>parks_nearest</th>\n",
       "      <th>ponds_around3000</th>\n",
       "      <th>ponds_nearest</th>\n",
       "      <th>days_exposition</th>\n",
       "      <th>living_tot</th>\n",
       "      <th>kitch_tot</th>\n",
       "    </tr>\n",
       "  </thead>\n",
       "  <tbody>\n",
       "    <tr>\n",
       "      <td>0</td>\n",
       "      <td>20</td>\n",
       "      <td>13000000</td>\n",
       "      <td>108.00</td>\n",
       "      <td>2019-03-07T00:00:00</td>\n",
       "      <td>3</td>\n",
       "      <td>2.70</td>\n",
       "      <td>16.0</td>\n",
       "      <td>51.000000</td>\n",
       "      <td>8</td>\n",
       "      <td>NaN</td>\n",
       "      <td>...</td>\n",
       "      <td>Санкт-Петербург</td>\n",
       "      <td>18863.0</td>\n",
       "      <td>16028.0</td>\n",
       "      <td>1</td>\n",
       "      <td>482</td>\n",
       "      <td>2</td>\n",
       "      <td>755</td>\n",
       "      <td>NaN</td>\n",
       "      <td>0.472222</td>\n",
       "      <td>0.231481</td>\n",
       "    </tr>\n",
       "    <tr>\n",
       "      <td>1</td>\n",
       "      <td>7</td>\n",
       "      <td>3350000</td>\n",
       "      <td>40.40</td>\n",
       "      <td>2018-12-04T00:00:00</td>\n",
       "      <td>1</td>\n",
       "      <td>NaN</td>\n",
       "      <td>11.0</td>\n",
       "      <td>18.600000</td>\n",
       "      <td>1</td>\n",
       "      <td>NaN</td>\n",
       "      <td>...</td>\n",
       "      <td>посёлок Шушары</td>\n",
       "      <td>12817.0</td>\n",
       "      <td>18603.0</td>\n",
       "      <td>0</td>\n",
       "      <td>Далеко</td>\n",
       "      <td>0</td>\n",
       "      <td>Далеко</td>\n",
       "      <td>81.0</td>\n",
       "      <td>0.460396</td>\n",
       "      <td>0.272277</td>\n",
       "    </tr>\n",
       "    <tr>\n",
       "      <td>2</td>\n",
       "      <td>10</td>\n",
       "      <td>5196000</td>\n",
       "      <td>56.00</td>\n",
       "      <td>2015-08-20T00:00:00</td>\n",
       "      <td>2</td>\n",
       "      <td>NaN</td>\n",
       "      <td>5.0</td>\n",
       "      <td>34.300000</td>\n",
       "      <td>4</td>\n",
       "      <td>NaN</td>\n",
       "      <td>...</td>\n",
       "      <td>Санкт-Петербург</td>\n",
       "      <td>21741.0</td>\n",
       "      <td>13933.0</td>\n",
       "      <td>1</td>\n",
       "      <td>90</td>\n",
       "      <td>2</td>\n",
       "      <td>574</td>\n",
       "      <td>558.0</td>\n",
       "      <td>0.612500</td>\n",
       "      <td>0.148214</td>\n",
       "    </tr>\n",
       "    <tr>\n",
       "      <td>3</td>\n",
       "      <td>0</td>\n",
       "      <td>64900000</td>\n",
       "      <td>159.00</td>\n",
       "      <td>2015-07-24T00:00:00</td>\n",
       "      <td>3</td>\n",
       "      <td>NaN</td>\n",
       "      <td>14.0</td>\n",
       "      <td>90.289724</td>\n",
       "      <td>9</td>\n",
       "      <td>NaN</td>\n",
       "      <td>...</td>\n",
       "      <td>Санкт-Петербург</td>\n",
       "      <td>28098.0</td>\n",
       "      <td>6800.0</td>\n",
       "      <td>2</td>\n",
       "      <td>84</td>\n",
       "      <td>3</td>\n",
       "      <td>234</td>\n",
       "      <td>424.0</td>\n",
       "      <td>NaN</td>\n",
       "      <td>NaN</td>\n",
       "    </tr>\n",
       "    <tr>\n",
       "      <td>4</td>\n",
       "      <td>2</td>\n",
       "      <td>10000000</td>\n",
       "      <td>100.00</td>\n",
       "      <td>2018-06-19T00:00:00</td>\n",
       "      <td>2</td>\n",
       "      <td>3.03</td>\n",
       "      <td>14.0</td>\n",
       "      <td>32.000000</td>\n",
       "      <td>13</td>\n",
       "      <td>NaN</td>\n",
       "      <td>...</td>\n",
       "      <td>Санкт-Петербург</td>\n",
       "      <td>31856.0</td>\n",
       "      <td>8098.0</td>\n",
       "      <td>2</td>\n",
       "      <td>112</td>\n",
       "      <td>1</td>\n",
       "      <td>48</td>\n",
       "      <td>121.0</td>\n",
       "      <td>0.320000</td>\n",
       "      <td>0.410000</td>\n",
       "    </tr>\n",
       "    <tr>\n",
       "      <td>5</td>\n",
       "      <td>10</td>\n",
       "      <td>2890000</td>\n",
       "      <td>30.40</td>\n",
       "      <td>2018-09-10T00:00:00</td>\n",
       "      <td>1</td>\n",
       "      <td>NaN</td>\n",
       "      <td>12.0</td>\n",
       "      <td>14.400000</td>\n",
       "      <td>5</td>\n",
       "      <td>NaN</td>\n",
       "      <td>...</td>\n",
       "      <td>городской посёлок Янино-1</td>\n",
       "      <td>NaN</td>\n",
       "      <td>NaN</td>\n",
       "      <td>no_info</td>\n",
       "      <td>NaN</td>\n",
       "      <td>no_info</td>\n",
       "      <td>NaN</td>\n",
       "      <td>55.0</td>\n",
       "      <td>0.473684</td>\n",
       "      <td>0.299342</td>\n",
       "    </tr>\n",
       "    <tr>\n",
       "      <td>6</td>\n",
       "      <td>6</td>\n",
       "      <td>3700000</td>\n",
       "      <td>37.30</td>\n",
       "      <td>2017-11-02T00:00:00</td>\n",
       "      <td>1</td>\n",
       "      <td>NaN</td>\n",
       "      <td>26.0</td>\n",
       "      <td>10.600000</td>\n",
       "      <td>6</td>\n",
       "      <td>NaN</td>\n",
       "      <td>...</td>\n",
       "      <td>посёлок Парголово</td>\n",
       "      <td>52996.0</td>\n",
       "      <td>19143.0</td>\n",
       "      <td>0</td>\n",
       "      <td>Далеко</td>\n",
       "      <td>0</td>\n",
       "      <td>Далеко</td>\n",
       "      <td>155.0</td>\n",
       "      <td>0.284182</td>\n",
       "      <td>0.386059</td>\n",
       "    </tr>\n",
       "    <tr>\n",
       "      <td>7</td>\n",
       "      <td>5</td>\n",
       "      <td>7915000</td>\n",
       "      <td>71.60</td>\n",
       "      <td>2019-04-18T00:00:00</td>\n",
       "      <td>2</td>\n",
       "      <td>NaN</td>\n",
       "      <td>24.0</td>\n",
       "      <td>40.658769</td>\n",
       "      <td>22</td>\n",
       "      <td>NaN</td>\n",
       "      <td>...</td>\n",
       "      <td>Санкт-Петербург</td>\n",
       "      <td>23982.0</td>\n",
       "      <td>11634.0</td>\n",
       "      <td>0</td>\n",
       "      <td>Далеко</td>\n",
       "      <td>0</td>\n",
       "      <td>Далеко</td>\n",
       "      <td>NaN</td>\n",
       "      <td>NaN</td>\n",
       "      <td>0.263966</td>\n",
       "    </tr>\n",
       "    <tr>\n",
       "      <td>8</td>\n",
       "      <td>20</td>\n",
       "      <td>2900000</td>\n",
       "      <td>33.16</td>\n",
       "      <td>2018-05-23T00:00:00</td>\n",
       "      <td>1</td>\n",
       "      <td>NaN</td>\n",
       "      <td>27.0</td>\n",
       "      <td>15.430000</td>\n",
       "      <td>26</td>\n",
       "      <td>NaN</td>\n",
       "      <td>...</td>\n",
       "      <td>посёлок Мурино</td>\n",
       "      <td>NaN</td>\n",
       "      <td>NaN</td>\n",
       "      <td>no_info</td>\n",
       "      <td>NaN</td>\n",
       "      <td>no_info</td>\n",
       "      <td>NaN</td>\n",
       "      <td>189.0</td>\n",
       "      <td>0.465320</td>\n",
       "      <td>0.265682</td>\n",
       "    </tr>\n",
       "    <tr>\n",
       "      <td>9</td>\n",
       "      <td>18</td>\n",
       "      <td>5400000</td>\n",
       "      <td>61.00</td>\n",
       "      <td>2017-02-26T00:00:00</td>\n",
       "      <td>3</td>\n",
       "      <td>2.50</td>\n",
       "      <td>9.0</td>\n",
       "      <td>43.600000</td>\n",
       "      <td>7</td>\n",
       "      <td>NaN</td>\n",
       "      <td>...</td>\n",
       "      <td>Санкт-Петербург</td>\n",
       "      <td>50898.0</td>\n",
       "      <td>15008.0</td>\n",
       "      <td>0</td>\n",
       "      <td>Далеко</td>\n",
       "      <td>0</td>\n",
       "      <td>Далеко</td>\n",
       "      <td>289.0</td>\n",
       "      <td>0.714754</td>\n",
       "      <td>0.106557</td>\n",
       "    </tr>\n",
       "  </tbody>\n",
       "</table>\n",
       "<p>10 rows × 24 columns</p>\n",
       "</div>"
      ],
      "text/plain": [
       "   total_images  last_price  total_area first_day_exposition  rooms  \\\n",
       "0            20    13000000      108.00  2019-03-07T00:00:00      3   \n",
       "1             7     3350000       40.40  2018-12-04T00:00:00      1   \n",
       "2            10     5196000       56.00  2015-08-20T00:00:00      2   \n",
       "3             0    64900000      159.00  2015-07-24T00:00:00      3   \n",
       "4             2    10000000      100.00  2018-06-19T00:00:00      2   \n",
       "5            10     2890000       30.40  2018-09-10T00:00:00      1   \n",
       "6             6     3700000       37.30  2017-11-02T00:00:00      1   \n",
       "7             5     7915000       71.60  2019-04-18T00:00:00      2   \n",
       "8            20     2900000       33.16  2018-05-23T00:00:00      1   \n",
       "9            18     5400000       61.00  2017-02-26T00:00:00      3   \n",
       "\n",
       "   ceiling_height  floors_total  living_area  floor is_apartment  ...  \\\n",
       "0            2.70          16.0    51.000000      8          NaN  ...   \n",
       "1             NaN          11.0    18.600000      1          NaN  ...   \n",
       "2             NaN           5.0    34.300000      4          NaN  ...   \n",
       "3             NaN          14.0    90.289724      9          NaN  ...   \n",
       "4            3.03          14.0    32.000000     13          NaN  ...   \n",
       "5             NaN          12.0    14.400000      5          NaN  ...   \n",
       "6             NaN          26.0    10.600000      6          NaN  ...   \n",
       "7             NaN          24.0    40.658769     22          NaN  ...   \n",
       "8             NaN          27.0    15.430000     26          NaN  ...   \n",
       "9            2.50           9.0    43.600000      7          NaN  ...   \n",
       "\n",
       "               locality_name  airports_nearest  cityCenters_nearest  \\\n",
       "0            Санкт-Петербург           18863.0              16028.0   \n",
       "1             посёлок Шушары           12817.0              18603.0   \n",
       "2            Санкт-Петербург           21741.0              13933.0   \n",
       "3            Санкт-Петербург           28098.0               6800.0   \n",
       "4            Санкт-Петербург           31856.0               8098.0   \n",
       "5  городской посёлок Янино-1               NaN                  NaN   \n",
       "6          посёлок Парголово           52996.0              19143.0   \n",
       "7            Санкт-Петербург           23982.0              11634.0   \n",
       "8             посёлок Мурино               NaN                  NaN   \n",
       "9            Санкт-Петербург           50898.0              15008.0   \n",
       "\n",
       "   parks_around3000 parks_nearest  ponds_around3000  ponds_nearest  \\\n",
       "0                 1           482                 2            755   \n",
       "1                 0        Далеко                 0         Далеко   \n",
       "2                 1            90                 2            574   \n",
       "3                 2            84                 3            234   \n",
       "4                 2           112                 1             48   \n",
       "5           no_info           NaN           no_info            NaN   \n",
       "6                 0        Далеко                 0         Далеко   \n",
       "7                 0        Далеко                 0         Далеко   \n",
       "8           no_info           NaN           no_info            NaN   \n",
       "9                 0        Далеко                 0         Далеко   \n",
       "\n",
       "  days_exposition living_tot kitch_tot  \n",
       "0             NaN   0.472222  0.231481  \n",
       "1            81.0   0.460396  0.272277  \n",
       "2           558.0   0.612500  0.148214  \n",
       "3           424.0        NaN       NaN  \n",
       "4           121.0   0.320000  0.410000  \n",
       "5            55.0   0.473684  0.299342  \n",
       "6           155.0   0.284182  0.386059  \n",
       "7             NaN        NaN  0.263966  \n",
       "8           189.0   0.465320  0.265682  \n",
       "9           289.0   0.714754  0.106557  \n",
       "\n",
       "[10 rows x 24 columns]"
      ]
     },
     "execution_count": 213,
     "metadata": {},
     "output_type": "execute_result"
    }
   ],
   "source": [
    "df.head(10)"
   ]
  },
  {
   "cell_type": "code",
   "execution_count": 214,
   "metadata": {
    "colab": {
     "base_uri": "https://localhost:8080/"
    },
    "executionInfo": {
     "elapsed": 2994,
     "status": "ok",
     "timestamp": 1615992696532,
     "user": {
      "displayName": "Вадим Аникин",
      "photoUrl": "",
      "userId": "00271984842377798948"
     },
     "user_tz": -180
    },
    "id": "SNkl-yuY3KJ2",
    "outputId": "e1f7454b-13ca-435a-9da8-ba5e48c3fdcd"
   },
   "outputs": [
    {
     "data": {
      "text/plain": [
       "False    23649\n",
       "True        50\n",
       "Name: is_apartment, dtype: int64"
      ]
     },
     "execution_count": 214,
     "metadata": {},
     "output_type": "execute_result"
    }
   ],
   "source": [
    "df['is_apartment'].fillna(False, inplace=True)\n",
    "df['is_apartment'].value_counts()"
   ]
  },
  {
   "cell_type": "markdown",
   "metadata": {},
   "source": [
    "<div class=\"alert alert-block alert-success\">\n",
    "<b>Success:</b> верно"
   ]
  },
  {
   "cell_type": "markdown",
   "metadata": {
    "id": "jYxd9mzwKkWT"
   },
   "source": [
    "Заменяю пропуски в столбце `is_apartment` на `False`. Мне кажется что все пропущенные значения соответсвуют тому, что квартира не является апартаментами."
   ]
  },
  {
   "cell_type": "markdown",
   "metadata": {
    "id": "ye2UQnaKLIdn"
   },
   "source": [
    "Далее идет большой пункт, в котором я пытаюсь заменить пропуски в столбце locality_name. Всего было пропущено 49 значений. Почти для всех пропусков известно расстояния до центра и аэропорта, а значит можно прикинуть что это могут быть за населенные пункты. "
   ]
  },
  {
   "cell_type": "code",
   "execution_count": 215,
   "metadata": {
    "colab": {
     "base_uri": "https://localhost:8080/"
    },
    "executionInfo": {
     "elapsed": 2980,
     "status": "ok",
     "timestamp": 1615992696533,
     "user": {
      "displayName": "Вадим Аникин",
      "photoUrl": "",
      "userId": "00271984842377798948"
     },
     "user_tz": -180
    },
    "id": "yD5Q-64ZLz7s",
    "outputId": "dc72be78-81e9-4586-d04d-cc82085c29df"
   },
   "outputs": [
    {
     "data": {
      "text/plain": [
       "total_images                             50\n",
       "last_price                        763000000\n",
       "total_area                              900\n",
       "first_day_exposition    2019-05-03T00:00:00\n",
       "rooms                                    19\n",
       "ceiling_height                          100\n",
       "floors_total                             52\n",
       "living_area                           409.7\n",
       "floor                                    33\n",
       "is_apartment                           True\n",
       "studio                                 True\n",
       "open_plan                              True\n",
       "kitchen_area                            112\n",
       "balcony                                   5\n",
       "locality_name               Санкт-Петербург\n",
       "airports_nearest                      54784\n",
       "cityCenters_nearest                   29493\n",
       "days_exposition                        1572\n",
       "living_tot                                1\n",
       "kitch_tot                          0.787879\n",
       "dtype: object"
      ]
     },
     "execution_count": 215,
     "metadata": {},
     "output_type": "execute_result"
    }
   ],
   "source": [
    "df[df['locality_name']=='Санкт-Петербург'].max()"
   ]
  },
  {
   "cell_type": "markdown",
   "metadata": {
    "id": "bFLEUCPnMNV8"
   },
   "source": [
    "Для Санкт-Петербурга максимальное расстояние до центра 29 км, а значит все пропуски у которых расстояние до центра меньше 30 км можно заменить на Санкт-Петербург, даже если мы где-то ошиблись из-за того что Санкт-Петербург самая многочисленная группа, средние значения сильно не изменятся.\n",
    "\n",
    "Большая часть пропуков убрана, но остались значения за пределами Санкт-Петербурга. Фильтруя строки +- по таким же расстояниям удалось определить к какму населенному пункты могут подходить пропущенные значения."
   ]
  },
  {
   "cell_type": "code",
   "execution_count": 216,
   "metadata": {
    "executionInfo": {
     "elapsed": 2968,
     "status": "ok",
     "timestamp": 1615992696534,
     "user": {
      "displayName": "Вадим Аникин",
      "photoUrl": "",
      "userId": "00271984842377798948"
     },
     "user_tz": -180
    },
    "id": "fBrfSUV4rxKw"
   },
   "outputs": [],
   "source": [
    "df.loc[(df['locality_name'].isna()) & (df['cityCenters_nearest'] < 30000), 'locality_name'] = df.loc[(df['locality_name'].isna()) & (df['cityCenters_nearest'] < 30000), 'locality_name'].fillna('Санкт-Петербург')"
   ]
  },
  {
   "cell_type": "code",
   "execution_count": 217,
   "metadata": {
    "executionInfo": {
     "elapsed": 2962,
     "status": "ok",
     "timestamp": 1615992696536,
     "user": {
      "displayName": "Вадим Аникин",
      "photoUrl": "",
      "userId": "00271984842377798948"
     },
     "user_tz": -180
    },
    "id": "sB8ZKrQ5-l4a"
   },
   "outputs": [],
   "source": [
    "df.loc[(df['locality_name'].isna()) & (df['cityCenters_nearest'] < 40000), 'locality_name'] = df.loc[(df['locality_name'].isna()) & (df['cityCenters_nearest'] < 40000), 'locality_name'].fillna('Пушкин')"
   ]
  },
  {
   "cell_type": "markdown",
   "metadata": {
    "id": "pF6MLLtHNYDC"
   },
   "source": [
    "Но все равно остались пропуски, из-за того что были строки без расстояние до центра или единичные значеня. Найти соотвествие не удалось."
   ]
  },
  {
   "cell_type": "code",
   "execution_count": 218,
   "metadata": {
    "executionInfo": {
     "elapsed": 2955,
     "status": "ok",
     "timestamp": 1615992696537,
     "user": {
      "displayName": "Вадим Аникин",
      "photoUrl": "",
      "userId": "00271984842377798948"
     },
     "user_tz": -180
    },
    "id": "po7SqzXFQd96"
   },
   "outputs": [],
   "source": [
    "df['locality_name']=df['locality_name'].replace('деревня Кудрово', 'Кудрово')"
   ]
  },
  {
   "cell_type": "code",
   "execution_count": 219,
   "metadata": {
    "executionInfo": {
     "elapsed": 2947,
     "status": "ok",
     "timestamp": 1615992696538,
     "user": {
      "displayName": "Вадим Аникин",
      "photoUrl": "",
      "userId": "00271984842377798948"
     },
     "user_tz": -180
    },
    "id": "-4c1zzviQo-C"
   },
   "outputs": [],
   "source": [
    "df['locality_name']=df['locality_name'].replace('деревня Новое Девяткино', 'посёлок Мурино')"
   ]
  },
  {
   "cell_type": "markdown",
   "metadata": {
    "id": "EzT003Cye3_r"
   },
   "source": [
    "Объединяю 2 деревни под одним названием, т. к. знаю, что это одни населенные пункты, просто в разных источниках они называются по-разному."
   ]
  },
  {
   "cell_type": "code",
   "execution_count": 220,
   "metadata": {
    "colab": {
     "base_uri": "https://localhost:8080/"
    },
    "executionInfo": {
     "elapsed": 2936,
     "status": "ok",
     "timestamp": 1615992696538,
     "user": {
      "displayName": "Вадим Аникин",
      "photoUrl": "",
      "userId": "00271984842377798948"
     },
     "user_tz": -180
    },
    "id": "a4xIaTy0xg_W",
    "outputId": "5ba648dc-1819-46f1-fc9b-bb900e27f9c1"
   },
   "outputs": [
    {
     "data": {
      "text/plain": [
       "Санкт-Петербург      15759\n",
       "посёлок Мурино         666\n",
       "Кудрово                472\n",
       "посёлок Шушары         440\n",
       "Всеволожск             398\n",
       "Пушкин                 371\n",
       "Колпино                338\n",
       "посёлок Парголово      327\n",
       "Гатчина                307\n",
       "Выборг                 237\n",
       "Name: locality_name, dtype: int64"
      ]
     },
     "execution_count": 220,
     "metadata": {},
     "output_type": "execute_result"
    }
   ],
   "source": [
    "df['locality_name'].value_counts().head(10)"
   ]
  },
  {
   "cell_type": "code",
   "execution_count": 221,
   "metadata": {
    "executionInfo": {
     "elapsed": 2926,
     "status": "ok",
     "timestamp": 1615992696540,
     "user": {
      "displayName": "Вадим Аникин",
      "photoUrl": "",
      "userId": "00271984842377798948"
     },
     "user_tz": -180
    },
    "id": "fpMnPbUaQ4SS"
   },
   "outputs": [],
   "source": [
    "df.loc[df['locality_name']=='посёлок Мурино', 'airports_nearest'] = df.loc[df['locality_name']=='посёлок Мурино', 'airports_nearest'].fillna(48000)"
   ]
  },
  {
   "cell_type": "code",
   "execution_count": 222,
   "metadata": {
    "executionInfo": {
     "elapsed": 2919,
     "status": "ok",
     "timestamp": 1615992696541,
     "user": {
      "displayName": "Вадим Аникин",
      "photoUrl": "",
      "userId": "00271984842377798948"
     },
     "user_tz": -180
    },
    "id": "5e3ITU7ZReoQ"
   },
   "outputs": [],
   "source": [
    "df.loc[df['locality_name']=='Кудрово', 'airports_nearest'] = df.loc[df['locality_name']=='Кудрово', 'airports_nearest'].fillna(27000)"
   ]
  },
  {
   "cell_type": "code",
   "execution_count": 223,
   "metadata": {
    "executionInfo": {
     "elapsed": 2912,
     "status": "ok",
     "timestamp": 1615992696542,
     "user": {
      "displayName": "Вадим Аникин",
      "photoUrl": "",
      "userId": "00271984842377798948"
     },
     "user_tz": -180
    },
    "id": "nptf5z7WRjug"
   },
   "outputs": [],
   "source": [
    "df.loc[df['locality_name']=='Всеволожск', 'airports_nearest'] = df.loc[df['locality_name']=='Всеволожск', 'airports_nearest'].fillna(54000)"
   ]
  },
  {
   "cell_type": "code",
   "execution_count": 224,
   "metadata": {
    "executionInfo": {
     "elapsed": 2905,
     "status": "ok",
     "timestamp": 1615992696542,
     "user": {
      "displayName": "Вадим Аникин",
      "photoUrl": "",
      "userId": "00271984842377798948"
     },
     "user_tz": -180
    },
    "id": "s2QeucNjRp4n"
   },
   "outputs": [],
   "source": [
    "df.loc[df['locality_name']=='Гатчина', 'airports_nearest'] = df.loc[df['locality_name']=='Гатчина', 'airports_nearest'].fillna(40000)"
   ]
  },
  {
   "cell_type": "code",
   "execution_count": 225,
   "metadata": {
    "executionInfo": {
     "elapsed": 2899,
     "status": "ok",
     "timestamp": 1615992696543,
     "user": {
      "displayName": "Вадим Аникин",
      "photoUrl": "",
      "userId": "00271984842377798948"
     },
     "user_tz": -180
    },
    "id": "yVFHhw-JRyTe"
   },
   "outputs": [],
   "source": [
    "df.loc[df['locality_name']=='Выборг', 'airports_nearest'] = df.loc[df['locality_name']=='Выборг', 'airports_nearest'].fillna(156000)"
   ]
  },
  {
   "cell_type": "code",
   "execution_count": 226,
   "metadata": {
    "executionInfo": {
     "elapsed": 2892,
     "status": "ok",
     "timestamp": 1615992696543,
     "user": {
      "displayName": "Вадим Аникин",
      "photoUrl": "",
      "userId": "00271984842377798948"
     },
     "user_tz": -180
    },
    "id": "7UUc1C-5R7f-"
   },
   "outputs": [],
   "source": [
    "df.loc[df['locality_name']=='посёлок Мурино', 'cityCenters_nearest'] = df.loc[df['locality_name']=='посёлок Мурино', 'cityCenters_nearest'].fillna(19000)"
   ]
  },
  {
   "cell_type": "code",
   "execution_count": 227,
   "metadata": {
    "executionInfo": {
     "elapsed": 2884,
     "status": "ok",
     "timestamp": 1615992696543,
     "user": {
      "displayName": "Вадим Аникин",
      "photoUrl": "",
      "userId": "00271984842377798948"
     },
     "user_tz": -180
    },
    "id": "hgTGkzMIR8_W"
   },
   "outputs": [],
   "source": [
    "df.loc[df['locality_name']=='Кудрово', 'cityCenters_nearest'] = df.loc[df['locality_name']=='Кудрово', 'cityCenters_nearest'].fillna(14000)"
   ]
  },
  {
   "cell_type": "code",
   "execution_count": 228,
   "metadata": {
    "executionInfo": {
     "elapsed": 2874,
     "status": "ok",
     "timestamp": 1615992696544,
     "user": {
      "displayName": "Вадим Аникин",
      "photoUrl": "",
      "userId": "00271984842377798948"
     },
     "user_tz": -180
    },
    "id": "oldw1e2GR9Qv"
   },
   "outputs": [],
   "source": [
    "df.loc[df['locality_name']=='Всеволожск', 'cityCenters_nearest'] = df.loc[df['locality_name']=='Всеволожск', 'cityCenters_nearest'].fillna(25000)"
   ]
  },
  {
   "cell_type": "code",
   "execution_count": 229,
   "metadata": {
    "executionInfo": {
     "elapsed": 2865,
     "status": "ok",
     "timestamp": 1615992696544,
     "user": {
      "displayName": "Вадим Аникин",
      "photoUrl": "",
      "userId": "00271984842377798948"
     },
     "user_tz": -180
    },
    "id": "y9EeOy6sR9e_"
   },
   "outputs": [],
   "source": [
    "df.loc[df['locality_name']=='Гатчина', 'cityCenters_nearest'] = df.loc[df['locality_name']=='Гатчина', 'cityCenters_nearest'].fillna(50000)"
   ]
  },
  {
   "cell_type": "code",
   "execution_count": 230,
   "metadata": {
    "executionInfo": {
     "elapsed": 2859,
     "status": "ok",
     "timestamp": 1615992696545,
     "user": {
      "displayName": "Вадим Аникин",
      "photoUrl": "",
      "userId": "00271984842377798948"
     },
     "user_tz": -180
    },
    "id": "WCFXn3WMR9xi"
   },
   "outputs": [],
   "source": [
    "df.loc[df['locality_name']=='Выборг', 'cityCenters_nearest'] = df.loc[df['locality_name']=='Выборг', 'cityCenters_nearest'].fillna(137000)"
   ]
  },
  {
   "cell_type": "markdown",
   "metadata": {
    "id": "4W3XIBP4OPjP"
   },
   "source": [
    "Тут были приведены наиболее многочисленные поселения, которые встречаются в наших данных. Но у них были пропуски во всех строках начиная со столбца `locality_name`. Если посчитать количество парков, прудов и расстояния до них от домов мы не можем, то вот расстояние от поселения до центра города или аэропорта мы можем. С помощью карт я нашел примерные расстояние от этих поселений до центра и аэропорта и заменил пропуски соотвествующими значениями."
   ]
  },
  {
   "cell_type": "markdown",
   "metadata": {},
   "source": [
    "<div class=\"alert alert-block alert-success\">\n",
    "<b>Success:</b> отличное обогащение датасета"
   ]
  },
  {
   "cell_type": "code",
   "execution_count": 231,
   "metadata": {
    "executionInfo": {
     "elapsed": 2854,
     "status": "ok",
     "timestamp": 1615992696547,
     "user": {
      "displayName": "Вадим Аникин",
      "photoUrl": "",
      "userId": "00271984842377798948"
     },
     "user_tz": -180
    },
    "id": "mNTBs95wSaio"
   },
   "outputs": [],
   "source": [
    "del df['kitch_tot']"
   ]
  },
  {
   "cell_type": "code",
   "execution_count": 232,
   "metadata": {
    "executionInfo": {
     "elapsed": 2848,
     "status": "ok",
     "timestamp": 1615992696548,
     "user": {
      "displayName": "Вадим Аникин",
      "photoUrl": "",
      "userId": "00271984842377798948"
     },
     "user_tz": -180
    },
    "id": "tnJ3qFgCSex4"
   },
   "outputs": [],
   "source": [
    "del df['living_tot']"
   ]
  },
  {
   "cell_type": "markdown",
   "metadata": {
    "id": "so0TmMnOPSNf"
   },
   "source": [
    "Удалил не нужные больше столбцы "
   ]
  },
  {
   "cell_type": "code",
   "execution_count": 233,
   "metadata": {
    "executionInfo": {
     "elapsed": 2841,
     "status": "ok",
     "timestamp": 1615992696549,
     "user": {
      "displayName": "Вадим Аникин",
      "photoUrl": "",
      "userId": "00271984842377798948"
     },
     "user_tz": -180
    },
    "id": "M1JwaMRFTPyg"
   },
   "outputs": [],
   "source": [
    "df['airports_nearest']=df['airports_nearest'].fillna(0)\n",
    "df['cityCenters_nearest']=df['cityCenters_nearest'].fillna(0)\n",
    "df['airports_nearest']=df['airports_nearest'].astype('int')\n",
    "df['cityCenters_nearest']=df['cityCenters_nearest'].astype('int')"
   ]
  },
  {
   "cell_type": "markdown",
   "metadata": {
    "id": "sAugnw1gRL4x"
   },
   "source": [
    "Заменю тип данных на int чтоб округлить значения."
   ]
  },
  {
   "cell_type": "code",
   "execution_count": 234,
   "metadata": {
    "colab": {
     "base_uri": "https://localhost:8080/",
     "height": 566
    },
    "executionInfo": {
     "elapsed": 2829,
     "status": "ok",
     "timestamp": 1615992696549,
     "user": {
      "displayName": "Вадим Аникин",
      "photoUrl": "",
      "userId": "00271984842377798948"
     },
     "user_tz": -180
    },
    "id": "k1lOrf-VSiGZ",
    "outputId": "84c568e1-3b5a-4aa3-ce4c-f470c56fe7a6"
   },
   "outputs": [
    {
     "data": {
      "text/html": [
       "<div>\n",
       "<style scoped>\n",
       "    .dataframe tbody tr th:only-of-type {\n",
       "        vertical-align: middle;\n",
       "    }\n",
       "\n",
       "    .dataframe tbody tr th {\n",
       "        vertical-align: top;\n",
       "    }\n",
       "\n",
       "    .dataframe thead th {\n",
       "        text-align: right;\n",
       "    }\n",
       "</style>\n",
       "<table border=\"1\" class=\"dataframe\">\n",
       "  <thead>\n",
       "    <tr style=\"text-align: right;\">\n",
       "      <th></th>\n",
       "      <th>total_images</th>\n",
       "      <th>last_price</th>\n",
       "      <th>total_area</th>\n",
       "      <th>first_day_exposition</th>\n",
       "      <th>rooms</th>\n",
       "      <th>ceiling_height</th>\n",
       "      <th>floors_total</th>\n",
       "      <th>living_area</th>\n",
       "      <th>floor</th>\n",
       "      <th>is_apartment</th>\n",
       "      <th>...</th>\n",
       "      <th>kitchen_area</th>\n",
       "      <th>balcony</th>\n",
       "      <th>locality_name</th>\n",
       "      <th>airports_nearest</th>\n",
       "      <th>cityCenters_nearest</th>\n",
       "      <th>parks_around3000</th>\n",
       "      <th>parks_nearest</th>\n",
       "      <th>ponds_around3000</th>\n",
       "      <th>ponds_nearest</th>\n",
       "      <th>days_exposition</th>\n",
       "    </tr>\n",
       "  </thead>\n",
       "  <tbody>\n",
       "    <tr>\n",
       "      <td>0</td>\n",
       "      <td>20</td>\n",
       "      <td>13000000</td>\n",
       "      <td>108.00</td>\n",
       "      <td>2019-03-07T00:00:00</td>\n",
       "      <td>3</td>\n",
       "      <td>2.70</td>\n",
       "      <td>16.0</td>\n",
       "      <td>51.000000</td>\n",
       "      <td>8</td>\n",
       "      <td>False</td>\n",
       "      <td>...</td>\n",
       "      <td>25.000000</td>\n",
       "      <td>0</td>\n",
       "      <td>Санкт-Петербург</td>\n",
       "      <td>18863</td>\n",
       "      <td>16028</td>\n",
       "      <td>1</td>\n",
       "      <td>482</td>\n",
       "      <td>2</td>\n",
       "      <td>755</td>\n",
       "      <td>NaN</td>\n",
       "    </tr>\n",
       "    <tr>\n",
       "      <td>1</td>\n",
       "      <td>7</td>\n",
       "      <td>3350000</td>\n",
       "      <td>40.40</td>\n",
       "      <td>2018-12-04T00:00:00</td>\n",
       "      <td>1</td>\n",
       "      <td>NaN</td>\n",
       "      <td>11.0</td>\n",
       "      <td>18.600000</td>\n",
       "      <td>1</td>\n",
       "      <td>False</td>\n",
       "      <td>...</td>\n",
       "      <td>11.000000</td>\n",
       "      <td>2</td>\n",
       "      <td>посёлок Шушары</td>\n",
       "      <td>12817</td>\n",
       "      <td>18603</td>\n",
       "      <td>0</td>\n",
       "      <td>Далеко</td>\n",
       "      <td>0</td>\n",
       "      <td>Далеко</td>\n",
       "      <td>81.0</td>\n",
       "    </tr>\n",
       "    <tr>\n",
       "      <td>2</td>\n",
       "      <td>10</td>\n",
       "      <td>5196000</td>\n",
       "      <td>56.00</td>\n",
       "      <td>2015-08-20T00:00:00</td>\n",
       "      <td>2</td>\n",
       "      <td>NaN</td>\n",
       "      <td>5.0</td>\n",
       "      <td>34.300000</td>\n",
       "      <td>4</td>\n",
       "      <td>False</td>\n",
       "      <td>...</td>\n",
       "      <td>8.300000</td>\n",
       "      <td>0</td>\n",
       "      <td>Санкт-Петербург</td>\n",
       "      <td>21741</td>\n",
       "      <td>13933</td>\n",
       "      <td>1</td>\n",
       "      <td>90</td>\n",
       "      <td>2</td>\n",
       "      <td>574</td>\n",
       "      <td>558.0</td>\n",
       "    </tr>\n",
       "    <tr>\n",
       "      <td>3</td>\n",
       "      <td>0</td>\n",
       "      <td>64900000</td>\n",
       "      <td>159.00</td>\n",
       "      <td>2015-07-24T00:00:00</td>\n",
       "      <td>3</td>\n",
       "      <td>NaN</td>\n",
       "      <td>14.0</td>\n",
       "      <td>90.289724</td>\n",
       "      <td>9</td>\n",
       "      <td>False</td>\n",
       "      <td>...</td>\n",
       "      <td>29.789403</td>\n",
       "      <td>0</td>\n",
       "      <td>Санкт-Петербург</td>\n",
       "      <td>28098</td>\n",
       "      <td>6800</td>\n",
       "      <td>2</td>\n",
       "      <td>84</td>\n",
       "      <td>3</td>\n",
       "      <td>234</td>\n",
       "      <td>424.0</td>\n",
       "    </tr>\n",
       "    <tr>\n",
       "      <td>4</td>\n",
       "      <td>2</td>\n",
       "      <td>10000000</td>\n",
       "      <td>100.00</td>\n",
       "      <td>2018-06-19T00:00:00</td>\n",
       "      <td>2</td>\n",
       "      <td>3.03</td>\n",
       "      <td>14.0</td>\n",
       "      <td>32.000000</td>\n",
       "      <td>13</td>\n",
       "      <td>False</td>\n",
       "      <td>...</td>\n",
       "      <td>41.000000</td>\n",
       "      <td>0</td>\n",
       "      <td>Санкт-Петербург</td>\n",
       "      <td>31856</td>\n",
       "      <td>8098</td>\n",
       "      <td>2</td>\n",
       "      <td>112</td>\n",
       "      <td>1</td>\n",
       "      <td>48</td>\n",
       "      <td>121.0</td>\n",
       "    </tr>\n",
       "    <tr>\n",
       "      <td>5</td>\n",
       "      <td>10</td>\n",
       "      <td>2890000</td>\n",
       "      <td>30.40</td>\n",
       "      <td>2018-09-10T00:00:00</td>\n",
       "      <td>1</td>\n",
       "      <td>NaN</td>\n",
       "      <td>12.0</td>\n",
       "      <td>14.400000</td>\n",
       "      <td>5</td>\n",
       "      <td>False</td>\n",
       "      <td>...</td>\n",
       "      <td>9.100000</td>\n",
       "      <td>0</td>\n",
       "      <td>городской посёлок Янино-1</td>\n",
       "      <td>0</td>\n",
       "      <td>0</td>\n",
       "      <td>no_info</td>\n",
       "      <td>NaN</td>\n",
       "      <td>no_info</td>\n",
       "      <td>NaN</td>\n",
       "      <td>55.0</td>\n",
       "    </tr>\n",
       "    <tr>\n",
       "      <td>6</td>\n",
       "      <td>6</td>\n",
       "      <td>3700000</td>\n",
       "      <td>37.30</td>\n",
       "      <td>2017-11-02T00:00:00</td>\n",
       "      <td>1</td>\n",
       "      <td>NaN</td>\n",
       "      <td>26.0</td>\n",
       "      <td>10.600000</td>\n",
       "      <td>6</td>\n",
       "      <td>False</td>\n",
       "      <td>...</td>\n",
       "      <td>14.400000</td>\n",
       "      <td>1</td>\n",
       "      <td>посёлок Парголово</td>\n",
       "      <td>52996</td>\n",
       "      <td>19143</td>\n",
       "      <td>0</td>\n",
       "      <td>Далеко</td>\n",
       "      <td>0</td>\n",
       "      <td>Далеко</td>\n",
       "      <td>155.0</td>\n",
       "    </tr>\n",
       "    <tr>\n",
       "      <td>7</td>\n",
       "      <td>5</td>\n",
       "      <td>7915000</td>\n",
       "      <td>71.60</td>\n",
       "      <td>2019-04-18T00:00:00</td>\n",
       "      <td>2</td>\n",
       "      <td>NaN</td>\n",
       "      <td>24.0</td>\n",
       "      <td>40.658769</td>\n",
       "      <td>22</td>\n",
       "      <td>False</td>\n",
       "      <td>...</td>\n",
       "      <td>18.900000</td>\n",
       "      <td>2</td>\n",
       "      <td>Санкт-Петербург</td>\n",
       "      <td>23982</td>\n",
       "      <td>11634</td>\n",
       "      <td>0</td>\n",
       "      <td>Далеко</td>\n",
       "      <td>0</td>\n",
       "      <td>Далеко</td>\n",
       "      <td>NaN</td>\n",
       "    </tr>\n",
       "    <tr>\n",
       "      <td>8</td>\n",
       "      <td>20</td>\n",
       "      <td>2900000</td>\n",
       "      <td>33.16</td>\n",
       "      <td>2018-05-23T00:00:00</td>\n",
       "      <td>1</td>\n",
       "      <td>NaN</td>\n",
       "      <td>27.0</td>\n",
       "      <td>15.430000</td>\n",
       "      <td>26</td>\n",
       "      <td>False</td>\n",
       "      <td>...</td>\n",
       "      <td>8.810000</td>\n",
       "      <td>0</td>\n",
       "      <td>посёлок Мурино</td>\n",
       "      <td>48000</td>\n",
       "      <td>19000</td>\n",
       "      <td>no_info</td>\n",
       "      <td>NaN</td>\n",
       "      <td>no_info</td>\n",
       "      <td>NaN</td>\n",
       "      <td>189.0</td>\n",
       "    </tr>\n",
       "    <tr>\n",
       "      <td>9</td>\n",
       "      <td>18</td>\n",
       "      <td>5400000</td>\n",
       "      <td>61.00</td>\n",
       "      <td>2017-02-26T00:00:00</td>\n",
       "      <td>3</td>\n",
       "      <td>2.50</td>\n",
       "      <td>9.0</td>\n",
       "      <td>43.600000</td>\n",
       "      <td>7</td>\n",
       "      <td>False</td>\n",
       "      <td>...</td>\n",
       "      <td>6.500000</td>\n",
       "      <td>2</td>\n",
       "      <td>Санкт-Петербург</td>\n",
       "      <td>50898</td>\n",
       "      <td>15008</td>\n",
       "      <td>0</td>\n",
       "      <td>Далеко</td>\n",
       "      <td>0</td>\n",
       "      <td>Далеко</td>\n",
       "      <td>289.0</td>\n",
       "    </tr>\n",
       "  </tbody>\n",
       "</table>\n",
       "<p>10 rows × 22 columns</p>\n",
       "</div>"
      ],
      "text/plain": [
       "   total_images  last_price  total_area first_day_exposition  rooms  \\\n",
       "0            20    13000000      108.00  2019-03-07T00:00:00      3   \n",
       "1             7     3350000       40.40  2018-12-04T00:00:00      1   \n",
       "2            10     5196000       56.00  2015-08-20T00:00:00      2   \n",
       "3             0    64900000      159.00  2015-07-24T00:00:00      3   \n",
       "4             2    10000000      100.00  2018-06-19T00:00:00      2   \n",
       "5            10     2890000       30.40  2018-09-10T00:00:00      1   \n",
       "6             6     3700000       37.30  2017-11-02T00:00:00      1   \n",
       "7             5     7915000       71.60  2019-04-18T00:00:00      2   \n",
       "8            20     2900000       33.16  2018-05-23T00:00:00      1   \n",
       "9            18     5400000       61.00  2017-02-26T00:00:00      3   \n",
       "\n",
       "   ceiling_height  floors_total  living_area  floor  is_apartment  ...  \\\n",
       "0            2.70          16.0    51.000000      8         False  ...   \n",
       "1             NaN          11.0    18.600000      1         False  ...   \n",
       "2             NaN           5.0    34.300000      4         False  ...   \n",
       "3             NaN          14.0    90.289724      9         False  ...   \n",
       "4            3.03          14.0    32.000000     13         False  ...   \n",
       "5             NaN          12.0    14.400000      5         False  ...   \n",
       "6             NaN          26.0    10.600000      6         False  ...   \n",
       "7             NaN          24.0    40.658769     22         False  ...   \n",
       "8             NaN          27.0    15.430000     26         False  ...   \n",
       "9            2.50           9.0    43.600000      7         False  ...   \n",
       "\n",
       "   kitchen_area  balcony              locality_name  airports_nearest  \\\n",
       "0     25.000000        0            Санкт-Петербург             18863   \n",
       "1     11.000000        2             посёлок Шушары             12817   \n",
       "2      8.300000        0            Санкт-Петербург             21741   \n",
       "3     29.789403        0            Санкт-Петербург             28098   \n",
       "4     41.000000        0            Санкт-Петербург             31856   \n",
       "5      9.100000        0  городской посёлок Янино-1                 0   \n",
       "6     14.400000        1          посёлок Парголово             52996   \n",
       "7     18.900000        2            Санкт-Петербург             23982   \n",
       "8      8.810000        0             посёлок Мурино             48000   \n",
       "9      6.500000        2            Санкт-Петербург             50898   \n",
       "\n",
       "  cityCenters_nearest  parks_around3000  parks_nearest ponds_around3000  \\\n",
       "0               16028                 1            482                2   \n",
       "1               18603                 0         Далеко                0   \n",
       "2               13933                 1             90                2   \n",
       "3                6800                 2             84                3   \n",
       "4                8098                 2            112                1   \n",
       "5                   0           no_info            NaN          no_info   \n",
       "6               19143                 0         Далеко                0   \n",
       "7               11634                 0         Далеко                0   \n",
       "8               19000           no_info            NaN          no_info   \n",
       "9               15008                 0         Далеко                0   \n",
       "\n",
       "  ponds_nearest days_exposition  \n",
       "0           755             NaN  \n",
       "1        Далеко            81.0  \n",
       "2           574           558.0  \n",
       "3           234           424.0  \n",
       "4            48           121.0  \n",
       "5           NaN            55.0  \n",
       "6        Далеко           155.0  \n",
       "7        Далеко             NaN  \n",
       "8           NaN           189.0  \n",
       "9        Далеко           289.0  \n",
       "\n",
       "[10 rows x 22 columns]"
      ]
     },
     "execution_count": 234,
     "metadata": {},
     "output_type": "execute_result"
    }
   ],
   "source": [
    "df.head(10)"
   ]
  },
  {
   "cell_type": "markdown",
   "metadata": {
    "id": "-SwEK1quRbRe"
   },
   "source": [
    "Можно посмотреть на `df` после всех замен."
   ]
  },
  {
   "cell_type": "code",
   "execution_count": 235,
   "metadata": {
    "executionInfo": {
     "elapsed": 2816,
     "status": "ok",
     "timestamp": 1615992696549,
     "user": {
      "displayName": "Вадим Аникин",
      "photoUrl": "",
      "userId": "00271984842377798948"
     },
     "user_tz": -180
    },
    "id": "PZMKBGZ8TWJ8"
   },
   "outputs": [],
   "source": [
    "df['price_metr2']=df['last_price']/df['total_area']"
   ]
  },
  {
   "cell_type": "markdown",
   "metadata": {
    "id": "uqzyuM3WRgoL"
   },
   "source": [
    "Считаю стоимость квадратного метра и записываю в новый столбец."
   ]
  },
  {
   "cell_type": "code",
   "execution_count": 236,
   "metadata": {
    "executionInfo": {
     "elapsed": 2809,
     "status": "ok",
     "timestamp": 1615992696550,
     "user": {
      "displayName": "Вадим Аникин",
      "photoUrl": "",
      "userId": "00271984842377798948"
     },
     "user_tz": -180
    },
    "id": "LtWPoHtqT5Kn"
   },
   "outputs": [],
   "source": [
    "def floor_group(floor, floors_total):\n",
    "    if floor==1:\n",
    "        return 'первый'\n",
    "    elif floor==floors_total:\n",
    "        return 'последний'\n",
    "    return 'другой'\n",
    "df['floor_group']=df.apply(lambda x: floor_group(x['floor'],x['floors_total']),axis=1)"
   ]
  },
  {
   "cell_type": "markdown",
   "metadata": {},
   "source": [
    "<div class=\"alert alert-block alert-info\">\n",
    "<b>Fixed:</b> Переделал категоризацию чтобы все было в одной функции\n",
    "</div>"
   ]
  },
  {
   "cell_type": "markdown",
   "metadata": {},
   "source": [
    "<div class=\"alert alert-block alert-warning\">\n",
    "<b>Remarks:</b> давай сразу и последний в этой функции категоризуем, зачем нам этот лишний код с реплейсом"
   ]
  },
  {
   "cell_type": "markdown",
   "metadata": {
    "id": "fH535ajDRwJ2"
   },
   "source": [
    "Сначала я использую функцию, чтобы разделить все этажи на первый и другой и записать все в новый столбец, а затем ищу строки, в которых этаж совпадает со значением всего этажей, и заменяю другой на последний."
   ]
  },
  {
   "cell_type": "code",
   "execution_count": 237,
   "metadata": {
    "colab": {
     "base_uri": "https://localhost:8080/"
    },
    "executionInfo": {
     "elapsed": 2791,
     "status": "ok",
     "timestamp": 1615992696551,
     "user": {
      "displayName": "Вадим Аникин",
      "photoUrl": "",
      "userId": "00271984842377798948"
     },
     "user_tz": -180
    },
    "id": "bZBg7kpMU1DK",
    "outputId": "231656b2-ba3a-4a20-b7ab-ebaa95299c9b"
   },
   "outputs": [
    {
     "data": {
      "text/plain": [
       "другой       17446\n",
       "последний     3336\n",
       "первый        2917\n",
       "Name: floor_group, dtype: int64"
      ]
     },
     "execution_count": 237,
     "metadata": {},
     "output_type": "execute_result"
    }
   ],
   "source": [
    "df['floor_group'].value_counts()"
   ]
  },
  {
   "cell_type": "markdown",
   "metadata": {
    "id": "uVLGbPcLSGNH"
   },
   "source": [
    "Вот такой получился список."
   ]
  },
  {
   "cell_type": "code",
   "execution_count": 238,
   "metadata": {
    "executionInfo": {
     "elapsed": 2778,
     "status": "ok",
     "timestamp": 1615992696551,
     "user": {
      "displayName": "Вадим Аникин",
      "photoUrl": "",
      "userId": "00271984842377798948"
     },
     "user_tz": -180
    },
    "id": "5bdpAenjWInG"
   },
   "outputs": [],
   "source": [
    "df['first_day_exposition'] = pd.to_datetime(df['first_day_exposition'], format='%Y-%m-%dT%H:%M:%S')\n",
    "df['first_day_exposition'] = df['first_day_exposition'].dt.round('1H')"
   ]
  },
  {
   "cell_type": "markdown",
   "metadata": {
    "id": "7VxktmtTSLwP"
   },
   "source": [
    "Измняю формат времени, чтоб оно было более читабельно, и округляю до часа."
   ]
  },
  {
   "cell_type": "code",
   "execution_count": 239,
   "metadata": {
    "executionInfo": {
     "elapsed": 2771,
     "status": "ok",
     "timestamp": 1615992696552,
     "user": {
      "displayName": "Вадим Аникин",
      "photoUrl": "",
      "userId": "00271984842377798948"
     },
     "user_tz": -180
    },
    "id": "podz4a8oWWpH"
   },
   "outputs": [],
   "source": [
    "df['kichen_total_area']=df['kitchen_area']/df['total_area']"
   ]
  },
  {
   "cell_type": "code",
   "execution_count": 240,
   "metadata": {
    "executionInfo": {
     "elapsed": 2764,
     "status": "ok",
     "timestamp": 1615992696552,
     "user": {
      "displayName": "Вадим Аникин",
      "photoUrl": "",
      "userId": "00271984842377798948"
     },
     "user_tz": -180
    },
    "id": "5a3uZ-RgWf-w"
   },
   "outputs": [],
   "source": [
    "df['living_total_area']=df['living_area']/df['total_area']"
   ]
  },
  {
   "cell_type": "markdown",
   "metadata": {
    "id": "gX2dhiofSZ-K"
   },
   "source": [
    "Считаю отношение жилой площади и площади кухни относиельно общей площади и новые значения записыва в новый столбцы."
   ]
  },
  {
   "cell_type": "code",
   "execution_count": 241,
   "metadata": {
    "executionInfo": {
     "elapsed": 2758,
     "status": "ok",
     "timestamp": 1615992696553,
     "user": {
      "displayName": "Вадим Аникин",
      "photoUrl": "",
      "userId": "00271984842377798948"
     },
     "user_tz": -180
    },
    "id": "cWaHxsIEFhSu"
   },
   "outputs": [],
   "source": [
    "df['last_price']=df['last_price']/1000000"
   ]
  },
  {
   "cell_type": "markdown",
   "metadata": {
    "id": "jbn52CsaSkVL"
   },
   "source": [
    "Решаю перевести цену в млн, чтоб на графиках не было огромных чисел."
   ]
  },
  {
   "cell_type": "code",
   "execution_count": 242,
   "metadata": {
    "executionInfo": {
     "elapsed": 3101,
     "status": "ok",
     "timestamp": 1615992696904,
     "user": {
      "displayName": "Вадим Аникин",
      "photoUrl": "",
      "userId": "00271984842377798948"
     },
     "user_tz": -180
    },
    "id": "p1Ty8RLPDrJt"
   },
   "outputs": [],
   "source": [
    "df['weekday']=df['first_day_exposition'].dt.weekday"
   ]
  },
  {
   "cell_type": "code",
   "execution_count": 243,
   "metadata": {
    "executionInfo": {
     "elapsed": 3095,
     "status": "ok",
     "timestamp": 1615992696905,
     "user": {
      "displayName": "Вадим Аникин",
      "photoUrl": "",
      "userId": "00271984842377798948"
     },
     "user_tz": -180
    },
    "id": "2Pb1SbybDhqG"
   },
   "outputs": [],
   "source": [
    "df['month']=df['first_day_exposition'].dt.month"
   ]
  },
  {
   "cell_type": "code",
   "execution_count": 244,
   "metadata": {
    "executionInfo": {
     "elapsed": 3089,
     "status": "ok",
     "timestamp": 1615992696906,
     "user": {
      "displayName": "Вадим Аникин",
      "photoUrl": "",
      "userId": "00271984842377798948"
     },
     "user_tz": -180
    },
    "id": "AZnsxTOUELCS"
   },
   "outputs": [],
   "source": [
    "df['year']=df['first_day_exposition'].dt.year"
   ]
  },
  {
   "cell_type": "markdown",
   "metadata": {
    "id": "gX5mXWShS1tE"
   },
   "source": [
    "В новые столбцы для всех записываю день, месяц и год публикации объявления."
   ]
  },
  {
   "cell_type": "code",
   "execution_count": 245,
   "metadata": {
    "executionInfo": {
     "elapsed": 3081,
     "status": "ok",
     "timestamp": 1615992696906,
     "user": {
      "displayName": "Вадим Аникин",
      "photoUrl": "",
      "userId": "00271984842377798948"
     },
     "user_tz": -180
    },
    "id": "Q3GPk-A_IVV1"
   },
   "outputs": [],
   "source": [
    "df['city_near_km']=df['cityCenters_nearest']/1000\n",
    "df['city_near_km']=df['city_near_km'].astype('int')"
   ]
  },
  {
   "cell_type": "markdown",
   "metadata": {
    "id": "xOY-vpWNS_xT"
   },
   "source": [
    "Создаю новый столбец, где расстояние до центра перевожу в км и округляю."
   ]
  },
  {
   "cell_type": "code",
   "execution_count": 246,
   "metadata": {
    "colab": {
     "base_uri": "https://localhost:8080/",
     "height": 566
    },
    "executionInfo": {
     "elapsed": 3070,
     "status": "ok",
     "timestamp": 1615992696907,
     "user": {
      "displayName": "Вадим Аникин",
      "photoUrl": "",
      "userId": "00271984842377798948"
     },
     "user_tz": -180
    },
    "id": "nyzgTvdVUMJZ",
    "outputId": "0cb23c1f-0b90-4840-e0aa-279a99fbba25"
   },
   "outputs": [
    {
     "data": {
      "text/html": [
       "<div>\n",
       "<style scoped>\n",
       "    .dataframe tbody tr th:only-of-type {\n",
       "        vertical-align: middle;\n",
       "    }\n",
       "\n",
       "    .dataframe tbody tr th {\n",
       "        vertical-align: top;\n",
       "    }\n",
       "\n",
       "    .dataframe thead th {\n",
       "        text-align: right;\n",
       "    }\n",
       "</style>\n",
       "<table border=\"1\" class=\"dataframe\">\n",
       "  <thead>\n",
       "    <tr style=\"text-align: right;\">\n",
       "      <th></th>\n",
       "      <th>total_images</th>\n",
       "      <th>last_price</th>\n",
       "      <th>total_area</th>\n",
       "      <th>first_day_exposition</th>\n",
       "      <th>rooms</th>\n",
       "      <th>ceiling_height</th>\n",
       "      <th>floors_total</th>\n",
       "      <th>living_area</th>\n",
       "      <th>floor</th>\n",
       "      <th>is_apartment</th>\n",
       "      <th>...</th>\n",
       "      <th>ponds_nearest</th>\n",
       "      <th>days_exposition</th>\n",
       "      <th>price_metr2</th>\n",
       "      <th>floor_group</th>\n",
       "      <th>kichen_total_area</th>\n",
       "      <th>living_total_area</th>\n",
       "      <th>weekday</th>\n",
       "      <th>month</th>\n",
       "      <th>year</th>\n",
       "      <th>city_near_km</th>\n",
       "    </tr>\n",
       "  </thead>\n",
       "  <tbody>\n",
       "    <tr>\n",
       "      <td>0</td>\n",
       "      <td>20</td>\n",
       "      <td>13.000</td>\n",
       "      <td>108.00</td>\n",
       "      <td>2019-03-07</td>\n",
       "      <td>3</td>\n",
       "      <td>2.70</td>\n",
       "      <td>16.0</td>\n",
       "      <td>51.000000</td>\n",
       "      <td>8</td>\n",
       "      <td>False</td>\n",
       "      <td>...</td>\n",
       "      <td>755</td>\n",
       "      <td>NaN</td>\n",
       "      <td>120370.370370</td>\n",
       "      <td>другой</td>\n",
       "      <td>0.231481</td>\n",
       "      <td>0.472222</td>\n",
       "      <td>3</td>\n",
       "      <td>3</td>\n",
       "      <td>2019</td>\n",
       "      <td>16</td>\n",
       "    </tr>\n",
       "    <tr>\n",
       "      <td>1</td>\n",
       "      <td>7</td>\n",
       "      <td>3.350</td>\n",
       "      <td>40.40</td>\n",
       "      <td>2018-12-04</td>\n",
       "      <td>1</td>\n",
       "      <td>NaN</td>\n",
       "      <td>11.0</td>\n",
       "      <td>18.600000</td>\n",
       "      <td>1</td>\n",
       "      <td>False</td>\n",
       "      <td>...</td>\n",
       "      <td>Далеко</td>\n",
       "      <td>81.0</td>\n",
       "      <td>82920.792079</td>\n",
       "      <td>первый</td>\n",
       "      <td>0.272277</td>\n",
       "      <td>0.460396</td>\n",
       "      <td>1</td>\n",
       "      <td>12</td>\n",
       "      <td>2018</td>\n",
       "      <td>18</td>\n",
       "    </tr>\n",
       "    <tr>\n",
       "      <td>2</td>\n",
       "      <td>10</td>\n",
       "      <td>5.196</td>\n",
       "      <td>56.00</td>\n",
       "      <td>2015-08-20</td>\n",
       "      <td>2</td>\n",
       "      <td>NaN</td>\n",
       "      <td>5.0</td>\n",
       "      <td>34.300000</td>\n",
       "      <td>4</td>\n",
       "      <td>False</td>\n",
       "      <td>...</td>\n",
       "      <td>574</td>\n",
       "      <td>558.0</td>\n",
       "      <td>92785.714286</td>\n",
       "      <td>другой</td>\n",
       "      <td>0.148214</td>\n",
       "      <td>0.612500</td>\n",
       "      <td>3</td>\n",
       "      <td>8</td>\n",
       "      <td>2015</td>\n",
       "      <td>13</td>\n",
       "    </tr>\n",
       "    <tr>\n",
       "      <td>3</td>\n",
       "      <td>0</td>\n",
       "      <td>64.900</td>\n",
       "      <td>159.00</td>\n",
       "      <td>2015-07-24</td>\n",
       "      <td>3</td>\n",
       "      <td>NaN</td>\n",
       "      <td>14.0</td>\n",
       "      <td>90.289724</td>\n",
       "      <td>9</td>\n",
       "      <td>False</td>\n",
       "      <td>...</td>\n",
       "      <td>234</td>\n",
       "      <td>424.0</td>\n",
       "      <td>408176.100629</td>\n",
       "      <td>другой</td>\n",
       "      <td>0.187355</td>\n",
       "      <td>0.567860</td>\n",
       "      <td>4</td>\n",
       "      <td>7</td>\n",
       "      <td>2015</td>\n",
       "      <td>6</td>\n",
       "    </tr>\n",
       "    <tr>\n",
       "      <td>4</td>\n",
       "      <td>2</td>\n",
       "      <td>10.000</td>\n",
       "      <td>100.00</td>\n",
       "      <td>2018-06-19</td>\n",
       "      <td>2</td>\n",
       "      <td>3.03</td>\n",
       "      <td>14.0</td>\n",
       "      <td>32.000000</td>\n",
       "      <td>13</td>\n",
       "      <td>False</td>\n",
       "      <td>...</td>\n",
       "      <td>48</td>\n",
       "      <td>121.0</td>\n",
       "      <td>100000.000000</td>\n",
       "      <td>другой</td>\n",
       "      <td>0.410000</td>\n",
       "      <td>0.320000</td>\n",
       "      <td>1</td>\n",
       "      <td>6</td>\n",
       "      <td>2018</td>\n",
       "      <td>8</td>\n",
       "    </tr>\n",
       "    <tr>\n",
       "      <td>5</td>\n",
       "      <td>10</td>\n",
       "      <td>2.890</td>\n",
       "      <td>30.40</td>\n",
       "      <td>2018-09-10</td>\n",
       "      <td>1</td>\n",
       "      <td>NaN</td>\n",
       "      <td>12.0</td>\n",
       "      <td>14.400000</td>\n",
       "      <td>5</td>\n",
       "      <td>False</td>\n",
       "      <td>...</td>\n",
       "      <td>NaN</td>\n",
       "      <td>55.0</td>\n",
       "      <td>95065.789474</td>\n",
       "      <td>другой</td>\n",
       "      <td>0.299342</td>\n",
       "      <td>0.473684</td>\n",
       "      <td>0</td>\n",
       "      <td>9</td>\n",
       "      <td>2018</td>\n",
       "      <td>0</td>\n",
       "    </tr>\n",
       "    <tr>\n",
       "      <td>6</td>\n",
       "      <td>6</td>\n",
       "      <td>3.700</td>\n",
       "      <td>37.30</td>\n",
       "      <td>2017-11-02</td>\n",
       "      <td>1</td>\n",
       "      <td>NaN</td>\n",
       "      <td>26.0</td>\n",
       "      <td>10.600000</td>\n",
       "      <td>6</td>\n",
       "      <td>False</td>\n",
       "      <td>...</td>\n",
       "      <td>Далеко</td>\n",
       "      <td>155.0</td>\n",
       "      <td>99195.710456</td>\n",
       "      <td>другой</td>\n",
       "      <td>0.386059</td>\n",
       "      <td>0.284182</td>\n",
       "      <td>3</td>\n",
       "      <td>11</td>\n",
       "      <td>2017</td>\n",
       "      <td>19</td>\n",
       "    </tr>\n",
       "    <tr>\n",
       "      <td>7</td>\n",
       "      <td>5</td>\n",
       "      <td>7.915</td>\n",
       "      <td>71.60</td>\n",
       "      <td>2019-04-18</td>\n",
       "      <td>2</td>\n",
       "      <td>NaN</td>\n",
       "      <td>24.0</td>\n",
       "      <td>40.658769</td>\n",
       "      <td>22</td>\n",
       "      <td>False</td>\n",
       "      <td>...</td>\n",
       "      <td>Далеко</td>\n",
       "      <td>NaN</td>\n",
       "      <td>110544.692737</td>\n",
       "      <td>другой</td>\n",
       "      <td>0.263966</td>\n",
       "      <td>0.567860</td>\n",
       "      <td>3</td>\n",
       "      <td>4</td>\n",
       "      <td>2019</td>\n",
       "      <td>11</td>\n",
       "    </tr>\n",
       "    <tr>\n",
       "      <td>8</td>\n",
       "      <td>20</td>\n",
       "      <td>2.900</td>\n",
       "      <td>33.16</td>\n",
       "      <td>2018-05-23</td>\n",
       "      <td>1</td>\n",
       "      <td>NaN</td>\n",
       "      <td>27.0</td>\n",
       "      <td>15.430000</td>\n",
       "      <td>26</td>\n",
       "      <td>False</td>\n",
       "      <td>...</td>\n",
       "      <td>NaN</td>\n",
       "      <td>189.0</td>\n",
       "      <td>87454.764777</td>\n",
       "      <td>другой</td>\n",
       "      <td>0.265682</td>\n",
       "      <td>0.465320</td>\n",
       "      <td>2</td>\n",
       "      <td>5</td>\n",
       "      <td>2018</td>\n",
       "      <td>19</td>\n",
       "    </tr>\n",
       "    <tr>\n",
       "      <td>9</td>\n",
       "      <td>18</td>\n",
       "      <td>5.400</td>\n",
       "      <td>61.00</td>\n",
       "      <td>2017-02-26</td>\n",
       "      <td>3</td>\n",
       "      <td>2.50</td>\n",
       "      <td>9.0</td>\n",
       "      <td>43.600000</td>\n",
       "      <td>7</td>\n",
       "      <td>False</td>\n",
       "      <td>...</td>\n",
       "      <td>Далеко</td>\n",
       "      <td>289.0</td>\n",
       "      <td>88524.590164</td>\n",
       "      <td>другой</td>\n",
       "      <td>0.106557</td>\n",
       "      <td>0.714754</td>\n",
       "      <td>6</td>\n",
       "      <td>2</td>\n",
       "      <td>2017</td>\n",
       "      <td>15</td>\n",
       "    </tr>\n",
       "  </tbody>\n",
       "</table>\n",
       "<p>10 rows × 30 columns</p>\n",
       "</div>"
      ],
      "text/plain": [
       "   total_images  last_price  total_area first_day_exposition  rooms  \\\n",
       "0            20      13.000      108.00           2019-03-07      3   \n",
       "1             7       3.350       40.40           2018-12-04      1   \n",
       "2            10       5.196       56.00           2015-08-20      2   \n",
       "3             0      64.900      159.00           2015-07-24      3   \n",
       "4             2      10.000      100.00           2018-06-19      2   \n",
       "5            10       2.890       30.40           2018-09-10      1   \n",
       "6             6       3.700       37.30           2017-11-02      1   \n",
       "7             5       7.915       71.60           2019-04-18      2   \n",
       "8            20       2.900       33.16           2018-05-23      1   \n",
       "9            18       5.400       61.00           2017-02-26      3   \n",
       "\n",
       "   ceiling_height  floors_total  living_area  floor  is_apartment  ...  \\\n",
       "0            2.70          16.0    51.000000      8         False  ...   \n",
       "1             NaN          11.0    18.600000      1         False  ...   \n",
       "2             NaN           5.0    34.300000      4         False  ...   \n",
       "3             NaN          14.0    90.289724      9         False  ...   \n",
       "4            3.03          14.0    32.000000     13         False  ...   \n",
       "5             NaN          12.0    14.400000      5         False  ...   \n",
       "6             NaN          26.0    10.600000      6         False  ...   \n",
       "7             NaN          24.0    40.658769     22         False  ...   \n",
       "8             NaN          27.0    15.430000     26         False  ...   \n",
       "9            2.50           9.0    43.600000      7         False  ...   \n",
       "\n",
       "   ponds_nearest  days_exposition    price_metr2  floor_group  \\\n",
       "0            755              NaN  120370.370370       другой   \n",
       "1         Далеко             81.0   82920.792079       первый   \n",
       "2            574            558.0   92785.714286       другой   \n",
       "3            234            424.0  408176.100629       другой   \n",
       "4             48            121.0  100000.000000       другой   \n",
       "5            NaN             55.0   95065.789474       другой   \n",
       "6         Далеко            155.0   99195.710456       другой   \n",
       "7         Далеко              NaN  110544.692737       другой   \n",
       "8            NaN            189.0   87454.764777       другой   \n",
       "9         Далеко            289.0   88524.590164       другой   \n",
       "\n",
       "  kichen_total_area  living_total_area  weekday month  year city_near_km  \n",
       "0          0.231481           0.472222        3     3  2019           16  \n",
       "1          0.272277           0.460396        1    12  2018           18  \n",
       "2          0.148214           0.612500        3     8  2015           13  \n",
       "3          0.187355           0.567860        4     7  2015            6  \n",
       "4          0.410000           0.320000        1     6  2018            8  \n",
       "5          0.299342           0.473684        0     9  2018            0  \n",
       "6          0.386059           0.284182        3    11  2017           19  \n",
       "7          0.263966           0.567860        3     4  2019           11  \n",
       "8          0.265682           0.465320        2     5  2018           19  \n",
       "9          0.106557           0.714754        6     2  2017           15  \n",
       "\n",
       "[10 rows x 30 columns]"
      ]
     },
     "execution_count": 246,
     "metadata": {},
     "output_type": "execute_result"
    }
   ],
   "source": [
    "df.head(10)"
   ]
  },
  {
   "cell_type": "markdown",
   "metadata": {
    "id": "mYOLJsIveWrt"
   },
   "source": [
    "## Проведение исследовательского анализа данных "
   ]
  },
  {
   "cell_type": "code",
   "execution_count": 247,
   "metadata": {
    "colab": {
     "base_uri": "https://localhost:8080/",
     "height": 282
    },
    "executionInfo": {
     "elapsed": 3053,
     "status": "ok",
     "timestamp": 1615992696908,
     "user": {
      "displayName": "Вадим Аникин",
      "photoUrl": "",
      "userId": "00271984842377798948"
     },
     "user_tz": -180
    },
    "id": "WyjK1Ys4dX1R",
    "outputId": "61bfb1ec-d6d1-4e69-9b25-1e18e1b83d4a"
   },
   "outputs": [
    {
     "data": {
      "text/plain": [
       "Text(0, 0.5, 'Count')"
      ]
     },
     "execution_count": 247,
     "metadata": {},
     "output_type": "execute_result"
    },
    {
     "data": {
      "image/png": "[encoded data removed]",
      "text/plain": [
       "<Figure size 432x288 with 1 Axes>"
      ]
     },
     "metadata": {
      "needs_background": "light"
     },
     "output_type": "display_data"
    }
   ],
   "source": [
    "df['total_area'].hist(bins=50, range=(0, 300))\n",
    "pl.title(\"Histogram of Total_area(2014-2019)\")\n",
    "pl.xlabel(\"Total_area, m^2\")\n",
    "pl.ylabel(\"Count\")"
   ]
  },
  {
   "cell_type": "markdown",
   "metadata": {},
   "source": [
    "<div class=\"alert alert-block alert-info\">\n",
    "<b>Fixed:</b> \n",
    "Постарался добавить к каждому графику название и подписать оси.\n",
    "</div>"
   ]
  },
  {
   "cell_type": "markdown",
   "metadata": {},
   "source": [
    "<div class=\"alert alert-block alert-warning\">\n",
    "<b>Remarks:</b> \n",
    "    \n",
    "Дальше будут проекты, где тебе придется строить очень много графиков, поэтому лучше сразу их правильно строить. На данном графике у тебя должны быть подписаны оси, ось Y должна содержать еще размерность данных (шт., млн. и т.д.). Оси и заголовок должны быть на одном языке. В заголовке еще можно написать за какой период у нас данные. Поправь и другие графики в проекте.\n",
    "\n",
    "Правильное оформление графиков сильно повышает вероятность сдачи проекта с первого раза ;)\n",
    "    \n",
    "Также скину тебе сайт с подборкой крутых примеров на разных библиотеках:\n",
    "    \n",
    "https://python-graph-gallery.com/\n",
    "    \n",
    "В идеале, конечно, сразу начинать осваивать какую-нибудь хорошую либу (plotly или seaborn например)"
   ]
  },
  {
   "cell_type": "markdown",
   "metadata": {
    "id": "0dI4Y83_fayu"
   },
   "source": [
    "Гистограмма общей площади. Можно заметить, что наибольший пик наблюдается на значениях площади от 30 до 50, далее с увелечением площади уменьшается кол-во квартир."
   ]
  },
  {
   "cell_type": "code",
   "execution_count": 248,
   "metadata": {
    "colab": {
     "base_uri": "https://localhost:8080/",
     "height": 282
    },
    "executionInfo": {
     "elapsed": 3401,
     "status": "ok",
     "timestamp": 1615992697274,
     "user": {
      "displayName": "Вадим Аникин",
      "photoUrl": "",
      "userId": "00271984842377798948"
     },
     "user_tz": -180
    },
    "id": "Rxioxb3rxatp",
    "outputId": "9d0ab277-2ac7-4312-a8a7-3e5d01b0d36b"
   },
   "outputs": [
    {
     "data": {
      "text/plain": [
       "Text(0, 0.5, 'Count')"
      ]
     },
     "execution_count": 248,
     "metadata": {},
     "output_type": "execute_result"
    },
    {
     "data": {
      "image/png": "[encoded data removed]",
      "text/plain": [
       "<Figure size 432x288 with 1 Axes>"
      ]
     },
     "metadata": {
      "needs_background": "light"
     },
     "output_type": "display_data"
    }
   ],
   "source": [
    "df['last_price'].hist(bins=100, range=(0, 80))\n",
    "pl.title(\"Histogram of Last_price(2014-2019)\")\n",
    "pl.xlabel(\"Last_price, mln\")\n",
    "pl.ylabel(\"Count\")"
   ]
  },
  {
   "cell_type": "markdown",
   "metadata": {
    "id": "CDCdrFlogBWh"
   },
   "source": [
    "Гистограмма стоимости квартир. Наблюдается большой пик на значениях от 3 до 6 млн. Большинство квартир стоит меньше 10 млн, значения больше 20 встречаются крайне редко но они есть. "
   ]
  },
  {
   "cell_type": "code",
   "execution_count": 249,
   "metadata": {
    "colab": {
     "base_uri": "https://localhost:8080/",
     "height": 299
    },
    "executionInfo": {
     "elapsed": 3845,
     "status": "ok",
     "timestamp": 1615992697735,
     "user": {
      "displayName": "Вадим Аникин",
      "photoUrl": "",
      "userId": "00271984842377798948"
     },
     "user_tz": -180
    },
    "id": "ly88gt_kFbbp",
    "outputId": "aa8e9e89-dfd6-45b2-d1c6-68f769a135d7"
   },
   "outputs": [
    {
     "data": {
      "text/plain": [
       "Text(0, 0.5, 'Count')"
      ]
     },
     "execution_count": 249,
     "metadata": {},
     "output_type": "execute_result"
    },
    {
     "data": {
      "image/png": "[encoded data removed]",
      "text/plain": [
       "<Figure size 432x288 with 1 Axes>"
      ]
     },
     "metadata": {
      "needs_background": "light"
     },
     "output_type": "display_data"
    }
   ],
   "source": [
    "df.groupby('rooms')['rooms'].count().plot(kind='bar', ylim=0, grid=True)\n",
    "pl.title(\"Histogram of Rooms(2014-2019)\")\n",
    "pl.xlabel(\"Rooms\")\n",
    "pl.ylabel(\"Count\")"
   ]
  },
  {
   "cell_type": "markdown",
   "metadata": {
    "id": "8oUK-WcCgmN9"
   },
   "source": [
    "Гистограмма количества комнат. Наиболее встречаемые варианты с кол-вом комнат от 1 до 3, больше комнат встречается гораздно меньше."
   ]
  },
  {
   "cell_type": "code",
   "execution_count": 250,
   "metadata": {
    "colab": {
     "base_uri": "https://localhost:8080/",
     "height": 282
    },
    "executionInfo": {
     "elapsed": 3829,
     "status": "ok",
     "timestamp": 1615992697736,
     "user": {
      "displayName": "Вадим Аникин",
      "photoUrl": "",
      "userId": "00271984842377798948"
     },
     "user_tz": -180
    },
    "id": "BIXUDTvfGYQc",
    "outputId": "2bec5de7-a573-482b-aebc-736b5332098f"
   },
   "outputs": [
    {
     "data": {
      "text/plain": [
       "Text(0, 0.5, 'Count')"
      ]
     },
     "execution_count": 250,
     "metadata": {},
     "output_type": "execute_result"
    },
    {
     "data": {
      "image/png": "[encoded data removed]",
      "text/plain": [
       "<Figure size 432x288 with 1 Axes>"
      ]
     },
     "metadata": {
      "needs_background": "light"
     },
     "output_type": "display_data"
    }
   ],
   "source": [
    "df['ceiling_height'].hist(bins=30, range=(0, 5))\n",
    "pl.title(\"Histogram of Ceiling_height(2014-2019)\")\n",
    "pl.xlabel(\"Ceiling_height, m\")\n",
    "pl.ylabel(\"Count\")"
   ]
  },
  {
   "cell_type": "markdown",
   "metadata": {
    "id": "vrqT7JdZg9R8"
   },
   "source": [
    "Гистограмма высоты потолка, самый большой пик на значениях примерно от 2.5 м до 2.8 м, это и понятно у нас почти 75% значений имеет высоту потолков 2.8, также наблюдается небольшой пик после 3 метров до 3.4. Значения в не этих диапозонов встречаются крайне редеко."
   ]
  },
  {
   "cell_type": "code",
   "execution_count": 251,
   "metadata": {
    "colab": {
     "base_uri": "https://localhost:8080/",
     "height": 282
    },
    "executionInfo": {
     "elapsed": 4261,
     "status": "ok",
     "timestamp": 1615992698185,
     "user": {
      "displayName": "Вадим Аникин",
      "photoUrl": "",
      "userId": "00271984842377798948"
     },
     "user_tz": -180
    },
    "id": "Vx9NBLSvHVMo",
    "outputId": "a739058b-d57a-41ff-a63a-c8e27dc3013d"
   },
   "outputs": [
    {
     "data": {
      "text/plain": [
       "Text(0, 0.5, 'Count')"
      ]
     },
     "execution_count": 251,
     "metadata": {},
     "output_type": "execute_result"
    },
    {
     "data": {
      "image/png": "[encoded data removed]",
      "text/plain": [
       "<Figure size 432x288 with 1 Axes>"
      ]
     },
     "metadata": {
      "needs_background": "light"
     },
     "output_type": "display_data"
    }
   ],
   "source": [
    "df['days_exposition'].hist(bins=100, range=(0, 1500))\n",
    "pl.title(\"Histogram of Days_exposition(2014-2019)\")\n",
    "pl.xlabel(\"Days_exposition, days\")\n",
    "pl.ylabel(\"Count\")"
   ]
  },
  {
   "cell_type": "markdown",
   "metadata": {
    "id": "zxiu0W2Zhijs"
   },
   "source": [
    "Гистограмма времени продажи. Имеет распределение Пуассона. Большинство квартир продается в течение полугода. Но встречаются и довольно долгие продажи(больше 2 лет), также относительно много продается от полугода до 2 лет."
   ]
  },
  {
   "cell_type": "code",
   "execution_count": 252,
   "metadata": {
    "colab": {
     "base_uri": "https://localhost:8080/"
    },
    "executionInfo": {
     "elapsed": 4248,
     "status": "ok",
     "timestamp": 1615992698188,
     "user": {
      "displayName": "Вадим Аникин",
      "photoUrl": "",
      "userId": "00271984842377798948"
     },
     "user_tz": -180
    },
    "id": "ryJpmxxrH8sW",
    "outputId": "7247da15-7e7a-4ff4-823a-69c86fb50f3d"
   },
   "outputs": [
    {
     "data": {
      "text/plain": [
       "count     20518.000000\n",
       "mean        180.888634\n",
       "median       95.000000\n",
       "Name: days_exposition, dtype: float64"
      ]
     },
     "execution_count": 252,
     "metadata": {},
     "output_type": "execute_result"
    }
   ],
   "source": [
    "df['days_exposition'].agg(['count','mean','median'])"
   ]
  },
  {
   "cell_type": "markdown",
   "metadata": {
    "id": "cSwI1zNXinHa"
   },
   "source": [
    "В среднем квартиры продаются за 180 дней, но вот если посмотреть на медиану, то получается, что как минимум половина продается быстрее 100 дней. Это значит у нас очень большой хвост долгих продаж "
   ]
  },
  {
   "cell_type": "code",
   "execution_count": 253,
   "metadata": {
    "executionInfo": {
     "elapsed": 4239,
     "status": "ok",
     "timestamp": 1615992698190,
     "user": {
      "displayName": "Вадим Аникин",
      "photoUrl": "",
      "userId": "00271984842377798948"
     },
     "user_tz": -180
    },
    "id": "wezPDpq7IYP2"
   },
   "outputs": [],
   "source": [
    "df_new=df.query('2.5<=ceiling_height<=5 and total_area<=200 and 0<rooms<=8 and days_exposition<1000 and cityCenters_nearest>0 and last_price>1 and city_near_km>0')"
   ]
  },
  {
   "cell_type": "markdown",
   "metadata": {
    "id": "Celkit23i6zk"
   },
   "source": [
    "Создадим новый датафрейм, в котором уберем редкие значения. Например высота потолка будет от 2.5 до 5 м, общая площадь будет до 200, кол-во комнат до 8, а дней на продажу до 1000. Также отбросим те, что стоят меньше миллиона."
   ]
  },
  {
   "cell_type": "markdown",
   "metadata": {
    "id": "3Llc89UpjVXo"
   },
   "source": [
    "Посмотрим на зависимость цены от разных факторов"
   ]
  },
  {
   "cell_type": "code",
   "execution_count": 254,
   "metadata": {
    "colab": {
     "base_uri": "https://localhost:8080/"
    },
    "executionInfo": {
     "elapsed": 4229,
     "status": "ok",
     "timestamp": 1615992698191,
     "user": {
      "displayName": "Вадим Аникин",
      "photoUrl": "",
      "userId": "00271984842377798948"
     },
     "user_tz": -180
    },
    "id": "_At0uTtsSEkk",
    "outputId": "20192738-abcc-4a17-d154-d880005ca2fd"
   },
   "outputs": [
    {
     "data": {
      "text/plain": [
       "0.3848601827975874"
      ]
     },
     "execution_count": 254,
     "metadata": {},
     "output_type": "execute_result"
    }
   ],
   "source": [
    "df_new['last_price'].corr(df_new['rooms'])"
   ]
  },
  {
   "cell_type": "code",
   "execution_count": 255,
   "metadata": {
    "colab": {
     "base_uri": "https://localhost:8080/",
     "height": 569
    },
    "executionInfo": {
     "elapsed": 4617,
     "status": "ok",
     "timestamp": 1615992698594,
     "user": {
      "displayName": "Вадим Аникин",
      "photoUrl": "",
      "userId": "00271984842377798948"
     },
     "user_tz": -180
    },
    "id": "8nSCIfDYIadq",
    "outputId": "89f56df4-b4d1-4e23-e4df-9cfaae6c8461"
   },
   "outputs": [
    {
     "data": {
      "text/plain": [
       "Text(0, 0.5, 'Rooms')"
      ]
     },
     "execution_count": 255,
     "metadata": {},
     "output_type": "execute_result"
    },
    {
     "data": {
      "image/png": "[encoded data removed]",
      "text/plain": [
       "<Figure size 648x648 with 1 Axes>"
      ]
     },
     "metadata": {
      "needs_background": "light"
     },
     "output_type": "display_data"
    }
   ],
   "source": [
    "df_new.plot(x='last_price', y='rooms',xlim=(0, 200), kind='scatter', alpha=0.2, figsize=(9, 9))\n",
    "pl.title(\"Dependence of the last_price on rooms(2014-2019)\")\n",
    "pl.xlabel(\"Last_price, mln\")\n",
    "pl.ylabel(\"Rooms\")"
   ]
  },
  {
   "cell_type": "markdown",
   "metadata": {
    "id": "7AQgf35kjlqk"
   },
   "source": [
    "Зависимость есть, но она очень не значительная, квартиры с 7 и 8 комнатами встречаются от 20 млн. квартиры более чем за 75 млн встречаются как 1-комнатные так и 6-комнатные."
   ]
  },
  {
   "cell_type": "code",
   "execution_count": 256,
   "metadata": {
    "colab": {
     "base_uri": "https://localhost:8080/"
    },
    "executionInfo": {
     "elapsed": 4602,
     "status": "ok",
     "timestamp": 1615992698595,
     "user": {
      "displayName": "Вадим Аникин",
      "photoUrl": "",
      "userId": "00271984842377798948"
     },
     "user_tz": -180
    },
    "id": "iNsLIWk_OAjR",
    "outputId": "458a367b-aecc-4869-ebc7-968da9b42a07"
   },
   "outputs": [
    {
     "data": {
      "text/plain": [
       "0.6419357816277675"
      ]
     },
     "execution_count": 256,
     "metadata": {},
     "output_type": "execute_result"
    }
   ],
   "source": [
    "df_new['last_price'].corr(df_new['total_area'])"
   ]
  },
  {
   "cell_type": "code",
   "execution_count": 257,
   "metadata": {
    "colab": {
     "base_uri": "https://localhost:8080/",
     "height": 569
    },
    "executionInfo": {
     "elapsed": 5520,
     "status": "ok",
     "timestamp": 1615992699529,
     "user": {
      "displayName": "Вадим Аникин",
      "photoUrl": "",
      "userId": "00271984842377798948"
     },
     "user_tz": -180
    },
    "id": "dXJKBnGTUEyC",
    "outputId": "c21a69c9-fda8-46b8-82f1-80ac17313f72"
   },
   "outputs": [
    {
     "data": {
      "text/plain": [
       "Text(0, 0.5, 'Total_area, m^2')"
      ]
     },
     "execution_count": 257,
     "metadata": {},
     "output_type": "execute_result"
    },
    {
     "data": {
      "image/png": "[encoded data removed]",
      "text/plain": [
       "<Figure size 648x648 with 1 Axes>"
      ]
     },
     "metadata": {
      "needs_background": "light"
     },
     "output_type": "display_data"
    }
   ],
   "source": [
    "df_new.plot(x='last_price', y='total_area', xlim=(0, 200), kind='scatter', alpha=0.03, figsize=(9, 9))\n",
    "pl.title(\"Dependence of the last_price on the total area(2014-2019)\")\n",
    "pl.xlabel(\"Last_price, mln\")\n",
    "pl.ylabel(\"Total_area, m^2\")"
   ]
  },
  {
   "cell_type": "markdown",
   "metadata": {
    "id": "nQhM6IoOkwwr"
   },
   "source": [
    "Зависимость от общей площади есть, она не такая сильная как могла бы быть, но она есть. По графику можно увдеить, что большинство квартир с площадью до 100 м стоит не более 15 млн, но дальше сгусток точек начинает уходить выше и правее, а это значит, что чем больше площадь тем больше стоимость."
   ]
  },
  {
   "cell_type": "code",
   "execution_count": 258,
   "metadata": {
    "colab": {
     "base_uri": "https://localhost:8080/"
    },
    "executionInfo": {
     "elapsed": 5507,
     "status": "ok",
     "timestamp": 1615992699531,
     "user": {
      "displayName": "Вадим Аникин",
      "photoUrl": "",
      "userId": "00271984842377798948"
     },
     "user_tz": -180
    },
    "id": "eBFyzbCwUIPW",
    "outputId": "6af7f33e-d1e9-46c8-a215-b4082b6e590b"
   },
   "outputs": [
    {
     "data": {
      "text/plain": [
       "-0.21059072225105155"
      ]
     },
     "execution_count": 258,
     "metadata": {},
     "output_type": "execute_result"
    }
   ],
   "source": [
    "df_new['last_price'].corr(df_new['cityCenters_nearest'])"
   ]
  },
  {
   "cell_type": "code",
   "execution_count": 259,
   "metadata": {
    "colab": {
     "base_uri": "https://localhost:8080/",
     "height": 569
    },
    "executionInfo": {
     "elapsed": 5492,
     "status": "ok",
     "timestamp": 1615992699532,
     "user": {
      "displayName": "Вадим Аникин",
      "photoUrl": "",
      "userId": "00271984842377798948"
     },
     "user_tz": -180
    },
    "id": "TwjYy7BKUVxw",
    "outputId": "0c67abc8-620a-47de-93e9-d0c7dd2d7430"
   },
   "outputs": [
    {
     "data": {
      "text/plain": [
       "Text(0, 0.5, 'CityCenters_nearest, m')"
      ]
     },
     "execution_count": 259,
     "metadata": {},
     "output_type": "execute_result"
    },
    {
     "data": {
      "image/png": "[encoded data removed]",
      "text/plain": [
       "<Figure size 648x648 with 1 Axes>"
      ]
     },
     "metadata": {
      "needs_background": "light"
     },
     "output_type": "display_data"
    }
   ],
   "source": [
    "df_new.plot(x='last_price', y='cityCenters_nearest',xlim=(0, 200), kind='scatter', alpha=0.3, figsize=(9, 9))\n",
    "pl.title(\"Dependence of the last_price on the cityCenters_nearest(2014-2019)\")\n",
    "pl.xlabel(\"Last_price, mln\")\n",
    "pl.ylabel(\"CityCenters_nearest, m\")"
   ]
  },
  {
   "cell_type": "markdown",
   "metadata": {
    "id": "fWhYb3j7l04y"
   },
   "source": [
    "Из этого графика можно сделать выводы, что после 20 км стоимость жилья находится в пределах 15 млн, больше 40 редко превышает 10. А вот до 10 км от центра встречаются такие которые стоят больше 50 и даже больще 100, можно сказать, что в пределах города стоимость квартир бывает высокой. А значит есть зависимость хоть и очень небольшая."
   ]
  },
  {
   "cell_type": "code",
   "execution_count": 260,
   "metadata": {
    "colab": {
     "base_uri": "https://localhost:8080/",
     "height": 173
    },
    "executionInfo": {
     "elapsed": 5477,
     "status": "ok",
     "timestamp": 1615992699534,
     "user": {
      "displayName": "Вадим Аникин",
      "photoUrl": "",
      "userId": "00271984842377798948"
     },
     "user_tz": -180
    },
    "id": "8X_EggnEBwrB",
    "outputId": "00ce3713-feae-4352-c096-9757a98f718a"
   },
   "outputs": [
    {
     "data": {
      "text/html": [
       "<div>\n",
       "<style scoped>\n",
       "    .dataframe tbody tr th:only-of-type {\n",
       "        vertical-align: middle;\n",
       "    }\n",
       "\n",
       "    .dataframe tbody tr th {\n",
       "        vertical-align: top;\n",
       "    }\n",
       "\n",
       "    .dataframe thead th {\n",
       "        text-align: right;\n",
       "    }\n",
       "</style>\n",
       "<table border=\"1\" class=\"dataframe\">\n",
       "  <thead>\n",
       "    <tr style=\"text-align: right;\">\n",
       "      <th></th>\n",
       "      <th>count</th>\n",
       "      <th>mean</th>\n",
       "      <th>median</th>\n",
       "    </tr>\n",
       "    <tr>\n",
       "      <th>floor_group</th>\n",
       "      <th></th>\n",
       "      <th></th>\n",
       "      <th></th>\n",
       "    </tr>\n",
       "  </thead>\n",
       "  <tbody>\n",
       "    <tr>\n",
       "      <td>другой</td>\n",
       "      <td>7686</td>\n",
       "      <td>6.617262</td>\n",
       "      <td>5.10</td>\n",
       "    </tr>\n",
       "    <tr>\n",
       "      <td>первый</td>\n",
       "      <td>1132</td>\n",
       "      <td>5.129325</td>\n",
       "      <td>4.35</td>\n",
       "    </tr>\n",
       "    <tr>\n",
       "      <td>последний</td>\n",
       "      <td>1307</td>\n",
       "      <td>6.578283</td>\n",
       "      <td>4.90</td>\n",
       "    </tr>\n",
       "  </tbody>\n",
       "</table>\n",
       "</div>"
      ],
      "text/plain": [
       "             count      mean  median\n",
       "floor_group                         \n",
       "другой        7686  6.617262    5.10\n",
       "первый        1132  5.129325    4.35\n",
       "последний     1307  6.578283    4.90"
      ]
     },
     "execution_count": 260,
     "metadata": {},
     "output_type": "execute_result"
    }
   ],
   "source": [
    "df_new.pivot_table(index='floor_group', values='last_price', aggfunc=('count', 'mean', 'median'))"
   ]
  },
  {
   "cell_type": "markdown",
   "metadata": {
    "id": "7MI2zBd4nH0p"
   },
   "source": [
    "Зависимость цены от этажа есть, в среднем квартиры на первом этаже стоят меньше на 1 млн, если смотреть по медиане разница не такая большая, но она есть. Разница между последним и другими этажами не существена, но последний этаж все-таки чуть дешевле."
   ]
  },
  {
   "cell_type": "code",
   "execution_count": 261,
   "metadata": {
    "colab": {
     "base_uri": "https://localhost:8080/",
     "height": 297
    },
    "executionInfo": {
     "elapsed": 5462,
     "status": "ok",
     "timestamp": 1615992699536,
     "user": {
      "displayName": "Вадим Аникин",
      "photoUrl": "",
      "userId": "00271984842377798948"
     },
     "user_tz": -180
    },
    "id": "wU9dg-daFFxn",
    "outputId": "5009a737-71c8-487e-9407-aa3ce59d8e48"
   },
   "outputs": [
    {
     "data": {
      "text/html": [
       "<div>\n",
       "<style scoped>\n",
       "    .dataframe tbody tr th:only-of-type {\n",
       "        vertical-align: middle;\n",
       "    }\n",
       "\n",
       "    .dataframe tbody tr th {\n",
       "        vertical-align: top;\n",
       "    }\n",
       "\n",
       "    .dataframe thead th {\n",
       "        text-align: right;\n",
       "    }\n",
       "</style>\n",
       "<table border=\"1\" class=\"dataframe\">\n",
       "  <thead>\n",
       "    <tr style=\"text-align: right;\">\n",
       "      <th></th>\n",
       "      <th>count</th>\n",
       "      <th>mean</th>\n",
       "      <th>median</th>\n",
       "    </tr>\n",
       "    <tr>\n",
       "      <th>weekday</th>\n",
       "      <th></th>\n",
       "      <th></th>\n",
       "      <th></th>\n",
       "    </tr>\n",
       "  </thead>\n",
       "  <tbody>\n",
       "    <tr>\n",
       "      <td>0</td>\n",
       "      <td>1579</td>\n",
       "      <td>6.320350</td>\n",
       "      <td>5.00</td>\n",
       "    </tr>\n",
       "    <tr>\n",
       "      <td>1</td>\n",
       "      <td>1874</td>\n",
       "      <td>6.600496</td>\n",
       "      <td>5.10</td>\n",
       "    </tr>\n",
       "    <tr>\n",
       "      <td>2</td>\n",
       "      <td>1667</td>\n",
       "      <td>6.582054</td>\n",
       "      <td>4.99</td>\n",
       "    </tr>\n",
       "    <tr>\n",
       "      <td>3</td>\n",
       "      <td>1887</td>\n",
       "      <td>6.629939</td>\n",
       "      <td>5.00</td>\n",
       "    </tr>\n",
       "    <tr>\n",
       "      <td>4</td>\n",
       "      <td>1633</td>\n",
       "      <td>6.272535</td>\n",
       "      <td>4.90</td>\n",
       "    </tr>\n",
       "    <tr>\n",
       "      <td>5</td>\n",
       "      <td>807</td>\n",
       "      <td>6.108047</td>\n",
       "      <td>4.95</td>\n",
       "    </tr>\n",
       "    <tr>\n",
       "      <td>6</td>\n",
       "      <td>678</td>\n",
       "      <td>6.283332</td>\n",
       "      <td>4.85</td>\n",
       "    </tr>\n",
       "  </tbody>\n",
       "</table>\n",
       "</div>"
      ],
      "text/plain": [
       "         count      mean  median\n",
       "weekday                         \n",
       "0         1579  6.320350    5.00\n",
       "1         1874  6.600496    5.10\n",
       "2         1667  6.582054    4.99\n",
       "3         1887  6.629939    5.00\n",
       "4         1633  6.272535    4.90\n",
       "5          807  6.108047    4.95\n",
       "6          678  6.283332    4.85"
      ]
     },
     "execution_count": 261,
     "metadata": {},
     "output_type": "execute_result"
    }
   ],
   "source": [
    "df_new.pivot_table(index='weekday', values='last_price', aggfunc=('count', 'mean', 'median'))"
   ]
  },
  {
   "cell_type": "code",
   "execution_count": 262,
   "metadata": {
    "colab": {
     "base_uri": "https://localhost:8080/",
     "height": 452
    },
    "executionInfo": {
     "elapsed": 5448,
     "status": "ok",
     "timestamp": 1615992699539,
     "user": {
      "displayName": "Вадим Аникин",
      "photoUrl": "",
      "userId": "00271984842377798948"
     },
     "user_tz": -180
    },
    "id": "4pV4UvAlFM3Z",
    "outputId": "1d25906e-57f6-41d7-809a-f9a3a26b4771"
   },
   "outputs": [
    {
     "data": {
      "text/html": [
       "<div>\n",
       "<style scoped>\n",
       "    .dataframe tbody tr th:only-of-type {\n",
       "        vertical-align: middle;\n",
       "    }\n",
       "\n",
       "    .dataframe tbody tr th {\n",
       "        vertical-align: top;\n",
       "    }\n",
       "\n",
       "    .dataframe thead th {\n",
       "        text-align: right;\n",
       "    }\n",
       "</style>\n",
       "<table border=\"1\" class=\"dataframe\">\n",
       "  <thead>\n",
       "    <tr style=\"text-align: right;\">\n",
       "      <th></th>\n",
       "      <th>count</th>\n",
       "      <th>mean</th>\n",
       "      <th>median</th>\n",
       "    </tr>\n",
       "    <tr>\n",
       "      <th>month</th>\n",
       "      <th></th>\n",
       "      <th></th>\n",
       "      <th></th>\n",
       "    </tr>\n",
       "  </thead>\n",
       "  <tbody>\n",
       "    <tr>\n",
       "      <td>1</td>\n",
       "      <td>645</td>\n",
       "      <td>6.539601</td>\n",
       "      <td>5.00000</td>\n",
       "    </tr>\n",
       "    <tr>\n",
       "      <td>2</td>\n",
       "      <td>1190</td>\n",
       "      <td>6.526558</td>\n",
       "      <td>5.00000</td>\n",
       "    </tr>\n",
       "    <tr>\n",
       "      <td>3</td>\n",
       "      <td>1012</td>\n",
       "      <td>6.071091</td>\n",
       "      <td>4.75000</td>\n",
       "    </tr>\n",
       "    <tr>\n",
       "      <td>4</td>\n",
       "      <td>725</td>\n",
       "      <td>6.761463</td>\n",
       "      <td>4.99900</td>\n",
       "    </tr>\n",
       "    <tr>\n",
       "      <td>5</td>\n",
       "      <td>513</td>\n",
       "      <td>6.674071</td>\n",
       "      <td>5.00000</td>\n",
       "    </tr>\n",
       "    <tr>\n",
       "      <td>6</td>\n",
       "      <td>707</td>\n",
       "      <td>6.175174</td>\n",
       "      <td>5.00000</td>\n",
       "    </tr>\n",
       "    <tr>\n",
       "      <td>7</td>\n",
       "      <td>820</td>\n",
       "      <td>6.626133</td>\n",
       "      <td>5.05336</td>\n",
       "    </tr>\n",
       "    <tr>\n",
       "      <td>8</td>\n",
       "      <td>850</td>\n",
       "      <td>6.293123</td>\n",
       "      <td>5.00000</td>\n",
       "    </tr>\n",
       "    <tr>\n",
       "      <td>9</td>\n",
       "      <td>945</td>\n",
       "      <td>6.651993</td>\n",
       "      <td>5.10000</td>\n",
       "    </tr>\n",
       "    <tr>\n",
       "      <td>10</td>\n",
       "      <td>1004</td>\n",
       "      <td>6.241191</td>\n",
       "      <td>4.90000</td>\n",
       "    </tr>\n",
       "    <tr>\n",
       "      <td>11</td>\n",
       "      <td>1063</td>\n",
       "      <td>6.482021</td>\n",
       "      <td>5.00000</td>\n",
       "    </tr>\n",
       "    <tr>\n",
       "      <td>12</td>\n",
       "      <td>651</td>\n",
       "      <td>6.480686</td>\n",
       "      <td>5.10000</td>\n",
       "    </tr>\n",
       "  </tbody>\n",
       "</table>\n",
       "</div>"
      ],
      "text/plain": [
       "       count      mean   median\n",
       "month                          \n",
       "1        645  6.539601  5.00000\n",
       "2       1190  6.526558  5.00000\n",
       "3       1012  6.071091  4.75000\n",
       "4        725  6.761463  4.99900\n",
       "5        513  6.674071  5.00000\n",
       "6        707  6.175174  5.00000\n",
       "7        820  6.626133  5.05336\n",
       "8        850  6.293123  5.00000\n",
       "9        945  6.651993  5.10000\n",
       "10      1004  6.241191  4.90000\n",
       "11      1063  6.482021  5.00000\n",
       "12       651  6.480686  5.10000"
      ]
     },
     "execution_count": 262,
     "metadata": {},
     "output_type": "execute_result"
    }
   ],
   "source": [
    "df_new.pivot_table(index='month', values='last_price', aggfunc=('count', 'mean', 'median'))"
   ]
  },
  {
   "cell_type": "markdown",
   "metadata": {
    "id": "1XufEHUxn1_X"
   },
   "source": [
    "Можно сказать, что зависимость цены от дня или месяца размещения нет. Во все дни или во все месяцы цена +- одинаковая."
   ]
  },
  {
   "cell_type": "code",
   "execution_count": 263,
   "metadata": {
    "colab": {
     "base_uri": "https://localhost:8080/",
     "height": 266
    },
    "executionInfo": {
     "elapsed": 5433,
     "status": "ok",
     "timestamp": 1615992699541,
     "user": {
      "displayName": "Вадим Аникин",
      "photoUrl": "",
      "userId": "00271984842377798948"
     },
     "user_tz": -180
    },
    "id": "M7rPR6J-FzzI",
    "outputId": "bc266e6a-24e4-43fd-ef25-d58bbc4343e0"
   },
   "outputs": [
    {
     "data": {
      "text/html": [
       "<div>\n",
       "<style scoped>\n",
       "    .dataframe tbody tr th:only-of-type {\n",
       "        vertical-align: middle;\n",
       "    }\n",
       "\n",
       "    .dataframe tbody tr th {\n",
       "        vertical-align: top;\n",
       "    }\n",
       "\n",
       "    .dataframe thead th {\n",
       "        text-align: right;\n",
       "    }\n",
       "</style>\n",
       "<table border=\"1\" class=\"dataframe\">\n",
       "  <thead>\n",
       "    <tr style=\"text-align: right;\">\n",
       "      <th></th>\n",
       "      <th>count</th>\n",
       "      <th>mean</th>\n",
       "      <th>median</th>\n",
       "    </tr>\n",
       "    <tr>\n",
       "      <th>year</th>\n",
       "      <th></th>\n",
       "      <th></th>\n",
       "      <th></th>\n",
       "    </tr>\n",
       "  </thead>\n",
       "  <tbody>\n",
       "    <tr>\n",
       "      <td>2014</td>\n",
       "      <td>33</td>\n",
       "      <td>9.485052</td>\n",
       "      <td>7.50</td>\n",
       "    </tr>\n",
       "    <tr>\n",
       "      <td>2015</td>\n",
       "      <td>354</td>\n",
       "      <td>7.347667</td>\n",
       "      <td>5.55</td>\n",
       "    </tr>\n",
       "    <tr>\n",
       "      <td>2016</td>\n",
       "      <td>1110</td>\n",
       "      <td>6.893804</td>\n",
       "      <td>5.15</td>\n",
       "    </tr>\n",
       "    <tr>\n",
       "      <td>2017</td>\n",
       "      <td>3629</td>\n",
       "      <td>6.667754</td>\n",
       "      <td>4.96</td>\n",
       "    </tr>\n",
       "    <tr>\n",
       "      <td>2018</td>\n",
       "      <td>4280</td>\n",
       "      <td>6.080652</td>\n",
       "      <td>4.90</td>\n",
       "    </tr>\n",
       "    <tr>\n",
       "      <td>2019</td>\n",
       "      <td>719</td>\n",
       "      <td>6.225053</td>\n",
       "      <td>5.10</td>\n",
       "    </tr>\n",
       "  </tbody>\n",
       "</table>\n",
       "</div>"
      ],
      "text/plain": [
       "      count      mean  median\n",
       "year                         \n",
       "2014     33  9.485052    7.50\n",
       "2015    354  7.347667    5.55\n",
       "2016   1110  6.893804    5.15\n",
       "2017   3629  6.667754    4.96\n",
       "2018   4280  6.080652    4.90\n",
       "2019    719  6.225053    5.10"
      ]
     },
     "execution_count": 263,
     "metadata": {},
     "output_type": "execute_result"
    }
   ],
   "source": [
    "df_new.pivot_table(index='year', values='last_price', aggfunc=('count', 'mean', 'median'))"
   ]
  },
  {
   "cell_type": "markdown",
   "metadata": {},
   "source": [
    "<div class=\"alert alert-block alert-success\">\n",
    "<b>Success:</b> очень хорошо, что смотришь на объем категорий!"
   ]
  },
  {
   "cell_type": "code",
   "execution_count": 264,
   "metadata": {
    "executionInfo": {
     "elapsed": 6021,
     "status": "ok",
     "timestamp": 1615992700142,
     "user": {
      "displayName": "Вадим Аникин",
      "photoUrl": "",
      "userId": "00271984842377798948"
     },
     "user_tz": -180
    },
    "id": "g1goQxBSF31z"
   },
   "outputs": [],
   "source": [
    "df_locality=df_new.pivot_table(index='locality_name', values='price_metr2', aggfunc=('count', 'mean', 'median')).sort_values(by = 'count', ascending=False)"
   ]
  },
  {
   "cell_type": "markdown",
   "metadata": {
    "id": "dV0ZSoHkoCq3"
   },
   "source": [
    "А вот зависимость цены от года рзамещения есть. Можно заменить, что сгодами квартиры в среднем и по медиане стали стоит дешевле. Возможно это связано с тем, что в последний годы строится много бюджетного жилья. Но еще это может быть связано с кол-вом объявлений. В 2014 году было всего 33 объявления, а вот в 2017 уже более 4 тысяч."
   ]
  },
  {
   "cell_type": "code",
   "execution_count": 265,
   "metadata": {
    "colab": {
     "base_uri": "https://localhost:8080/",
     "height": 390
    },
    "executionInfo": {
     "elapsed": 6010,
     "status": "ok",
     "timestamp": 1615992700143,
     "user": {
      "displayName": "Вадим Аникин",
      "photoUrl": "",
      "userId": "00271984842377798948"
     },
     "user_tz": -180
    },
    "id": "HJUrGlxsGQ2G",
    "outputId": "ec28d329-c26a-4d08-8e04-ab6a09dc893b"
   },
   "outputs": [
    {
     "data": {
      "text/html": [
       "<div>\n",
       "<style scoped>\n",
       "    .dataframe tbody tr th:only-of-type {\n",
       "        vertical-align: middle;\n",
       "    }\n",
       "\n",
       "    .dataframe tbody tr th {\n",
       "        vertical-align: top;\n",
       "    }\n",
       "\n",
       "    .dataframe thead th {\n",
       "        text-align: right;\n",
       "    }\n",
       "</style>\n",
       "<table border=\"1\" class=\"dataframe\">\n",
       "  <thead>\n",
       "    <tr style=\"text-align: right;\">\n",
       "      <th></th>\n",
       "      <th>count</th>\n",
       "      <th>mean</th>\n",
       "      <th>median</th>\n",
       "    </tr>\n",
       "    <tr>\n",
       "      <th>locality_name</th>\n",
       "      <th></th>\n",
       "      <th></th>\n",
       "      <th></th>\n",
       "    </tr>\n",
       "  </thead>\n",
       "  <tbody>\n",
       "    <tr>\n",
       "      <td>Санкт-Петербург</td>\n",
       "      <td>8029</td>\n",
       "      <td>111211.382706</td>\n",
       "      <td>103125.000000</td>\n",
       "    </tr>\n",
       "    <tr>\n",
       "      <td>посёлок Мурино</td>\n",
       "      <td>276</td>\n",
       "      <td>83225.584037</td>\n",
       "      <td>81355.197573</td>\n",
       "    </tr>\n",
       "    <tr>\n",
       "      <td>Всеволожск</td>\n",
       "      <td>217</td>\n",
       "      <td>66506.043808</td>\n",
       "      <td>65454.545455</td>\n",
       "    </tr>\n",
       "    <tr>\n",
       "      <td>посёлок Шушары</td>\n",
       "      <td>185</td>\n",
       "      <td>78170.478752</td>\n",
       "      <td>77173.913043</td>\n",
       "    </tr>\n",
       "    <tr>\n",
       "      <td>Пушкин</td>\n",
       "      <td>181</td>\n",
       "      <td>102024.388653</td>\n",
       "      <td>97451.274363</td>\n",
       "    </tr>\n",
       "    <tr>\n",
       "      <td>Колпино</td>\n",
       "      <td>177</td>\n",
       "      <td>75053.173023</td>\n",
       "      <td>73333.333333</td>\n",
       "    </tr>\n",
       "    <tr>\n",
       "      <td>Кудрово</td>\n",
       "      <td>167</td>\n",
       "      <td>94501.316131</td>\n",
       "      <td>95052.083333</td>\n",
       "    </tr>\n",
       "    <tr>\n",
       "      <td>Гатчина</td>\n",
       "      <td>125</td>\n",
       "      <td>69179.960817</td>\n",
       "      <td>68604.651163</td>\n",
       "    </tr>\n",
       "    <tr>\n",
       "      <td>Петергоф</td>\n",
       "      <td>122</td>\n",
       "      <td>83343.808559</td>\n",
       "      <td>80751.623549</td>\n",
       "    </tr>\n",
       "    <tr>\n",
       "      <td>посёлок Парголово</td>\n",
       "      <td>118</td>\n",
       "      <td>89542.331750</td>\n",
       "      <td>90443.077847</td>\n",
       "    </tr>\n",
       "  </tbody>\n",
       "</table>\n",
       "</div>"
      ],
      "text/plain": [
       "                   count           mean         median\n",
       "locality_name                                         \n",
       "Санкт-Петербург     8029  111211.382706  103125.000000\n",
       "посёлок Мурино       276   83225.584037   81355.197573\n",
       "Всеволожск           217   66506.043808   65454.545455\n",
       "посёлок Шушары       185   78170.478752   77173.913043\n",
       "Пушкин               181  102024.388653   97451.274363\n",
       "Колпино              177   75053.173023   73333.333333\n",
       "Кудрово              167   94501.316131   95052.083333\n",
       "Гатчина              125   69179.960817   68604.651163\n",
       "Петергоф             122   83343.808559   80751.623549\n",
       "посёлок Парголово    118   89542.331750   90443.077847"
      ]
     },
     "execution_count": 265,
     "metadata": {},
     "output_type": "execute_result"
    }
   ],
   "source": [
    "df_locality.sort_values(by='count', ascending=False).head(10)"
   ]
  },
  {
   "cell_type": "markdown",
   "metadata": {},
   "source": [
    "<div class=\"alert alert-block alert-success\">\n",
    "<b>Success:</b> Отличная работа"
   ]
  },
  {
   "cell_type": "markdown",
   "metadata": {
    "id": "9GEdfbaqoj25"
   },
   "source": [
    "10 населенных пунктов с самым большим кол-вом объявлений и стоимость квадратного метрав них в среднем.\n",
    "\n",
    "Самая большая стоимость квадратного метра как и ожидалось в Санкт-Петербурге, а вот самая маленькая во Всеволожске.\n",
    "\n"
   ]
  },
  {
   "cell_type": "code",
   "execution_count": 266,
   "metadata": {
    "executionInfo": {
     "elapsed": 5998,
     "status": "ok",
     "timestamp": 1615992700144,
     "user": {
      "displayName": "Вадим Аникин",
      "photoUrl": "",
      "userId": "00271984842377798948"
     },
     "user_tz": -180
    },
    "id": "l6WapdD3Hvkl"
   },
   "outputs": [],
   "source": [
    "df_find_center=df_new.pivot_table(index='city_near_km', values='last_price', aggfunc=('count', 'mean', 'median'))"
   ]
  },
  {
   "cell_type": "markdown",
   "metadata": {
    "id": "9Ai9gqbYpUmJ"
   },
   "source": [
    "Созданим таблицу, с помощью которой мы сможем найти границу настоящего центра."
   ]
  },
  {
   "cell_type": "code",
   "execution_count": 267,
   "metadata": {
    "colab": {
     "base_uri": "https://localhost:8080/",
     "height": 406
    },
    "executionInfo": {
     "elapsed": 5986,
     "status": "ok",
     "timestamp": 1615992700145,
     "user": {
      "displayName": "Вадим Аникин",
      "photoUrl": "",
      "userId": "00271984842377798948"
     },
     "user_tz": -180
    },
    "id": "i-FOo119J1CA",
    "outputId": "2873e7ee-f73b-4b79-bdf1-6ecff5f3085e"
   },
   "outputs": [
    {
     "data": {
      "text/plain": [
       "Text(0, 0.5, 'Last_price, mln')"
      ]
     },
     "execution_count": 267,
     "metadata": {},
     "output_type": "execute_result"
    },
    {
     "data": {
      "image/png": "[encoded data removed]",
      "text/plain": [
       "<Figure size 648x432 with 1 Axes>"
      ]
     },
     "metadata": {
      "needs_background": "light"
     },
     "output_type": "display_data"
    }
   ],
   "source": [
    "df_find_center.plot(y='mean', grid=True, xlim=(0, 15), figsize=(9, 6))\n",
    "pl.title(\"Price change graph versus distance from the center(2014-2019)\")\n",
    "pl.xlabel(\"Сity_near, km\")\n",
    "pl.ylabel(\"Last_price, mln\")"
   ]
  },
  {
   "cell_type": "markdown",
   "metadata": {
    "id": "xUkUCg1YpgBl"
   },
   "source": [
    "По графику я определил, что мой центр будет считаться в радиусе 9 км потому, что именно после 9 км, цена перестала сильно изменяться."
   ]
  },
  {
   "cell_type": "markdown",
   "metadata": {},
   "source": [
    "<div class=\"alert alert-block alert-success\">\n",
    "<b>Success:</b> согласен с выбранным радиусом.\n",
    "    "
   ]
  },
  {
   "cell_type": "code",
   "execution_count": 268,
   "metadata": {
    "executionInfo": {
     "elapsed": 5975,
     "status": "ok",
     "timestamp": 1615992700146,
     "user": {
      "displayName": "Вадим Аникин",
      "photoUrl": "",
      "userId": "00271984842377798948"
     },
     "user_tz": -180
    },
    "id": "RXAx20mFJ4UM"
   },
   "outputs": [],
   "source": [
    "df_center=df_new.query('city_near_km<=9')"
   ]
  },
  {
   "cell_type": "markdown",
   "metadata": {
    "id": "6uYYUYyUp78S"
   },
   "source": [
    "Запишем в новый датафрейм все что входит в наш центр."
   ]
  },
  {
   "cell_type": "code",
   "execution_count": 269,
   "metadata": {
    "colab": {
     "base_uri": "https://localhost:8080/",
     "height": 609
    },
    "executionInfo": {
     "elapsed": 5964,
     "status": "ok",
     "timestamp": 1615992700147,
     "user": {
      "displayName": "Вадим Аникин",
      "photoUrl": "",
      "userId": "00271984842377798948"
     },
     "user_tz": -180
    },
    "id": "2cdI-aW4Liey",
    "outputId": "c7b21108-e4a5-4c7e-9051-8bb46fcb6ab9"
   },
   "outputs": [
    {
     "data": {
      "text/html": [
       "<div>\n",
       "<style scoped>\n",
       "    .dataframe tbody tr th:only-of-type {\n",
       "        vertical-align: middle;\n",
       "    }\n",
       "\n",
       "    .dataframe tbody tr th {\n",
       "        vertical-align: top;\n",
       "    }\n",
       "\n",
       "    .dataframe thead th {\n",
       "        text-align: right;\n",
       "    }\n",
       "</style>\n",
       "<table border=\"1\" class=\"dataframe\">\n",
       "  <thead>\n",
       "    <tr style=\"text-align: right;\">\n",
       "      <th></th>\n",
       "      <th>total_images</th>\n",
       "      <th>last_price</th>\n",
       "      <th>total_area</th>\n",
       "      <th>first_day_exposition</th>\n",
       "      <th>rooms</th>\n",
       "      <th>ceiling_height</th>\n",
       "      <th>floors_total</th>\n",
       "      <th>living_area</th>\n",
       "      <th>floor</th>\n",
       "      <th>is_apartment</th>\n",
       "      <th>...</th>\n",
       "      <th>ponds_nearest</th>\n",
       "      <th>days_exposition</th>\n",
       "      <th>price_metr2</th>\n",
       "      <th>floor_group</th>\n",
       "      <th>kichen_total_area</th>\n",
       "      <th>living_total_area</th>\n",
       "      <th>weekday</th>\n",
       "      <th>month</th>\n",
       "      <th>year</th>\n",
       "      <th>city_near_km</th>\n",
       "    </tr>\n",
       "  </thead>\n",
       "  <tbody>\n",
       "    <tr>\n",
       "      <td>4</td>\n",
       "      <td>2</td>\n",
       "      <td>10.00</td>\n",
       "      <td>100.0</td>\n",
       "      <td>2018-06-19</td>\n",
       "      <td>2</td>\n",
       "      <td>3.03</td>\n",
       "      <td>14.0</td>\n",
       "      <td>32.0</td>\n",
       "      <td>13</td>\n",
       "      <td>False</td>\n",
       "      <td>...</td>\n",
       "      <td>48</td>\n",
       "      <td>121.0</td>\n",
       "      <td>100000.000000</td>\n",
       "      <td>другой</td>\n",
       "      <td>0.410000</td>\n",
       "      <td>0.320000</td>\n",
       "      <td>1</td>\n",
       "      <td>6</td>\n",
       "      <td>2018</td>\n",
       "      <td>8</td>\n",
       "    </tr>\n",
       "    <tr>\n",
       "      <td>51</td>\n",
       "      <td>7</td>\n",
       "      <td>45.00</td>\n",
       "      <td>161.0</td>\n",
       "      <td>2017-10-17</td>\n",
       "      <td>3</td>\n",
       "      <td>3.20</td>\n",
       "      <td>8.0</td>\n",
       "      <td>38.0</td>\n",
       "      <td>4</td>\n",
       "      <td>False</td>\n",
       "      <td>...</td>\n",
       "      <td>99</td>\n",
       "      <td>541.0</td>\n",
       "      <td>279503.105590</td>\n",
       "      <td>другой</td>\n",
       "      <td>0.310559</td>\n",
       "      <td>0.236025</td>\n",
       "      <td>1</td>\n",
       "      <td>10</td>\n",
       "      <td>2017</td>\n",
       "      <td>6</td>\n",
       "    </tr>\n",
       "    <tr>\n",
       "      <td>56</td>\n",
       "      <td>14</td>\n",
       "      <td>4.35</td>\n",
       "      <td>41.0</td>\n",
       "      <td>2016-03-28</td>\n",
       "      <td>1</td>\n",
       "      <td>2.80</td>\n",
       "      <td>7.0</td>\n",
       "      <td>18.1</td>\n",
       "      <td>4</td>\n",
       "      <td>False</td>\n",
       "      <td>...</td>\n",
       "      <td>439</td>\n",
       "      <td>152.0</td>\n",
       "      <td>106097.560976</td>\n",
       "      <td>другой</td>\n",
       "      <td>0.270732</td>\n",
       "      <td>0.441463</td>\n",
       "      <td>0</td>\n",
       "      <td>3</td>\n",
       "      <td>2016</td>\n",
       "      <td>9</td>\n",
       "    </tr>\n",
       "    <tr>\n",
       "      <td>63</td>\n",
       "      <td>2</td>\n",
       "      <td>20.00</td>\n",
       "      <td>118.0</td>\n",
       "      <td>2018-09-11</td>\n",
       "      <td>3</td>\n",
       "      <td>3.00</td>\n",
       "      <td>9.0</td>\n",
       "      <td>68.0</td>\n",
       "      <td>7</td>\n",
       "      <td>False</td>\n",
       "      <td>...</td>\n",
       "      <td>779</td>\n",
       "      <td>37.0</td>\n",
       "      <td>169491.525424</td>\n",
       "      <td>другой</td>\n",
       "      <td>0.135593</td>\n",
       "      <td>0.576271</td>\n",
       "      <td>1</td>\n",
       "      <td>9</td>\n",
       "      <td>2018</td>\n",
       "      <td>4</td>\n",
       "    </tr>\n",
       "    <tr>\n",
       "      <td>85</td>\n",
       "      <td>13</td>\n",
       "      <td>5.20</td>\n",
       "      <td>46.3</td>\n",
       "      <td>2018-11-26</td>\n",
       "      <td>2</td>\n",
       "      <td>3.00</td>\n",
       "      <td>5.0</td>\n",
       "      <td>27.8</td>\n",
       "      <td>5</td>\n",
       "      <td>False</td>\n",
       "      <td>...</td>\n",
       "      <td>682</td>\n",
       "      <td>65.0</td>\n",
       "      <td>112311.015119</td>\n",
       "      <td>последний</td>\n",
       "      <td>0.172786</td>\n",
       "      <td>0.600432</td>\n",
       "      <td>0</td>\n",
       "      <td>11</td>\n",
       "      <td>2018</td>\n",
       "      <td>9</td>\n",
       "    </tr>\n",
       "    <tr>\n",
       "      <td>...</td>\n",
       "      <td>...</td>\n",
       "      <td>...</td>\n",
       "      <td>...</td>\n",
       "      <td>...</td>\n",
       "      <td>...</td>\n",
       "      <td>...</td>\n",
       "      <td>...</td>\n",
       "      <td>...</td>\n",
       "      <td>...</td>\n",
       "      <td>...</td>\n",
       "      <td>...</td>\n",
       "      <td>...</td>\n",
       "      <td>...</td>\n",
       "      <td>...</td>\n",
       "      <td>...</td>\n",
       "      <td>...</td>\n",
       "      <td>...</td>\n",
       "      <td>...</td>\n",
       "      <td>...</td>\n",
       "      <td>...</td>\n",
       "      <td>...</td>\n",
       "    </tr>\n",
       "    <tr>\n",
       "      <td>23648</td>\n",
       "      <td>14</td>\n",
       "      <td>10.10</td>\n",
       "      <td>78.0</td>\n",
       "      <td>2017-05-12</td>\n",
       "      <td>3</td>\n",
       "      <td>3.27</td>\n",
       "      <td>5.0</td>\n",
       "      <td>48.6</td>\n",
       "      <td>5</td>\n",
       "      <td>False</td>\n",
       "      <td>...</td>\n",
       "      <td>117</td>\n",
       "      <td>621.0</td>\n",
       "      <td>129487.179487</td>\n",
       "      <td>последний</td>\n",
       "      <td>0.105128</td>\n",
       "      <td>0.623077</td>\n",
       "      <td>4</td>\n",
       "      <td>5</td>\n",
       "      <td>2017</td>\n",
       "      <td>1</td>\n",
       "    </tr>\n",
       "    <tr>\n",
       "      <td>23664</td>\n",
       "      <td>5</td>\n",
       "      <td>9.00</td>\n",
       "      <td>110.0</td>\n",
       "      <td>2015-12-10</td>\n",
       "      <td>4</td>\n",
       "      <td>3.36</td>\n",
       "      <td>7.0</td>\n",
       "      <td>64.6</td>\n",
       "      <td>5</td>\n",
       "      <td>False</td>\n",
       "      <td>...</td>\n",
       "      <td>118</td>\n",
       "      <td>816.0</td>\n",
       "      <td>81818.181818</td>\n",
       "      <td>другой</td>\n",
       "      <td>0.143636</td>\n",
       "      <td>0.587273</td>\n",
       "      <td>3</td>\n",
       "      <td>12</td>\n",
       "      <td>2015</td>\n",
       "      <td>5</td>\n",
       "    </tr>\n",
       "    <tr>\n",
       "      <td>23668</td>\n",
       "      <td>13</td>\n",
       "      <td>6.00</td>\n",
       "      <td>47.0</td>\n",
       "      <td>2018-03-16</td>\n",
       "      <td>2</td>\n",
       "      <td>3.00</td>\n",
       "      <td>5.0</td>\n",
       "      <td>27.0</td>\n",
       "      <td>4</td>\n",
       "      <td>False</td>\n",
       "      <td>...</td>\n",
       "      <td>Далеко</td>\n",
       "      <td>157.0</td>\n",
       "      <td>127659.574468</td>\n",
       "      <td>другой</td>\n",
       "      <td>0.191489</td>\n",
       "      <td>0.574468</td>\n",
       "      <td>4</td>\n",
       "      <td>3</td>\n",
       "      <td>2018</td>\n",
       "      <td>9</td>\n",
       "    </tr>\n",
       "    <tr>\n",
       "      <td>23681</td>\n",
       "      <td>13</td>\n",
       "      <td>5.25</td>\n",
       "      <td>43.0</td>\n",
       "      <td>2018-05-11</td>\n",
       "      <td>2</td>\n",
       "      <td>2.50</td>\n",
       "      <td>5.0</td>\n",
       "      <td>29.0</td>\n",
       "      <td>2</td>\n",
       "      <td>False</td>\n",
       "      <td>...</td>\n",
       "      <td>660</td>\n",
       "      <td>80.0</td>\n",
       "      <td>122093.023256</td>\n",
       "      <td>другой</td>\n",
       "      <td>0.139535</td>\n",
       "      <td>0.674419</td>\n",
       "      <td>4</td>\n",
       "      <td>5</td>\n",
       "      <td>2018</td>\n",
       "      <td>7</td>\n",
       "    </tr>\n",
       "    <tr>\n",
       "      <td>23691</td>\n",
       "      <td>11</td>\n",
       "      <td>9.47</td>\n",
       "      <td>72.9</td>\n",
       "      <td>2016-10-13</td>\n",
       "      <td>2</td>\n",
       "      <td>2.75</td>\n",
       "      <td>25.0</td>\n",
       "      <td>40.3</td>\n",
       "      <td>7</td>\n",
       "      <td>False</td>\n",
       "      <td>...</td>\n",
       "      <td>806</td>\n",
       "      <td>519.0</td>\n",
       "      <td>129903.978052</td>\n",
       "      <td>другой</td>\n",
       "      <td>0.145405</td>\n",
       "      <td>0.552812</td>\n",
       "      <td>3</td>\n",
       "      <td>10</td>\n",
       "      <td>2016</td>\n",
       "      <td>4</td>\n",
       "    </tr>\n",
       "  </tbody>\n",
       "</table>\n",
       "<p>2453 rows × 30 columns</p>\n",
       "</div>"
      ],
      "text/plain": [
       "       total_images  last_price  total_area first_day_exposition  rooms  \\\n",
       "4                 2       10.00       100.0           2018-06-19      2   \n",
       "51                7       45.00       161.0           2017-10-17      3   \n",
       "56               14        4.35        41.0           2016-03-28      1   \n",
       "63                2       20.00       118.0           2018-09-11      3   \n",
       "85               13        5.20        46.3           2018-11-26      2   \n",
       "...             ...         ...         ...                  ...    ...   \n",
       "23648            14       10.10        78.0           2017-05-12      3   \n",
       "23664             5        9.00       110.0           2015-12-10      4   \n",
       "23668            13        6.00        47.0           2018-03-16      2   \n",
       "23681            13        5.25        43.0           2018-05-11      2   \n",
       "23691            11        9.47        72.9           2016-10-13      2   \n",
       "\n",
       "       ceiling_height  floors_total  living_area  floor  is_apartment  ...  \\\n",
       "4                3.03          14.0         32.0     13         False  ...   \n",
       "51               3.20           8.0         38.0      4         False  ...   \n",
       "56               2.80           7.0         18.1      4         False  ...   \n",
       "63               3.00           9.0         68.0      7         False  ...   \n",
       "85               3.00           5.0         27.8      5         False  ...   \n",
       "...               ...           ...          ...    ...           ...  ...   \n",
       "23648            3.27           5.0         48.6      5         False  ...   \n",
       "23664            3.36           7.0         64.6      5         False  ...   \n",
       "23668            3.00           5.0         27.0      4         False  ...   \n",
       "23681            2.50           5.0         29.0      2         False  ...   \n",
       "23691            2.75          25.0         40.3      7         False  ...   \n",
       "\n",
       "       ponds_nearest  days_exposition    price_metr2  floor_group  \\\n",
       "4                 48            121.0  100000.000000       другой   \n",
       "51                99            541.0  279503.105590       другой   \n",
       "56               439            152.0  106097.560976       другой   \n",
       "63               779             37.0  169491.525424       другой   \n",
       "85               682             65.0  112311.015119    последний   \n",
       "...              ...              ...            ...          ...   \n",
       "23648            117            621.0  129487.179487    последний   \n",
       "23664            118            816.0   81818.181818       другой   \n",
       "23668         Далеко            157.0  127659.574468       другой   \n",
       "23681            660             80.0  122093.023256       другой   \n",
       "23691            806            519.0  129903.978052       другой   \n",
       "\n",
       "      kichen_total_area  living_total_area  weekday month  year city_near_km  \n",
       "4              0.410000           0.320000        1     6  2018            8  \n",
       "51             0.310559           0.236025        1    10  2017            6  \n",
       "56             0.270732           0.441463        0     3  2016            9  \n",
       "63             0.135593           0.576271        1     9  2018            4  \n",
       "85             0.172786           0.600432        0    11  2018            9  \n",
       "...                 ...                ...      ...   ...   ...          ...  \n",
       "23648          0.105128           0.623077        4     5  2017            1  \n",
       "23664          0.143636           0.587273        3    12  2015            5  \n",
       "23668          0.191489           0.574468        4     3  2018            9  \n",
       "23681          0.139535           0.674419        4     5  2018            7  \n",
       "23691          0.145405           0.552812        3    10  2016            4  \n",
       "\n",
       "[2453 rows x 30 columns]"
      ]
     },
     "execution_count": 269,
     "metadata": {},
     "output_type": "execute_result"
    }
   ],
   "source": [
    "df_center"
   ]
  },
  {
   "cell_type": "code",
   "execution_count": 270,
   "metadata": {
    "colab": {
     "base_uri": "https://localhost:8080/",
     "height": 530
    },
    "executionInfo": {
     "elapsed": 5947,
     "status": "ok",
     "timestamp": 1615992700147,
     "user": {
      "displayName": "Вадим Аникин",
      "photoUrl": "",
      "userId": "00271984842377798948"
     },
     "user_tz": -180
    },
    "id": "qPKUpF5MLlwx",
    "outputId": "502efe1b-766f-45b3-e1eb-8c10eb387fc2"
   },
   "outputs": [
    {
     "data": {
      "image/png": "[encoded data removed]",
      "text/plain": [
       "<Figure size 432x288 with 1 Axes>"
      ]
     },
     "metadata": {
      "needs_background": "light"
     },
     "output_type": "display_data"
    },
    {
     "data": {
      "text/plain": [
       "Text(0, 0.5, 'Count')"
      ]
     },
     "execution_count": 270,
     "metadata": {},
     "output_type": "execute_result"
    },
    {
     "data": {
      "image/png": "[encoded data removed]",
      "text/plain": [
       "<Figure size 432x288 with 1 Axes>"
      ]
     },
     "metadata": {
      "needs_background": "light"
     },
     "output_type": "display_data"
    }
   ],
   "source": [
    "df['total_area'].hist(bins=50, range=(0, 300))\n",
    "pl.title(\"Histogram of Total_area(2014-2019)\")\n",
    "pl.xlabel(\"Total_area, m^2\")\n",
    "pl.ylabel(\"Count\")\n",
    "plt.show()\n",
    "df_center['total_area'].hist(bins=50, range=(0, 300))\n",
    "pl.title(\"Histogram of Total_area in center(2014-2019)\")\n",
    "pl.xlabel(\"Total_area, m^2\")\n",
    "pl.ylabel(\"Count\")"
   ]
  },
  {
   "cell_type": "markdown",
   "metadata": {
    "id": "YKFpj9JPqHF7"
   },
   "source": [
    "В принципе гистограмма почти не изменилась, такой же пик на площади до 50 метров, и постепенное убывание с увелечением площади. Уменьшилился пик на значениях от 30 до 40. И выросло кол-во больше 50 по отношению к максимальному пику."
   ]
  },
  {
   "cell_type": "code",
   "execution_count": 271,
   "metadata": {
    "colab": {
     "base_uri": "https://localhost:8080/",
     "height": 530
    },
    "executionInfo": {
     "elapsed": 1509,
     "status": "ok",
     "timestamp": 1615992908980,
     "user": {
      "displayName": "Вадим Аникин",
      "photoUrl": "",
      "userId": "00271984842377798948"
     },
     "user_tz": -180
    },
    "id": "jjEVeZMxMACx",
    "outputId": "5b4fdf76-04b4-4c06-e32f-8c1ea1ba28ba"
   },
   "outputs": [
    {
     "data": {
      "image/png": "[encoded data removed]",
      "text/plain": [
       "<Figure size 432x288 with 1 Axes>"
      ]
     },
     "metadata": {
      "needs_background": "light"
     },
     "output_type": "display_data"
    },
    {
     "data": {
      "text/plain": [
       "Text(0, 0.5, 'Count')"
      ]
     },
     "execution_count": 271,
     "metadata": {},
     "output_type": "execute_result"
    },
    {
     "data": {
      "image/png": "[encoded data removed]",
      "text/plain": [
       "<Figure size 432x288 with 1 Axes>"
      ]
     },
     "metadata": {
      "needs_background": "light"
     },
     "output_type": "display_data"
    }
   ],
   "source": [
    "df['last_price'].hist(bins=100, range=(0, 80))\n",
    "pl.title(\"Histogram of Last_price(2014-2019)\")\n",
    "pl.xlabel(\"Last_price, mln\")\n",
    "pl.ylabel(\"Count\")\n",
    "plt.show()\n",
    "df_center['last_price'].hist(bins=100,  range=(0, 80))\n",
    "pl.title(\"Histogram of Last_price in center(2014-2019)\")\n",
    "pl.xlabel(\"Last_price, mln\")\n",
    "pl.ylabel(\"Count\")"
   ]
  },
  {
   "cell_type": "markdown",
   "metadata": {
    "id": "khgqv_kprxAU"
   },
   "source": [
    "Гистограмма также не сильно изменилась, но появилось больше значений после 10 млн, относительно максимального пика, а максимальный пик остался примерно на том же месте."
   ]
  },
  {
   "cell_type": "code",
   "execution_count": 272,
   "metadata": {
    "colab": {
     "base_uri": "https://localhost:8080/",
     "height": 558
    },
    "executionInfo": {
     "elapsed": 1954,
     "status": "ok",
     "timestamp": 1615993025009,
     "user": {
      "displayName": "Вадим Аникин",
      "photoUrl": "",
      "userId": "00271984842377798948"
     },
     "user_tz": -180
    },
    "id": "D9TxStiSMVQB",
    "outputId": "1017691d-ced3-490e-e891-e40b422e6fb4"
   },
   "outputs": [
    {
     "data": {
      "image/png": "[encoded data removed]",
      "text/plain": [
       "<Figure size 432x288 with 1 Axes>"
      ]
     },
     "metadata": {
      "needs_background": "light"
     },
     "output_type": "display_data"
    },
    {
     "data": {
      "text/plain": [
       "Text(0, 0.5, 'Count')"
      ]
     },
     "execution_count": 272,
     "metadata": {},
     "output_type": "execute_result"
    },
    {
     "data": {
      "image/png": "[encoded data removed]",
      "text/plain": [
       "<Figure size 432x288 with 1 Axes>"
      ]
     },
     "metadata": {
      "needs_background": "light"
     },
     "output_type": "display_data"
    }
   ],
   "source": [
    "df.groupby('rooms')['rooms'].count().plot(kind='bar', ylim=0, grid=True)\n",
    "pl.title(\"Histogram of Rooms(2014-2019)\")\n",
    "pl.xlabel(\"Rooms\")\n",
    "pl.ylabel(\"Count\")\n",
    "plt.show()\n",
    "df_center.groupby('rooms')['rooms'].count().plot(kind='bar', ylim=0, grid=True)\n",
    "pl.title(\"Histogram of Rooms in center(2014-2019)\")\n",
    "pl.xlabel(\"Rooms\")\n",
    "pl.ylabel(\"Count\")"
   ]
  },
  {
   "cell_type": "markdown",
   "metadata": {
    "id": "1-NYrK4ksEHg"
   },
   "source": [
    "Тут произошли болшьие изменения. Самый большой пик был у 1,2-комнатных квартир. А вот в центре больше 2-комнатных и чуть меньше 3-комнатных квартир. А вот 1-комнатных квартир получилось даже меньше чем 3-комнатных."
   ]
  },
  {
   "cell_type": "code",
   "execution_count": 273,
   "metadata": {
    "colab": {
     "base_uri": "https://localhost:8080/",
     "height": 530
    },
    "executionInfo": {
     "elapsed": 1397,
     "status": "ok",
     "timestamp": 1615993194808,
     "user": {
      "displayName": "Вадим Аникин",
      "photoUrl": "",
      "userId": "00271984842377798948"
     },
     "user_tz": -180
    },
    "id": "T_xk5v5oMzno",
    "outputId": "f8d7f0bf-6b12-41e8-e9c7-59a168185b83"
   },
   "outputs": [
    {
     "data": {
      "image/png": "[encoded data removed]",
      "text/plain": [
       "<Figure size 432x288 with 1 Axes>"
      ]
     },
     "metadata": {
      "needs_background": "light"
     },
     "output_type": "display_data"
    },
    {
     "data": {
      "text/plain": [
       "Text(0, 0.5, 'Count')"
      ]
     },
     "execution_count": 273,
     "metadata": {},
     "output_type": "execute_result"
    },
    {
     "data": {
      "image/png": "[encoded data removed]",
      "text/plain": [
       "<Figure size 432x288 with 1 Axes>"
      ]
     },
     "metadata": {
      "needs_background": "light"
     },
     "output_type": "display_data"
    }
   ],
   "source": [
    "df['ceiling_height'].hist(bins=30, range=(0, 5))\n",
    "pl.title(\"Histogram of Ceiling_height(2014-2019)\")\n",
    "pl.xlabel(\"Ceiling_height, m\")\n",
    "pl.ylabel(\"Count\")\n",
    "plt.show()\n",
    "df_center['ceiling_height'].hist(bins=40, range=(0, 5))\n",
    "pl.title(\"Histogram of Ceiling_height in center(2014-2019)\")\n",
    "pl.xlabel(\"Ceiling_height, m\")\n",
    "pl.ylabel(\"Count\")"
   ]
  },
  {
   "cell_type": "markdown",
   "metadata": {
    "id": "U95EWPe9sn_Y"
   },
   "source": [
    "Также большие изменения произошли на гистограмме высоты потолков. Раньше самый большой пик был на значении 2.5-2.8 м, а теперь пик сместился в сторону 3.2 м. Но квартир с высотой 2.5-2.8 м. остается много. "
   ]
  },
  {
   "cell_type": "code",
   "execution_count": 274,
   "metadata": {
    "colab": {
     "base_uri": "https://localhost:8080/"
    },
    "executionInfo": {
     "elapsed": 842,
     "status": "ok",
     "timestamp": 1615993335869,
     "user": {
      "displayName": "Вадим Аникин",
      "photoUrl": "",
      "userId": "00271984842377798948"
     },
     "user_tz": -180
    },
    "id": "8Z8XUyoqN3Yn",
    "outputId": "39627747-4f17-4570-bde2-7f0bfbcf4a9f"
   },
   "outputs": [
    {
     "data": {
      "text/plain": [
       "0.31980376227594864"
      ]
     },
     "execution_count": 274,
     "metadata": {},
     "output_type": "execute_result"
    }
   ],
   "source": [
    "df_center['last_price'].corr(df_center['rooms'])"
   ]
  },
  {
   "cell_type": "code",
   "execution_count": 275,
   "metadata": {
    "colab": {
     "base_uri": "https://localhost:8080/",
     "height": 569
    },
    "executionInfo": {
     "elapsed": 999,
     "status": "ok",
     "timestamp": 1615993339341,
     "user": {
      "displayName": "Вадим Аникин",
      "photoUrl": "",
      "userId": "00271984842377798948"
     },
     "user_tz": -180
    },
    "id": "XzG_Oi7sM9_c",
    "outputId": "e6f95a3c-f134-4fea-8e21-e9911b696c61"
   },
   "outputs": [
    {
     "data": {
      "text/plain": [
       "Text(0, 0.5, 'Rooms')"
      ]
     },
     "execution_count": 275,
     "metadata": {},
     "output_type": "execute_result"
    },
    {
     "data": {
      "image/png": "[encoded data removed]",
      "text/plain": [
       "<Figure size 648x648 with 1 Axes>"
      ]
     },
     "metadata": {
      "needs_background": "light"
     },
     "output_type": "display_data"
    }
   ],
   "source": [
    "df_center.plot(x='last_price', y='rooms', kind='scatter', alpha=0.2, figsize=(9, 9))\n",
    "pl.title(\"Dependence of the last_price on rooms in center(2014-2019)\")\n",
    "pl.xlabel(\"Last_price, mln\")\n",
    "pl.ylabel(\"Rooms\")"
   ]
  },
  {
   "cell_type": "code",
   "execution_count": 276,
   "metadata": {
    "colab": {
     "base_uri": "https://localhost:8080/"
    },
    "executionInfo": {
     "elapsed": 1038,
     "status": "ok",
     "timestamp": 1615993344067,
     "user": {
      "displayName": "Вадим Аникин",
      "photoUrl": "",
      "userId": "00271984842377798948"
     },
     "user_tz": -180
    },
    "id": "s0W_drgRNwZ4",
    "outputId": "ffd8c07b-a2eb-4b12-e56f-fd0c4154279c"
   },
   "outputs": [
    {
     "data": {
      "text/plain": [
       "-0.18488744831421292"
      ]
     },
     "execution_count": 276,
     "metadata": {},
     "output_type": "execute_result"
    }
   ],
   "source": [
    "df_center['last_price'].corr(df_center['cityCenters_nearest'])"
   ]
  },
  {
   "cell_type": "code",
   "execution_count": 277,
   "metadata": {
    "colab": {
     "base_uri": "https://localhost:8080/",
     "height": 569
    },
    "executionInfo": {
     "elapsed": 1630,
     "status": "ok",
     "timestamp": 1615993346233,
     "user": {
      "displayName": "Вадим Аникин",
      "photoUrl": "",
      "userId": "00271984842377798948"
     },
     "user_tz": -180
    },
    "id": "B6co6DiIOFFj",
    "outputId": "7914e487-5601-4865-b859-04087b2f6c42"
   },
   "outputs": [
    {
     "data": {
      "text/plain": [
       "Text(0, 0.5, 'CityCenters_nearest, m')"
      ]
     },
     "execution_count": 277,
     "metadata": {},
     "output_type": "execute_result"
    },
    {
     "data": {
      "image/png": "[encoded data removed]",
      "text/plain": [
       "<Figure size 648x648 with 1 Axes>"
      ]
     },
     "metadata": {
      "needs_background": "light"
     },
     "output_type": "display_data"
    }
   ],
   "source": [
    "df_center.plot(x='last_price', y='cityCenters_nearest', kind='scatter', alpha=0.3, figsize=(9, 9))\n",
    "pl.title(\"Dependence of the last_price on the cityCenters_nearest in center(2014-2019)\")\n",
    "pl.xlabel(\"Last_price, mln\")\n",
    "pl.ylabel(\"CityCenters_nearest, m\")"
   ]
  },
  {
   "cell_type": "markdown",
   "metadata": {
    "id": "YzKGx8RUtbK2"
   },
   "source": [
    "В принципе зависимости цены от кол-ва комнат и удаленности от центра остались на том же уровне."
   ]
  },
  {
   "cell_type": "code",
   "execution_count": 278,
   "metadata": {
    "colab": {
     "base_uri": "https://localhost:8080/",
     "height": 173
    },
    "executionInfo": {
     "elapsed": 7553,
     "status": "ok",
     "timestamp": 1615992701858,
     "user": {
      "displayName": "Вадим Аникин",
      "photoUrl": "",
      "userId": "00271984842377798948"
     },
     "user_tz": -180
    },
    "id": "YJc77UbGOLej",
    "outputId": "0ed04c8e-1640-4f12-f80d-73ad27934082"
   },
   "outputs": [
    {
     "data": {
      "text/html": [
       "<div>\n",
       "<style scoped>\n",
       "    .dataframe tbody tr th:only-of-type {\n",
       "        vertical-align: middle;\n",
       "    }\n",
       "\n",
       "    .dataframe tbody tr th {\n",
       "        vertical-align: top;\n",
       "    }\n",
       "\n",
       "    .dataframe thead th {\n",
       "        text-align: right;\n",
       "    }\n",
       "</style>\n",
       "<table border=\"1\" class=\"dataframe\">\n",
       "  <thead>\n",
       "    <tr style=\"text-align: right;\">\n",
       "      <th></th>\n",
       "      <th>count</th>\n",
       "      <th>mean</th>\n",
       "      <th>median</th>\n",
       "    </tr>\n",
       "    <tr>\n",
       "      <th>floor_group</th>\n",
       "      <th></th>\n",
       "      <th></th>\n",
       "      <th></th>\n",
       "    </tr>\n",
       "  </thead>\n",
       "  <tbody>\n",
       "    <tr>\n",
       "      <td>другой</td>\n",
       "      <td>1768</td>\n",
       "      <td>10.784185</td>\n",
       "      <td>8.000</td>\n",
       "    </tr>\n",
       "    <tr>\n",
       "      <td>первый</td>\n",
       "      <td>253</td>\n",
       "      <td>7.170245</td>\n",
       "      <td>5.900</td>\n",
       "    </tr>\n",
       "    <tr>\n",
       "      <td>последний</td>\n",
       "      <td>432</td>\n",
       "      <td>9.740113</td>\n",
       "      <td>7.675</td>\n",
       "    </tr>\n",
       "  </tbody>\n",
       "</table>\n",
       "</div>"
      ],
      "text/plain": [
       "             count       mean  median\n",
       "floor_group                          \n",
       "другой        1768  10.784185   8.000\n",
       "первый         253   7.170245   5.900\n",
       "последний      432   9.740113   7.675"
      ]
     },
     "execution_count": 278,
     "metadata": {},
     "output_type": "execute_result"
    }
   ],
   "source": [
    "df_center.pivot_table(index='floor_group', values='last_price', aggfunc=('count', 'mean', 'median'))"
   ]
  },
  {
   "cell_type": "markdown",
   "metadata": {
    "id": "1l4nn4Yztuaj"
   },
   "source": [
    "в центре также наблюдается, что квартиры на первом этаже в среднем стоят дешевле чем на других или последнем, единственное что разница значительно выросла, теперь она состовляет окол 2 млн. Также выросла разница между последним и другими этажами. Квартира на последнем этаже стоит на 1 млн дешевле."
   ]
  },
  {
   "cell_type": "code",
   "execution_count": 279,
   "metadata": {
    "colab": {
     "base_uri": "https://localhost:8080/",
     "height": 297
    },
    "executionInfo": {
     "elapsed": 7540,
     "status": "ok",
     "timestamp": 1615992701860,
     "user": {
      "displayName": "Вадим Аникин",
      "photoUrl": "",
      "userId": "00271984842377798948"
     },
     "user_tz": -180
    },
    "id": "u3mgzUDKOhNw",
    "outputId": "72f1fe2a-f34d-432e-8da0-47503935333a"
   },
   "outputs": [
    {
     "data": {
      "text/html": [
       "<div>\n",
       "<style scoped>\n",
       "    .dataframe tbody tr th:only-of-type {\n",
       "        vertical-align: middle;\n",
       "    }\n",
       "\n",
       "    .dataframe tbody tr th {\n",
       "        vertical-align: top;\n",
       "    }\n",
       "\n",
       "    .dataframe thead th {\n",
       "        text-align: right;\n",
       "    }\n",
       "</style>\n",
       "<table border=\"1\" class=\"dataframe\">\n",
       "  <thead>\n",
       "    <tr style=\"text-align: right;\">\n",
       "      <th></th>\n",
       "      <th>count</th>\n",
       "      <th>mean</th>\n",
       "      <th>median</th>\n",
       "    </tr>\n",
       "    <tr>\n",
       "      <th>weekday</th>\n",
       "      <th></th>\n",
       "      <th></th>\n",
       "      <th></th>\n",
       "    </tr>\n",
       "  </thead>\n",
       "  <tbody>\n",
       "    <tr>\n",
       "      <td>0</td>\n",
       "      <td>385</td>\n",
       "      <td>10.037577</td>\n",
       "      <td>7.70000</td>\n",
       "    </tr>\n",
       "    <tr>\n",
       "      <td>1</td>\n",
       "      <td>455</td>\n",
       "      <td>10.333237</td>\n",
       "      <td>7.60000</td>\n",
       "    </tr>\n",
       "    <tr>\n",
       "      <td>2</td>\n",
       "      <td>397</td>\n",
       "      <td>10.957368</td>\n",
       "      <td>7.70000</td>\n",
       "    </tr>\n",
       "    <tr>\n",
       "      <td>3</td>\n",
       "      <td>507</td>\n",
       "      <td>10.419395</td>\n",
       "      <td>7.95000</td>\n",
       "    </tr>\n",
       "    <tr>\n",
       "      <td>4</td>\n",
       "      <td>391</td>\n",
       "      <td>9.818200</td>\n",
       "      <td>7.40000</td>\n",
       "    </tr>\n",
       "    <tr>\n",
       "      <td>5</td>\n",
       "      <td>174</td>\n",
       "      <td>9.039867</td>\n",
       "      <td>7.08463</td>\n",
       "    </tr>\n",
       "    <tr>\n",
       "      <td>6</td>\n",
       "      <td>144</td>\n",
       "      <td>10.261025</td>\n",
       "      <td>8.05000</td>\n",
       "    </tr>\n",
       "  </tbody>\n",
       "</table>\n",
       "</div>"
      ],
      "text/plain": [
       "         count       mean   median\n",
       "weekday                           \n",
       "0          385  10.037577  7.70000\n",
       "1          455  10.333237  7.60000\n",
       "2          397  10.957368  7.70000\n",
       "3          507  10.419395  7.95000\n",
       "4          391   9.818200  7.40000\n",
       "5          174   9.039867  7.08463\n",
       "6          144  10.261025  8.05000"
      ]
     },
     "execution_count": 279,
     "metadata": {},
     "output_type": "execute_result"
    }
   ],
   "source": [
    "df_center.pivot_table(index='weekday', values='last_price', aggfunc=('count', 'mean', 'median'))"
   ]
  },
  {
   "cell_type": "code",
   "execution_count": 280,
   "metadata": {
    "colab": {
     "base_uri": "https://localhost:8080/",
     "height": 452
    },
    "executionInfo": {
     "elapsed": 7529,
     "status": "ok",
     "timestamp": 1615992701863,
     "user": {
      "displayName": "Вадим Аникин",
      "photoUrl": "",
      "userId": "00271984842377798948"
     },
     "user_tz": -180
    },
    "id": "wyU5MzaSOvAn",
    "outputId": "1860d9a1-94ce-42d8-b86d-1fee1a1f47bc"
   },
   "outputs": [
    {
     "data": {
      "text/html": [
       "<div>\n",
       "<style scoped>\n",
       "    .dataframe tbody tr th:only-of-type {\n",
       "        vertical-align: middle;\n",
       "    }\n",
       "\n",
       "    .dataframe tbody tr th {\n",
       "        vertical-align: top;\n",
       "    }\n",
       "\n",
       "    .dataframe thead th {\n",
       "        text-align: right;\n",
       "    }\n",
       "</style>\n",
       "<table border=\"1\" class=\"dataframe\">\n",
       "  <thead>\n",
       "    <tr style=\"text-align: right;\">\n",
       "      <th></th>\n",
       "      <th>count</th>\n",
       "      <th>mean</th>\n",
       "      <th>median</th>\n",
       "    </tr>\n",
       "    <tr>\n",
       "      <th>month</th>\n",
       "      <th></th>\n",
       "      <th></th>\n",
       "      <th></th>\n",
       "    </tr>\n",
       "  </thead>\n",
       "  <tbody>\n",
       "    <tr>\n",
       "      <td>1</td>\n",
       "      <td>161</td>\n",
       "      <td>10.103467</td>\n",
       "      <td>7.800000</td>\n",
       "    </tr>\n",
       "    <tr>\n",
       "      <td>2</td>\n",
       "      <td>296</td>\n",
       "      <td>10.371711</td>\n",
       "      <td>7.400000</td>\n",
       "    </tr>\n",
       "    <tr>\n",
       "      <td>3</td>\n",
       "      <td>243</td>\n",
       "      <td>9.692747</td>\n",
       "      <td>7.500000</td>\n",
       "    </tr>\n",
       "    <tr>\n",
       "      <td>4</td>\n",
       "      <td>167</td>\n",
       "      <td>11.365091</td>\n",
       "      <td>7.200000</td>\n",
       "    </tr>\n",
       "    <tr>\n",
       "      <td>5</td>\n",
       "      <td>141</td>\n",
       "      <td>10.822670</td>\n",
       "      <td>8.000000</td>\n",
       "    </tr>\n",
       "    <tr>\n",
       "      <td>6</td>\n",
       "      <td>170</td>\n",
       "      <td>9.140514</td>\n",
       "      <td>7.730000</td>\n",
       "    </tr>\n",
       "    <tr>\n",
       "      <td>7</td>\n",
       "      <td>206</td>\n",
       "      <td>10.763243</td>\n",
       "      <td>8.270000</td>\n",
       "    </tr>\n",
       "    <tr>\n",
       "      <td>8</td>\n",
       "      <td>198</td>\n",
       "      <td>9.653454</td>\n",
       "      <td>7.500000</td>\n",
       "    </tr>\n",
       "    <tr>\n",
       "      <td>9</td>\n",
       "      <td>229</td>\n",
       "      <td>10.685890</td>\n",
       "      <td>8.500000</td>\n",
       "    </tr>\n",
       "    <tr>\n",
       "      <td>10</td>\n",
       "      <td>225</td>\n",
       "      <td>9.937256</td>\n",
       "      <td>7.610814</td>\n",
       "    </tr>\n",
       "    <tr>\n",
       "      <td>11</td>\n",
       "      <td>243</td>\n",
       "      <td>10.547174</td>\n",
       "      <td>8.100000</td>\n",
       "    </tr>\n",
       "    <tr>\n",
       "      <td>12</td>\n",
       "      <td>174</td>\n",
       "      <td>9.677218</td>\n",
       "      <td>6.900000</td>\n",
       "    </tr>\n",
       "  </tbody>\n",
       "</table>\n",
       "</div>"
      ],
      "text/plain": [
       "       count       mean    median\n",
       "month                            \n",
       "1        161  10.103467  7.800000\n",
       "2        296  10.371711  7.400000\n",
       "3        243   9.692747  7.500000\n",
       "4        167  11.365091  7.200000\n",
       "5        141  10.822670  8.000000\n",
       "6        170   9.140514  7.730000\n",
       "7        206  10.763243  8.270000\n",
       "8        198   9.653454  7.500000\n",
       "9        229  10.685890  8.500000\n",
       "10       225   9.937256  7.610814\n",
       "11       243  10.547174  8.100000\n",
       "12       174   9.677218  6.900000"
      ]
     },
     "execution_count": 280,
     "metadata": {},
     "output_type": "execute_result"
    }
   ],
   "source": [
    "df_center.pivot_table(index='month', values='last_price', aggfunc=('count', 'mean', 'median'))"
   ]
  },
  {
   "cell_type": "markdown",
   "metadata": {
    "id": "GcqrTDZDuRDU"
   },
   "source": [
    "Можно также сказать, что в среднем стоимость квартир не зависит от дня и месяца их публикации."
   ]
  },
  {
   "cell_type": "code",
   "execution_count": 281,
   "metadata": {
    "colab": {
     "base_uri": "https://localhost:8080/",
     "height": 266
    },
    "executionInfo": {
     "elapsed": 7516,
     "status": "ok",
     "timestamp": 1615992701864,
     "user": {
      "displayName": "Вадим Аникин",
      "photoUrl": "",
      "userId": "00271984842377798948"
     },
     "user_tz": -180
    },
    "id": "ows4XWGKOzCy",
    "outputId": "d2f66cf5-3198-4bad-dc65-1915cd63273d"
   },
   "outputs": [
    {
     "data": {
      "text/html": [
       "<div>\n",
       "<style scoped>\n",
       "    .dataframe tbody tr th:only-of-type {\n",
       "        vertical-align: middle;\n",
       "    }\n",
       "\n",
       "    .dataframe tbody tr th {\n",
       "        vertical-align: top;\n",
       "    }\n",
       "\n",
       "    .dataframe thead th {\n",
       "        text-align: right;\n",
       "    }\n",
       "</style>\n",
       "<table border=\"1\" class=\"dataframe\">\n",
       "  <thead>\n",
       "    <tr style=\"text-align: right;\">\n",
       "      <th></th>\n",
       "      <th>count</th>\n",
       "      <th>mean</th>\n",
       "      <th>median</th>\n",
       "    </tr>\n",
       "    <tr>\n",
       "      <th>year</th>\n",
       "      <th></th>\n",
       "      <th></th>\n",
       "      <th></th>\n",
       "    </tr>\n",
       "  </thead>\n",
       "  <tbody>\n",
       "    <tr>\n",
       "      <td>2014</td>\n",
       "      <td>15</td>\n",
       "      <td>12.144748</td>\n",
       "      <td>9.10</td>\n",
       "    </tr>\n",
       "    <tr>\n",
       "      <td>2015</td>\n",
       "      <td>129</td>\n",
       "      <td>10.708878</td>\n",
       "      <td>8.10</td>\n",
       "    </tr>\n",
       "    <tr>\n",
       "      <td>2016</td>\n",
       "      <td>324</td>\n",
       "      <td>11.120215</td>\n",
       "      <td>8.57</td>\n",
       "    </tr>\n",
       "    <tr>\n",
       "      <td>2017</td>\n",
       "      <td>905</td>\n",
       "      <td>10.929762</td>\n",
       "      <td>7.98</td>\n",
       "    </tr>\n",
       "    <tr>\n",
       "      <td>2018</td>\n",
       "      <td>915</td>\n",
       "      <td>9.256645</td>\n",
       "      <td>7.10</td>\n",
       "    </tr>\n",
       "    <tr>\n",
       "      <td>2019</td>\n",
       "      <td>165</td>\n",
       "      <td>9.457019</td>\n",
       "      <td>6.95</td>\n",
       "    </tr>\n",
       "  </tbody>\n",
       "</table>\n",
       "</div>"
      ],
      "text/plain": [
       "      count       mean  median\n",
       "year                          \n",
       "2014     15  12.144748    9.10\n",
       "2015    129  10.708878    8.10\n",
       "2016    324  11.120215    8.57\n",
       "2017    905  10.929762    7.98\n",
       "2018    915   9.256645    7.10\n",
       "2019    165   9.457019    6.95"
      ]
     },
     "execution_count": 281,
     "metadata": {},
     "output_type": "execute_result"
    }
   ],
   "source": [
    "df_center.pivot_table(index='year', values='last_price', aggfunc=('count', 'mean', 'median'))"
   ]
  },
  {
   "cell_type": "markdown",
   "metadata": {
    "id": "LFhA2wgvupzH"
   },
   "source": [
    "А вот с годом публикации все не так просто. И тут есть зависимость. Можно увидеть, что с годами квартиры становятся дешевле. Но здесь, возможно так же играет роль кол-во объявлений."
   ]
  },
  {
   "cell_type": "code",
   "execution_count": 282,
   "metadata": {},
   "outputs": [
    {
     "data": {
      "text/html": [
       "<div>\n",
       "<style scoped>\n",
       "    .dataframe tbody tr th:only-of-type {\n",
       "        vertical-align: middle;\n",
       "    }\n",
       "\n",
       "    .dataframe tbody tr th {\n",
       "        vertical-align: top;\n",
       "    }\n",
       "\n",
       "    .dataframe thead th {\n",
       "        text-align: right;\n",
       "    }\n",
       "</style>\n",
       "<table border=\"1\" class=\"dataframe\">\n",
       "  <thead>\n",
       "    <tr style=\"text-align: right;\">\n",
       "      <th></th>\n",
       "      <th>total_images</th>\n",
       "      <th>last_price</th>\n",
       "      <th>total_area</th>\n",
       "      <th>first_day_exposition</th>\n",
       "      <th>rooms</th>\n",
       "      <th>ceiling_height</th>\n",
       "      <th>floors_total</th>\n",
       "      <th>living_area</th>\n",
       "      <th>floor</th>\n",
       "      <th>is_apartment</th>\n",
       "      <th>...</th>\n",
       "      <th>ponds_nearest</th>\n",
       "      <th>days_exposition</th>\n",
       "      <th>price_metr2</th>\n",
       "      <th>floor_group</th>\n",
       "      <th>kichen_total_area</th>\n",
       "      <th>living_total_area</th>\n",
       "      <th>weekday</th>\n",
       "      <th>month</th>\n",
       "      <th>year</th>\n",
       "      <th>city_near_km</th>\n",
       "    </tr>\n",
       "  </thead>\n",
       "  <tbody>\n",
       "    <tr>\n",
       "      <td>0</td>\n",
       "      <td>20</td>\n",
       "      <td>13.000</td>\n",
       "      <td>108.0</td>\n",
       "      <td>2019-03-07</td>\n",
       "      <td>3</td>\n",
       "      <td>2.70</td>\n",
       "      <td>16.0</td>\n",
       "      <td>51.000000</td>\n",
       "      <td>8</td>\n",
       "      <td>False</td>\n",
       "      <td>...</td>\n",
       "      <td>755</td>\n",
       "      <td>NaN</td>\n",
       "      <td>120370.370370</td>\n",
       "      <td>другой</td>\n",
       "      <td>0.231481</td>\n",
       "      <td>0.472222</td>\n",
       "      <td>3</td>\n",
       "      <td>3</td>\n",
       "      <td>2019</td>\n",
       "      <td>16</td>\n",
       "    </tr>\n",
       "    <tr>\n",
       "      <td>1</td>\n",
       "      <td>7</td>\n",
       "      <td>3.350</td>\n",
       "      <td>40.4</td>\n",
       "      <td>2018-12-04</td>\n",
       "      <td>1</td>\n",
       "      <td>NaN</td>\n",
       "      <td>11.0</td>\n",
       "      <td>18.600000</td>\n",
       "      <td>1</td>\n",
       "      <td>False</td>\n",
       "      <td>...</td>\n",
       "      <td>Далеко</td>\n",
       "      <td>81.0</td>\n",
       "      <td>82920.792079</td>\n",
       "      <td>первый</td>\n",
       "      <td>0.272277</td>\n",
       "      <td>0.460396</td>\n",
       "      <td>1</td>\n",
       "      <td>12</td>\n",
       "      <td>2018</td>\n",
       "      <td>18</td>\n",
       "    </tr>\n",
       "    <tr>\n",
       "      <td>2</td>\n",
       "      <td>10</td>\n",
       "      <td>5.196</td>\n",
       "      <td>56.0</td>\n",
       "      <td>2015-08-20</td>\n",
       "      <td>2</td>\n",
       "      <td>NaN</td>\n",
       "      <td>5.0</td>\n",
       "      <td>34.300000</td>\n",
       "      <td>4</td>\n",
       "      <td>False</td>\n",
       "      <td>...</td>\n",
       "      <td>574</td>\n",
       "      <td>558.0</td>\n",
       "      <td>92785.714286</td>\n",
       "      <td>другой</td>\n",
       "      <td>0.148214</td>\n",
       "      <td>0.612500</td>\n",
       "      <td>3</td>\n",
       "      <td>8</td>\n",
       "      <td>2015</td>\n",
       "      <td>13</td>\n",
       "    </tr>\n",
       "    <tr>\n",
       "      <td>3</td>\n",
       "      <td>0</td>\n",
       "      <td>64.900</td>\n",
       "      <td>159.0</td>\n",
       "      <td>2015-07-24</td>\n",
       "      <td>3</td>\n",
       "      <td>NaN</td>\n",
       "      <td>14.0</td>\n",
       "      <td>90.289724</td>\n",
       "      <td>9</td>\n",
       "      <td>False</td>\n",
       "      <td>...</td>\n",
       "      <td>234</td>\n",
       "      <td>424.0</td>\n",
       "      <td>408176.100629</td>\n",
       "      <td>другой</td>\n",
       "      <td>0.187355</td>\n",
       "      <td>0.567860</td>\n",
       "      <td>4</td>\n",
       "      <td>7</td>\n",
       "      <td>2015</td>\n",
       "      <td>6</td>\n",
       "    </tr>\n",
       "    <tr>\n",
       "      <td>4</td>\n",
       "      <td>2</td>\n",
       "      <td>10.000</td>\n",
       "      <td>100.0</td>\n",
       "      <td>2018-06-19</td>\n",
       "      <td>2</td>\n",
       "      <td>3.03</td>\n",
       "      <td>14.0</td>\n",
       "      <td>32.000000</td>\n",
       "      <td>13</td>\n",
       "      <td>False</td>\n",
       "      <td>...</td>\n",
       "      <td>48</td>\n",
       "      <td>121.0</td>\n",
       "      <td>100000.000000</td>\n",
       "      <td>другой</td>\n",
       "      <td>0.410000</td>\n",
       "      <td>0.320000</td>\n",
       "      <td>1</td>\n",
       "      <td>6</td>\n",
       "      <td>2018</td>\n",
       "      <td>8</td>\n",
       "    </tr>\n",
       "  </tbody>\n",
       "</table>\n",
       "<p>5 rows × 30 columns</p>\n",
       "</div>"
      ],
      "text/plain": [
       "   total_images  last_price  total_area first_day_exposition  rooms  \\\n",
       "0            20      13.000       108.0           2019-03-07      3   \n",
       "1             7       3.350        40.4           2018-12-04      1   \n",
       "2            10       5.196        56.0           2015-08-20      2   \n",
       "3             0      64.900       159.0           2015-07-24      3   \n",
       "4             2      10.000       100.0           2018-06-19      2   \n",
       "\n",
       "   ceiling_height  floors_total  living_area  floor  is_apartment  ...  \\\n",
       "0            2.70          16.0    51.000000      8         False  ...   \n",
       "1             NaN          11.0    18.600000      1         False  ...   \n",
       "2             NaN           5.0    34.300000      4         False  ...   \n",
       "3             NaN          14.0    90.289724      9         False  ...   \n",
       "4            3.03          14.0    32.000000     13         False  ...   \n",
       "\n",
       "   ponds_nearest  days_exposition    price_metr2  floor_group  \\\n",
       "0            755              NaN  120370.370370       другой   \n",
       "1         Далеко             81.0   82920.792079       первый   \n",
       "2            574            558.0   92785.714286       другой   \n",
       "3            234            424.0  408176.100629       другой   \n",
       "4             48            121.0  100000.000000       другой   \n",
       "\n",
       "  kichen_total_area  living_total_area  weekday month  year city_near_km  \n",
       "0          0.231481           0.472222        3     3  2019           16  \n",
       "1          0.272277           0.460396        1    12  2018           18  \n",
       "2          0.148214           0.612500        3     8  2015           13  \n",
       "3          0.187355           0.567860        4     7  2015            6  \n",
       "4          0.410000           0.320000        1     6  2018            8  \n",
       "\n",
       "[5 rows x 30 columns]"
      ]
     },
     "execution_count": 282,
     "metadata": {},
     "output_type": "execute_result"
    }
   ],
   "source": [
    "df.head(5)"
   ]
  },
  {
   "cell_type": "markdown",
   "metadata": {
    "id": "VECQqYTJvFnj"
   },
   "source": [
    "# Вывод"
   ]
  },
  {
   "cell_type": "markdown",
   "metadata": {},
   "source": [
    "<div class=\"alert alert-block alert-info\">\n",
    "<b>Fixed:</b> \n",
    "Обновленный вывод\n",
    "</div>"
   ]
  },
  {
   "cell_type": "markdown",
   "metadata": {
    "id": "Bq-NpPU1vIpa"
   },
   "source": [
    "В данной работе я изучил данные сервиса Яндекс.Недвижимось.\n",
    "\n",
    "В самих данных были обнаружены множественные пропуски, некоторые из которых требовали заполнения, но осталось и те строки, в которых не возможна замена пропусков. Заполнение пропусков мной было произведено в столбцах: living_area, is_apartment, kitchen_area, balcony, locality_name, airports_nearest, cityCenters_nearest, parks_nearest и ponds_nearest.\n",
    "На мой взгляд, пропусков в таких столбцах как: balcony, is_apartment, можно было бы избежать, если бы пользователи при заполнении не оставляли эти столбцы пустыми, а заполняли, например, нулем. С другими пропусками все сложное, пользователи могли не знать высоту потолков или площадь кухни, по этой причине появлялись пропуски. Некоторые удалось заполнить логически. Например, пропуски в столбцах living_area и kitchen_area, удалось заполнить средними отношениями жилой площади к общей и площади кухни к общей площади. Пропуски в данных полученных автоматически на основе картографических данных, пришлось заполнить вручную, используя карты.\n",
    "\n",
    "После, я округлил значения в тех столбцах, в которых излишняя точность была не нужна. Изменил формат даты публикации объявления и добавил новые столбцы, в которых отображались день недели, месяц и год публикации объявления. Категорировал данные по столбцу floor, тем самым получил столбец, в котором было только 3 значения этажа. Для каждого объявления посчитал стоимость квадратного метра.\n",
    "\n",
    "Особенно важным было посмотреть на распределение величин, от которых может зависеть финальная стоимость квартиры. Для каждой величины я построил гистограмму. На основе гистограммы можно было убрать редкие и выбивающиеся значения. \n",
    "\n",
    "Используя обновлённый датафрейм, можно изучить зависимость цены от различных факторов. Для изучения зависимости я использовал корреляцию и для наглядности строил графики корреляции.\n",
    "\n",
    "Интересно было посмотреть, как распределение величин и зависимость цены от различных факторов меняется в центре города. Для этого нужно было выделить этот центр. Для этого я использовал график изменения цены по мере удаления от центра. По графику удалось определить, что центр будет считаться в радиусе 9 км. Затем, сравнивал распределение величин в центр и в общем, а также зависимость цены в центре и в общем. \n",
    "\n",
    "В заключение можно сделать вывод, что стоимость квартиры точно зависит от таких факторов как: общая площадь (чем больше площадь квартиры), населенный пункт, в котором находится квартира (квартира может находиться в Кудрово, где до центра 14 км, но стоить будет дешевле чем квартира в самом Санкт-Петербурге, хоть и до центра может быть больше 14 км. Потому что стоимость метра квадратного в Санкт-Петербурге выше), от расстояния до центра (все-такие чем ближе к центру, тем дороже встречаются квартиры), от этажа (первый или другой) и кол-ва комнат.\n"
   ]
  },
  {
   "cell_type": "markdown",
   "metadata": {},
   "source": [
    "<div class=\"alert alert-block alert-warning\">\n",
    "    \n",
    "<b>Remarks:</b> Общий вывод получился, к сожалению, недостаточно подробным. Подумай об этом так: общий вывод это резюме исследовательской работы и большинстов заказчиков начнут читать работу именно с него. Он должен содержать все обнаруженные инсайды, рекомендации и главное цифры.</div>"
   ]
  }
 ],
 "metadata": {
  "colab": {
   "authorship_tag": "ABX9TyNmcF3EGa7o9RUszPqoaLfm",
   "collapsed_sections": [],
   "name": "Проект Недвиж.ipynb",
   "provenance": [],
   "toc_visible": true
  },
  "kernelspec": {
   "display_name": "Python 3",
   "language": "python",
   "name": "python3"
  },
  "language_info": {
   "codemirror_mode": {
    "name": "ipython",
    "version": 3
   },
   "file_extension": ".py",
   "mimetype": "text/x-python",
   "name": "python",
   "nbconvert_exporter": "python",
   "pygments_lexer": "ipython3",
   "version": "3.7.8"
  },
  "toc": {
   "base_numbering": 1,
   "nav_menu": {},
   "number_sections": true,
   "sideBar": true,
   "skip_h1_title": true,
   "title_cell": "Table of Contents",
   "title_sidebar": "Contents",
   "toc_cell": false,
   "toc_position": {},
   "toc_section_display": true,
   "toc_window_display": false
  }
 },
 "nbformat": 4,
 "nbformat_minor": 1
}
