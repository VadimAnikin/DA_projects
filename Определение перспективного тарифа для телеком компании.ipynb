{
 "cells": [
  {
   "cell_type": "markdown",
   "metadata": {},
   "source": [
    "<div class=\"alert alert-block alert-info\">\n",
    "Привет, Алексей! Спасибо за твои комментарии, приму все к сведению и в следующих проектах буду обязательно делать содержание.\n",
    "\n",
    "Исправил ошибки и добавил свои комментарии к твоим.\n",
    "\n",
    "Мои комментарии будут отмечены в таких синих блоках\n",
    "\n",
    "</div>"
   ]
  },
  {
   "cell_type": "markdown",
   "metadata": {},
   "source": [
    "Привет, Вадим!\n",
    "Надеюсь, ты не против, что мы с тобой будем на \"ты\". Меня зовут Комиссаров Алексей. Я буду проверять твою работу и помогать тебе в освоении материала. Я буду использовать следующую цветовую разметку:\n",
    "\n",
    "<div class=\"alert alert-danger\">\n",
    "<b>Комментарий от ревьюера:</b> Так я отмечаю пункты твоей работы, которые необходимо будет переделать.  </div>\n",
    "\n",
    "<div class=\"alert alert-warning\">\n",
    "<b>Комментарий от ревьюера:</b> Так я отмечаю то, что можно было бы улучшить/изменить/учесть или же добавляю пояснения к комментариям другого типа. Необходимости переделывать эти пункты нет, но принять во внимание стоит.</div>\n",
    "\n",
    "<div class=\"alert alert-success\">\n",
    "<b>Комментарий от ревьюера:</b> Так я выделяю все остальные комментарии и особо удачные моменты твоей работы.</div><br/>\n",
    "\n",
    "Разбирать твою работу мы будем в формате диалога, поэтому прошу отвечать на мои комментарии, задавать вопросы, если они возникли, и делать это в отдельном блоке таким цветом, который ты выберешь.<br/><br/>\n",
    "\n",
    "Прошу тебя не удалять эти комментарии, они нам помогут отследить историю изменений.\n",
    "<hr style=\"border: 1px solid #000;\">"
   ]
  },
  {
   "cell_type": "markdown",
   "metadata": {},
   "source": [
    "<div class=\"alert alert-block alert-info\">\n",
    "<b>Fixed:</b>\n",
    "Добавил содержание\n",
    "</div>"
   ]
  },
  {
   "cell_type": "markdown",
   "metadata": {},
   "source": [
    "\n",
    "<b><font size=5>Содержание</font></b><a name=\"to_content.\"></a>\n",
    "* [Введение](#0.)\n",
    "* [1. Откроем файл с данными и изучим общую информацию.](#1.)\n",
    "* [2. Подготовим данные.](#2.)\n",
    "* [3. Проанализируем данные.](#3.) \n",
    "* [4. Проверим гипотезы.](#4.)\n",
    "* [Вывод.](#5.)"
   ]
  },
  {
   "cell_type": "markdown",
   "metadata": {},
   "source": [
    "<hr style=\"border: 1px solid #000;\"> \n",
    "\n",
    "<div class=\"alert alert-success\">\n",
    "\n",
    "<strong><font size=5>Комментарий от студента (v.2)</font></strong><br/>\n",
    "    \n",
    "Теперь отлично.\n",
    "    \n",
    "</div>\n",
    "<hr style=\"border: 1px solid #000;\"> "
   ]
  },
  {
   "cell_type": "markdown",
   "metadata": {},
   "source": [
    "<b><font size=5>Введение</font></b><a name=\"0.\"></a><br/>\n",
    "[<font size=\"2\">(к содержанию)</font>](#to_content.)"
   ]
  },
  {
   "cell_type": "markdown",
   "metadata": {},
   "source": [
    "Цель работы - проанализировать пользователей «Мегалайна» и сделать вывод - какой тариф лучше.\n",
    "В нашем распоряжении небольшая выборка (данные 500 человек).\n",
    "\n",
    "Для начала нужно ознакомиться с самими данными и подготовить их к анализу (найдем и исправим ошибки, приведем данные к нужны типам)\n",
    "\n",
    "Для каждого клиента посчитаем кол-во сделанных звонков и потраченных минут на разговоры, кол-во отправленных сообщений и объем израсходованного трафика.Затем подсчитаем помесячную выручку.После проанализируем данные: опишем поведение клиентов оператора, исходя из выборки. И в конце проверим пару гипотез.\n",
    "Описание тарифов\n",
    "\n",
    "Тариф «Смарт»\n",
    "\n",
    "Ежемесячная плата: 550 рублей\n",
    "\n",
    "Включено 500 минут разговора, 50 сообщений и 15 Гб интернет-трафика\n",
    "\n",
    "Стоимость услуг сверх тарифного пакета:\n",
    "\n",
    "минута разговора: 3 рубля\n",
    "\n",
    "сообщение: 3 рубля\n",
    "\n",
    "1 Гб интернет-трафика: 200 рублей\n",
    "\n",
    "Тариф «Ультра»\n",
    "\n",
    "Ежемесячная плата: 1950 рублей\n",
    "\n",
    "Включено 3000 минут разговора, 1000 сообщений и 30 Гб интернет-трафик\n",
    "\n",
    "Стоимость услуг сверх тарифного пакета:\n",
    "\n",
    "минута разговора: 1 рубль\n",
    "\n",
    "сообщение: 1 рубль\n",
    "\n",
    "1 Гб интернет-трафика: 150 рублей\n",
    "\n",
    "Обратим внимание на то, что «Мегалайн» всегда округляет вверх значения минут и мегабайтов. Если пользователь проговорил всего 1 секунду, в тарифе засчитывается целая минута.\n"
   ]
  },
  {
   "cell_type": "markdown",
   "metadata": {},
   "source": [
    "<hr style=\"border: 1px solid #000;\"> \n",
    "\n",
    "<div class=\"alert alert-warning\">\n",
    "\n",
    "<strong><font size=5>Комментарий от ревьюера</font></strong><br/>\n",
    "    \n",
    "Рекомендую работу начинать с содержания. Оно поможет тебе перемещаться по проекту и позволит не забыть какой-либо из пунктов работы. И работа будет выглядеть более презентабельной.<br/><br/>\n",
    "Пусть это и не критично, но отмечу этот пункт как обязательный к проработке. Буду рад тебе помочь с этим.\n",
    "    \n",
    "</div>"
   ]
  },
  {
   "cell_type": "markdown",
   "metadata": {},
   "source": [
    "<div class=\"alert alert-warning\">\n",
    "\n",
    "И приведу пример:\n",
    "    \n",
    "</div>"
   ]
  },
  {
   "cell_type": "markdown",
   "metadata": {},
   "source": [
    "<b><font size=5>Содержание</font></b><a name=\"to_content.\"></a>\n",
    "* [0. Описание проекта](#0.)\n",
    "* [1. Откройте файл с данными и изучите общую информацию](#1.)\n",
    "     - [1.1. Вывод](#1.1.)\n",
    "  [2. Предобработка данных](#2.)\n",
    "     - [2.1. Работа с пропусками](#2.1.)\n",
    "     - [2.1.1. Подсчет отсутствующих значений в столбцах](#2.1.1)\n",
    "* [4. Итоги](#4.)"
   ]
  },
  {
   "cell_type": "markdown",
   "metadata": {},
   "source": [
    "<div class=\"alert alert-warning\">\n",
    "    \n",
    "Как ты можешь видеть, мы помимо указания текста в квадратных скобках, добавляем ещё гиперссылку на пункт:\n",
    "```html\n",
    "(#0.)\n",
    "```\n",
    "А в ячейке того пункта, к которому мы должны переместиться при нажатии на этот пункт в содержании, добавляем:\n",
    "```html\n",
    "<a name=\"0.\"></a>\n",
    "```\n",
    "Обрати внимание, что в блок <b>Содержание</b> я ещё добавил \n",
    "```html\n",
    "<a name=\"to_content.\"></a>\n",
    "```\n",
    "Это позволит нам из каждого пункта возвращаться обратно к содержанию. А у каждого пункта добавляем что-то похожее на <b>\"(к содержанию)\"</b>, чтобы перемещаться обратно к содержанию. Очень удобно, когда у нас работает переход как от содержания к конкретному пункту, так и от конкретного пункта обратно к содержанию. \n",
    "    \n",
    "    \n",
    "Ниже создаю тестовую ячейку. На неё переместится экран при нажатии на \"1.1. Пункт 1.1\" в содержании. А когда мы нажмем <b>\"(к содержанию)\"</b>, то мы вернемся обратно к содержанию. Попробуй :)\n",
    "</div>"
   ]
  },
  {
   "cell_type": "markdown",
   "metadata": {},
   "source": [
    "<b><font size=5>Описание проекта</font></b><a name=\"45.\"></a><br/>\n",
    "[<font size=\"2\">(к содержанию)</font>](#to_content.)"
   ]
  },
  {
   "cell_type": "markdown",
   "metadata": {},
   "source": [
    "<div class=\"alert alert-warning\">\n",
    "    \n",
    "Поэтому очень рекомендую поработать над содержанием. Нам оно очень поможет.\n",
    "</div>\n",
    "<hr style=\"border: 1px solid #000;\"> "
   ]
  },
  {
   "cell_type": "markdown",
   "metadata": {},
   "source": [
    "<b><font size=5>1. Откроем файл с данными и изучим общую информацию.</font></b><a name=\"1.\"></a><br/>\n",
    "[<font size=\"2\">(к содержанию)</font>](#to_content.)"
   ]
  },
  {
   "cell_type": "code",
   "execution_count": 1,
   "metadata": {},
   "outputs": [],
   "source": [
    "import pandas as pd\n",
    "import math\n",
    "import numpy as np\n",
    "import matplotlib.pyplot as plt\n",
    "import pylab as pl\n",
    "import seaborn as sns\n",
    "import warnings\n",
    "warnings.filterwarnings('ignore')"
   ]
  },
  {
   "cell_type": "markdown",
   "metadata": {},
   "source": [
    "Открываем все данные"
   ]
  },
  {
   "cell_type": "code",
   "execution_count": 2,
   "metadata": {},
   "outputs": [],
   "source": [
    "df=pd.read_csv('/datasets/calls.csv')\n",
    "internet=pd.read_csv('/datasets/internet.csv')\n",
    "messages=pd.read_csv('/datasets/messages.csv')\n",
    "tariffs=pd.read_csv('/datasets/tariffs.csv')\n",
    "users=pd.read_csv('/datasets/users.csv')"
   ]
  },
  {
   "cell_type": "markdown",
   "metadata": {},
   "source": [
    "Для начала посмотрим данные по звонкам "
   ]
  },
  {
   "cell_type": "code",
   "execution_count": 3,
   "metadata": {},
   "outputs": [
    {
     "data": {
      "text/html": [
       "<div>\n",
       "<style scoped>\n",
       "    .dataframe tbody tr th:only-of-type {\n",
       "        vertical-align: middle;\n",
       "    }\n",
       "\n",
       "    .dataframe tbody tr th {\n",
       "        vertical-align: top;\n",
       "    }\n",
       "\n",
       "    .dataframe thead th {\n",
       "        text-align: right;\n",
       "    }\n",
       "</style>\n",
       "<table border=\"1\" class=\"dataframe\">\n",
       "  <thead>\n",
       "    <tr style=\"text-align: right;\">\n",
       "      <th></th>\n",
       "      <th>id</th>\n",
       "      <th>call_date</th>\n",
       "      <th>duration</th>\n",
       "      <th>user_id</th>\n",
       "    </tr>\n",
       "  </thead>\n",
       "  <tbody>\n",
       "    <tr>\n",
       "      <td>0</td>\n",
       "      <td>1000_0</td>\n",
       "      <td>2018-07-25</td>\n",
       "      <td>0.00</td>\n",
       "      <td>1000</td>\n",
       "    </tr>\n",
       "    <tr>\n",
       "      <td>1</td>\n",
       "      <td>1000_1</td>\n",
       "      <td>2018-08-17</td>\n",
       "      <td>0.00</td>\n",
       "      <td>1000</td>\n",
       "    </tr>\n",
       "    <tr>\n",
       "      <td>2</td>\n",
       "      <td>1000_2</td>\n",
       "      <td>2018-06-11</td>\n",
       "      <td>2.85</td>\n",
       "      <td>1000</td>\n",
       "    </tr>\n",
       "    <tr>\n",
       "      <td>3</td>\n",
       "      <td>1000_3</td>\n",
       "      <td>2018-09-21</td>\n",
       "      <td>13.80</td>\n",
       "      <td>1000</td>\n",
       "    </tr>\n",
       "    <tr>\n",
       "      <td>4</td>\n",
       "      <td>1000_4</td>\n",
       "      <td>2018-12-15</td>\n",
       "      <td>5.18</td>\n",
       "      <td>1000</td>\n",
       "    </tr>\n",
       "    <tr>\n",
       "      <td>...</td>\n",
       "      <td>...</td>\n",
       "      <td>...</td>\n",
       "      <td>...</td>\n",
       "      <td>...</td>\n",
       "    </tr>\n",
       "    <tr>\n",
       "      <td>202602</td>\n",
       "      <td>1499_215</td>\n",
       "      <td>2018-12-26</td>\n",
       "      <td>0.76</td>\n",
       "      <td>1499</td>\n",
       "    </tr>\n",
       "    <tr>\n",
       "      <td>202603</td>\n",
       "      <td>1499_216</td>\n",
       "      <td>2018-10-18</td>\n",
       "      <td>18.83</td>\n",
       "      <td>1499</td>\n",
       "    </tr>\n",
       "    <tr>\n",
       "      <td>202604</td>\n",
       "      <td>1499_217</td>\n",
       "      <td>2018-11-10</td>\n",
       "      <td>10.81</td>\n",
       "      <td>1499</td>\n",
       "    </tr>\n",
       "    <tr>\n",
       "      <td>202605</td>\n",
       "      <td>1499_218</td>\n",
       "      <td>2018-10-06</td>\n",
       "      <td>4.27</td>\n",
       "      <td>1499</td>\n",
       "    </tr>\n",
       "    <tr>\n",
       "      <td>202606</td>\n",
       "      <td>1499_219</td>\n",
       "      <td>2018-12-14</td>\n",
       "      <td>19.62</td>\n",
       "      <td>1499</td>\n",
       "    </tr>\n",
       "  </tbody>\n",
       "</table>\n",
       "<p>202607 rows × 4 columns</p>\n",
       "</div>"
      ],
      "text/plain": [
       "              id   call_date  duration  user_id\n",
       "0         1000_0  2018-07-25      0.00     1000\n",
       "1         1000_1  2018-08-17      0.00     1000\n",
       "2         1000_2  2018-06-11      2.85     1000\n",
       "3         1000_3  2018-09-21     13.80     1000\n",
       "4         1000_4  2018-12-15      5.18     1000\n",
       "...          ...         ...       ...      ...\n",
       "202602  1499_215  2018-12-26      0.76     1499\n",
       "202603  1499_216  2018-10-18     18.83     1499\n",
       "202604  1499_217  2018-11-10     10.81     1499\n",
       "202605  1499_218  2018-10-06      4.27     1499\n",
       "202606  1499_219  2018-12-14     19.62     1499\n",
       "\n",
       "[202607 rows x 4 columns]"
      ]
     },
     "execution_count": 3,
     "metadata": {},
     "output_type": "execute_result"
    }
   ],
   "source": [
    "df"
   ]
  },
  {
   "cell_type": "markdown",
   "metadata": {},
   "source": [
    "Первое что хотелось бы сделать это округлить все значения минут до целых, при чем в большую сторону "
   ]
  },
  {
   "cell_type": "markdown",
   "metadata": {},
   "source": [
    "<div class=\"alert alert-block alert-info\">\n",
    "<b>Fixed:</b>\n",
    "Исправил\n",
    "</div>"
   ]
  },
  {
   "cell_type": "code",
   "execution_count": 4,
   "metadata": {},
   "outputs": [],
   "source": [
    "def duration_new(duration):\n",
    "    return math.ceil(duration)\n",
    "df['duration']=df['duration'].apply(duration_new)"
   ]
  },
  {
   "cell_type": "markdown",
   "metadata": {},
   "source": [
    "<hr style=\"border: 1px solid #000;\"> \n",
    "\n",
    "<div class=\"alert alert-danger\">\n",
    "\n",
    "<strong><font size=5>Комментарий от студента</font></strong><br/>\n",
    "    \n",
    "Не могу согласиться. А если у нас была ровно 1 минута (1.0), мы её превращаем в 2 минуты? Что округляешь, это очень правильно. Только стоит выбрать немного иной способ для этого. Попробуй подумать над этим. Если не получится решить, разберём.\n",
    "    \n",
    "</div>\n",
    "<hr style=\"border: 1px solid #000;\"> "
   ]
  },
  {
   "cell_type": "markdown",
   "metadata": {},
   "source": [
    "<hr style=\"border: 1px solid #000;\"> \n",
    "\n",
    "<div class=\"alert alert-success\">\n",
    "\n",
    "<strong><font size=5>Комментарий от студента (v.2)</font></strong><br/>\n",
    "    \n",
    "Теперь согласен.\n",
    "    \n",
    "</div>\n",
    "<hr style=\"border: 1px solid #000;\"> "
   ]
  },
  {
   "cell_type": "code",
   "execution_count": 5,
   "metadata": {},
   "outputs": [
    {
     "data": {
      "text/html": [
       "<div>\n",
       "<style scoped>\n",
       "    .dataframe tbody tr th:only-of-type {\n",
       "        vertical-align: middle;\n",
       "    }\n",
       "\n",
       "    .dataframe tbody tr th {\n",
       "        vertical-align: top;\n",
       "    }\n",
       "\n",
       "    .dataframe thead th {\n",
       "        text-align: right;\n",
       "    }\n",
       "</style>\n",
       "<table border=\"1\" class=\"dataframe\">\n",
       "  <thead>\n",
       "    <tr style=\"text-align: right;\">\n",
       "      <th></th>\n",
       "      <th>id</th>\n",
       "      <th>call_date</th>\n",
       "      <th>duration</th>\n",
       "      <th>user_id</th>\n",
       "    </tr>\n",
       "  </thead>\n",
       "  <tbody>\n",
       "    <tr>\n",
       "      <td>0</td>\n",
       "      <td>1000_0</td>\n",
       "      <td>2018-07-25</td>\n",
       "      <td>0</td>\n",
       "      <td>1000</td>\n",
       "    </tr>\n",
       "    <tr>\n",
       "      <td>1</td>\n",
       "      <td>1000_1</td>\n",
       "      <td>2018-08-17</td>\n",
       "      <td>0</td>\n",
       "      <td>1000</td>\n",
       "    </tr>\n",
       "    <tr>\n",
       "      <td>2</td>\n",
       "      <td>1000_2</td>\n",
       "      <td>2018-06-11</td>\n",
       "      <td>3</td>\n",
       "      <td>1000</td>\n",
       "    </tr>\n",
       "    <tr>\n",
       "      <td>3</td>\n",
       "      <td>1000_3</td>\n",
       "      <td>2018-09-21</td>\n",
       "      <td>14</td>\n",
       "      <td>1000</td>\n",
       "    </tr>\n",
       "    <tr>\n",
       "      <td>4</td>\n",
       "      <td>1000_4</td>\n",
       "      <td>2018-12-15</td>\n",
       "      <td>6</td>\n",
       "      <td>1000</td>\n",
       "    </tr>\n",
       "  </tbody>\n",
       "</table>\n",
       "</div>"
      ],
      "text/plain": [
       "       id   call_date  duration  user_id\n",
       "0  1000_0  2018-07-25         0     1000\n",
       "1  1000_1  2018-08-17         0     1000\n",
       "2  1000_2  2018-06-11         3     1000\n",
       "3  1000_3  2018-09-21        14     1000\n",
       "4  1000_4  2018-12-15         6     1000"
      ]
     },
     "execution_count": 5,
     "metadata": {},
     "output_type": "execute_result"
    }
   ],
   "source": [
    "df.head()"
   ]
  },
  {
   "cell_type": "markdown",
   "metadata": {},
   "source": [
    "Посмотрим на обновленные данные, теперь все как считает Мегалайн"
   ]
  },
  {
   "cell_type": "code",
   "execution_count": 6,
   "metadata": {},
   "outputs": [
    {
     "data": {
      "text/plain": [
       "Text(0, 0.5, 'Кол-во')"
      ]
     },
     "execution_count": 6,
     "metadata": {},
     "output_type": "execute_result"
    },
    {
     "data": {
      "image/png": "[encoded data removed]",
      "text/plain": [
       "<Figure size 432x288 with 1 Axes>"
      ]
     },
     "metadata": {
      "needs_background": "light"
     },
     "output_type": "display_data"
    }
   ],
   "source": [
    "df['duration'].hist(bins=50)\n",
    "pl.title(\"Гистограмма разговорных минут для тарифа смарт(1.2018-12.2018)\")\n",
    "pl.xlabel(\"Минуты, мин\")\n",
    "pl.ylabel(\"Кол-во\")"
   ]
  },
  {
   "cell_type": "markdown",
   "metadata": {},
   "source": [
    "Посмотри на распределение длительности звонков в минутах. Заметно, что большое кол-во длительности звонков равно 0."
   ]
  },
  {
   "cell_type": "markdown",
   "metadata": {},
   "source": [
    "На мой взгляд это просто пропущенные и отклоненные звонки и от них нужно избавится, они никак не влияют на расход тарифа."
   ]
  },
  {
   "cell_type": "code",
   "execution_count": 7,
   "metadata": {},
   "outputs": [],
   "source": [
    "df=df.query('duration>0')"
   ]
  },
  {
   "cell_type": "markdown",
   "metadata": {},
   "source": [
    "Уберем все пропущенные звонки."
   ]
  },
  {
   "cell_type": "markdown",
   "metadata": {},
   "source": [
    "<hr style=\"border: 1px solid #000;\"> \n",
    "\n",
    "<div class=\"alert alert-success\">\n",
    "\n",
    "<strong><font size=5>Комментарий от студента</font></strong><br/>\n",
    "    \n",
    "Такое решение поддерживаю.\n",
    "    \n",
    "</div>\n",
    "<hr style=\"border: 1px solid #000;\"> "
   ]
  },
  {
   "cell_type": "code",
   "execution_count": 8,
   "metadata": {},
   "outputs": [],
   "source": [
    "df['call_date'] = pd.to_datetime(df['call_date'], format='%Y-%m-%d')"
   ]
  },
  {
   "cell_type": "markdown",
   "metadata": {},
   "source": [
    "<hr style=\"border: 1px solid #000;\"> \n",
    "\n",
    "<div class=\"alert alert-success\">\n",
    "\n",
    "<strong><font size=5>Комментарий от ревьюера</font></strong><br/>\n",
    "    \n",
    "Кстати, чтобы не получать эти иногда избыточные предупреждения (на красном фоне), можно воспользоваться этим модулем и настройкой:\n",
    "```python\n",
    "import warnings\n",
    "warnings.filterwarnings('ignore')\n",
    "```    \n",
    "    \n",
    "</div>\n",
    "<hr style=\"border: 1px solid #000;\"> "
   ]
  },
  {
   "cell_type": "code",
   "execution_count": 9,
   "metadata": {},
   "outputs": [],
   "source": [
    "df['month']=df['call_date'].dt.month"
   ]
  },
  {
   "cell_type": "markdown",
   "metadata": {},
   "source": [
    "Изменим формат даты, чтобы добавить в таблицу месяц для каждого звонка."
   ]
  },
  {
   "cell_type": "code",
   "execution_count": 10,
   "metadata": {},
   "outputs": [],
   "source": [
    "calls_month_count=df.pivot_table(index='user_id', columns='month', values='duration', aggfunc=['count'])"
   ]
  },
  {
   "cell_type": "markdown",
   "metadata": {},
   "source": [
    "Посмотрим сколько каждый пользователь совершал звонков в разных месяцах"
   ]
  },
  {
   "cell_type": "code",
   "execution_count": 11,
   "metadata": {},
   "outputs": [],
   "source": [
    "calls_month_count=calls_month_count.fillna(0)"
   ]
  },
  {
   "cell_type": "markdown",
   "metadata": {},
   "source": [
    "Заменим пропуски на 0, которые могут появиться из-за того, что человек мог не совершать звонки в определенном месяце "
   ]
  },
  {
   "cell_type": "code",
   "execution_count": 12,
   "metadata": {},
   "outputs": [],
   "source": [
    "calls_month_count=calls_month_count.astype('int')\n",
    "calls_month_count.columns=['1', '2', '3', '4', '5', '6', '7', '8' ,'9' ,'10', '11' ,'12']"
   ]
  },
  {
   "cell_type": "markdown",
   "metadata": {},
   "source": [
    "Изменим тип данных и названия столбцов"
   ]
  },
  {
   "cell_type": "code",
   "execution_count": 13,
   "metadata": {},
   "outputs": [],
   "source": [
    "tariff = pd.DataFrame({'user_id': users['user_id'], 'tariff': users['tariff']})"
   ]
  },
  {
   "cell_type": "markdown",
   "metadata": {},
   "source": [
    "Создадим новый датафрейм под названием тариф, где будет записаны тарифы для каждого пользователя"
   ]
  },
  {
   "cell_type": "code",
   "execution_count": 14,
   "metadata": {},
   "outputs": [
    {
     "data": {
      "text/html": [
       "<div>\n",
       "<style scoped>\n",
       "    .dataframe tbody tr th:only-of-type {\n",
       "        vertical-align: middle;\n",
       "    }\n",
       "\n",
       "    .dataframe tbody tr th {\n",
       "        vertical-align: top;\n",
       "    }\n",
       "\n",
       "    .dataframe thead th {\n",
       "        text-align: right;\n",
       "    }\n",
       "</style>\n",
       "<table border=\"1\" class=\"dataframe\">\n",
       "  <thead>\n",
       "    <tr style=\"text-align: right;\">\n",
       "      <th></th>\n",
       "      <th>user_id</th>\n",
       "      <th>tariff</th>\n",
       "      <th>1</th>\n",
       "      <th>2</th>\n",
       "      <th>3</th>\n",
       "      <th>4</th>\n",
       "      <th>5</th>\n",
       "      <th>6</th>\n",
       "      <th>7</th>\n",
       "      <th>8</th>\n",
       "      <th>9</th>\n",
       "      <th>10</th>\n",
       "      <th>11</th>\n",
       "      <th>12</th>\n",
       "    </tr>\n",
       "  </thead>\n",
       "  <tbody>\n",
       "    <tr>\n",
       "      <td>0</td>\n",
       "      <td>1000</td>\n",
       "      <td>ultra</td>\n",
       "      <td>0.0</td>\n",
       "      <td>0.0</td>\n",
       "      <td>0.0</td>\n",
       "      <td>0.0</td>\n",
       "      <td>17.0</td>\n",
       "      <td>28.0</td>\n",
       "      <td>41.0</td>\n",
       "      <td>42.0</td>\n",
       "      <td>46.0</td>\n",
       "      <td>44.0</td>\n",
       "      <td>37.0</td>\n",
       "      <td>38.0</td>\n",
       "    </tr>\n",
       "    <tr>\n",
       "      <td>1</td>\n",
       "      <td>1001</td>\n",
       "      <td>smart</td>\n",
       "      <td>0.0</td>\n",
       "      <td>0.0</td>\n",
       "      <td>0.0</td>\n",
       "      <td>0.0</td>\n",
       "      <td>0.0</td>\n",
       "      <td>0.0</td>\n",
       "      <td>0.0</td>\n",
       "      <td>0.0</td>\n",
       "      <td>0.0</td>\n",
       "      <td>0.0</td>\n",
       "      <td>45.0</td>\n",
       "      <td>47.0</td>\n",
       "    </tr>\n",
       "    <tr>\n",
       "      <td>2</td>\n",
       "      <td>1002</td>\n",
       "      <td>smart</td>\n",
       "      <td>0.0</td>\n",
       "      <td>0.0</td>\n",
       "      <td>0.0</td>\n",
       "      <td>0.0</td>\n",
       "      <td>0.0</td>\n",
       "      <td>14.0</td>\n",
       "      <td>21.0</td>\n",
       "      <td>37.0</td>\n",
       "      <td>25.0</td>\n",
       "      <td>24.0</td>\n",
       "      <td>25.0</td>\n",
       "      <td>27.0</td>\n",
       "    </tr>\n",
       "    <tr>\n",
       "      <td>3</td>\n",
       "      <td>1003</td>\n",
       "      <td>ultra</td>\n",
       "      <td>0.0</td>\n",
       "      <td>0.0</td>\n",
       "      <td>0.0</td>\n",
       "      <td>0.0</td>\n",
       "      <td>0.0</td>\n",
       "      <td>0.0</td>\n",
       "      <td>0.0</td>\n",
       "      <td>43.0</td>\n",
       "      <td>105.0</td>\n",
       "      <td>97.0</td>\n",
       "      <td>95.0</td>\n",
       "      <td>88.0</td>\n",
       "    </tr>\n",
       "    <tr>\n",
       "      <td>4</td>\n",
       "      <td>1004</td>\n",
       "      <td>ultra</td>\n",
       "      <td>0.0</td>\n",
       "      <td>0.0</td>\n",
       "      <td>0.0</td>\n",
       "      <td>0.0</td>\n",
       "      <td>7.0</td>\n",
       "      <td>25.0</td>\n",
       "      <td>20.0</td>\n",
       "      <td>18.0</td>\n",
       "      <td>18.0</td>\n",
       "      <td>21.0</td>\n",
       "      <td>15.0</td>\n",
       "      <td>15.0</td>\n",
       "    </tr>\n",
       "    <tr>\n",
       "      <td>...</td>\n",
       "      <td>...</td>\n",
       "      <td>...</td>\n",
       "      <td>...</td>\n",
       "      <td>...</td>\n",
       "      <td>...</td>\n",
       "      <td>...</td>\n",
       "      <td>...</td>\n",
       "      <td>...</td>\n",
       "      <td>...</td>\n",
       "      <td>...</td>\n",
       "      <td>...</td>\n",
       "      <td>...</td>\n",
       "      <td>...</td>\n",
       "      <td>...</td>\n",
       "    </tr>\n",
       "    <tr>\n",
       "      <td>495</td>\n",
       "      <td>1495</td>\n",
       "      <td>ultra</td>\n",
       "      <td>0.0</td>\n",
       "      <td>0.0</td>\n",
       "      <td>0.0</td>\n",
       "      <td>0.0</td>\n",
       "      <td>0.0</td>\n",
       "      <td>0.0</td>\n",
       "      <td>0.0</td>\n",
       "      <td>13.0</td>\n",
       "      <td>95.0</td>\n",
       "      <td>126.0</td>\n",
       "      <td>112.0</td>\n",
       "      <td>120.0</td>\n",
       "    </tr>\n",
       "    <tr>\n",
       "      <td>496</td>\n",
       "      <td>1496</td>\n",
       "      <td>smart</td>\n",
       "      <td>6.0</td>\n",
       "      <td>65.0</td>\n",
       "      <td>67.0</td>\n",
       "      <td>52.0</td>\n",
       "      <td>50.0</td>\n",
       "      <td>57.0</td>\n",
       "      <td>63.0</td>\n",
       "      <td>62.0</td>\n",
       "      <td>58.0</td>\n",
       "      <td>56.0</td>\n",
       "      <td>66.0</td>\n",
       "      <td>65.0</td>\n",
       "    </tr>\n",
       "    <tr>\n",
       "      <td>497</td>\n",
       "      <td>1497</td>\n",
       "      <td>smart</td>\n",
       "      <td>0.0</td>\n",
       "      <td>0.0</td>\n",
       "      <td>0.0</td>\n",
       "      <td>0.0</td>\n",
       "      <td>0.0</td>\n",
       "      <td>0.0</td>\n",
       "      <td>0.0</td>\n",
       "      <td>0.0</td>\n",
       "      <td>0.0</td>\n",
       "      <td>50.0</td>\n",
       "      <td>48.0</td>\n",
       "      <td>58.0</td>\n",
       "    </tr>\n",
       "    <tr>\n",
       "      <td>498</td>\n",
       "      <td>1498</td>\n",
       "      <td>smart</td>\n",
       "      <td>0.0</td>\n",
       "      <td>0.0</td>\n",
       "      <td>0.0</td>\n",
       "      <td>0.0</td>\n",
       "      <td>0.0</td>\n",
       "      <td>0.0</td>\n",
       "      <td>20.0</td>\n",
       "      <td>43.0</td>\n",
       "      <td>53.0</td>\n",
       "      <td>30.0</td>\n",
       "      <td>0.0</td>\n",
       "      <td>0.0</td>\n",
       "    </tr>\n",
       "    <tr>\n",
       "      <td>499</td>\n",
       "      <td>1499</td>\n",
       "      <td>smart</td>\n",
       "      <td>0.0</td>\n",
       "      <td>0.0</td>\n",
       "      <td>0.0</td>\n",
       "      <td>0.0</td>\n",
       "      <td>0.0</td>\n",
       "      <td>0.0</td>\n",
       "      <td>0.0</td>\n",
       "      <td>0.0</td>\n",
       "      <td>8.0</td>\n",
       "      <td>44.0</td>\n",
       "      <td>62.0</td>\n",
       "      <td>56.0</td>\n",
       "    </tr>\n",
       "  </tbody>\n",
       "</table>\n",
       "<p>500 rows × 14 columns</p>\n",
       "</div>"
      ],
      "text/plain": [
       "     user_id tariff    1     2     3     4     5     6     7     8      9  \\\n",
       "0       1000  ultra  0.0   0.0   0.0   0.0  17.0  28.0  41.0  42.0   46.0   \n",
       "1       1001  smart  0.0   0.0   0.0   0.0   0.0   0.0   0.0   0.0    0.0   \n",
       "2       1002  smart  0.0   0.0   0.0   0.0   0.0  14.0  21.0  37.0   25.0   \n",
       "3       1003  ultra  0.0   0.0   0.0   0.0   0.0   0.0   0.0  43.0  105.0   \n",
       "4       1004  ultra  0.0   0.0   0.0   0.0   7.0  25.0  20.0  18.0   18.0   \n",
       "..       ...    ...  ...   ...   ...   ...   ...   ...   ...   ...    ...   \n",
       "495     1495  ultra  0.0   0.0   0.0   0.0   0.0   0.0   0.0  13.0   95.0   \n",
       "496     1496  smart  6.0  65.0  67.0  52.0  50.0  57.0  63.0  62.0   58.0   \n",
       "497     1497  smart  0.0   0.0   0.0   0.0   0.0   0.0   0.0   0.0    0.0   \n",
       "498     1498  smart  0.0   0.0   0.0   0.0   0.0   0.0  20.0  43.0   53.0   \n",
       "499     1499  smart  0.0   0.0   0.0   0.0   0.0   0.0   0.0   0.0    8.0   \n",
       "\n",
       "        10     11     12  \n",
       "0     44.0   37.0   38.0  \n",
       "1      0.0   45.0   47.0  \n",
       "2     24.0   25.0   27.0  \n",
       "3     97.0   95.0   88.0  \n",
       "4     21.0   15.0   15.0  \n",
       "..     ...    ...    ...  \n",
       "495  126.0  112.0  120.0  \n",
       "496   56.0   66.0   65.0  \n",
       "497   50.0   48.0   58.0  \n",
       "498   30.0    0.0    0.0  \n",
       "499   44.0   62.0   56.0  \n",
       "\n",
       "[500 rows x 14 columns]"
      ]
     },
     "execution_count": 14,
     "metadata": {},
     "output_type": "execute_result"
    }
   ],
   "source": [
    "tariff.join(calls_month_count, on='user_id')"
   ]
  },
  {
   "cell_type": "markdown",
   "metadata": {},
   "source": [
    "Объединим тариф и calls_month_count по user_id. Получили таблицу звонков каждого пользователя по месяцам. Сразу видно, что пропуски были и их довольно много, кто-то всего 2 месяца пользуется тарифом, а кто-то целый год"
   ]
  },
  {
   "cell_type": "markdown",
   "metadata": {},
   "source": [
    "Такие же действия проделаю чтобы получить таблицу суммарных использованных минут для каждого пользователя по месяцам."
   ]
  },
  {
   "cell_type": "code",
   "execution_count": 15,
   "metadata": {},
   "outputs": [],
   "source": [
    "calls_month_sum=df.pivot_table(index='user_id', columns='month', values='duration', aggfunc='sum')"
   ]
  },
  {
   "cell_type": "code",
   "execution_count": 16,
   "metadata": {},
   "outputs": [],
   "source": [
    "calls_month_sum=calls_month_sum.fillna(0)\n",
    "calls_month_sum=calls_month_sum.astype('int')"
   ]
  },
  {
   "cell_type": "code",
   "execution_count": 17,
   "metadata": {},
   "outputs": [],
   "source": [
    "calls_month_sum.columns=['1', '2', '3', '4', '5', '6', '7', '8' ,'9' ,'10', '11' ,'12']"
   ]
  },
  {
   "cell_type": "code",
   "execution_count": 18,
   "metadata": {},
   "outputs": [
    {
     "data": {
      "text/html": [
       "<div>\n",
       "<style scoped>\n",
       "    .dataframe tbody tr th:only-of-type {\n",
       "        vertical-align: middle;\n",
       "    }\n",
       "\n",
       "    .dataframe tbody tr th {\n",
       "        vertical-align: top;\n",
       "    }\n",
       "\n",
       "    .dataframe thead th {\n",
       "        text-align: right;\n",
       "    }\n",
       "</style>\n",
       "<table border=\"1\" class=\"dataframe\">\n",
       "  <thead>\n",
       "    <tr style=\"text-align: right;\">\n",
       "      <th></th>\n",
       "      <th>user_id</th>\n",
       "      <th>tariff</th>\n",
       "      <th>1</th>\n",
       "      <th>2</th>\n",
       "      <th>3</th>\n",
       "      <th>4</th>\n",
       "      <th>5</th>\n",
       "      <th>6</th>\n",
       "      <th>7</th>\n",
       "      <th>8</th>\n",
       "      <th>9</th>\n",
       "      <th>10</th>\n",
       "      <th>11</th>\n",
       "      <th>12</th>\n",
       "    </tr>\n",
       "  </thead>\n",
       "  <tbody>\n",
       "    <tr>\n",
       "      <td>0</td>\n",
       "      <td>1000</td>\n",
       "      <td>ultra</td>\n",
       "      <td>0.0</td>\n",
       "      <td>0.0</td>\n",
       "      <td>0.0</td>\n",
       "      <td>0.0</td>\n",
       "      <td>159.0</td>\n",
       "      <td>172.0</td>\n",
       "      <td>340.0</td>\n",
       "      <td>408.0</td>\n",
       "      <td>466.0</td>\n",
       "      <td>350.0</td>\n",
       "      <td>338.0</td>\n",
       "      <td>333.0</td>\n",
       "    </tr>\n",
       "    <tr>\n",
       "      <td>1</td>\n",
       "      <td>1001</td>\n",
       "      <td>smart</td>\n",
       "      <td>0.0</td>\n",
       "      <td>0.0</td>\n",
       "      <td>0.0</td>\n",
       "      <td>0.0</td>\n",
       "      <td>0.0</td>\n",
       "      <td>0.0</td>\n",
       "      <td>0.0</td>\n",
       "      <td>0.0</td>\n",
       "      <td>0.0</td>\n",
       "      <td>0.0</td>\n",
       "      <td>430.0</td>\n",
       "      <td>414.0</td>\n",
       "    </tr>\n",
       "    <tr>\n",
       "      <td>2</td>\n",
       "      <td>1002</td>\n",
       "      <td>smart</td>\n",
       "      <td>0.0</td>\n",
       "      <td>0.0</td>\n",
       "      <td>0.0</td>\n",
       "      <td>0.0</td>\n",
       "      <td>0.0</td>\n",
       "      <td>117.0</td>\n",
       "      <td>214.0</td>\n",
       "      <td>289.0</td>\n",
       "      <td>206.0</td>\n",
       "      <td>212.0</td>\n",
       "      <td>243.0</td>\n",
       "      <td>236.0</td>\n",
       "    </tr>\n",
       "    <tr>\n",
       "      <td>3</td>\n",
       "      <td>1003</td>\n",
       "      <td>ultra</td>\n",
       "      <td>0.0</td>\n",
       "      <td>0.0</td>\n",
       "      <td>0.0</td>\n",
       "      <td>0.0</td>\n",
       "      <td>0.0</td>\n",
       "      <td>0.0</td>\n",
       "      <td>0.0</td>\n",
       "      <td>380.0</td>\n",
       "      <td>961.0</td>\n",
       "      <td>855.0</td>\n",
       "      <td>824.0</td>\n",
       "      <td>802.0</td>\n",
       "    </tr>\n",
       "    <tr>\n",
       "      <td>4</td>\n",
       "      <td>1004</td>\n",
       "      <td>ultra</td>\n",
       "      <td>0.0</td>\n",
       "      <td>0.0</td>\n",
       "      <td>0.0</td>\n",
       "      <td>0.0</td>\n",
       "      <td>35.0</td>\n",
       "      <td>171.0</td>\n",
       "      <td>135.0</td>\n",
       "      <td>137.0</td>\n",
       "      <td>117.0</td>\n",
       "      <td>145.0</td>\n",
       "      <td>117.0</td>\n",
       "      <td>130.0</td>\n",
       "    </tr>\n",
       "    <tr>\n",
       "      <td>...</td>\n",
       "      <td>...</td>\n",
       "      <td>...</td>\n",
       "      <td>...</td>\n",
       "      <td>...</td>\n",
       "      <td>...</td>\n",
       "      <td>...</td>\n",
       "      <td>...</td>\n",
       "      <td>...</td>\n",
       "      <td>...</td>\n",
       "      <td>...</td>\n",
       "      <td>...</td>\n",
       "      <td>...</td>\n",
       "      <td>...</td>\n",
       "      <td>...</td>\n",
       "    </tr>\n",
       "    <tr>\n",
       "      <td>495</td>\n",
       "      <td>1495</td>\n",
       "      <td>ultra</td>\n",
       "      <td>0.0</td>\n",
       "      <td>0.0</td>\n",
       "      <td>0.0</td>\n",
       "      <td>0.0</td>\n",
       "      <td>0.0</td>\n",
       "      <td>0.0</td>\n",
       "      <td>0.0</td>\n",
       "      <td>92.0</td>\n",
       "      <td>813.0</td>\n",
       "      <td>1030.0</td>\n",
       "      <td>954.0</td>\n",
       "      <td>1031.0</td>\n",
       "    </tr>\n",
       "    <tr>\n",
       "      <td>496</td>\n",
       "      <td>1496</td>\n",
       "      <td>smart</td>\n",
       "      <td>48.0</td>\n",
       "      <td>594.0</td>\n",
       "      <td>557.0</td>\n",
       "      <td>521.0</td>\n",
       "      <td>484.0</td>\n",
       "      <td>555.0</td>\n",
       "      <td>582.0</td>\n",
       "      <td>527.0</td>\n",
       "      <td>486.0</td>\n",
       "      <td>450.0</td>\n",
       "      <td>662.0</td>\n",
       "      <td>518.0</td>\n",
       "    </tr>\n",
       "    <tr>\n",
       "      <td>497</td>\n",
       "      <td>1497</td>\n",
       "      <td>smart</td>\n",
       "      <td>0.0</td>\n",
       "      <td>0.0</td>\n",
       "      <td>0.0</td>\n",
       "      <td>0.0</td>\n",
       "      <td>0.0</td>\n",
       "      <td>0.0</td>\n",
       "      <td>0.0</td>\n",
       "      <td>0.0</td>\n",
       "      <td>0.0</td>\n",
       "      <td>490.0</td>\n",
       "      <td>371.0</td>\n",
       "      <td>545.0</td>\n",
       "    </tr>\n",
       "    <tr>\n",
       "      <td>498</td>\n",
       "      <td>1498</td>\n",
       "      <td>smart</td>\n",
       "      <td>0.0</td>\n",
       "      <td>0.0</td>\n",
       "      <td>0.0</td>\n",
       "      <td>0.0</td>\n",
       "      <td>0.0</td>\n",
       "      <td>0.0</td>\n",
       "      <td>175.0</td>\n",
       "      <td>400.0</td>\n",
       "      <td>471.0</td>\n",
       "      <td>247.0</td>\n",
       "      <td>0.0</td>\n",
       "      <td>0.0</td>\n",
       "    </tr>\n",
       "    <tr>\n",
       "      <td>499</td>\n",
       "      <td>1499</td>\n",
       "      <td>smart</td>\n",
       "      <td>0.0</td>\n",
       "      <td>0.0</td>\n",
       "      <td>0.0</td>\n",
       "      <td>0.0</td>\n",
       "      <td>0.0</td>\n",
       "      <td>0.0</td>\n",
       "      <td>0.0</td>\n",
       "      <td>0.0</td>\n",
       "      <td>70.0</td>\n",
       "      <td>449.0</td>\n",
       "      <td>612.0</td>\n",
       "      <td>492.0</td>\n",
       "    </tr>\n",
       "  </tbody>\n",
       "</table>\n",
       "<p>500 rows × 14 columns</p>\n",
       "</div>"
      ],
      "text/plain": [
       "     user_id tariff     1      2      3      4      5      6      7      8  \\\n",
       "0       1000  ultra   0.0    0.0    0.0    0.0  159.0  172.0  340.0  408.0   \n",
       "1       1001  smart   0.0    0.0    0.0    0.0    0.0    0.0    0.0    0.0   \n",
       "2       1002  smart   0.0    0.0    0.0    0.0    0.0  117.0  214.0  289.0   \n",
       "3       1003  ultra   0.0    0.0    0.0    0.0    0.0    0.0    0.0  380.0   \n",
       "4       1004  ultra   0.0    0.0    0.0    0.0   35.0  171.0  135.0  137.0   \n",
       "..       ...    ...   ...    ...    ...    ...    ...    ...    ...    ...   \n",
       "495     1495  ultra   0.0    0.0    0.0    0.0    0.0    0.0    0.0   92.0   \n",
       "496     1496  smart  48.0  594.0  557.0  521.0  484.0  555.0  582.0  527.0   \n",
       "497     1497  smart   0.0    0.0    0.0    0.0    0.0    0.0    0.0    0.0   \n",
       "498     1498  smart   0.0    0.0    0.0    0.0    0.0    0.0  175.0  400.0   \n",
       "499     1499  smart   0.0    0.0    0.0    0.0    0.0    0.0    0.0    0.0   \n",
       "\n",
       "         9      10     11      12  \n",
       "0    466.0   350.0  338.0   333.0  \n",
       "1      0.0     0.0  430.0   414.0  \n",
       "2    206.0   212.0  243.0   236.0  \n",
       "3    961.0   855.0  824.0   802.0  \n",
       "4    117.0   145.0  117.0   130.0  \n",
       "..     ...     ...    ...     ...  \n",
       "495  813.0  1030.0  954.0  1031.0  \n",
       "496  486.0   450.0  662.0   518.0  \n",
       "497    0.0   490.0  371.0   545.0  \n",
       "498  471.0   247.0    0.0     0.0  \n",
       "499   70.0   449.0  612.0   492.0  \n",
       "\n",
       "[500 rows x 14 columns]"
      ]
     },
     "execution_count": 18,
     "metadata": {},
     "output_type": "execute_result"
    }
   ],
   "source": [
    "tariff.join(calls_month_sum, on='user_id')"
   ]
  },
  {
   "cell_type": "code",
   "execution_count": 19,
   "metadata": {},
   "outputs": [
    {
     "data": {
      "text/html": [
       "<div>\n",
       "<style scoped>\n",
       "    .dataframe tbody tr th:only-of-type {\n",
       "        vertical-align: middle;\n",
       "    }\n",
       "\n",
       "    .dataframe tbody tr th {\n",
       "        vertical-align: top;\n",
       "    }\n",
       "\n",
       "    .dataframe thead th {\n",
       "        text-align: right;\n",
       "    }\n",
       "</style>\n",
       "<table border=\"1\" class=\"dataframe\">\n",
       "  <thead>\n",
       "    <tr style=\"text-align: right;\">\n",
       "      <th></th>\n",
       "      <th>Unnamed: 0</th>\n",
       "      <th>id</th>\n",
       "      <th>mb_used</th>\n",
       "      <th>session_date</th>\n",
       "      <th>user_id</th>\n",
       "    </tr>\n",
       "  </thead>\n",
       "  <tbody>\n",
       "    <tr>\n",
       "      <td>0</td>\n",
       "      <td>0</td>\n",
       "      <td>1000_0</td>\n",
       "      <td>112.95</td>\n",
       "      <td>2018-11-25</td>\n",
       "      <td>1000</td>\n",
       "    </tr>\n",
       "    <tr>\n",
       "      <td>1</td>\n",
       "      <td>1</td>\n",
       "      <td>1000_1</td>\n",
       "      <td>1052.81</td>\n",
       "      <td>2018-09-07</td>\n",
       "      <td>1000</td>\n",
       "    </tr>\n",
       "    <tr>\n",
       "      <td>2</td>\n",
       "      <td>2</td>\n",
       "      <td>1000_2</td>\n",
       "      <td>1197.26</td>\n",
       "      <td>2018-06-25</td>\n",
       "      <td>1000</td>\n",
       "    </tr>\n",
       "    <tr>\n",
       "      <td>3</td>\n",
       "      <td>3</td>\n",
       "      <td>1000_3</td>\n",
       "      <td>550.27</td>\n",
       "      <td>2018-08-22</td>\n",
       "      <td>1000</td>\n",
       "    </tr>\n",
       "    <tr>\n",
       "      <td>4</td>\n",
       "      <td>4</td>\n",
       "      <td>1000_4</td>\n",
       "      <td>302.56</td>\n",
       "      <td>2018-09-24</td>\n",
       "      <td>1000</td>\n",
       "    </tr>\n",
       "    <tr>\n",
       "      <td>...</td>\n",
       "      <td>...</td>\n",
       "      <td>...</td>\n",
       "      <td>...</td>\n",
       "      <td>...</td>\n",
       "      <td>...</td>\n",
       "    </tr>\n",
       "    <tr>\n",
       "      <td>149391</td>\n",
       "      <td>149391</td>\n",
       "      <td>1499_152</td>\n",
       "      <td>318.90</td>\n",
       "      <td>2018-10-03</td>\n",
       "      <td>1499</td>\n",
       "    </tr>\n",
       "    <tr>\n",
       "      <td>149392</td>\n",
       "      <td>149392</td>\n",
       "      <td>1499_153</td>\n",
       "      <td>490.13</td>\n",
       "      <td>2018-12-14</td>\n",
       "      <td>1499</td>\n",
       "    </tr>\n",
       "    <tr>\n",
       "      <td>149393</td>\n",
       "      <td>149393</td>\n",
       "      <td>1499_154</td>\n",
       "      <td>0.00</td>\n",
       "      <td>2018-10-27</td>\n",
       "      <td>1499</td>\n",
       "    </tr>\n",
       "    <tr>\n",
       "      <td>149394</td>\n",
       "      <td>149394</td>\n",
       "      <td>1499_155</td>\n",
       "      <td>1246.32</td>\n",
       "      <td>2018-11-26</td>\n",
       "      <td>1499</td>\n",
       "    </tr>\n",
       "    <tr>\n",
       "      <td>149395</td>\n",
       "      <td>149395</td>\n",
       "      <td>1499_156</td>\n",
       "      <td>544.37</td>\n",
       "      <td>2018-10-26</td>\n",
       "      <td>1499</td>\n",
       "    </tr>\n",
       "  </tbody>\n",
       "</table>\n",
       "<p>149396 rows × 5 columns</p>\n",
       "</div>"
      ],
      "text/plain": [
       "        Unnamed: 0        id  mb_used session_date  user_id\n",
       "0                0    1000_0   112.95   2018-11-25     1000\n",
       "1                1    1000_1  1052.81   2018-09-07     1000\n",
       "2                2    1000_2  1197.26   2018-06-25     1000\n",
       "3                3    1000_3   550.27   2018-08-22     1000\n",
       "4                4    1000_4   302.56   2018-09-24     1000\n",
       "...            ...       ...      ...          ...      ...\n",
       "149391      149391  1499_152   318.90   2018-10-03     1499\n",
       "149392      149392  1499_153   490.13   2018-12-14     1499\n",
       "149393      149393  1499_154     0.00   2018-10-27     1499\n",
       "149394      149394  1499_155  1246.32   2018-11-26     1499\n",
       "149395      149395  1499_156   544.37   2018-10-26     1499\n",
       "\n",
       "[149396 rows x 5 columns]"
      ]
     },
     "execution_count": 19,
     "metadata": {},
     "output_type": "execute_result"
    }
   ],
   "source": [
    "internet"
   ]
  },
  {
   "cell_type": "markdown",
   "metadata": {},
   "source": [
    "Посмотрим на данные по интернету. В данных есть лишний столбец, который дублирует индексы, его нужно удалить."
   ]
  },
  {
   "cell_type": "code",
   "execution_count": 20,
   "metadata": {},
   "outputs": [],
   "source": [
    "del internet['Unnamed: 0']"
   ]
  },
  {
   "cell_type": "markdown",
   "metadata": {},
   "source": [
    "<div class=\"alert alert-block alert-info\">\n",
    "<b>Fixed:</b>\n",
    "Исправил\n",
    "</div>"
   ]
  },
  {
   "cell_type": "code",
   "execution_count": 21,
   "metadata": {},
   "outputs": [],
   "source": [
    "def mb_used_new(mb_used):\n",
    "    return math.ceil(mb_used)\n",
    "internet['mb_used']=internet['mb_used'].apply(mb_used_new)"
   ]
  },
  {
   "cell_type": "markdown",
   "metadata": {},
   "source": [
    "Также округлим использованные мегабайты до целых, при чем в большую сторону."
   ]
  },
  {
   "cell_type": "markdown",
   "metadata": {},
   "source": [
    "<hr style=\"border: 1px solid #000;\"> \n",
    "\n",
    "<div class=\"alert alert-danger\">\n",
    "\n",
    "<strong><font size=5>Комментарий от ревьюера</font></strong><br/>\n",
    "    \n",
    "Тут аналогично звонкам.\n",
    "    \n",
    "</div>\n",
    "<hr style=\"border: 1px solid #000;\"> "
   ]
  },
  {
   "cell_type": "code",
   "execution_count": 22,
   "metadata": {
    "scrolled": true
   },
   "outputs": [
    {
     "data": {
      "text/html": [
       "<div>\n",
       "<style scoped>\n",
       "    .dataframe tbody tr th:only-of-type {\n",
       "        vertical-align: middle;\n",
       "    }\n",
       "\n",
       "    .dataframe tbody tr th {\n",
       "        vertical-align: top;\n",
       "    }\n",
       "\n",
       "    .dataframe thead th {\n",
       "        text-align: right;\n",
       "    }\n",
       "</style>\n",
       "<table border=\"1\" class=\"dataframe\">\n",
       "  <thead>\n",
       "    <tr style=\"text-align: right;\">\n",
       "      <th></th>\n",
       "      <th>id</th>\n",
       "      <th>mb_used</th>\n",
       "      <th>session_date</th>\n",
       "      <th>user_id</th>\n",
       "    </tr>\n",
       "  </thead>\n",
       "  <tbody>\n",
       "    <tr>\n",
       "      <td>0</td>\n",
       "      <td>1000_0</td>\n",
       "      <td>113</td>\n",
       "      <td>2018-11-25</td>\n",
       "      <td>1000</td>\n",
       "    </tr>\n",
       "    <tr>\n",
       "      <td>1</td>\n",
       "      <td>1000_1</td>\n",
       "      <td>1053</td>\n",
       "      <td>2018-09-07</td>\n",
       "      <td>1000</td>\n",
       "    </tr>\n",
       "    <tr>\n",
       "      <td>2</td>\n",
       "      <td>1000_2</td>\n",
       "      <td>1198</td>\n",
       "      <td>2018-06-25</td>\n",
       "      <td>1000</td>\n",
       "    </tr>\n",
       "    <tr>\n",
       "      <td>3</td>\n",
       "      <td>1000_3</td>\n",
       "      <td>551</td>\n",
       "      <td>2018-08-22</td>\n",
       "      <td>1000</td>\n",
       "    </tr>\n",
       "    <tr>\n",
       "      <td>4</td>\n",
       "      <td>1000_4</td>\n",
       "      <td>303</td>\n",
       "      <td>2018-09-24</td>\n",
       "      <td>1000</td>\n",
       "    </tr>\n",
       "  </tbody>\n",
       "</table>\n",
       "</div>"
      ],
      "text/plain": [
       "       id  mb_used session_date  user_id\n",
       "0  1000_0      113   2018-11-25     1000\n",
       "1  1000_1     1053   2018-09-07     1000\n",
       "2  1000_2     1198   2018-06-25     1000\n",
       "3  1000_3      551   2018-08-22     1000\n",
       "4  1000_4      303   2018-09-24     1000"
      ]
     },
     "execution_count": 22,
     "metadata": {},
     "output_type": "execute_result"
    }
   ],
   "source": [
    "internet.head()"
   ]
  },
  {
   "cell_type": "code",
   "execution_count": 23,
   "metadata": {},
   "outputs": [
    {
     "data": {
      "text/plain": [
       "Text(0, 0.5, 'Кол-во')"
      ]
     },
     "execution_count": 23,
     "metadata": {},
     "output_type": "execute_result"
    },
    {
     "data": {
      "image/png": "[encoded data removed]",
      "text/plain": [
       "<Figure size 432x288 with 1 Axes>"
      ]
     },
     "metadata": {
      "needs_background": "light"
     },
     "output_type": "display_data"
    }
   ],
   "source": [
    "internet['mb_used'].hist(bins=50)\n",
    "pl.title(\"Гистограмма использованных гигабайт для тарифа смарт(1.2018-12.2018)\")\n",
    "pl.xlabel(\"Гигабайты, Гб\")\n",
    "pl.ylabel(\"Кол-во\")"
   ]
  },
  {
   "cell_type": "markdown",
   "metadata": {},
   "source": [
    "Из гистограммы трафика можно заметит такую же ситуацию, как и со звонками, большое кол-во нулей. Возможно это не состоявшиеся попытки выйти в интернет"
   ]
  },
  {
   "cell_type": "code",
   "execution_count": 24,
   "metadata": {},
   "outputs": [],
   "source": [
    "internet=internet.query('mb_used>0')"
   ]
  },
  {
   "cell_type": "markdown",
   "metadata": {},
   "source": [
    "Уберем эти нулевые значения."
   ]
  },
  {
   "cell_type": "code",
   "execution_count": 25,
   "metadata": {},
   "outputs": [],
   "source": [
    "internet['session_date'] = pd.to_datetime(internet['session_date'], format='%Y-%m-%d')"
   ]
  },
  {
   "cell_type": "code",
   "execution_count": 26,
   "metadata": {},
   "outputs": [],
   "source": [
    "internet['month']=internet['session_date'].dt.month"
   ]
  },
  {
   "cell_type": "markdown",
   "metadata": {},
   "source": [
    "Также, как и со звонками добавим столбец с месяцами для каждого использования трафика."
   ]
  },
  {
   "cell_type": "markdown",
   "metadata": {},
   "source": [
    "Также, как и со звонками подсчитаем суммарное использование интернета в Мб каждым пользователем по месяцам."
   ]
  },
  {
   "cell_type": "code",
   "execution_count": 27,
   "metadata": {},
   "outputs": [],
   "source": [
    "internet_month_sum=internet.pivot_table(index='user_id', columns='month', values='mb_used', aggfunc='sum')"
   ]
  },
  {
   "cell_type": "code",
   "execution_count": 28,
   "metadata": {},
   "outputs": [],
   "source": [
    "internet_month_sum=internet_month_sum.fillna(0)\n",
    "internet_month_sum=internet_month_sum.astype('int')"
   ]
  },
  {
   "cell_type": "code",
   "execution_count": 29,
   "metadata": {},
   "outputs": [
    {
     "data": {
      "text/html": [
       "<div>\n",
       "<style scoped>\n",
       "    .dataframe tbody tr th:only-of-type {\n",
       "        vertical-align: middle;\n",
       "    }\n",
       "\n",
       "    .dataframe tbody tr th {\n",
       "        vertical-align: top;\n",
       "    }\n",
       "\n",
       "    .dataframe thead th {\n",
       "        text-align: right;\n",
       "    }\n",
       "</style>\n",
       "<table border=\"1\" class=\"dataframe\">\n",
       "  <thead>\n",
       "    <tr style=\"text-align: right;\">\n",
       "      <th></th>\n",
       "      <th>user_id</th>\n",
       "      <th>tariff</th>\n",
       "      <th>1</th>\n",
       "      <th>2</th>\n",
       "      <th>3</th>\n",
       "      <th>4</th>\n",
       "      <th>5</th>\n",
       "      <th>6</th>\n",
       "      <th>7</th>\n",
       "      <th>8</th>\n",
       "      <th>9</th>\n",
       "      <th>10</th>\n",
       "      <th>11</th>\n",
       "      <th>12</th>\n",
       "    </tr>\n",
       "  </thead>\n",
       "  <tbody>\n",
       "    <tr>\n",
       "      <td>0</td>\n",
       "      <td>1000</td>\n",
       "      <td>ultra</td>\n",
       "      <td>0.0</td>\n",
       "      <td>0.0</td>\n",
       "      <td>0.0</td>\n",
       "      <td>0.0</td>\n",
       "      <td>2256.0</td>\n",
       "      <td>23257.0</td>\n",
       "      <td>14016.0</td>\n",
       "      <td>14070.0</td>\n",
       "      <td>14581.0</td>\n",
       "      <td>14717.0</td>\n",
       "      <td>14768.0</td>\n",
       "      <td>9827.0</td>\n",
       "    </tr>\n",
       "    <tr>\n",
       "      <td>1</td>\n",
       "      <td>1001</td>\n",
       "      <td>smart</td>\n",
       "      <td>0.0</td>\n",
       "      <td>0.0</td>\n",
       "      <td>0.0</td>\n",
       "      <td>0.0</td>\n",
       "      <td>0.0</td>\n",
       "      <td>0.0</td>\n",
       "      <td>0.0</td>\n",
       "      <td>0.0</td>\n",
       "      <td>0.0</td>\n",
       "      <td>0.0</td>\n",
       "      <td>18452.0</td>\n",
       "      <td>14053.0</td>\n",
       "    </tr>\n",
       "    <tr>\n",
       "      <td>2</td>\n",
       "      <td>1002</td>\n",
       "      <td>smart</td>\n",
       "      <td>0.0</td>\n",
       "      <td>0.0</td>\n",
       "      <td>0.0</td>\n",
       "      <td>0.0</td>\n",
       "      <td>0.0</td>\n",
       "      <td>10871.0</td>\n",
       "      <td>17601.0</td>\n",
       "      <td>20347.0</td>\n",
       "      <td>16712.0</td>\n",
       "      <td>13905.0</td>\n",
       "      <td>18610.0</td>\n",
       "      <td>18137.0</td>\n",
       "    </tr>\n",
       "    <tr>\n",
       "      <td>3</td>\n",
       "      <td>1003</td>\n",
       "      <td>ultra</td>\n",
       "      <td>0.0</td>\n",
       "      <td>0.0</td>\n",
       "      <td>0.0</td>\n",
       "      <td>0.0</td>\n",
       "      <td>0.0</td>\n",
       "      <td>0.0</td>\n",
       "      <td>0.0</td>\n",
       "      <td>8571.0</td>\n",
       "      <td>12479.0</td>\n",
       "      <td>14779.0</td>\n",
       "      <td>11368.0</td>\n",
       "      <td>10132.0</td>\n",
       "    </tr>\n",
       "    <tr>\n",
       "      <td>4</td>\n",
       "      <td>1004</td>\n",
       "      <td>ultra</td>\n",
       "      <td>0.0</td>\n",
       "      <td>0.0</td>\n",
       "      <td>0.0</td>\n",
       "      <td>0.0</td>\n",
       "      <td>13415.0</td>\n",
       "      <td>17619.0</td>\n",
       "      <td>22243.0</td>\n",
       "      <td>28607.0</td>\n",
       "      <td>15125.0</td>\n",
       "      <td>18494.0</td>\n",
       "      <td>15631.0</td>\n",
       "      <td>18038.0</td>\n",
       "    </tr>\n",
       "    <tr>\n",
       "      <td>...</td>\n",
       "      <td>...</td>\n",
       "      <td>...</td>\n",
       "      <td>...</td>\n",
       "      <td>...</td>\n",
       "      <td>...</td>\n",
       "      <td>...</td>\n",
       "      <td>...</td>\n",
       "      <td>...</td>\n",
       "      <td>...</td>\n",
       "      <td>...</td>\n",
       "      <td>...</td>\n",
       "      <td>...</td>\n",
       "      <td>...</td>\n",
       "      <td>...</td>\n",
       "    </tr>\n",
       "    <tr>\n",
       "      <td>495</td>\n",
       "      <td>1495</td>\n",
       "      <td>ultra</td>\n",
       "      <td>0.0</td>\n",
       "      <td>0.0</td>\n",
       "      <td>0.0</td>\n",
       "      <td>0.0</td>\n",
       "      <td>0.0</td>\n",
       "      <td>0.0</td>\n",
       "      <td>0.0</td>\n",
       "      <td>2616.0</td>\n",
       "      <td>33105.0</td>\n",
       "      <td>29393.0</td>\n",
       "      <td>38972.0</td>\n",
       "      <td>23450.0</td>\n",
       "    </tr>\n",
       "    <tr>\n",
       "      <td>496</td>\n",
       "      <td>1496</td>\n",
       "      <td>smart</td>\n",
       "      <td>3766.0</td>\n",
       "      <td>28523.0</td>\n",
       "      <td>24990.0</td>\n",
       "      <td>21098.0</td>\n",
       "      <td>23740.0</td>\n",
       "      <td>20163.0</td>\n",
       "      <td>24395.0</td>\n",
       "      <td>23560.0</td>\n",
       "      <td>26970.0</td>\n",
       "      <td>28215.0</td>\n",
       "      <td>25092.0</td>\n",
       "      <td>20757.0</td>\n",
       "    </tr>\n",
       "    <tr>\n",
       "      <td>497</td>\n",
       "      <td>1497</td>\n",
       "      <td>smart</td>\n",
       "      <td>0.0</td>\n",
       "      <td>0.0</td>\n",
       "      <td>0.0</td>\n",
       "      <td>0.0</td>\n",
       "      <td>0.0</td>\n",
       "      <td>0.0</td>\n",
       "      <td>0.0</td>\n",
       "      <td>0.0</td>\n",
       "      <td>0.0</td>\n",
       "      <td>11512.0</td>\n",
       "      <td>14174.0</td>\n",
       "      <td>19940.0</td>\n",
       "    </tr>\n",
       "    <tr>\n",
       "      <td>498</td>\n",
       "      <td>1498</td>\n",
       "      <td>smart</td>\n",
       "      <td>0.0</td>\n",
       "      <td>0.0</td>\n",
       "      <td>0.0</td>\n",
       "      <td>0.0</td>\n",
       "      <td>0.0</td>\n",
       "      <td>0.0</td>\n",
       "      <td>7486.0</td>\n",
       "      <td>24270.0</td>\n",
       "      <td>22166.0</td>\n",
       "      <td>20604.0</td>\n",
       "      <td>0.0</td>\n",
       "      <td>0.0</td>\n",
       "    </tr>\n",
       "    <tr>\n",
       "      <td>499</td>\n",
       "      <td>1499</td>\n",
       "      <td>smart</td>\n",
       "      <td>0.0</td>\n",
       "      <td>0.0</td>\n",
       "      <td>0.0</td>\n",
       "      <td>0.0</td>\n",
       "      <td>0.0</td>\n",
       "      <td>0.0</td>\n",
       "      <td>0.0</td>\n",
       "      <td>0.0</td>\n",
       "      <td>1848.0</td>\n",
       "      <td>17809.0</td>\n",
       "      <td>17984.0</td>\n",
       "      <td>13077.0</td>\n",
       "    </tr>\n",
       "  </tbody>\n",
       "</table>\n",
       "<p>500 rows × 14 columns</p>\n",
       "</div>"
      ],
      "text/plain": [
       "     user_id tariff       1        2        3        4        5        6  \\\n",
       "0       1000  ultra     0.0      0.0      0.0      0.0   2256.0  23257.0   \n",
       "1       1001  smart     0.0      0.0      0.0      0.0      0.0      0.0   \n",
       "2       1002  smart     0.0      0.0      0.0      0.0      0.0  10871.0   \n",
       "3       1003  ultra     0.0      0.0      0.0      0.0      0.0      0.0   \n",
       "4       1004  ultra     0.0      0.0      0.0      0.0  13415.0  17619.0   \n",
       "..       ...    ...     ...      ...      ...      ...      ...      ...   \n",
       "495     1495  ultra     0.0      0.0      0.0      0.0      0.0      0.0   \n",
       "496     1496  smart  3766.0  28523.0  24990.0  21098.0  23740.0  20163.0   \n",
       "497     1497  smart     0.0      0.0      0.0      0.0      0.0      0.0   \n",
       "498     1498  smart     0.0      0.0      0.0      0.0      0.0      0.0   \n",
       "499     1499  smart     0.0      0.0      0.0      0.0      0.0      0.0   \n",
       "\n",
       "           7        8        9       10       11       12  \n",
       "0    14016.0  14070.0  14581.0  14717.0  14768.0   9827.0  \n",
       "1        0.0      0.0      0.0      0.0  18452.0  14053.0  \n",
       "2    17601.0  20347.0  16712.0  13905.0  18610.0  18137.0  \n",
       "3        0.0   8571.0  12479.0  14779.0  11368.0  10132.0  \n",
       "4    22243.0  28607.0  15125.0  18494.0  15631.0  18038.0  \n",
       "..       ...      ...      ...      ...      ...      ...  \n",
       "495      0.0   2616.0  33105.0  29393.0  38972.0  23450.0  \n",
       "496  24395.0  23560.0  26970.0  28215.0  25092.0  20757.0  \n",
       "497      0.0      0.0      0.0  11512.0  14174.0  19940.0  \n",
       "498   7486.0  24270.0  22166.0  20604.0      0.0      0.0  \n",
       "499      0.0      0.0   1848.0  17809.0  17984.0  13077.0  \n",
       "\n",
       "[500 rows x 14 columns]"
      ]
     },
     "execution_count": 29,
     "metadata": {},
     "output_type": "execute_result"
    }
   ],
   "source": [
    "tariff.join(internet_month_sum, on='user_id')"
   ]
  },
  {
   "cell_type": "code",
   "execution_count": 30,
   "metadata": {},
   "outputs": [
    {
     "data": {
      "text/html": [
       "<div>\n",
       "<style scoped>\n",
       "    .dataframe tbody tr th:only-of-type {\n",
       "        vertical-align: middle;\n",
       "    }\n",
       "\n",
       "    .dataframe tbody tr th {\n",
       "        vertical-align: top;\n",
       "    }\n",
       "\n",
       "    .dataframe thead th {\n",
       "        text-align: right;\n",
       "    }\n",
       "</style>\n",
       "<table border=\"1\" class=\"dataframe\">\n",
       "  <thead>\n",
       "    <tr style=\"text-align: right;\">\n",
       "      <th></th>\n",
       "      <th>id</th>\n",
       "      <th>message_date</th>\n",
       "      <th>user_id</th>\n",
       "    </tr>\n",
       "  </thead>\n",
       "  <tbody>\n",
       "    <tr>\n",
       "      <td>0</td>\n",
       "      <td>1000_0</td>\n",
       "      <td>2018-06-27</td>\n",
       "      <td>1000</td>\n",
       "    </tr>\n",
       "    <tr>\n",
       "      <td>1</td>\n",
       "      <td>1000_1</td>\n",
       "      <td>2018-10-08</td>\n",
       "      <td>1000</td>\n",
       "    </tr>\n",
       "    <tr>\n",
       "      <td>2</td>\n",
       "      <td>1000_2</td>\n",
       "      <td>2018-08-04</td>\n",
       "      <td>1000</td>\n",
       "    </tr>\n",
       "    <tr>\n",
       "      <td>3</td>\n",
       "      <td>1000_3</td>\n",
       "      <td>2018-06-16</td>\n",
       "      <td>1000</td>\n",
       "    </tr>\n",
       "    <tr>\n",
       "      <td>4</td>\n",
       "      <td>1000_4</td>\n",
       "      <td>2018-12-05</td>\n",
       "      <td>1000</td>\n",
       "    </tr>\n",
       "    <tr>\n",
       "      <td>...</td>\n",
       "      <td>...</td>\n",
       "      <td>...</td>\n",
       "      <td>...</td>\n",
       "    </tr>\n",
       "    <tr>\n",
       "      <td>123031</td>\n",
       "      <td>1499_179</td>\n",
       "      <td>2018-12-12</td>\n",
       "      <td>1499</td>\n",
       "    </tr>\n",
       "    <tr>\n",
       "      <td>123032</td>\n",
       "      <td>1499_180</td>\n",
       "      <td>2018-09-28</td>\n",
       "      <td>1499</td>\n",
       "    </tr>\n",
       "    <tr>\n",
       "      <td>123033</td>\n",
       "      <td>1499_181</td>\n",
       "      <td>2018-09-27</td>\n",
       "      <td>1499</td>\n",
       "    </tr>\n",
       "    <tr>\n",
       "      <td>123034</td>\n",
       "      <td>1499_182</td>\n",
       "      <td>2018-11-15</td>\n",
       "      <td>1499</td>\n",
       "    </tr>\n",
       "    <tr>\n",
       "      <td>123035</td>\n",
       "      <td>1499_183</td>\n",
       "      <td>2018-11-16</td>\n",
       "      <td>1499</td>\n",
       "    </tr>\n",
       "  </tbody>\n",
       "</table>\n",
       "<p>123036 rows × 3 columns</p>\n",
       "</div>"
      ],
      "text/plain": [
       "              id message_date  user_id\n",
       "0         1000_0   2018-06-27     1000\n",
       "1         1000_1   2018-10-08     1000\n",
       "2         1000_2   2018-08-04     1000\n",
       "3         1000_3   2018-06-16     1000\n",
       "4         1000_4   2018-12-05     1000\n",
       "...          ...          ...      ...\n",
       "123031  1499_179   2018-12-12     1499\n",
       "123032  1499_180   2018-09-28     1499\n",
       "123033  1499_181   2018-09-27     1499\n",
       "123034  1499_182   2018-11-15     1499\n",
       "123035  1499_183   2018-11-16     1499\n",
       "\n",
       "[123036 rows x 3 columns]"
      ]
     },
     "execution_count": 30,
     "metadata": {},
     "output_type": "execute_result"
    }
   ],
   "source": [
    "messages"
   ]
  },
  {
   "cell_type": "markdown",
   "metadata": {},
   "source": [
    "Посмотрим на данные по отправленным сообщениям. Из данных только когда пользователь отправлял сообщения."
   ]
  },
  {
   "cell_type": "code",
   "execution_count": 31,
   "metadata": {},
   "outputs": [],
   "source": [
    "messages['message_date'] = pd.to_datetime(messages['message_date'], format='%Y-%m-%d')"
   ]
  },
  {
   "cell_type": "code",
   "execution_count": 32,
   "metadata": {},
   "outputs": [],
   "source": [
    "messages['month']=messages['message_date'].dt.month"
   ]
  },
  {
   "cell_type": "markdown",
   "metadata": {},
   "source": [
    "Добавим месяц отправки сообщения."
   ]
  },
  {
   "cell_type": "markdown",
   "metadata": {},
   "source": [
    "Хоть данных и немного, но мы можем подсчитать сколько сообщений отправил каждый пользователь в разные месяцы."
   ]
  },
  {
   "cell_type": "code",
   "execution_count": 33,
   "metadata": {},
   "outputs": [],
   "source": [
    "messages_month_count=messages.pivot_table(index='user_id', columns='month', values='id', aggfunc='count')"
   ]
  },
  {
   "cell_type": "code",
   "execution_count": 34,
   "metadata": {},
   "outputs": [],
   "source": [
    "messages_month_count=messages_month_count.fillna(0)\n",
    "messages_month_count=messages_month_count.astype('int')"
   ]
  },
  {
   "cell_type": "code",
   "execution_count": 35,
   "metadata": {},
   "outputs": [
    {
     "data": {
      "text/html": [
       "<div>\n",
       "<style scoped>\n",
       "    .dataframe tbody tr th:only-of-type {\n",
       "        vertical-align: middle;\n",
       "    }\n",
       "\n",
       "    .dataframe tbody tr th {\n",
       "        vertical-align: top;\n",
       "    }\n",
       "\n",
       "    .dataframe thead th {\n",
       "        text-align: right;\n",
       "    }\n",
       "</style>\n",
       "<table border=\"1\" class=\"dataframe\">\n",
       "  <thead>\n",
       "    <tr style=\"text-align: right;\">\n",
       "      <th></th>\n",
       "      <th>user_id</th>\n",
       "      <th>tariff</th>\n",
       "      <th>1</th>\n",
       "      <th>2</th>\n",
       "      <th>3</th>\n",
       "      <th>4</th>\n",
       "      <th>5</th>\n",
       "      <th>6</th>\n",
       "      <th>7</th>\n",
       "      <th>8</th>\n",
       "      <th>9</th>\n",
       "      <th>10</th>\n",
       "      <th>11</th>\n",
       "      <th>12</th>\n",
       "    </tr>\n",
       "  </thead>\n",
       "  <tbody>\n",
       "    <tr>\n",
       "      <td>0</td>\n",
       "      <td>1000</td>\n",
       "      <td>ultra</td>\n",
       "      <td>0.0</td>\n",
       "      <td>0.0</td>\n",
       "      <td>0.0</td>\n",
       "      <td>0.0</td>\n",
       "      <td>22.0</td>\n",
       "      <td>60.0</td>\n",
       "      <td>75.0</td>\n",
       "      <td>81.0</td>\n",
       "      <td>57.0</td>\n",
       "      <td>73.0</td>\n",
       "      <td>58.0</td>\n",
       "      <td>70.0</td>\n",
       "    </tr>\n",
       "    <tr>\n",
       "      <td>1</td>\n",
       "      <td>1001</td>\n",
       "      <td>smart</td>\n",
       "      <td>NaN</td>\n",
       "      <td>NaN</td>\n",
       "      <td>NaN</td>\n",
       "      <td>NaN</td>\n",
       "      <td>NaN</td>\n",
       "      <td>NaN</td>\n",
       "      <td>NaN</td>\n",
       "      <td>NaN</td>\n",
       "      <td>NaN</td>\n",
       "      <td>NaN</td>\n",
       "      <td>NaN</td>\n",
       "      <td>NaN</td>\n",
       "    </tr>\n",
       "    <tr>\n",
       "      <td>2</td>\n",
       "      <td>1002</td>\n",
       "      <td>smart</td>\n",
       "      <td>0.0</td>\n",
       "      <td>0.0</td>\n",
       "      <td>0.0</td>\n",
       "      <td>0.0</td>\n",
       "      <td>0.0</td>\n",
       "      <td>4.0</td>\n",
       "      <td>11.0</td>\n",
       "      <td>13.0</td>\n",
       "      <td>4.0</td>\n",
       "      <td>10.0</td>\n",
       "      <td>16.0</td>\n",
       "      <td>12.0</td>\n",
       "    </tr>\n",
       "    <tr>\n",
       "      <td>3</td>\n",
       "      <td>1003</td>\n",
       "      <td>ultra</td>\n",
       "      <td>0.0</td>\n",
       "      <td>0.0</td>\n",
       "      <td>0.0</td>\n",
       "      <td>0.0</td>\n",
       "      <td>0.0</td>\n",
       "      <td>0.0</td>\n",
       "      <td>0.0</td>\n",
       "      <td>37.0</td>\n",
       "      <td>91.0</td>\n",
       "      <td>83.0</td>\n",
       "      <td>94.0</td>\n",
       "      <td>75.0</td>\n",
       "    </tr>\n",
       "    <tr>\n",
       "      <td>4</td>\n",
       "      <td>1004</td>\n",
       "      <td>ultra</td>\n",
       "      <td>0.0</td>\n",
       "      <td>0.0</td>\n",
       "      <td>0.0</td>\n",
       "      <td>0.0</td>\n",
       "      <td>95.0</td>\n",
       "      <td>134.0</td>\n",
       "      <td>181.0</td>\n",
       "      <td>151.0</td>\n",
       "      <td>146.0</td>\n",
       "      <td>165.0</td>\n",
       "      <td>158.0</td>\n",
       "      <td>162.0</td>\n",
       "    </tr>\n",
       "    <tr>\n",
       "      <td>...</td>\n",
       "      <td>...</td>\n",
       "      <td>...</td>\n",
       "      <td>...</td>\n",
       "      <td>...</td>\n",
       "      <td>...</td>\n",
       "      <td>...</td>\n",
       "      <td>...</td>\n",
       "      <td>...</td>\n",
       "      <td>...</td>\n",
       "      <td>...</td>\n",
       "      <td>...</td>\n",
       "      <td>...</td>\n",
       "      <td>...</td>\n",
       "      <td>...</td>\n",
       "    </tr>\n",
       "    <tr>\n",
       "      <td>495</td>\n",
       "      <td>1495</td>\n",
       "      <td>ultra</td>\n",
       "      <td>0.0</td>\n",
       "      <td>0.0</td>\n",
       "      <td>0.0</td>\n",
       "      <td>0.0</td>\n",
       "      <td>0.0</td>\n",
       "      <td>0.0</td>\n",
       "      <td>0.0</td>\n",
       "      <td>13.0</td>\n",
       "      <td>82.0</td>\n",
       "      <td>82.0</td>\n",
       "      <td>79.0</td>\n",
       "      <td>84.0</td>\n",
       "    </tr>\n",
       "    <tr>\n",
       "      <td>496</td>\n",
       "      <td>1496</td>\n",
       "      <td>smart</td>\n",
       "      <td>9.0</td>\n",
       "      <td>45.0</td>\n",
       "      <td>46.0</td>\n",
       "      <td>49.0</td>\n",
       "      <td>40.0</td>\n",
       "      <td>35.0</td>\n",
       "      <td>42.0</td>\n",
       "      <td>41.0</td>\n",
       "      <td>29.0</td>\n",
       "      <td>35.0</td>\n",
       "      <td>46.0</td>\n",
       "      <td>51.0</td>\n",
       "    </tr>\n",
       "    <tr>\n",
       "      <td>497</td>\n",
       "      <td>1497</td>\n",
       "      <td>smart</td>\n",
       "      <td>0.0</td>\n",
       "      <td>0.0</td>\n",
       "      <td>0.0</td>\n",
       "      <td>0.0</td>\n",
       "      <td>0.0</td>\n",
       "      <td>0.0</td>\n",
       "      <td>0.0</td>\n",
       "      <td>0.0</td>\n",
       "      <td>0.0</td>\n",
       "      <td>20.0</td>\n",
       "      <td>14.0</td>\n",
       "      <td>17.0</td>\n",
       "    </tr>\n",
       "    <tr>\n",
       "      <td>498</td>\n",
       "      <td>1498</td>\n",
       "      <td>smart</td>\n",
       "      <td>0.0</td>\n",
       "      <td>0.0</td>\n",
       "      <td>0.0</td>\n",
       "      <td>0.0</td>\n",
       "      <td>0.0</td>\n",
       "      <td>0.0</td>\n",
       "      <td>20.0</td>\n",
       "      <td>62.0</td>\n",
       "      <td>44.0</td>\n",
       "      <td>42.0</td>\n",
       "      <td>0.0</td>\n",
       "      <td>0.0</td>\n",
       "    </tr>\n",
       "    <tr>\n",
       "      <td>499</td>\n",
       "      <td>1499</td>\n",
       "      <td>smart</td>\n",
       "      <td>0.0</td>\n",
       "      <td>0.0</td>\n",
       "      <td>0.0</td>\n",
       "      <td>0.0</td>\n",
       "      <td>0.0</td>\n",
       "      <td>0.0</td>\n",
       "      <td>0.0</td>\n",
       "      <td>0.0</td>\n",
       "      <td>11.0</td>\n",
       "      <td>48.0</td>\n",
       "      <td>59.0</td>\n",
       "      <td>66.0</td>\n",
       "    </tr>\n",
       "  </tbody>\n",
       "</table>\n",
       "<p>500 rows × 14 columns</p>\n",
       "</div>"
      ],
      "text/plain": [
       "     user_id tariff    1     2     3     4     5      6      7      8      9  \\\n",
       "0       1000  ultra  0.0   0.0   0.0   0.0  22.0   60.0   75.0   81.0   57.0   \n",
       "1       1001  smart  NaN   NaN   NaN   NaN   NaN    NaN    NaN    NaN    NaN   \n",
       "2       1002  smart  0.0   0.0   0.0   0.0   0.0    4.0   11.0   13.0    4.0   \n",
       "3       1003  ultra  0.0   0.0   0.0   0.0   0.0    0.0    0.0   37.0   91.0   \n",
       "4       1004  ultra  0.0   0.0   0.0   0.0  95.0  134.0  181.0  151.0  146.0   \n",
       "..       ...    ...  ...   ...   ...   ...   ...    ...    ...    ...    ...   \n",
       "495     1495  ultra  0.0   0.0   0.0   0.0   0.0    0.0    0.0   13.0   82.0   \n",
       "496     1496  smart  9.0  45.0  46.0  49.0  40.0   35.0   42.0   41.0   29.0   \n",
       "497     1497  smart  0.0   0.0   0.0   0.0   0.0    0.0    0.0    0.0    0.0   \n",
       "498     1498  smart  0.0   0.0   0.0   0.0   0.0    0.0   20.0   62.0   44.0   \n",
       "499     1499  smart  0.0   0.0   0.0   0.0   0.0    0.0    0.0    0.0   11.0   \n",
       "\n",
       "        10     11     12  \n",
       "0     73.0   58.0   70.0  \n",
       "1      NaN    NaN    NaN  \n",
       "2     10.0   16.0   12.0  \n",
       "3     83.0   94.0   75.0  \n",
       "4    165.0  158.0  162.0  \n",
       "..     ...    ...    ...  \n",
       "495   82.0   79.0   84.0  \n",
       "496   35.0   46.0   51.0  \n",
       "497   20.0   14.0   17.0  \n",
       "498   42.0    0.0    0.0  \n",
       "499   48.0   59.0   66.0  \n",
       "\n",
       "[500 rows x 14 columns]"
      ]
     },
     "execution_count": 35,
     "metadata": {},
     "output_type": "execute_result"
    }
   ],
   "source": [
    "tariff.join(messages_month_count, on='user_id')"
   ]
  },
  {
   "cell_type": "markdown",
   "metadata": {},
   "source": [
    "Можно заметить, что есть те, кто и вовсе не отправлял сообщения."
   ]
  },
  {
   "cell_type": "code",
   "execution_count": 36,
   "metadata": {},
   "outputs": [
    {
     "data": {
      "text/html": [
       "<div>\n",
       "<style scoped>\n",
       "    .dataframe tbody tr th:only-of-type {\n",
       "        vertical-align: middle;\n",
       "    }\n",
       "\n",
       "    .dataframe tbody tr th {\n",
       "        vertical-align: top;\n",
       "    }\n",
       "\n",
       "    .dataframe thead th {\n",
       "        text-align: right;\n",
       "    }\n",
       "</style>\n",
       "<table border=\"1\" class=\"dataframe\">\n",
       "  <thead>\n",
       "    <tr style=\"text-align: right;\">\n",
       "      <th></th>\n",
       "      <th>messages_included</th>\n",
       "      <th>mb_per_month_included</th>\n",
       "      <th>minutes_included</th>\n",
       "      <th>rub_monthly_fee</th>\n",
       "      <th>rub_per_gb</th>\n",
       "      <th>rub_per_message</th>\n",
       "      <th>rub_per_minute</th>\n",
       "      <th>tariff_name</th>\n",
       "    </tr>\n",
       "  </thead>\n",
       "  <tbody>\n",
       "    <tr>\n",
       "      <td>0</td>\n",
       "      <td>50</td>\n",
       "      <td>15360</td>\n",
       "      <td>500</td>\n",
       "      <td>550</td>\n",
       "      <td>200</td>\n",
       "      <td>3</td>\n",
       "      <td>3</td>\n",
       "      <td>smart</td>\n",
       "    </tr>\n",
       "    <tr>\n",
       "      <td>1</td>\n",
       "      <td>1000</td>\n",
       "      <td>30720</td>\n",
       "      <td>3000</td>\n",
       "      <td>1950</td>\n",
       "      <td>150</td>\n",
       "      <td>1</td>\n",
       "      <td>1</td>\n",
       "      <td>ultra</td>\n",
       "    </tr>\n",
       "  </tbody>\n",
       "</table>\n",
       "</div>"
      ],
      "text/plain": [
       "   messages_included  mb_per_month_included  minutes_included  \\\n",
       "0                 50                  15360               500   \n",
       "1               1000                  30720              3000   \n",
       "\n",
       "   rub_monthly_fee  rub_per_gb  rub_per_message  rub_per_minute tariff_name  \n",
       "0              550         200                3               3       smart  \n",
       "1             1950         150                1               1       ultra  "
      ]
     },
     "execution_count": 36,
     "metadata": {},
     "output_type": "execute_result"
    }
   ],
   "source": [
    "tariffs"
   ]
  },
  {
   "cell_type": "markdown",
   "metadata": {},
   "source": [
    "Посмотрим на данные по тарифам. Тут описаны оба тарифа и их характеристики."
   ]
  },
  {
   "cell_type": "code",
   "execution_count": 37,
   "metadata": {},
   "outputs": [
    {
     "data": {
      "text/html": [
       "<div>\n",
       "<style scoped>\n",
       "    .dataframe tbody tr th:only-of-type {\n",
       "        vertical-align: middle;\n",
       "    }\n",
       "\n",
       "    .dataframe tbody tr th {\n",
       "        vertical-align: top;\n",
       "    }\n",
       "\n",
       "    .dataframe thead th {\n",
       "        text-align: right;\n",
       "    }\n",
       "</style>\n",
       "<table border=\"1\" class=\"dataframe\">\n",
       "  <thead>\n",
       "    <tr style=\"text-align: right;\">\n",
       "      <th></th>\n",
       "      <th>user_id</th>\n",
       "      <th>age</th>\n",
       "      <th>churn_date</th>\n",
       "      <th>city</th>\n",
       "      <th>first_name</th>\n",
       "      <th>last_name</th>\n",
       "      <th>reg_date</th>\n",
       "      <th>tariff</th>\n",
       "    </tr>\n",
       "  </thead>\n",
       "  <tbody>\n",
       "    <tr>\n",
       "      <td>0</td>\n",
       "      <td>1000</td>\n",
       "      <td>52</td>\n",
       "      <td>NaN</td>\n",
       "      <td>Краснодар</td>\n",
       "      <td>Рафаил</td>\n",
       "      <td>Верещагин</td>\n",
       "      <td>2018-05-25</td>\n",
       "      <td>ultra</td>\n",
       "    </tr>\n",
       "    <tr>\n",
       "      <td>1</td>\n",
       "      <td>1001</td>\n",
       "      <td>41</td>\n",
       "      <td>NaN</td>\n",
       "      <td>Москва</td>\n",
       "      <td>Иван</td>\n",
       "      <td>Ежов</td>\n",
       "      <td>2018-11-01</td>\n",
       "      <td>smart</td>\n",
       "    </tr>\n",
       "    <tr>\n",
       "      <td>2</td>\n",
       "      <td>1002</td>\n",
       "      <td>59</td>\n",
       "      <td>NaN</td>\n",
       "      <td>Стерлитамак</td>\n",
       "      <td>Евгений</td>\n",
       "      <td>Абрамович</td>\n",
       "      <td>2018-06-17</td>\n",
       "      <td>smart</td>\n",
       "    </tr>\n",
       "    <tr>\n",
       "      <td>3</td>\n",
       "      <td>1003</td>\n",
       "      <td>23</td>\n",
       "      <td>NaN</td>\n",
       "      <td>Москва</td>\n",
       "      <td>Белла</td>\n",
       "      <td>Белякова</td>\n",
       "      <td>2018-08-17</td>\n",
       "      <td>ultra</td>\n",
       "    </tr>\n",
       "    <tr>\n",
       "      <td>4</td>\n",
       "      <td>1004</td>\n",
       "      <td>68</td>\n",
       "      <td>NaN</td>\n",
       "      <td>Новокузнецк</td>\n",
       "      <td>Татьяна</td>\n",
       "      <td>Авдеенко</td>\n",
       "      <td>2018-05-14</td>\n",
       "      <td>ultra</td>\n",
       "    </tr>\n",
       "    <tr>\n",
       "      <td>...</td>\n",
       "      <td>...</td>\n",
       "      <td>...</td>\n",
       "      <td>...</td>\n",
       "      <td>...</td>\n",
       "      <td>...</td>\n",
       "      <td>...</td>\n",
       "      <td>...</td>\n",
       "      <td>...</td>\n",
       "    </tr>\n",
       "    <tr>\n",
       "      <td>495</td>\n",
       "      <td>1495</td>\n",
       "      <td>65</td>\n",
       "      <td>NaN</td>\n",
       "      <td>Иркутск</td>\n",
       "      <td>Авксентий</td>\n",
       "      <td>Фокин</td>\n",
       "      <td>2018-08-28</td>\n",
       "      <td>ultra</td>\n",
       "    </tr>\n",
       "    <tr>\n",
       "      <td>496</td>\n",
       "      <td>1496</td>\n",
       "      <td>36</td>\n",
       "      <td>NaN</td>\n",
       "      <td>Вологда</td>\n",
       "      <td>Трифон</td>\n",
       "      <td>Блохин</td>\n",
       "      <td>2018-01-27</td>\n",
       "      <td>smart</td>\n",
       "    </tr>\n",
       "    <tr>\n",
       "      <td>497</td>\n",
       "      <td>1497</td>\n",
       "      <td>32</td>\n",
       "      <td>NaN</td>\n",
       "      <td>Челябинск</td>\n",
       "      <td>Каролина</td>\n",
       "      <td>Агеева</td>\n",
       "      <td>2018-10-09</td>\n",
       "      <td>smart</td>\n",
       "    </tr>\n",
       "    <tr>\n",
       "      <td>498</td>\n",
       "      <td>1498</td>\n",
       "      <td>68</td>\n",
       "      <td>2018-10-25</td>\n",
       "      <td>Владикавказ</td>\n",
       "      <td>Всеволод</td>\n",
       "      <td>Акимчин</td>\n",
       "      <td>2018-07-19</td>\n",
       "      <td>smart</td>\n",
       "    </tr>\n",
       "    <tr>\n",
       "      <td>499</td>\n",
       "      <td>1499</td>\n",
       "      <td>35</td>\n",
       "      <td>NaN</td>\n",
       "      <td>Пермь</td>\n",
       "      <td>Гектор</td>\n",
       "      <td>Корнилов</td>\n",
       "      <td>2018-09-27</td>\n",
       "      <td>smart</td>\n",
       "    </tr>\n",
       "  </tbody>\n",
       "</table>\n",
       "<p>500 rows × 8 columns</p>\n",
       "</div>"
      ],
      "text/plain": [
       "     user_id  age  churn_date         city first_name  last_name    reg_date  \\\n",
       "0       1000   52         NaN    Краснодар     Рафаил  Верещагин  2018-05-25   \n",
       "1       1001   41         NaN       Москва       Иван       Ежов  2018-11-01   \n",
       "2       1002   59         NaN  Стерлитамак    Евгений  Абрамович  2018-06-17   \n",
       "3       1003   23         NaN       Москва      Белла   Белякова  2018-08-17   \n",
       "4       1004   68         NaN  Новокузнецк    Татьяна   Авдеенко  2018-05-14   \n",
       "..       ...  ...         ...          ...        ...        ...         ...   \n",
       "495     1495   65         NaN      Иркутск  Авксентий      Фокин  2018-08-28   \n",
       "496     1496   36         NaN      Вологда     Трифон     Блохин  2018-01-27   \n",
       "497     1497   32         NaN    Челябинск   Каролина     Агеева  2018-10-09   \n",
       "498     1498   68  2018-10-25  Владикавказ   Всеволод    Акимчин  2018-07-19   \n",
       "499     1499   35         NaN        Пермь     Гектор   Корнилов  2018-09-27   \n",
       "\n",
       "    tariff  \n",
       "0    ultra  \n",
       "1    smart  \n",
       "2    smart  \n",
       "3    ultra  \n",
       "4    ultra  \n",
       "..     ...  \n",
       "495  ultra  \n",
       "496  smart  \n",
       "497  smart  \n",
       "498  smart  \n",
       "499  smart  \n",
       "\n",
       "[500 rows x 8 columns]"
      ]
     },
     "execution_count": 37,
     "metadata": {},
     "output_type": "execute_result"
    }
   ],
   "source": [
    "users"
   ]
  },
  {
   "cell_type": "markdown",
   "metadata": {},
   "source": [
    "Данные о самих пользователях. Здесь можно увидеть кто эти пользователи, откуда они, сколько им лет, когда они стали использовать тариф, и когда прекратили, и самое главное кто какой тариф использует."
   ]
  },
  {
   "cell_type": "markdown",
   "metadata": {},
   "source": [
    "<div class=\"alert alert-block alert-info\">\n",
    "<b>Fixed:</b>\n",
    "Изначально я их создавал из-за того, что мне так удобнее было смотреть на данные по месяцам, и планировал их использовать в дальнейшей работе, но оказалось, что они не совсем удобны. Поэтому далее я создал общую таблицу.\n",
    "</div>"
   ]
  },
  {
   "cell_type": "markdown",
   "metadata": {},
   "source": [
    "<hr style=\"border: 1px solid #000;\"> \n",
    "\n",
    "<div class=\"alert alert-warning\">\n",
    "\n",
    "<strong><font size=5>Комментарий от ревьюера</font></strong><br/>\n",
    "    \n",
    "Начальная предобработка выполнена хорошо. Только стоит поправить методику округления.<br/>\n",
    "И я пока не понял, для чего мы создавали эти сводные (где помесячно выводятся траты каждого пользователя). И при этом не записывали их в переменные, то есть не предполагаем их использование в дальнейшем. Для чего нам они тогда?\n",
    "    \n",
    "</div>\n",
    "<hr style=\"border: 1px solid #000;\"> "
   ]
  },
  {
   "cell_type": "markdown",
   "metadata": {},
   "source": [
    "<b><font size=5>2. Подготовим данные.</font></b><a name=\"2.\"></a><br/>\n",
    "[<font size=\"2\">(к содержанию)</font>](#to_content.)"
   ]
  },
  {
   "cell_type": "code",
   "execution_count": 38,
   "metadata": {},
   "outputs": [],
   "source": [
    "calls_table=df.groupby(['user_id', 'month'])['duration'].agg(['count', 'sum'])"
   ]
  },
  {
   "cell_type": "code",
   "execution_count": 39,
   "metadata": {},
   "outputs": [],
   "source": [
    "internet_table=internet.groupby(['user_id', 'month'])['mb_used'].agg('sum')"
   ]
  },
  {
   "cell_type": "code",
   "execution_count": 40,
   "metadata": {},
   "outputs": [],
   "source": [
    "messages_table=messages.groupby(['user_id', 'month'])['id'].agg('count')"
   ]
  },
  {
   "cell_type": "markdown",
   "metadata": {},
   "source": [
    "Создадим 3 таблицы для звонков интернета и сообщений, в которых будут сгруппированы кто сколько звонков совершил, сколько минут проговорил, сколько использовал мегабайт и сколько отправил сообщений и все это по месяцам"
   ]
  },
  {
   "cell_type": "code",
   "execution_count": 41,
   "metadata": {},
   "outputs": [],
   "source": [
    "df_table = pd.concat([calls_table, internet_table, messages_table,], axis=1).reset_index()"
   ]
  },
  {
   "cell_type": "markdown",
   "metadata": {},
   "source": [
    "Объединим все эти таблицу в одну общую "
   ]
  },
  {
   "cell_type": "code",
   "execution_count": 42,
   "metadata": {},
   "outputs": [],
   "source": [
    "fill_tariff = dict(pd.Series(users['tariff'].values, index=users['user_id']))\n",
    "df_table['tariff'] = df_table['user_id'].map(fill_tariff)"
   ]
  },
  {
   "cell_type": "code",
   "execution_count": 43,
   "metadata": {},
   "outputs": [],
   "source": [
    "fill_city = dict(pd.Series(users['city'].values, index=users['user_id']))\n",
    "df_table['city'] = df_table['user_id'].map(fill_city)"
   ]
  },
  {
   "cell_type": "markdown",
   "metadata": {},
   "source": [
    "Добавим в эту таблицу для каждого пользователя их тариф и город"
   ]
  },
  {
   "cell_type": "code",
   "execution_count": 44,
   "metadata": {},
   "outputs": [],
   "source": [
    "df_table.columns=['user_id', 'month', 'calls', 'minute', 'mb_used', 'message', 'tariff', 'city']"
   ]
  },
  {
   "cell_type": "markdown",
   "metadata": {},
   "source": [
    "Переименуем столбцы "
   ]
  },
  {
   "cell_type": "code",
   "execution_count": 45,
   "metadata": {},
   "outputs": [
    {
     "data": {
      "text/html": [
       "<div>\n",
       "<style scoped>\n",
       "    .dataframe tbody tr th:only-of-type {\n",
       "        vertical-align: middle;\n",
       "    }\n",
       "\n",
       "    .dataframe tbody tr th {\n",
       "        vertical-align: top;\n",
       "    }\n",
       "\n",
       "    .dataframe thead th {\n",
       "        text-align: right;\n",
       "    }\n",
       "</style>\n",
       "<table border=\"1\" class=\"dataframe\">\n",
       "  <thead>\n",
       "    <tr style=\"text-align: right;\">\n",
       "      <th></th>\n",
       "      <th>user_id</th>\n",
       "      <th>month</th>\n",
       "      <th>calls</th>\n",
       "      <th>minute</th>\n",
       "      <th>mb_used</th>\n",
       "      <th>message</th>\n",
       "      <th>tariff</th>\n",
       "      <th>city</th>\n",
       "    </tr>\n",
       "  </thead>\n",
       "  <tbody>\n",
       "    <tr>\n",
       "      <td>0</td>\n",
       "      <td>1000</td>\n",
       "      <td>5</td>\n",
       "      <td>17.0</td>\n",
       "      <td>159.0</td>\n",
       "      <td>2256.0</td>\n",
       "      <td>22.0</td>\n",
       "      <td>ultra</td>\n",
       "      <td>Краснодар</td>\n",
       "    </tr>\n",
       "    <tr>\n",
       "      <td>1</td>\n",
       "      <td>1000</td>\n",
       "      <td>6</td>\n",
       "      <td>28.0</td>\n",
       "      <td>172.0</td>\n",
       "      <td>23257.0</td>\n",
       "      <td>60.0</td>\n",
       "      <td>ultra</td>\n",
       "      <td>Краснодар</td>\n",
       "    </tr>\n",
       "    <tr>\n",
       "      <td>2</td>\n",
       "      <td>1000</td>\n",
       "      <td>7</td>\n",
       "      <td>41.0</td>\n",
       "      <td>340.0</td>\n",
       "      <td>14016.0</td>\n",
       "      <td>75.0</td>\n",
       "      <td>ultra</td>\n",
       "      <td>Краснодар</td>\n",
       "    </tr>\n",
       "    <tr>\n",
       "      <td>3</td>\n",
       "      <td>1000</td>\n",
       "      <td>8</td>\n",
       "      <td>42.0</td>\n",
       "      <td>408.0</td>\n",
       "      <td>14070.0</td>\n",
       "      <td>81.0</td>\n",
       "      <td>ultra</td>\n",
       "      <td>Краснодар</td>\n",
       "    </tr>\n",
       "    <tr>\n",
       "      <td>4</td>\n",
       "      <td>1000</td>\n",
       "      <td>9</td>\n",
       "      <td>46.0</td>\n",
       "      <td>466.0</td>\n",
       "      <td>14581.0</td>\n",
       "      <td>57.0</td>\n",
       "      <td>ultra</td>\n",
       "      <td>Краснодар</td>\n",
       "    </tr>\n",
       "    <tr>\n",
       "      <td>...</td>\n",
       "      <td>...</td>\n",
       "      <td>...</td>\n",
       "      <td>...</td>\n",
       "      <td>...</td>\n",
       "      <td>...</td>\n",
       "      <td>...</td>\n",
       "      <td>...</td>\n",
       "      <td>...</td>\n",
       "    </tr>\n",
       "    <tr>\n",
       "      <td>3209</td>\n",
       "      <td>1498</td>\n",
       "      <td>10</td>\n",
       "      <td>30.0</td>\n",
       "      <td>247.0</td>\n",
       "      <td>20604.0</td>\n",
       "      <td>42.0</td>\n",
       "      <td>smart</td>\n",
       "      <td>Владикавказ</td>\n",
       "    </tr>\n",
       "    <tr>\n",
       "      <td>3210</td>\n",
       "      <td>1499</td>\n",
       "      <td>9</td>\n",
       "      <td>8.0</td>\n",
       "      <td>70.0</td>\n",
       "      <td>1848.0</td>\n",
       "      <td>11.0</td>\n",
       "      <td>smart</td>\n",
       "      <td>Пермь</td>\n",
       "    </tr>\n",
       "    <tr>\n",
       "      <td>3211</td>\n",
       "      <td>1499</td>\n",
       "      <td>10</td>\n",
       "      <td>44.0</td>\n",
       "      <td>449.0</td>\n",
       "      <td>17809.0</td>\n",
       "      <td>48.0</td>\n",
       "      <td>smart</td>\n",
       "      <td>Пермь</td>\n",
       "    </tr>\n",
       "    <tr>\n",
       "      <td>3212</td>\n",
       "      <td>1499</td>\n",
       "      <td>11</td>\n",
       "      <td>62.0</td>\n",
       "      <td>612.0</td>\n",
       "      <td>17984.0</td>\n",
       "      <td>59.0</td>\n",
       "      <td>smart</td>\n",
       "      <td>Пермь</td>\n",
       "    </tr>\n",
       "    <tr>\n",
       "      <td>3213</td>\n",
       "      <td>1499</td>\n",
       "      <td>12</td>\n",
       "      <td>56.0</td>\n",
       "      <td>492.0</td>\n",
       "      <td>13077.0</td>\n",
       "      <td>66.0</td>\n",
       "      <td>smart</td>\n",
       "      <td>Пермь</td>\n",
       "    </tr>\n",
       "  </tbody>\n",
       "</table>\n",
       "<p>3214 rows × 8 columns</p>\n",
       "</div>"
      ],
      "text/plain": [
       "      user_id  month  calls  minute  mb_used  message tariff         city\n",
       "0        1000      5   17.0   159.0   2256.0     22.0  ultra    Краснодар\n",
       "1        1000      6   28.0   172.0  23257.0     60.0  ultra    Краснодар\n",
       "2        1000      7   41.0   340.0  14016.0     75.0  ultra    Краснодар\n",
       "3        1000      8   42.0   408.0  14070.0     81.0  ultra    Краснодар\n",
       "4        1000      9   46.0   466.0  14581.0     57.0  ultra    Краснодар\n",
       "...       ...    ...    ...     ...      ...      ...    ...          ...\n",
       "3209     1498     10   30.0   247.0  20604.0     42.0  smart  Владикавказ\n",
       "3210     1499      9    8.0    70.0   1848.0     11.0  smart        Пермь\n",
       "3211     1499     10   44.0   449.0  17809.0     48.0  smart        Пермь\n",
       "3212     1499     11   62.0   612.0  17984.0     59.0  smart        Пермь\n",
       "3213     1499     12   56.0   492.0  13077.0     66.0  smart        Пермь\n",
       "\n",
       "[3214 rows x 8 columns]"
      ]
     },
     "execution_count": 45,
     "metadata": {},
     "output_type": "execute_result"
    }
   ],
   "source": [
    "df_table"
   ]
  },
  {
   "cell_type": "markdown",
   "metadata": {},
   "source": [
    "<hr style=\"border: 1px solid #000;\"> \n",
    "\n",
    "<div class=\"alert alert-success\">\n",
    "\n",
    "<strong><font size=5>Комментарий от ревьюера</font></strong><br/>\n",
    "    \n",
    "Тут всё грамотно сделано.\n",
    "    \n",
    "</div>\n",
    "<hr style=\"border: 1px solid #000;\"> "
   ]
  },
  {
   "cell_type": "markdown",
   "metadata": {},
   "source": [
    "Посмотрим на нашу новую таблицу "
   ]
  },
  {
   "cell_type": "code",
   "execution_count": 46,
   "metadata": {},
   "outputs": [],
   "source": [
    "def calls_over_plan(row):\n",
    "    if row['tariff'] == 'smart':\n",
    "        result = row['minute'] - 500\n",
    "        return np.where(result > 0, result, 0)\n",
    "    else:\n",
    "        result = row['minute'] - 3000\n",
    "        return np.where(result > 0, result, 0)"
   ]
  },
  {
   "cell_type": "markdown",
   "metadata": {},
   "source": [
    "Напишем функцию, которая будет считать минуты сверх тарифа, в зависимости от тарифа."
   ]
  },
  {
   "cell_type": "code",
   "execution_count": 47,
   "metadata": {},
   "outputs": [],
   "source": [
    "df_table['minute_ov'] = df_table.apply(calls_over_plan, axis=1)"
   ]
  },
  {
   "cell_type": "markdown",
   "metadata": {},
   "source": [
    "Вызовем эту функцию и получим новый столбец minute_ov"
   ]
  },
  {
   "cell_type": "code",
   "execution_count": 48,
   "metadata": {},
   "outputs": [],
   "source": [
    "def sms_over_plan(row):\n",
    "    if row['tariff'] == 'smart':\n",
    "        result = row['message'] - 50\n",
    "        return np.where(result > 0, result, 0)\n",
    "    else:\n",
    "        result =  row['message'] - 1000\n",
    "        return np.where(result > 0, result, 0)"
   ]
  },
  {
   "cell_type": "markdown",
   "metadata": {},
   "source": [
    "Напишем функцию, которая будет считать сообщения сверх тарифа, в зависимости от тарифа."
   ]
  },
  {
   "cell_type": "code",
   "execution_count": 49,
   "metadata": {},
   "outputs": [],
   "source": [
    "df_table['message_ov'] = df_table.apply(sms_over_plan, axis=1)"
   ]
  },
  {
   "cell_type": "markdown",
   "metadata": {},
   "source": [
    "Вызовем эту функцию и получим новый столбец message_ov"
   ]
  },
  {
   "cell_type": "code",
   "execution_count": 50,
   "metadata": {},
   "outputs": [],
   "source": [
    "def internet_over_plan(row):\n",
    "    if row['tariff'] == 'smart':\n",
    "        result = row['mb_used'] - 15360\n",
    "        return np.where(result > 0, result, 0)\n",
    "    else:\n",
    "        result = row['mb_used'] - 30720\n",
    "        return np.where(result > 0, result, 0)"
   ]
  },
  {
   "cell_type": "markdown",
   "metadata": {},
   "source": [
    "Напишем функцию, которая будет считать мегабайты сверх тарифа, в зависимости от тарифа."
   ]
  },
  {
   "cell_type": "code",
   "execution_count": 51,
   "metadata": {},
   "outputs": [],
   "source": [
    "df_table['mb_used_ov'] = df_table.apply(internet_over_plan, axis=1)"
   ]
  },
  {
   "cell_type": "markdown",
   "metadata": {},
   "source": [
    "Вызовем эту функцию и получим новый столбец mb_used_ov"
   ]
  },
  {
   "cell_type": "code",
   "execution_count": 52,
   "metadata": {},
   "outputs": [],
   "source": [
    "price={'smart': 550, 'ultra': '1950'}"
   ]
  },
  {
   "cell_type": "code",
   "execution_count": 53,
   "metadata": {},
   "outputs": [],
   "source": [
    "df_table['rub_monthly_fee']=df_table['tariff'].map(price)"
   ]
  },
  {
   "cell_type": "markdown",
   "metadata": {},
   "source": [
    "Добавим для каждого пользователя стоимость его тарифа "
   ]
  },
  {
   "cell_type": "code",
   "execution_count": 54,
   "metadata": {},
   "outputs": [
    {
     "data": {
      "text/html": [
       "<div>\n",
       "<style scoped>\n",
       "    .dataframe tbody tr th:only-of-type {\n",
       "        vertical-align: middle;\n",
       "    }\n",
       "\n",
       "    .dataframe tbody tr th {\n",
       "        vertical-align: top;\n",
       "    }\n",
       "\n",
       "    .dataframe thead th {\n",
       "        text-align: right;\n",
       "    }\n",
       "</style>\n",
       "<table border=\"1\" class=\"dataframe\">\n",
       "  <thead>\n",
       "    <tr style=\"text-align: right;\">\n",
       "      <th></th>\n",
       "      <th>user_id</th>\n",
       "      <th>month</th>\n",
       "      <th>calls</th>\n",
       "      <th>minute</th>\n",
       "      <th>mb_used</th>\n",
       "      <th>message</th>\n",
       "      <th>tariff</th>\n",
       "      <th>city</th>\n",
       "      <th>minute_ov</th>\n",
       "      <th>message_ov</th>\n",
       "      <th>mb_used_ov</th>\n",
       "      <th>rub_monthly_fee</th>\n",
       "    </tr>\n",
       "  </thead>\n",
       "  <tbody>\n",
       "    <tr>\n",
       "      <td>0</td>\n",
       "      <td>1000</td>\n",
       "      <td>5</td>\n",
       "      <td>17.0</td>\n",
       "      <td>159.0</td>\n",
       "      <td>2256.0</td>\n",
       "      <td>22.0</td>\n",
       "      <td>ultra</td>\n",
       "      <td>Краснодар</td>\n",
       "      <td>0.0</td>\n",
       "      <td>0.0</td>\n",
       "      <td>0.0</td>\n",
       "      <td>1950</td>\n",
       "    </tr>\n",
       "    <tr>\n",
       "      <td>1</td>\n",
       "      <td>1000</td>\n",
       "      <td>6</td>\n",
       "      <td>28.0</td>\n",
       "      <td>172.0</td>\n",
       "      <td>23257.0</td>\n",
       "      <td>60.0</td>\n",
       "      <td>ultra</td>\n",
       "      <td>Краснодар</td>\n",
       "      <td>0.0</td>\n",
       "      <td>0.0</td>\n",
       "      <td>0.0</td>\n",
       "      <td>1950</td>\n",
       "    </tr>\n",
       "    <tr>\n",
       "      <td>2</td>\n",
       "      <td>1000</td>\n",
       "      <td>7</td>\n",
       "      <td>41.0</td>\n",
       "      <td>340.0</td>\n",
       "      <td>14016.0</td>\n",
       "      <td>75.0</td>\n",
       "      <td>ultra</td>\n",
       "      <td>Краснодар</td>\n",
       "      <td>0.0</td>\n",
       "      <td>0.0</td>\n",
       "      <td>0.0</td>\n",
       "      <td>1950</td>\n",
       "    </tr>\n",
       "    <tr>\n",
       "      <td>3</td>\n",
       "      <td>1000</td>\n",
       "      <td>8</td>\n",
       "      <td>42.0</td>\n",
       "      <td>408.0</td>\n",
       "      <td>14070.0</td>\n",
       "      <td>81.0</td>\n",
       "      <td>ultra</td>\n",
       "      <td>Краснодар</td>\n",
       "      <td>0.0</td>\n",
       "      <td>0.0</td>\n",
       "      <td>0.0</td>\n",
       "      <td>1950</td>\n",
       "    </tr>\n",
       "    <tr>\n",
       "      <td>4</td>\n",
       "      <td>1000</td>\n",
       "      <td>9</td>\n",
       "      <td>46.0</td>\n",
       "      <td>466.0</td>\n",
       "      <td>14581.0</td>\n",
       "      <td>57.0</td>\n",
       "      <td>ultra</td>\n",
       "      <td>Краснодар</td>\n",
       "      <td>0.0</td>\n",
       "      <td>0.0</td>\n",
       "      <td>0.0</td>\n",
       "      <td>1950</td>\n",
       "    </tr>\n",
       "    <tr>\n",
       "      <td>...</td>\n",
       "      <td>...</td>\n",
       "      <td>...</td>\n",
       "      <td>...</td>\n",
       "      <td>...</td>\n",
       "      <td>...</td>\n",
       "      <td>...</td>\n",
       "      <td>...</td>\n",
       "      <td>...</td>\n",
       "      <td>...</td>\n",
       "      <td>...</td>\n",
       "      <td>...</td>\n",
       "      <td>...</td>\n",
       "    </tr>\n",
       "    <tr>\n",
       "      <td>3209</td>\n",
       "      <td>1498</td>\n",
       "      <td>10</td>\n",
       "      <td>30.0</td>\n",
       "      <td>247.0</td>\n",
       "      <td>20604.0</td>\n",
       "      <td>42.0</td>\n",
       "      <td>smart</td>\n",
       "      <td>Владикавказ</td>\n",
       "      <td>0.0</td>\n",
       "      <td>0.0</td>\n",
       "      <td>5244.0</td>\n",
       "      <td>550</td>\n",
       "    </tr>\n",
       "    <tr>\n",
       "      <td>3210</td>\n",
       "      <td>1499</td>\n",
       "      <td>9</td>\n",
       "      <td>8.0</td>\n",
       "      <td>70.0</td>\n",
       "      <td>1848.0</td>\n",
       "      <td>11.0</td>\n",
       "      <td>smart</td>\n",
       "      <td>Пермь</td>\n",
       "      <td>0.0</td>\n",
       "      <td>0.0</td>\n",
       "      <td>0.0</td>\n",
       "      <td>550</td>\n",
       "    </tr>\n",
       "    <tr>\n",
       "      <td>3211</td>\n",
       "      <td>1499</td>\n",
       "      <td>10</td>\n",
       "      <td>44.0</td>\n",
       "      <td>449.0</td>\n",
       "      <td>17809.0</td>\n",
       "      <td>48.0</td>\n",
       "      <td>smart</td>\n",
       "      <td>Пермь</td>\n",
       "      <td>0.0</td>\n",
       "      <td>0.0</td>\n",
       "      <td>2449.0</td>\n",
       "      <td>550</td>\n",
       "    </tr>\n",
       "    <tr>\n",
       "      <td>3212</td>\n",
       "      <td>1499</td>\n",
       "      <td>11</td>\n",
       "      <td>62.0</td>\n",
       "      <td>612.0</td>\n",
       "      <td>17984.0</td>\n",
       "      <td>59.0</td>\n",
       "      <td>smart</td>\n",
       "      <td>Пермь</td>\n",
       "      <td>112.0</td>\n",
       "      <td>9.0</td>\n",
       "      <td>2624.0</td>\n",
       "      <td>550</td>\n",
       "    </tr>\n",
       "    <tr>\n",
       "      <td>3213</td>\n",
       "      <td>1499</td>\n",
       "      <td>12</td>\n",
       "      <td>56.0</td>\n",
       "      <td>492.0</td>\n",
       "      <td>13077.0</td>\n",
       "      <td>66.0</td>\n",
       "      <td>smart</td>\n",
       "      <td>Пермь</td>\n",
       "      <td>0.0</td>\n",
       "      <td>16.0</td>\n",
       "      <td>0.0</td>\n",
       "      <td>550</td>\n",
       "    </tr>\n",
       "  </tbody>\n",
       "</table>\n",
       "<p>3214 rows × 12 columns</p>\n",
       "</div>"
      ],
      "text/plain": [
       "      user_id  month  calls  minute  mb_used  message tariff         city  \\\n",
       "0        1000      5   17.0   159.0   2256.0     22.0  ultra    Краснодар   \n",
       "1        1000      6   28.0   172.0  23257.0     60.0  ultra    Краснодар   \n",
       "2        1000      7   41.0   340.0  14016.0     75.0  ultra    Краснодар   \n",
       "3        1000      8   42.0   408.0  14070.0     81.0  ultra    Краснодар   \n",
       "4        1000      9   46.0   466.0  14581.0     57.0  ultra    Краснодар   \n",
       "...       ...    ...    ...     ...      ...      ...    ...          ...   \n",
       "3209     1498     10   30.0   247.0  20604.0     42.0  smart  Владикавказ   \n",
       "3210     1499      9    8.0    70.0   1848.0     11.0  smart        Пермь   \n",
       "3211     1499     10   44.0   449.0  17809.0     48.0  smart        Пермь   \n",
       "3212     1499     11   62.0   612.0  17984.0     59.0  smart        Пермь   \n",
       "3213     1499     12   56.0   492.0  13077.0     66.0  smart        Пермь   \n",
       "\n",
       "     minute_ov message_ov mb_used_ov rub_monthly_fee  \n",
       "0          0.0        0.0        0.0            1950  \n",
       "1          0.0        0.0        0.0            1950  \n",
       "2          0.0        0.0        0.0            1950  \n",
       "3          0.0        0.0        0.0            1950  \n",
       "4          0.0        0.0        0.0            1950  \n",
       "...        ...        ...        ...             ...  \n",
       "3209       0.0        0.0     5244.0             550  \n",
       "3210       0.0        0.0        0.0             550  \n",
       "3211       0.0        0.0     2449.0             550  \n",
       "3212     112.0        9.0     2624.0             550  \n",
       "3213       0.0       16.0        0.0             550  \n",
       "\n",
       "[3214 rows x 12 columns]"
      ]
     },
     "execution_count": 54,
     "metadata": {},
     "output_type": "execute_result"
    }
   ],
   "source": [
    "df_table"
   ]
  },
  {
   "cell_type": "markdown",
   "metadata": {},
   "source": [
    "Посмотрим на обновленную таблицу "
   ]
  },
  {
   "cell_type": "markdown",
   "metadata": {},
   "source": [
    "<hr style=\"border: 1px solid #000;\"> \n",
    "\n",
    "<div class=\"alert alert-success\">\n",
    "\n",
    "<strong><font size=5>Комментарий от ревьюера</font></strong><br/>\n",
    "    \n",
    "И тут. Ты решил разбить всё на 3 функции, и я тебя тут поддержу. Выглядит аккуратней и проще, чем если бы мы все 3 столбца создавали внутри одной функции и за один <b>apply</b>.\n",
    "    \n",
    "</div>\n",
    "<hr style=\"border: 1px solid #000;\"> "
   ]
  },
  {
   "cell_type": "code",
   "execution_count": 55,
   "metadata": {},
   "outputs": [],
   "source": [
    "def month_revenue(row):\n",
    "    sum_per_month = 0\n",
    "    if row['tariff'] == 'smart':\n",
    "        sum_per_month += np.ceil(row['minute_ov']) * 3\n",
    "        sum_per_month += row['message_ov'] * 3\n",
    "        sum_per_month += np.ceil(row['mb_used_ov']/1024) * 200\n",
    "        return sum_per_month\n",
    "    \n",
    "    else:\n",
    "        sum_per_month += np.ceil(row['minute_ov']) * 1\n",
    "        sum_per_month += row['message_ov'] * 1\n",
    "        sum_per_month += np.ceil(row['mb_used_ov']/1024) * 150\n",
    "        return sum_per_month"
   ]
  },
  {
   "cell_type": "markdown",
   "metadata": {},
   "source": [
    "<hr style=\"border: 1px solid #000;\"> \n",
    "\n",
    "<div class=\"alert alert-success\">\n",
    "\n",
    "<strong><font size=5>Комментарий от ревьюера</font></strong><br/>\n",
    "    \n",
    "Решили ещё раз округлить минуты, хотя мы в предобработке. Но согласен, что перестраховаться стоит, пусть и в данном случае ошибка исключена.\n",
    "    \n",
    "</div>\n",
    "<hr style=\"border: 1px solid #000;\"> "
   ]
  },
  {
   "cell_type": "markdown",
   "metadata": {},
   "source": [
    "Теперь напишем функцию, которая подсчитаем сколько заплатит каждый пользователь сверх тарифа, в зависимости от тарифа "
   ]
  },
  {
   "cell_type": "code",
   "execution_count": 56,
   "metadata": {},
   "outputs": [],
   "source": [
    "df_table['sum_per_month'] = df_table.apply(month_revenue, axis=1)"
   ]
  },
  {
   "cell_type": "markdown",
   "metadata": {},
   "source": [
    "Вызовем эту функцию и получим новый столбец sum_per_month."
   ]
  },
  {
   "cell_type": "code",
   "execution_count": 57,
   "metadata": {},
   "outputs": [],
   "source": [
    "for column in ['minute_ov', 'mb_used_ov']:\n",
    "    df_table[column] = df_table[column].astype('float')"
   ]
  },
  {
   "cell_type": "code",
   "execution_count": 58,
   "metadata": {},
   "outputs": [],
   "source": [
    "for column in ['message_ov', 'rub_monthly_fee', 'sum_per_month']:\n",
    "    df_table[column] = df_table[column].astype('int')"
   ]
  },
  {
   "cell_type": "markdown",
   "metadata": {},
   "source": [
    "Изменим тип данных."
   ]
  },
  {
   "cell_type": "code",
   "execution_count": 59,
   "metadata": {},
   "outputs": [],
   "source": [
    "df_table['total_price']=df_table['rub_monthly_fee']+df_table['sum_per_month']"
   ]
  },
  {
   "cell_type": "markdown",
   "metadata": {},
   "source": [
    "Подсчитаем сколько всего человек заплатит за каждый месяц вместе с абонентской платой и переплатой по тарифу, запишем в новый столбец total_price"
   ]
  },
  {
   "cell_type": "code",
   "execution_count": 60,
   "metadata": {},
   "outputs": [],
   "source": [
    "df_table=df_table.fillna(0)"
   ]
  },
  {
   "cell_type": "code",
   "execution_count": 61,
   "metadata": {},
   "outputs": [
    {
     "data": {
      "text/html": [
       "<div>\n",
       "<style scoped>\n",
       "    .dataframe tbody tr th:only-of-type {\n",
       "        vertical-align: middle;\n",
       "    }\n",
       "\n",
       "    .dataframe tbody tr th {\n",
       "        vertical-align: top;\n",
       "    }\n",
       "\n",
       "    .dataframe thead th {\n",
       "        text-align: right;\n",
       "    }\n",
       "</style>\n",
       "<table border=\"1\" class=\"dataframe\">\n",
       "  <thead>\n",
       "    <tr style=\"text-align: right;\">\n",
       "      <th></th>\n",
       "      <th>user_id</th>\n",
       "      <th>month</th>\n",
       "      <th>calls</th>\n",
       "      <th>minute</th>\n",
       "      <th>mb_used</th>\n",
       "      <th>message</th>\n",
       "      <th>tariff</th>\n",
       "      <th>city</th>\n",
       "      <th>minute_ov</th>\n",
       "      <th>message_ov</th>\n",
       "      <th>mb_used_ov</th>\n",
       "      <th>rub_monthly_fee</th>\n",
       "      <th>sum_per_month</th>\n",
       "      <th>total_price</th>\n",
       "    </tr>\n",
       "  </thead>\n",
       "  <tbody>\n",
       "    <tr>\n",
       "      <td>0</td>\n",
       "      <td>1000</td>\n",
       "      <td>5</td>\n",
       "      <td>17.0</td>\n",
       "      <td>159.0</td>\n",
       "      <td>2256.0</td>\n",
       "      <td>22.0</td>\n",
       "      <td>ultra</td>\n",
       "      <td>Краснодар</td>\n",
       "      <td>0.0</td>\n",
       "      <td>0</td>\n",
       "      <td>0.0</td>\n",
       "      <td>1950</td>\n",
       "      <td>0</td>\n",
       "      <td>1950</td>\n",
       "    </tr>\n",
       "    <tr>\n",
       "      <td>1</td>\n",
       "      <td>1000</td>\n",
       "      <td>6</td>\n",
       "      <td>28.0</td>\n",
       "      <td>172.0</td>\n",
       "      <td>23257.0</td>\n",
       "      <td>60.0</td>\n",
       "      <td>ultra</td>\n",
       "      <td>Краснодар</td>\n",
       "      <td>0.0</td>\n",
       "      <td>0</td>\n",
       "      <td>0.0</td>\n",
       "      <td>1950</td>\n",
       "      <td>0</td>\n",
       "      <td>1950</td>\n",
       "    </tr>\n",
       "    <tr>\n",
       "      <td>2</td>\n",
       "      <td>1000</td>\n",
       "      <td>7</td>\n",
       "      <td>41.0</td>\n",
       "      <td>340.0</td>\n",
       "      <td>14016.0</td>\n",
       "      <td>75.0</td>\n",
       "      <td>ultra</td>\n",
       "      <td>Краснодар</td>\n",
       "      <td>0.0</td>\n",
       "      <td>0</td>\n",
       "      <td>0.0</td>\n",
       "      <td>1950</td>\n",
       "      <td>0</td>\n",
       "      <td>1950</td>\n",
       "    </tr>\n",
       "    <tr>\n",
       "      <td>3</td>\n",
       "      <td>1000</td>\n",
       "      <td>8</td>\n",
       "      <td>42.0</td>\n",
       "      <td>408.0</td>\n",
       "      <td>14070.0</td>\n",
       "      <td>81.0</td>\n",
       "      <td>ultra</td>\n",
       "      <td>Краснодар</td>\n",
       "      <td>0.0</td>\n",
       "      <td>0</td>\n",
       "      <td>0.0</td>\n",
       "      <td>1950</td>\n",
       "      <td>0</td>\n",
       "      <td>1950</td>\n",
       "    </tr>\n",
       "    <tr>\n",
       "      <td>4</td>\n",
       "      <td>1000</td>\n",
       "      <td>9</td>\n",
       "      <td>46.0</td>\n",
       "      <td>466.0</td>\n",
       "      <td>14581.0</td>\n",
       "      <td>57.0</td>\n",
       "      <td>ultra</td>\n",
       "      <td>Краснодар</td>\n",
       "      <td>0.0</td>\n",
       "      <td>0</td>\n",
       "      <td>0.0</td>\n",
       "      <td>1950</td>\n",
       "      <td>0</td>\n",
       "      <td>1950</td>\n",
       "    </tr>\n",
       "    <tr>\n",
       "      <td>...</td>\n",
       "      <td>...</td>\n",
       "      <td>...</td>\n",
       "      <td>...</td>\n",
       "      <td>...</td>\n",
       "      <td>...</td>\n",
       "      <td>...</td>\n",
       "      <td>...</td>\n",
       "      <td>...</td>\n",
       "      <td>...</td>\n",
       "      <td>...</td>\n",
       "      <td>...</td>\n",
       "      <td>...</td>\n",
       "      <td>...</td>\n",
       "      <td>...</td>\n",
       "    </tr>\n",
       "    <tr>\n",
       "      <td>3209</td>\n",
       "      <td>1498</td>\n",
       "      <td>10</td>\n",
       "      <td>30.0</td>\n",
       "      <td>247.0</td>\n",
       "      <td>20604.0</td>\n",
       "      <td>42.0</td>\n",
       "      <td>smart</td>\n",
       "      <td>Владикавказ</td>\n",
       "      <td>0.0</td>\n",
       "      <td>0</td>\n",
       "      <td>5244.0</td>\n",
       "      <td>550</td>\n",
       "      <td>1200</td>\n",
       "      <td>1750</td>\n",
       "    </tr>\n",
       "    <tr>\n",
       "      <td>3210</td>\n",
       "      <td>1499</td>\n",
       "      <td>9</td>\n",
       "      <td>8.0</td>\n",
       "      <td>70.0</td>\n",
       "      <td>1848.0</td>\n",
       "      <td>11.0</td>\n",
       "      <td>smart</td>\n",
       "      <td>Пермь</td>\n",
       "      <td>0.0</td>\n",
       "      <td>0</td>\n",
       "      <td>0.0</td>\n",
       "      <td>550</td>\n",
       "      <td>0</td>\n",
       "      <td>550</td>\n",
       "    </tr>\n",
       "    <tr>\n",
       "      <td>3211</td>\n",
       "      <td>1499</td>\n",
       "      <td>10</td>\n",
       "      <td>44.0</td>\n",
       "      <td>449.0</td>\n",
       "      <td>17809.0</td>\n",
       "      <td>48.0</td>\n",
       "      <td>smart</td>\n",
       "      <td>Пермь</td>\n",
       "      <td>0.0</td>\n",
       "      <td>0</td>\n",
       "      <td>2449.0</td>\n",
       "      <td>550</td>\n",
       "      <td>600</td>\n",
       "      <td>1150</td>\n",
       "    </tr>\n",
       "    <tr>\n",
       "      <td>3212</td>\n",
       "      <td>1499</td>\n",
       "      <td>11</td>\n",
       "      <td>62.0</td>\n",
       "      <td>612.0</td>\n",
       "      <td>17984.0</td>\n",
       "      <td>59.0</td>\n",
       "      <td>smart</td>\n",
       "      <td>Пермь</td>\n",
       "      <td>112.0</td>\n",
       "      <td>9</td>\n",
       "      <td>2624.0</td>\n",
       "      <td>550</td>\n",
       "      <td>963</td>\n",
       "      <td>1513</td>\n",
       "    </tr>\n",
       "    <tr>\n",
       "      <td>3213</td>\n",
       "      <td>1499</td>\n",
       "      <td>12</td>\n",
       "      <td>56.0</td>\n",
       "      <td>492.0</td>\n",
       "      <td>13077.0</td>\n",
       "      <td>66.0</td>\n",
       "      <td>smart</td>\n",
       "      <td>Пермь</td>\n",
       "      <td>0.0</td>\n",
       "      <td>16</td>\n",
       "      <td>0.0</td>\n",
       "      <td>550</td>\n",
       "      <td>48</td>\n",
       "      <td>598</td>\n",
       "    </tr>\n",
       "  </tbody>\n",
       "</table>\n",
       "<p>3214 rows × 14 columns</p>\n",
       "</div>"
      ],
      "text/plain": [
       "      user_id  month  calls  minute  mb_used  message tariff         city  \\\n",
       "0        1000      5   17.0   159.0   2256.0     22.0  ultra    Краснодар   \n",
       "1        1000      6   28.0   172.0  23257.0     60.0  ultra    Краснодар   \n",
       "2        1000      7   41.0   340.0  14016.0     75.0  ultra    Краснодар   \n",
       "3        1000      8   42.0   408.0  14070.0     81.0  ultra    Краснодар   \n",
       "4        1000      9   46.0   466.0  14581.0     57.0  ultra    Краснодар   \n",
       "...       ...    ...    ...     ...      ...      ...    ...          ...   \n",
       "3209     1498     10   30.0   247.0  20604.0     42.0  smart  Владикавказ   \n",
       "3210     1499      9    8.0    70.0   1848.0     11.0  smart        Пермь   \n",
       "3211     1499     10   44.0   449.0  17809.0     48.0  smart        Пермь   \n",
       "3212     1499     11   62.0   612.0  17984.0     59.0  smart        Пермь   \n",
       "3213     1499     12   56.0   492.0  13077.0     66.0  smart        Пермь   \n",
       "\n",
       "      minute_ov  message_ov  mb_used_ov  rub_monthly_fee  sum_per_month  \\\n",
       "0           0.0           0         0.0             1950              0   \n",
       "1           0.0           0         0.0             1950              0   \n",
       "2           0.0           0         0.0             1950              0   \n",
       "3           0.0           0         0.0             1950              0   \n",
       "4           0.0           0         0.0             1950              0   \n",
       "...         ...         ...         ...              ...            ...   \n",
       "3209        0.0           0      5244.0              550           1200   \n",
       "3210        0.0           0         0.0              550              0   \n",
       "3211        0.0           0      2449.0              550            600   \n",
       "3212      112.0           9      2624.0              550            963   \n",
       "3213        0.0          16         0.0              550             48   \n",
       "\n",
       "      total_price  \n",
       "0            1950  \n",
       "1            1950  \n",
       "2            1950  \n",
       "3            1950  \n",
       "4            1950  \n",
       "...           ...  \n",
       "3209         1750  \n",
       "3210          550  \n",
       "3211         1150  \n",
       "3212         1513  \n",
       "3213          598  \n",
       "\n",
       "[3214 rows x 14 columns]"
      ]
     },
     "execution_count": 61,
     "metadata": {},
     "output_type": "execute_result"
    }
   ],
   "source": [
    "df_table"
   ]
  },
  {
   "cell_type": "markdown",
   "metadata": {},
   "source": [
    "Посмотри на обновленную таблицу."
   ]
  },
  {
   "cell_type": "markdown",
   "metadata": {},
   "source": [
    "<hr style=\"border: 1px solid #000;\"> \n",
    "\n",
    "<div class=\"alert alert-success\">\n",
    "\n",
    "<strong><font size=5>Комментарий от ревьюера</font></strong><br/>\n",
    "    \n",
    "Всё готово для анализа.\n",
    "    \n",
    "</div>\n",
    "<hr style=\"border: 1px solid #000;\"> "
   ]
  },
  {
   "cell_type": "markdown",
   "metadata": {},
   "source": [
    "<b><font size=5>3. Проанализируем данные.</font></b><a name=\"3.\"></a><br/>\n",
    "[<font size=\"2\">(к содержанию)</font>](#to_content.)"
   ]
  },
  {
   "cell_type": "markdown",
   "metadata": {},
   "source": [
    "Анализ данных начнем с того, что узнаем какой тариф суммарно приносит больше прибыли в зависимости от месяца"
   ]
  },
  {
   "cell_type": "code",
   "execution_count": 62,
   "metadata": {},
   "outputs": [
    {
     "data": {
      "text/plain": [
       "Text(0, 0.5, 'Прибыль, руб.')"
      ]
     },
     "execution_count": 62,
     "metadata": {},
     "output_type": "execute_result"
    },
    {
     "data": {
      "image/png": "[encoded data removed]",
      "text/plain": [
       "<Figure size 648x432 with 1 Axes>"
      ]
     },
     "metadata": {
      "needs_background": "light"
     },
     "output_type": "display_data"
    }
   ],
   "source": [
    "df_table.pivot_table(index='month', columns='tariff', values='total_price', aggfunc='sum').plot(kind='bar',figsize=(9, 6),\n",
    "    grid=True)\n",
    "pl.title(\"Суммарная прибыль разных тарифов по месяцам(1.2018-12.2018)\")\n",
    "pl.xlabel(\"Месяц\")\n",
    "pl.ylabel(\"Прибыль, руб.\")"
   ]
  },
  {
   "cell_type": "markdown",
   "metadata": {},
   "source": [
    "Сразу заметно, что почти во всех месяцах кроме февраля и апреля, преобладает тариф смарт."
   ]
  },
  {
   "cell_type": "code",
   "execution_count": 63,
   "metadata": {},
   "outputs": [
    {
     "data": {
      "text/plain": [
       "Text(0, 0.5, 'Прибыль, руб.')"
      ]
     },
     "execution_count": 63,
     "metadata": {},
     "output_type": "execute_result"
    },
    {
     "data": {
      "image/png": "[encoded data removed]",
      "text/plain": [
       "<Figure size 648x432 with 1 Axes>"
      ]
     },
     "metadata": {
      "needs_background": "light"
     },
     "output_type": "display_data"
    }
   ],
   "source": [
    "df_table.pivot_table(columns='tariff', values='total_price', aggfunc='sum').plot(kind='bar',figsize=(9, 6),\n",
    "    grid=True,)\n",
    "pl.title(\"Суммарная прибыль разных тарифов(1.2018-12.2018)\")\n",
    "pl.xlabel(\"Тариф\")\n",
    "pl.ylabel(\"Прибыль, руб.\")"
   ]
  },
  {
   "cell_type": "markdown",
   "metadata": {},
   "source": [
    "Также тариф смарт принес суммарно за год больше чем тариф ультра. Скорее всего это связано с тем, что тариф смарт лучше продается."
   ]
  },
  {
   "cell_type": "code",
   "execution_count": 64,
   "metadata": {},
   "outputs": [
    {
     "data": {
      "text/plain": [
       "tariff\n",
       "smart    2229\n",
       "ultra     985\n",
       "Name: user_id, dtype: int64"
      ]
     },
     "execution_count": 64,
     "metadata": {},
     "output_type": "execute_result"
    }
   ],
   "source": [
    "df_table.groupby('tariff')['user_id'].count()"
   ]
  },
  {
   "cell_type": "markdown",
   "metadata": {},
   "source": [
    "Тарифом смарт пользуются примерно на 1300 больше чем тарифом ультра."
   ]
  },
  {
   "cell_type": "markdown",
   "metadata": {},
   "source": [
    "<hr style=\"border: 1px solid #000;\"> \n",
    "\n",
    "<div class=\"alert alert-success\">\n",
    "\n",
    "<strong><font size=5>Комментарий от ревьюера</font></strong><br/>\n",
    "    \n",
    "Увидев графики, как раз хотел предложить тебе оценить, какое количество абонентов генерируют выручку для одного и другого тарифов. И ты это сделал. Отличное доп. исследование.\n",
    "    \n",
    "</div>\n",
    "<hr style=\"border: 1px solid #000;\"> "
   ]
  },
  {
   "cell_type": "code",
   "execution_count": 65,
   "metadata": {},
   "outputs": [],
   "source": [
    "df_table['gb_used']=df_table['mb_used']/1024"
   ]
  },
  {
   "cell_type": "markdown",
   "metadata": {},
   "source": [
    "Для удобства переведу мегабайты в гигабайты "
   ]
  },
  {
   "cell_type": "code",
   "execution_count": 66,
   "metadata": {},
   "outputs": [],
   "source": [
    "smart=df_table.query('tariff==\"smart\"')\n",
    "ultra=df_table.query('tariff==\"ultra\"')"
   ]
  },
  {
   "cell_type": "markdown",
   "metadata": {},
   "source": [
    "Разделил нашу таблицу на 2: смарт и ультра. Начинаю считать среднее и стандартное отклонение для каждого тарифа по месяцам"
   ]
  },
  {
   "cell_type": "code",
   "execution_count": 67,
   "metadata": {},
   "outputs": [],
   "source": [
    "s_m_minute=smart.groupby('month')['minute'].describe()[['count', 'mean', 'std']]\n",
    "s_m_minute['3sigma']=s_m_minute['mean']+3*s_m_minute['std']"
   ]
  },
  {
   "cell_type": "code",
   "execution_count": 68,
   "metadata": {},
   "outputs": [
    {
     "data": {
      "text/html": [
       "<div>\n",
       "<style scoped>\n",
       "    .dataframe tbody tr th:only-of-type {\n",
       "        vertical-align: middle;\n",
       "    }\n",
       "\n",
       "    .dataframe tbody tr th {\n",
       "        vertical-align: top;\n",
       "    }\n",
       "\n",
       "    .dataframe thead th {\n",
       "        text-align: right;\n",
       "    }\n",
       "</style>\n",
       "<table border=\"1\" class=\"dataframe\">\n",
       "  <thead>\n",
       "    <tr style=\"text-align: right;\">\n",
       "      <th></th>\n",
       "      <th>count</th>\n",
       "      <th>mean</th>\n",
       "      <th>std</th>\n",
       "      <th>3sigma</th>\n",
       "    </tr>\n",
       "    <tr>\n",
       "      <th>month</th>\n",
       "      <th></th>\n",
       "      <th></th>\n",
       "      <th></th>\n",
       "      <th></th>\n",
       "    </tr>\n",
       "  </thead>\n",
       "  <tbody>\n",
       "    <tr>\n",
       "      <td>1</td>\n",
       "      <td>34.0</td>\n",
       "      <td>203.852941</td>\n",
       "      <td>154.231454</td>\n",
       "      <td>666.547303</td>\n",
       "    </tr>\n",
       "    <tr>\n",
       "      <td>2</td>\n",
       "      <td>58.0</td>\n",
       "      <td>298.689655</td>\n",
       "      <td>190.820041</td>\n",
       "      <td>871.149777</td>\n",
       "    </tr>\n",
       "    <tr>\n",
       "      <td>3</td>\n",
       "      <td>77.0</td>\n",
       "      <td>390.051948</td>\n",
       "      <td>191.893604</td>\n",
       "      <td>965.732759</td>\n",
       "    </tr>\n",
       "    <tr>\n",
       "      <td>4</td>\n",
       "      <td>112.0</td>\n",
       "      <td>367.133929</td>\n",
       "      <td>186.489161</td>\n",
       "      <td>926.601411</td>\n",
       "    </tr>\n",
       "    <tr>\n",
       "      <td>5</td>\n",
       "      <td>141.0</td>\n",
       "      <td>387.361702</td>\n",
       "      <td>186.601343</td>\n",
       "      <td>947.165730</td>\n",
       "    </tr>\n",
       "    <tr>\n",
       "      <td>6</td>\n",
       "      <td>164.0</td>\n",
       "      <td>395.640244</td>\n",
       "      <td>175.336587</td>\n",
       "      <td>921.650006</td>\n",
       "    </tr>\n",
       "    <tr>\n",
       "      <td>7</td>\n",
       "      <td>201.0</td>\n",
       "      <td>408.353234</td>\n",
       "      <td>179.583601</td>\n",
       "      <td>947.104036</td>\n",
       "    </tr>\n",
       "    <tr>\n",
       "      <td>8</td>\n",
       "      <td>235.0</td>\n",
       "      <td>421.468085</td>\n",
       "      <td>186.530382</td>\n",
       "      <td>981.059231</td>\n",
       "    </tr>\n",
       "    <tr>\n",
       "      <td>9</td>\n",
       "      <td>260.0</td>\n",
       "      <td>428.611538</td>\n",
       "      <td>183.126576</td>\n",
       "      <td>977.991266</td>\n",
       "    </tr>\n",
       "    <tr>\n",
       "      <td>10</td>\n",
       "      <td>294.0</td>\n",
       "      <td>426.136054</td>\n",
       "      <td>188.128510</td>\n",
       "      <td>990.521585</td>\n",
       "    </tr>\n",
       "    <tr>\n",
       "      <td>11</td>\n",
       "      <td>316.0</td>\n",
       "      <td>435.265823</td>\n",
       "      <td>177.778618</td>\n",
       "      <td>968.601677</td>\n",
       "    </tr>\n",
       "    <tr>\n",
       "      <td>12</td>\n",
       "      <td>337.0</td>\n",
       "      <td>478.560831</td>\n",
       "      <td>199.245131</td>\n",
       "      <td>1076.296222</td>\n",
       "    </tr>\n",
       "  </tbody>\n",
       "</table>\n",
       "</div>"
      ],
      "text/plain": [
       "       count        mean         std       3sigma\n",
       "month                                            \n",
       "1       34.0  203.852941  154.231454   666.547303\n",
       "2       58.0  298.689655  190.820041   871.149777\n",
       "3       77.0  390.051948  191.893604   965.732759\n",
       "4      112.0  367.133929  186.489161   926.601411\n",
       "5      141.0  387.361702  186.601343   947.165730\n",
       "6      164.0  395.640244  175.336587   921.650006\n",
       "7      201.0  408.353234  179.583601   947.104036\n",
       "8      235.0  421.468085  186.530382   981.059231\n",
       "9      260.0  428.611538  183.126576   977.991266\n",
       "10     294.0  426.136054  188.128510   990.521585\n",
       "11     316.0  435.265823  177.778618   968.601677\n",
       "12     337.0  478.560831  199.245131  1076.296222"
      ]
     },
     "execution_count": 68,
     "metadata": {},
     "output_type": "execute_result"
    }
   ],
   "source": [
    "s_m_minute"
   ]
  },
  {
   "cell_type": "markdown",
   "metadata": {},
   "source": [
    "Начал с разговорных минут. Можно увидеть, что во всех месяцах среднее значение не выходит за границу тарифа, а именно не превышает 500. Но вот если мы посмотрим на значение 3сигма"
   ]
  },
  {
   "cell_type": "markdown",
   "metadata": {},
   "source": [
    "В нашем случае 3 сигма — это граница, в которой находятся все значения для данного месяца (то есть 99% всех значений минут находятся в диапазоне от 0 до 3 сигма)."
   ]
  },
  {
   "cell_type": "markdown",
   "metadata": {},
   "source": [
    "Можно увидеть, что во всех месяцах граница находится за границей тарифа, а это значит, что большое кол-во пользователей ежемесячно превышает свой тариф и доплачивает."
   ]
  },
  {
   "cell_type": "markdown",
   "metadata": {},
   "source": [
    "<hr style=\"border: 1px solid #000;\"> \n",
    "\n",
    "<div class=\"alert alert-success\">\n",
    "\n",
    "<strong><font size=5>Комментарий от ревьюера</font></strong><br/>\n",
    "    \n",
    "И самое что интересное - чем дальше, тем больше таких пользователей. Будто бы первый рассматриваемый месяц - это практически момент создания тарифа. А потом он начал набирать клиентов, и активность стала серьёзно расти.\n",
    "    \n",
    "</div>\n",
    "<hr style=\"border: 1px solid #000;\"> "
   ]
  },
  {
   "cell_type": "markdown",
   "metadata": {},
   "source": [
    "Посмотрим на гистограммы для 3 разных месяцев: 1, 6 и 12."
   ]
  },
  {
   "cell_type": "code",
   "execution_count": 69,
   "metadata": {},
   "outputs": [
    {
     "data": {
      "text/plain": [
       "Text(0, 0.5, 'Кол-во')"
      ]
     },
     "execution_count": 69,
     "metadata": {},
     "output_type": "execute_result"
    },
    {
     "data": {
      "image/png": "[encoded data removed]",
      "text/plain": [
       "<Figure size 432x288 with 1 Axes>"
      ]
     },
     "metadata": {
      "needs_background": "light"
     },
     "output_type": "display_data"
    }
   ],
   "source": [
    "smart.query('month==1').hist('minute', bins=20, range=(0, 668))\n",
    "plt.axvline(500, color='r', linestyle='--')\n",
    "pl.title(\"Гистограмма разговорных минут для тарифа смарт(1.2018)\")\n",
    "pl.xlabel(\"Минуты, мин\")\n",
    "pl.ylabel(\"Кол-во\")"
   ]
  },
  {
   "cell_type": "code",
   "execution_count": 70,
   "metadata": {},
   "outputs": [
    {
     "data": {
      "text/plain": [
       "Text(0, 0.5, 'Кол-во')"
      ]
     },
     "execution_count": 70,
     "metadata": {},
     "output_type": "execute_result"
    },
    {
     "data": {
      "image/png": "[encoded data removed]",
      "text/plain": [
       "<Figure size 432x288 with 1 Axes>"
      ]
     },
     "metadata": {
      "needs_background": "light"
     },
     "output_type": "display_data"
    }
   ],
   "source": [
    "smart.query('month==6').hist('minute', bins=20, range=(0, 922))\n",
    "plt.axvline(500, color='r', linestyle='--')\n",
    "pl.title(\"Гистограмма разговорных минут для тарифа смарт(6.2018)\")\n",
    "pl.xlabel(\"Минуты, мин\")\n",
    "pl.ylabel(\"Кол-во\")"
   ]
  },
  {
   "cell_type": "code",
   "execution_count": 71,
   "metadata": {},
   "outputs": [
    {
     "data": {
      "text/plain": [
       "Text(0, 0.5, 'Кол-во')"
      ]
     },
     "execution_count": 71,
     "metadata": {},
     "output_type": "execute_result"
    },
    {
     "data": {
      "image/png": "[encoded data removed]",
      "text/plain": [
       "<Figure size 432x288 with 1 Axes>"
      ]
     },
     "metadata": {
      "needs_background": "light"
     },
     "output_type": "display_data"
    }
   ],
   "source": [
    "smart.query('month==12').hist('minute', bins=20, range=(0, 1077))\n",
    "plt.axvline(500, color='r', linestyle='--')\n",
    "pl.title(\"Гистограмма разговорных минут для тарифа смарт(12.2018)\")\n",
    "pl.xlabel(\"Минуты, мин\")\n",
    "pl.ylabel(\"Кол-во\")"
   ]
  },
  {
   "cell_type": "markdown",
   "metadata": {},
   "source": [
    "Заметно что в первом месяце не так много тех, кто превысили лимит, но постепенно это число увеличивалось, как и увеличивалось число пользователей и в конце года и уже больше половины имело превышение тарифа."
   ]
  },
  {
   "cell_type": "markdown",
   "metadata": {},
   "source": [
    "<hr style=\"border: 1px solid #000;\"> \n",
    "\n",
    "<div class=\"alert alert-success\">\n",
    "\n",
    "<strong><font size=5>Комментарий от ревьюера</font></strong><br/>\n",
    "    \n",
    "Очень показательно.\n",
    "    \n",
    "</div>\n",
    "<hr style=\"border: 1px solid #000;\"> "
   ]
  },
  {
   "cell_type": "code",
   "execution_count": 72,
   "metadata": {},
   "outputs": [
    {
     "data": {
      "text/html": [
       "<div>\n",
       "<style scoped>\n",
       "    .dataframe tbody tr th:only-of-type {\n",
       "        vertical-align: middle;\n",
       "    }\n",
       "\n",
       "    .dataframe tbody tr th {\n",
       "        vertical-align: top;\n",
       "    }\n",
       "\n",
       "    .dataframe thead th {\n",
       "        text-align: right;\n",
       "    }\n",
       "</style>\n",
       "<table border=\"1\" class=\"dataframe\">\n",
       "  <thead>\n",
       "    <tr style=\"text-align: right;\">\n",
       "      <th></th>\n",
       "      <th>count</th>\n",
       "      <th>mean</th>\n",
       "      <th>std</th>\n",
       "      <th>3sigma</th>\n",
       "    </tr>\n",
       "    <tr>\n",
       "      <th>month</th>\n",
       "      <th></th>\n",
       "      <th></th>\n",
       "      <th></th>\n",
       "      <th></th>\n",
       "    </tr>\n",
       "  </thead>\n",
       "  <tbody>\n",
       "    <tr>\n",
       "      <td>1</td>\n",
       "      <td>34.0</td>\n",
       "      <td>8.324650</td>\n",
       "      <td>6.300623</td>\n",
       "      <td>27.226519</td>\n",
       "    </tr>\n",
       "    <tr>\n",
       "      <td>2</td>\n",
       "      <td>58.0</td>\n",
       "      <td>11.339254</td>\n",
       "      <td>6.107955</td>\n",
       "      <td>29.663121</td>\n",
       "    </tr>\n",
       "    <tr>\n",
       "      <td>3</td>\n",
       "      <td>77.0</td>\n",
       "      <td>14.769392</td>\n",
       "      <td>5.698692</td>\n",
       "      <td>31.865466</td>\n",
       "    </tr>\n",
       "    <tr>\n",
       "      <td>4</td>\n",
       "      <td>112.0</td>\n",
       "      <td>13.163557</td>\n",
       "      <td>5.571317</td>\n",
       "      <td>29.877509</td>\n",
       "    </tr>\n",
       "    <tr>\n",
       "      <td>5</td>\n",
       "      <td>141.0</td>\n",
       "      <td>15.454295</td>\n",
       "      <td>5.844900</td>\n",
       "      <td>32.988997</td>\n",
       "    </tr>\n",
       "    <tr>\n",
       "      <td>6</td>\n",
       "      <td>164.0</td>\n",
       "      <td>15.444110</td>\n",
       "      <td>5.662077</td>\n",
       "      <td>32.430340</td>\n",
       "    </tr>\n",
       "    <tr>\n",
       "      <td>7</td>\n",
       "      <td>201.0</td>\n",
       "      <td>15.394055</td>\n",
       "      <td>5.765946</td>\n",
       "      <td>32.691893</td>\n",
       "    </tr>\n",
       "    <tr>\n",
       "      <td>8</td>\n",
       "      <td>235.0</td>\n",
       "      <td>16.242358</td>\n",
       "      <td>5.469057</td>\n",
       "      <td>32.649528</td>\n",
       "    </tr>\n",
       "    <tr>\n",
       "      <td>9</td>\n",
       "      <td>260.0</td>\n",
       "      <td>15.941921</td>\n",
       "      <td>5.080204</td>\n",
       "      <td>31.182533</td>\n",
       "    </tr>\n",
       "    <tr>\n",
       "      <td>10</td>\n",
       "      <td>294.0</td>\n",
       "      <td>16.385317</td>\n",
       "      <td>5.729111</td>\n",
       "      <td>33.572651</td>\n",
       "    </tr>\n",
       "    <tr>\n",
       "      <td>11</td>\n",
       "      <td>316.0</td>\n",
       "      <td>16.521027</td>\n",
       "      <td>5.221508</td>\n",
       "      <td>32.185550</td>\n",
       "    </tr>\n",
       "    <tr>\n",
       "      <td>12</td>\n",
       "      <td>337.0</td>\n",
       "      <td>17.711752</td>\n",
       "      <td>5.449607</td>\n",
       "      <td>34.060572</td>\n",
       "    </tr>\n",
       "  </tbody>\n",
       "</table>\n",
       "</div>"
      ],
      "text/plain": [
       "       count       mean       std     3sigma\n",
       "month                                       \n",
       "1       34.0   8.324650  6.300623  27.226519\n",
       "2       58.0  11.339254  6.107955  29.663121\n",
       "3       77.0  14.769392  5.698692  31.865466\n",
       "4      112.0  13.163557  5.571317  29.877509\n",
       "5      141.0  15.454295  5.844900  32.988997\n",
       "6      164.0  15.444110  5.662077  32.430340\n",
       "7      201.0  15.394055  5.765946  32.691893\n",
       "8      235.0  16.242358  5.469057  32.649528\n",
       "9      260.0  15.941921  5.080204  31.182533\n",
       "10     294.0  16.385317  5.729111  33.572651\n",
       "11     316.0  16.521027  5.221508  32.185550\n",
       "12     337.0  17.711752  5.449607  34.060572"
      ]
     },
     "execution_count": 72,
     "metadata": {},
     "output_type": "execute_result"
    }
   ],
   "source": [
    "s_m_gb_used=smart.groupby('month')['gb_used'].describe()[['count', 'mean', 'std']]\n",
    "s_m_gb_used['3sigma']=s_m_gb_used['mean']+3*s_m_gb_used['std']\n",
    "s_m_gb_used"
   ]
  },
  {
   "cell_type": "code",
   "execution_count": 73,
   "metadata": {},
   "outputs": [
    {
     "data": {
      "text/plain": [
       "Text(0, 0.5, 'Кол-во')"
      ]
     },
     "execution_count": 73,
     "metadata": {},
     "output_type": "execute_result"
    },
    {
     "data": {
      "image/png": "[encoded data removed]",
      "text/plain": [
       "<Figure size 432x288 with 1 Axes>"
      ]
     },
     "metadata": {
      "needs_background": "light"
     },
     "output_type": "display_data"
    }
   ],
   "source": [
    "smart.query('month==12').hist('gb_used', bins=20, range=(0, 34))\n",
    "plt.axvline(15, color='r', linestyle='--')\n",
    "pl.title(\"Гистограмма использованных гигабайт для тарифа смарт(12.2018)\")\n",
    "pl.xlabel(\"Гигабайты, Гб\")\n",
    "pl.ylabel(\"Кол-во\")"
   ]
  },
  {
   "cell_type": "markdown",
   "metadata": {},
   "source": [
    "С интернетом дела обстоят еще хуже, здесь уже даже средние значения превышали тариф, а граница значений (значения 3 сигма) превышала даже тариф ультра."
   ]
  },
  {
   "cell_type": "markdown",
   "metadata": {},
   "source": [
    "Число превышавших тариф росло постепенно в течение года и в последнем месяце самое большое кол-во превышений."
   ]
  },
  {
   "cell_type": "code",
   "execution_count": 74,
   "metadata": {},
   "outputs": [
    {
     "data": {
      "text/html": [
       "<div>\n",
       "<style scoped>\n",
       "    .dataframe tbody tr th:only-of-type {\n",
       "        vertical-align: middle;\n",
       "    }\n",
       "\n",
       "    .dataframe tbody tr th {\n",
       "        vertical-align: top;\n",
       "    }\n",
       "\n",
       "    .dataframe thead th {\n",
       "        text-align: right;\n",
       "    }\n",
       "</style>\n",
       "<table border=\"1\" class=\"dataframe\">\n",
       "  <thead>\n",
       "    <tr style=\"text-align: right;\">\n",
       "      <th></th>\n",
       "      <th>count</th>\n",
       "      <th>mean</th>\n",
       "      <th>std</th>\n",
       "      <th>3sigma</th>\n",
       "    </tr>\n",
       "    <tr>\n",
       "      <th>month</th>\n",
       "      <th></th>\n",
       "      <th></th>\n",
       "      <th></th>\n",
       "      <th></th>\n",
       "    </tr>\n",
       "  </thead>\n",
       "  <tbody>\n",
       "    <tr>\n",
       "      <td>1</td>\n",
       "      <td>34.0</td>\n",
       "      <td>18.235294</td>\n",
       "      <td>16.197753</td>\n",
       "      <td>66.828553</td>\n",
       "    </tr>\n",
       "    <tr>\n",
       "      <td>2</td>\n",
       "      <td>58.0</td>\n",
       "      <td>24.086207</td>\n",
       "      <td>21.750809</td>\n",
       "      <td>89.338635</td>\n",
       "    </tr>\n",
       "    <tr>\n",
       "      <td>3</td>\n",
       "      <td>77.0</td>\n",
       "      <td>31.857143</td>\n",
       "      <td>26.804710</td>\n",
       "      <td>112.271273</td>\n",
       "    </tr>\n",
       "    <tr>\n",
       "      <td>4</td>\n",
       "      <td>112.0</td>\n",
       "      <td>30.741071</td>\n",
       "      <td>24.538532</td>\n",
       "      <td>104.356668</td>\n",
       "    </tr>\n",
       "    <tr>\n",
       "      <td>5</td>\n",
       "      <td>141.0</td>\n",
       "      <td>33.773050</td>\n",
       "      <td>27.036845</td>\n",
       "      <td>114.883584</td>\n",
       "    </tr>\n",
       "    <tr>\n",
       "      <td>6</td>\n",
       "      <td>164.0</td>\n",
       "      <td>33.402439</td>\n",
       "      <td>28.404337</td>\n",
       "      <td>118.615451</td>\n",
       "    </tr>\n",
       "    <tr>\n",
       "      <td>7</td>\n",
       "      <td>201.0</td>\n",
       "      <td>33.751244</td>\n",
       "      <td>28.282288</td>\n",
       "      <td>118.598108</td>\n",
       "    </tr>\n",
       "    <tr>\n",
       "      <td>8</td>\n",
       "      <td>235.0</td>\n",
       "      <td>33.638298</td>\n",
       "      <td>28.952677</td>\n",
       "      <td>120.496329</td>\n",
       "    </tr>\n",
       "    <tr>\n",
       "      <td>9</td>\n",
       "      <td>260.0</td>\n",
       "      <td>33.638462</td>\n",
       "      <td>28.117927</td>\n",
       "      <td>117.992243</td>\n",
       "    </tr>\n",
       "    <tr>\n",
       "      <td>10</td>\n",
       "      <td>294.0</td>\n",
       "      <td>33.765306</td>\n",
       "      <td>28.567673</td>\n",
       "      <td>119.468326</td>\n",
       "    </tr>\n",
       "    <tr>\n",
       "      <td>11</td>\n",
       "      <td>316.0</td>\n",
       "      <td>34.075949</td>\n",
       "      <td>28.389031</td>\n",
       "      <td>119.243042</td>\n",
       "    </tr>\n",
       "    <tr>\n",
       "      <td>12</td>\n",
       "      <td>337.0</td>\n",
       "      <td>35.994065</td>\n",
       "      <td>30.576990</td>\n",
       "      <td>127.725037</td>\n",
       "    </tr>\n",
       "  </tbody>\n",
       "</table>\n",
       "</div>"
      ],
      "text/plain": [
       "       count       mean        std      3sigma\n",
       "month                                         \n",
       "1       34.0  18.235294  16.197753   66.828553\n",
       "2       58.0  24.086207  21.750809   89.338635\n",
       "3       77.0  31.857143  26.804710  112.271273\n",
       "4      112.0  30.741071  24.538532  104.356668\n",
       "5      141.0  33.773050  27.036845  114.883584\n",
       "6      164.0  33.402439  28.404337  118.615451\n",
       "7      201.0  33.751244  28.282288  118.598108\n",
       "8      235.0  33.638298  28.952677  120.496329\n",
       "9      260.0  33.638462  28.117927  117.992243\n",
       "10     294.0  33.765306  28.567673  119.468326\n",
       "11     316.0  34.075949  28.389031  119.243042\n",
       "12     337.0  35.994065  30.576990  127.725037"
      ]
     },
     "execution_count": 74,
     "metadata": {},
     "output_type": "execute_result"
    }
   ],
   "source": [
    "s_m_message=smart.groupby('month')['message'].describe()[['count', 'mean', 'std']]\n",
    "s_m_message['3sigma']=s_m_message['mean']+3*s_m_message['std']\n",
    "s_m_message"
   ]
  },
  {
   "cell_type": "code",
   "execution_count": 75,
   "metadata": {},
   "outputs": [
    {
     "data": {
      "text/plain": [
       "Text(0, 0.5, 'Кол-во')"
      ]
     },
     "execution_count": 75,
     "metadata": {},
     "output_type": "execute_result"
    },
    {
     "data": {
      "image/png": "[encoded data removed]",
      "text/plain": [
       "<Figure size 432x288 with 1 Axes>"
      ]
     },
     "metadata": {
      "needs_background": "light"
     },
     "output_type": "display_data"
    }
   ],
   "source": [
    "smart.query('month==12').hist('message', bins=20, range=(0, 127))\n",
    "plt.axvline(50, color='r', linestyle='--')\n",
    "pl.title(\"Гистограмма сообщений для тарифа смарт(12.2018)\")\n",
    "pl.xlabel(\"Сообщения\")\n",
    "pl.ylabel(\"Кол-во\")"
   ]
  },
  {
   "cell_type": "markdown",
   "metadata": {},
   "source": [
    "С сообщениями похожая ситуация, средние значения находятся в пределе тарифа, но вот граница все-таки выходит за тариф причем довольно сильно, в конце года, почти половина всех имела превышение по тарифу."
   ]
  },
  {
   "cell_type": "markdown",
   "metadata": {},
   "source": [
    "<hr style=\"border: 1px solid #000;\"> \n",
    "\n",
    "<div class=\"alert alert-success\">\n",
    "\n",
    "<strong><font size=5>Комментарий от ревьюера</font></strong><br/>\n",
    "    \n",
    "Очень грамотно, что ты рассматриваешь не общие показатели за год, а именно помесячные. Потому что последний месяц и правда даёт нам самую актуальную картину.\n",
    "    \n",
    "</div>\n",
    "<hr style=\"border: 1px solid #000;\"> "
   ]
  },
  {
   "cell_type": "markdown",
   "metadata": {},
   "source": [
    "Переходим к тарифу ультра"
   ]
  },
  {
   "cell_type": "code",
   "execution_count": 76,
   "metadata": {},
   "outputs": [
    {
     "data": {
      "text/html": [
       "<div>\n",
       "<style scoped>\n",
       "    .dataframe tbody tr th:only-of-type {\n",
       "        vertical-align: middle;\n",
       "    }\n",
       "\n",
       "    .dataframe tbody tr th {\n",
       "        vertical-align: top;\n",
       "    }\n",
       "\n",
       "    .dataframe thead th {\n",
       "        text-align: right;\n",
       "    }\n",
       "</style>\n",
       "<table border=\"1\" class=\"dataframe\">\n",
       "  <thead>\n",
       "    <tr style=\"text-align: right;\">\n",
       "      <th></th>\n",
       "      <th>count</th>\n",
       "      <th>mean</th>\n",
       "      <th>std</th>\n",
       "      <th>3sigma</th>\n",
       "    </tr>\n",
       "    <tr>\n",
       "      <th>month</th>\n",
       "      <th></th>\n",
       "      <th></th>\n",
       "      <th></th>\n",
       "      <th></th>\n",
       "    </tr>\n",
       "  </thead>\n",
       "  <tbody>\n",
       "    <tr>\n",
       "      <td>1</td>\n",
       "      <td>9.0</td>\n",
       "      <td>428.111111</td>\n",
       "      <td>269.757968</td>\n",
       "      <td>1237.385014</td>\n",
       "    </tr>\n",
       "    <tr>\n",
       "      <td>2</td>\n",
       "      <td>24.0</td>\n",
       "      <td>297.125000</td>\n",
       "      <td>296.512528</td>\n",
       "      <td>1186.662584</td>\n",
       "    </tr>\n",
       "    <tr>\n",
       "      <td>3</td>\n",
       "      <td>37.0</td>\n",
       "      <td>489.648649</td>\n",
       "      <td>333.743765</td>\n",
       "      <td>1490.879945</td>\n",
       "    </tr>\n",
       "    <tr>\n",
       "      <td>4</td>\n",
       "      <td>55.0</td>\n",
       "      <td>458.018182</td>\n",
       "      <td>267.682405</td>\n",
       "      <td>1261.065397</td>\n",
       "    </tr>\n",
       "    <tr>\n",
       "      <td>5</td>\n",
       "      <td>67.0</td>\n",
       "      <td>510.328358</td>\n",
       "      <td>289.603511</td>\n",
       "      <td>1379.138891</td>\n",
       "    </tr>\n",
       "    <tr>\n",
       "      <td>6</td>\n",
       "      <td>84.0</td>\n",
       "      <td>479.702381</td>\n",
       "      <td>302.549081</td>\n",
       "      <td>1387.349624</td>\n",
       "    </tr>\n",
       "    <tr>\n",
       "      <td>7</td>\n",
       "      <td>91.0</td>\n",
       "      <td>545.791209</td>\n",
       "      <td>307.119322</td>\n",
       "      <td>1467.149176</td>\n",
       "    </tr>\n",
       "    <tr>\n",
       "      <td>8</td>\n",
       "      <td>107.0</td>\n",
       "      <td>510.775701</td>\n",
       "      <td>312.980026</td>\n",
       "      <td>1449.715778</td>\n",
       "    </tr>\n",
       "    <tr>\n",
       "      <td>9</td>\n",
       "      <td>115.0</td>\n",
       "      <td>539.443478</td>\n",
       "      <td>325.141162</td>\n",
       "      <td>1514.866965</td>\n",
       "    </tr>\n",
       "    <tr>\n",
       "      <td>10</td>\n",
       "      <td>123.0</td>\n",
       "      <td>558.081301</td>\n",
       "      <td>326.289110</td>\n",
       "      <td>1536.948632</td>\n",
       "    </tr>\n",
       "    <tr>\n",
       "      <td>11</td>\n",
       "      <td>134.0</td>\n",
       "      <td>541.380597</td>\n",
       "      <td>310.757232</td>\n",
       "      <td>1473.652292</td>\n",
       "    </tr>\n",
       "    <tr>\n",
       "      <td>12</td>\n",
       "      <td>139.0</td>\n",
       "      <td>592.805755</td>\n",
       "      <td>342.456321</td>\n",
       "      <td>1620.174717</td>\n",
       "    </tr>\n",
       "  </tbody>\n",
       "</table>\n",
       "</div>"
      ],
      "text/plain": [
       "       count        mean         std       3sigma\n",
       "month                                            \n",
       "1        9.0  428.111111  269.757968  1237.385014\n",
       "2       24.0  297.125000  296.512528  1186.662584\n",
       "3       37.0  489.648649  333.743765  1490.879945\n",
       "4       55.0  458.018182  267.682405  1261.065397\n",
       "5       67.0  510.328358  289.603511  1379.138891\n",
       "6       84.0  479.702381  302.549081  1387.349624\n",
       "7       91.0  545.791209  307.119322  1467.149176\n",
       "8      107.0  510.775701  312.980026  1449.715778\n",
       "9      115.0  539.443478  325.141162  1514.866965\n",
       "10     123.0  558.081301  326.289110  1536.948632\n",
       "11     134.0  541.380597  310.757232  1473.652292\n",
       "12     139.0  592.805755  342.456321  1620.174717"
      ]
     },
     "execution_count": 76,
     "metadata": {},
     "output_type": "execute_result"
    }
   ],
   "source": [
    "u_m_minute=ultra.groupby('month')['minute'].describe()[['count', 'mean', 'std']]\n",
    "u_m_minute['3sigma']=u_m_minute['mean']+3*u_m_minute['std']\n",
    "u_m_minute"
   ]
  },
  {
   "cell_type": "markdown",
   "metadata": {},
   "source": [
    "С минутами здесь все хорошо, нет ни одной границы превышающей лимит тарифа, а значит скорее всего никто не превысил лимит."
   ]
  },
  {
   "cell_type": "code",
   "execution_count": 77,
   "metadata": {},
   "outputs": [
    {
     "data": {
      "text/html": [
       "<div>\n",
       "<style scoped>\n",
       "    .dataframe tbody tr th:only-of-type {\n",
       "        vertical-align: middle;\n",
       "    }\n",
       "\n",
       "    .dataframe tbody tr th {\n",
       "        vertical-align: top;\n",
       "    }\n",
       "\n",
       "    .dataframe thead th {\n",
       "        text-align: right;\n",
       "    }\n",
       "</style>\n",
       "<table border=\"1\" class=\"dataframe\">\n",
       "  <thead>\n",
       "    <tr style=\"text-align: right;\">\n",
       "      <th></th>\n",
       "      <th>count</th>\n",
       "      <th>mean</th>\n",
       "      <th>std</th>\n",
       "      <th>3sigma</th>\n",
       "    </tr>\n",
       "    <tr>\n",
       "      <th>month</th>\n",
       "      <th></th>\n",
       "      <th></th>\n",
       "      <th></th>\n",
       "      <th></th>\n",
       "    </tr>\n",
       "  </thead>\n",
       "  <tbody>\n",
       "    <tr>\n",
       "      <td>1</td>\n",
       "      <td>9.0</td>\n",
       "      <td>12.845269</td>\n",
       "      <td>6.711081</td>\n",
       "      <td>32.978512</td>\n",
       "    </tr>\n",
       "    <tr>\n",
       "      <td>2</td>\n",
       "      <td>24.0</td>\n",
       "      <td>11.510701</td>\n",
       "      <td>10.404632</td>\n",
       "      <td>42.724598</td>\n",
       "    </tr>\n",
       "    <tr>\n",
       "      <td>3</td>\n",
       "      <td>37.0</td>\n",
       "      <td>17.140599</td>\n",
       "      <td>10.705016</td>\n",
       "      <td>49.255646</td>\n",
       "    </tr>\n",
       "    <tr>\n",
       "      <td>4</td>\n",
       "      <td>55.0</td>\n",
       "      <td>16.449023</td>\n",
       "      <td>9.499495</td>\n",
       "      <td>44.947510</td>\n",
       "    </tr>\n",
       "    <tr>\n",
       "      <td>5</td>\n",
       "      <td>67.0</td>\n",
       "      <td>18.926947</td>\n",
       "      <td>9.819955</td>\n",
       "      <td>48.386813</td>\n",
       "    </tr>\n",
       "    <tr>\n",
       "      <td>6</td>\n",
       "      <td>84.0</td>\n",
       "      <td>18.498279</td>\n",
       "      <td>9.083736</td>\n",
       "      <td>45.749488</td>\n",
       "    </tr>\n",
       "    <tr>\n",
       "      <td>7</td>\n",
       "      <td>91.0</td>\n",
       "      <td>20.033836</td>\n",
       "      <td>9.837507</td>\n",
       "      <td>49.546356</td>\n",
       "    </tr>\n",
       "    <tr>\n",
       "      <td>8</td>\n",
       "      <td>107.0</td>\n",
       "      <td>19.134830</td>\n",
       "      <td>10.240227</td>\n",
       "      <td>49.855510</td>\n",
       "    </tr>\n",
       "    <tr>\n",
       "      <td>9</td>\n",
       "      <td>115.0</td>\n",
       "      <td>18.771688</td>\n",
       "      <td>9.272141</td>\n",
       "      <td>46.588111</td>\n",
       "    </tr>\n",
       "    <tr>\n",
       "      <td>10</td>\n",
       "      <td>123.0</td>\n",
       "      <td>19.593623</td>\n",
       "      <td>9.581850</td>\n",
       "      <td>48.339174</td>\n",
       "    </tr>\n",
       "    <tr>\n",
       "      <td>11</td>\n",
       "      <td>134.0</td>\n",
       "      <td>19.341126</td>\n",
       "      <td>9.684253</td>\n",
       "      <td>48.393884</td>\n",
       "    </tr>\n",
       "    <tr>\n",
       "      <td>12</td>\n",
       "      <td>139.0</td>\n",
       "      <td>21.302334</td>\n",
       "      <td>10.144276</td>\n",
       "      <td>51.735162</td>\n",
       "    </tr>\n",
       "  </tbody>\n",
       "</table>\n",
       "</div>"
      ],
      "text/plain": [
       "       count       mean        std     3sigma\n",
       "month                                        \n",
       "1        9.0  12.845269   6.711081  32.978512\n",
       "2       24.0  11.510701  10.404632  42.724598\n",
       "3       37.0  17.140599  10.705016  49.255646\n",
       "4       55.0  16.449023   9.499495  44.947510\n",
       "5       67.0  18.926947   9.819955  48.386813\n",
       "6       84.0  18.498279   9.083736  45.749488\n",
       "7       91.0  20.033836   9.837507  49.546356\n",
       "8      107.0  19.134830  10.240227  49.855510\n",
       "9      115.0  18.771688   9.272141  46.588111\n",
       "10     123.0  19.593623   9.581850  48.339174\n",
       "11     134.0  19.341126   9.684253  48.393884\n",
       "12     139.0  21.302334  10.144276  51.735162"
      ]
     },
     "execution_count": 77,
     "metadata": {},
     "output_type": "execute_result"
    }
   ],
   "source": [
    "u_m_gb_used=ultra.groupby('month')['gb_used'].describe()[['count', 'mean', 'std']]\n",
    "u_m_gb_used['3sigma']=u_m_gb_used['mean']+3*u_m_gb_used['std']\n",
    "u_m_gb_used"
   ]
  },
  {
   "cell_type": "code",
   "execution_count": 78,
   "metadata": {},
   "outputs": [
    {
     "data": {
      "text/plain": [
       "Text(0, 0.5, 'Кол-во')"
      ]
     },
     "execution_count": 78,
     "metadata": {},
     "output_type": "execute_result"
    },
    {
     "data": {
      "image/png": "[encoded data removed]",
      "text/plain": [
       "<Figure size 432x288 with 1 Axes>"
      ]
     },
     "metadata": {
      "needs_background": "light"
     },
     "output_type": "display_data"
    }
   ],
   "source": [
    "ultra.query('month==12').hist('gb_used', bins=20, range=(0, 51))\n",
    "plt.axvline(30, color='r', linestyle='--')\n",
    "pl.title(\"Гистограмма использованных гигабайт для ультра смарт(12.2018)\")\n",
    "pl.xlabel(\"Гигабайты, Гб\")\n",
    "pl.ylabel(\"Кол-во\")"
   ]
  },
  {
   "cell_type": "markdown",
   "metadata": {},
   "source": [
    "А вот интернета, хоть он и вырос в 2 раза по сравнению с тарифом смарт, все равно не хватает, и снова в каждом месяце границы превышает лимит, и снова в конце года максимум превышающих, но их меньше чем было у тарифа смарт. И на гистограмме это хорошо видно "
   ]
  },
  {
   "cell_type": "code",
   "execution_count": 79,
   "metadata": {},
   "outputs": [
    {
     "data": {
      "text/html": [
       "<div>\n",
       "<style scoped>\n",
       "    .dataframe tbody tr th:only-of-type {\n",
       "        vertical-align: middle;\n",
       "    }\n",
       "\n",
       "    .dataframe tbody tr th {\n",
       "        vertical-align: top;\n",
       "    }\n",
       "\n",
       "    .dataframe thead th {\n",
       "        text-align: right;\n",
       "    }\n",
       "</style>\n",
       "<table border=\"1\" class=\"dataframe\">\n",
       "  <thead>\n",
       "    <tr style=\"text-align: right;\">\n",
       "      <th></th>\n",
       "      <th>count</th>\n",
       "      <th>mean</th>\n",
       "      <th>std</th>\n",
       "      <th>3sigma</th>\n",
       "    </tr>\n",
       "    <tr>\n",
       "      <th>month</th>\n",
       "      <th></th>\n",
       "      <th></th>\n",
       "      <th></th>\n",
       "      <th></th>\n",
       "    </tr>\n",
       "  </thead>\n",
       "  <tbody>\n",
       "    <tr>\n",
       "      <td>1</td>\n",
       "      <td>9.0</td>\n",
       "      <td>33.777778</td>\n",
       "      <td>30.670742</td>\n",
       "      <td>125.790005</td>\n",
       "    </tr>\n",
       "    <tr>\n",
       "      <td>2</td>\n",
       "      <td>24.0</td>\n",
       "      <td>21.958333</td>\n",
       "      <td>26.773574</td>\n",
       "      <td>102.279056</td>\n",
       "    </tr>\n",
       "    <tr>\n",
       "      <td>3</td>\n",
       "      <td>37.0</td>\n",
       "      <td>32.297297</td>\n",
       "      <td>41.621886</td>\n",
       "      <td>157.162955</td>\n",
       "    </tr>\n",
       "    <tr>\n",
       "      <td>4</td>\n",
       "      <td>55.0</td>\n",
       "      <td>31.563636</td>\n",
       "      <td>37.513831</td>\n",
       "      <td>144.105130</td>\n",
       "    </tr>\n",
       "    <tr>\n",
       "      <td>5</td>\n",
       "      <td>67.0</td>\n",
       "      <td>37.850746</td>\n",
       "      <td>40.306874</td>\n",
       "      <td>158.771367</td>\n",
       "    </tr>\n",
       "    <tr>\n",
       "      <td>6</td>\n",
       "      <td>84.0</td>\n",
       "      <td>41.726190</td>\n",
       "      <td>44.567899</td>\n",
       "      <td>175.429887</td>\n",
       "    </tr>\n",
       "    <tr>\n",
       "      <td>7</td>\n",
       "      <td>91.0</td>\n",
       "      <td>49.846154</td>\n",
       "      <td>48.703621</td>\n",
       "      <td>195.957018</td>\n",
       "    </tr>\n",
       "    <tr>\n",
       "      <td>8</td>\n",
       "      <td>107.0</td>\n",
       "      <td>48.439252</td>\n",
       "      <td>46.601923</td>\n",
       "      <td>188.245020</td>\n",
       "    </tr>\n",
       "    <tr>\n",
       "      <td>9</td>\n",
       "      <td>115.0</td>\n",
       "      <td>52.286957</td>\n",
       "      <td>46.398874</td>\n",
       "      <td>191.483579</td>\n",
       "    </tr>\n",
       "    <tr>\n",
       "      <td>10</td>\n",
       "      <td>123.0</td>\n",
       "      <td>58.430894</td>\n",
       "      <td>51.934398</td>\n",
       "      <td>214.234087</td>\n",
       "    </tr>\n",
       "    <tr>\n",
       "      <td>11</td>\n",
       "      <td>134.0</td>\n",
       "      <td>55.791045</td>\n",
       "      <td>49.768951</td>\n",
       "      <td>205.097898</td>\n",
       "    </tr>\n",
       "    <tr>\n",
       "      <td>12</td>\n",
       "      <td>139.0</td>\n",
       "      <td>60.611511</td>\n",
       "      <td>51.787821</td>\n",
       "      <td>215.974974</td>\n",
       "    </tr>\n",
       "  </tbody>\n",
       "</table>\n",
       "</div>"
      ],
      "text/plain": [
       "       count       mean        std      3sigma\n",
       "month                                         \n",
       "1        9.0  33.777778  30.670742  125.790005\n",
       "2       24.0  21.958333  26.773574  102.279056\n",
       "3       37.0  32.297297  41.621886  157.162955\n",
       "4       55.0  31.563636  37.513831  144.105130\n",
       "5       67.0  37.850746  40.306874  158.771367\n",
       "6       84.0  41.726190  44.567899  175.429887\n",
       "7       91.0  49.846154  48.703621  195.957018\n",
       "8      107.0  48.439252  46.601923  188.245020\n",
       "9      115.0  52.286957  46.398874  191.483579\n",
       "10     123.0  58.430894  51.934398  214.234087\n",
       "11     134.0  55.791045  49.768951  205.097898\n",
       "12     139.0  60.611511  51.787821  215.974974"
      ]
     },
     "execution_count": 79,
     "metadata": {},
     "output_type": "execute_result"
    }
   ],
   "source": [
    "u_m_gb_message=ultra.groupby('month')['message'].describe()[['count', 'mean', 'std']]\n",
    "u_m_gb_message['3sigma']=u_m_gb_message['mean']+3*u_m_gb_message['std']\n",
    "u_m_gb_message"
   ]
  },
  {
   "cell_type": "markdown",
   "metadata": {},
   "source": [
    "С сообщениями все хорошо, нет границ, превышающих лимит тарифа, и судя по этим границам, сообщений в тарифе с большим запасом"
   ]
  },
  {
   "cell_type": "code",
   "execution_count": 80,
   "metadata": {},
   "outputs": [
    {
     "data": {
      "text/plain": [
       "month\n",
       "1     23787.341355\n",
       "2     36412.287961\n",
       "3     36823.155161\n",
       "4     34778.207127\n",
       "5     34820.061094\n",
       "6     30742.918861\n",
       "7     32250.269602\n",
       "8     34793.583379\n",
       "9     33535.342723\n",
       "10    35392.336375\n",
       "11    31605.237050\n",
       "12    39698.622033\n",
       "Name: std, dtype: float64"
      ]
     },
     "execution_count": 80,
     "metadata": {},
     "output_type": "execute_result"
    }
   ],
   "source": [
    "smart.groupby('month')['minute'].describe()['std']**2"
   ]
  },
  {
   "cell_type": "markdown",
   "metadata": {},
   "source": [
    "Дисперсия минут тарифа смарт по месяцам"
   ]
  },
  {
   "cell_type": "code",
   "execution_count": 81,
   "metadata": {},
   "outputs": [
    {
     "data": {
      "text/plain": [
       "month\n",
       "1     39.697850\n",
       "2     37.307119\n",
       "3     32.475085\n",
       "4     31.039579\n",
       "5     34.162860\n",
       "6     32.059112\n",
       "7     33.246133\n",
       "8     29.910581\n",
       "9     25.808474\n",
       "10    32.822716\n",
       "11    27.264141\n",
       "12    29.698213\n",
       "Name: std, dtype: float64"
      ]
     },
     "execution_count": 81,
     "metadata": {},
     "output_type": "execute_result"
    }
   ],
   "source": [
    "smart.groupby('month')['gb_used'].describe()['std']**2"
   ]
  },
  {
   "cell_type": "markdown",
   "metadata": {},
   "source": [
    "Дисперсия интернета тарифа смарт по месяцам"
   ]
  },
  {
   "cell_type": "code",
   "execution_count": 82,
   "metadata": {},
   "outputs": [
    {
     "data": {
      "text/plain": [
       "month\n",
       "1     262.367201\n",
       "2     473.097701\n",
       "3     718.492481\n",
       "4     602.139559\n",
       "5     730.990983\n",
       "6     806.806374\n",
       "7     799.887811\n",
       "8     838.257501\n",
       "9     790.617820\n",
       "10    816.111966\n",
       "11    805.937071\n",
       "12    934.952346\n",
       "Name: std, dtype: float64"
      ]
     },
     "execution_count": 82,
     "metadata": {},
     "output_type": "execute_result"
    }
   ],
   "source": [
    "smart.groupby('month')['message'].describe()['std']**2"
   ]
  },
  {
   "cell_type": "markdown",
   "metadata": {},
   "source": [
    "Дисперсия сообщений тарифа смарт по месяцам"
   ]
  },
  {
   "cell_type": "code",
   "execution_count": 83,
   "metadata": {},
   "outputs": [
    {
     "data": {
      "text/plain": [
       "month\n",
       "1      72769.361111\n",
       "2      87919.679348\n",
       "3     111384.900901\n",
       "4      71653.870034\n",
       "5      83870.193578\n",
       "6      91535.946500\n",
       "7      94322.278144\n",
       "8      97956.496385\n",
       "9     105716.775286\n",
       "10    106464.583500\n",
       "11     96570.057064\n",
       "12    117276.331561\n",
       "Name: std, dtype: float64"
      ]
     },
     "execution_count": 83,
     "metadata": {},
     "output_type": "execute_result"
    }
   ],
   "source": [
    "ultra.groupby('month')['minute'].describe()['std']**2"
   ]
  },
  {
   "cell_type": "markdown",
   "metadata": {},
   "source": [
    "Дисперсия минут тарифа ультра по месяцам"
   ]
  },
  {
   "cell_type": "code",
   "execution_count": 84,
   "metadata": {},
   "outputs": [
    {
     "data": {
      "text/plain": [
       "month\n",
       "1      45.038610\n",
       "2     108.256371\n",
       "3     114.597366\n",
       "4      90.240413\n",
       "5      96.431520\n",
       "6      82.514262\n",
       "7      96.776535\n",
       "8     104.862245\n",
       "9      85.972597\n",
       "10     91.811854\n",
       "11     93.784748\n",
       "12    102.906337\n",
       "Name: std, dtype: float64"
      ]
     },
     "execution_count": 84,
     "metadata": {},
     "output_type": "execute_result"
    }
   ],
   "source": [
    "ultra.groupby('month')['gb_used'].describe()['std']**2"
   ]
  },
  {
   "cell_type": "markdown",
   "metadata": {},
   "source": [
    "Дисперсия интернета тарифа ультра по месяцам"
   ]
  },
  {
   "cell_type": "code",
   "execution_count": 85,
   "metadata": {},
   "outputs": [
    {
     "data": {
      "text/plain": [
       "month\n",
       "1      940.694444\n",
       "2      716.824275\n",
       "3     1732.381381\n",
       "4     1407.287542\n",
       "5     1624.644052\n",
       "6     1986.297619\n",
       "7     2372.042735\n",
       "8     2171.739199\n",
       "9     2152.855530\n",
       "10    2697.181661\n",
       "11    2476.948491\n",
       "12    2681.978417\n",
       "Name: std, dtype: float64"
      ]
     },
     "execution_count": 85,
     "metadata": {},
     "output_type": "execute_result"
    }
   ],
   "source": [
    "ultra.groupby('month')['message'].describe()['std']**2"
   ]
  },
  {
   "cell_type": "markdown",
   "metadata": {},
   "source": [
    "Дисперсия сообщений тарифа ультра по месяцам"
   ]
  },
  {
   "cell_type": "code",
   "execution_count": 86,
   "metadata": {},
   "outputs": [
    {
     "data": {
      "text/html": [
       "<div>\n",
       "<style scoped>\n",
       "    .dataframe tbody tr th:only-of-type {\n",
       "        vertical-align: middle;\n",
       "    }\n",
       "\n",
       "    .dataframe tbody tr th {\n",
       "        vertical-align: top;\n",
       "    }\n",
       "\n",
       "    .dataframe thead th {\n",
       "        text-align: right;\n",
       "    }\n",
       "</style>\n",
       "<table border=\"1\" class=\"dataframe\">\n",
       "  <thead>\n",
       "    <tr style=\"text-align: right;\">\n",
       "      <th></th>\n",
       "      <th>mb_used_ov</th>\n",
       "      <th>message_ov</th>\n",
       "      <th>minute_ov</th>\n",
       "    </tr>\n",
       "    <tr>\n",
       "      <th>month</th>\n",
       "      <th></th>\n",
       "      <th></th>\n",
       "      <th></th>\n",
       "    </tr>\n",
       "  </thead>\n",
       "  <tbody>\n",
       "    <tr>\n",
       "      <td>1</td>\n",
       "      <td>747.205882</td>\n",
       "      <td>0.705882</td>\n",
       "      <td>1.500000</td>\n",
       "    </tr>\n",
       "    <tr>\n",
       "      <td>2</td>\n",
       "      <td>1046.120690</td>\n",
       "      <td>1.844828</td>\n",
       "      <td>14.827586</td>\n",
       "    </tr>\n",
       "    <tr>\n",
       "      <td>3</td>\n",
       "      <td>2303.298701</td>\n",
       "      <td>5.012987</td>\n",
       "      <td>34.493506</td>\n",
       "    </tr>\n",
       "    <tr>\n",
       "      <td>4</td>\n",
       "      <td>1437.080357</td>\n",
       "      <td>3.669643</td>\n",
       "      <td>26.883929</td>\n",
       "    </tr>\n",
       "    <tr>\n",
       "      <td>5</td>\n",
       "      <td>2551.539007</td>\n",
       "      <td>5.347518</td>\n",
       "      <td>27.510638</td>\n",
       "    </tr>\n",
       "    <tr>\n",
       "      <td>6</td>\n",
       "      <td>2531.030488</td>\n",
       "      <td>5.670732</td>\n",
       "      <td>29.408537</td>\n",
       "    </tr>\n",
       "    <tr>\n",
       "      <td>7</td>\n",
       "      <td>2546.417910</td>\n",
       "      <td>5.786070</td>\n",
       "      <td>34.452736</td>\n",
       "    </tr>\n",
       "    <tr>\n",
       "      <td>8</td>\n",
       "      <td>2906.570213</td>\n",
       "      <td>6.255319</td>\n",
       "      <td>40.680851</td>\n",
       "    </tr>\n",
       "    <tr>\n",
       "      <td>9</td>\n",
       "      <td>2575.219231</td>\n",
       "      <td>5.684615</td>\n",
       "      <td>43.015385</td>\n",
       "    </tr>\n",
       "    <tr>\n",
       "      <td>10</td>\n",
       "      <td>3092.142857</td>\n",
       "      <td>5.993197</td>\n",
       "      <td>44.309524</td>\n",
       "    </tr>\n",
       "    <tr>\n",
       "      <td>11</td>\n",
       "      <td>2986.768987</td>\n",
       "      <td>6.155063</td>\n",
       "      <td>43.848101</td>\n",
       "    </tr>\n",
       "    <tr>\n",
       "      <td>12</td>\n",
       "      <td>3736.154303</td>\n",
       "      <td>7.412463</td>\n",
       "      <td>67.973294</td>\n",
       "    </tr>\n",
       "  </tbody>\n",
       "</table>\n",
       "</div>"
      ],
      "text/plain": [
       "        mb_used_ov  message_ov  minute_ov\n",
       "month                                    \n",
       "1       747.205882    0.705882   1.500000\n",
       "2      1046.120690    1.844828  14.827586\n",
       "3      2303.298701    5.012987  34.493506\n",
       "4      1437.080357    3.669643  26.883929\n",
       "5      2551.539007    5.347518  27.510638\n",
       "6      2531.030488    5.670732  29.408537\n",
       "7      2546.417910    5.786070  34.452736\n",
       "8      2906.570213    6.255319  40.680851\n",
       "9      2575.219231    5.684615  43.015385\n",
       "10     3092.142857    5.993197  44.309524\n",
       "11     2986.768987    6.155063  43.848101\n",
       "12     3736.154303    7.412463  67.973294"
      ]
     },
     "execution_count": 86,
     "metadata": {},
     "output_type": "execute_result"
    }
   ],
   "source": [
    "smart.pivot_table(index='month', values=['minute_ov','mb_used_ov', 'message_ov'], aggfunc='mean')"
   ]
  },
  {
   "cell_type": "markdown",
   "metadata": {},
   "source": [
    "Средние превышения в тарифе смарт по месяцам. Видно, что в каждом месяце и в каждом значении есть превышения и по мере роста числа пользователей эти превышения растут. Компании стоит задуматься над этим."
   ]
  },
  {
   "cell_type": "markdown",
   "metadata": {},
   "source": [
    "<div class=\"alert alert-block alert-info\">\n",
    "<b>Fixed:</b>\n",
    "Выводы и рекомендации лучше писать сразу или оставлять на вывод? И если писать сразу, то нужно ли дублировать в выводе?\n",
    "</div>"
   ]
  },
  {
   "cell_type": "markdown",
   "metadata": {},
   "source": [
    "<hr style=\"border: 1px solid #000;\"> \n",
    "\n",
    "<div class=\"alert alert-warning\">\n",
    "\n",
    "<strong><font size=5>Комментарий от ревьюера</font></strong><br/>\n",
    "    \n",
    "А какие твои предложения? Какой вектор мысли должен быть у компании в данном случае?\n",
    "    \n",
    "</div>\n",
    "<hr style=\"border: 1px solid #000;\"> "
   ]
  },
  {
   "cell_type": "markdown",
   "metadata": {},
   "source": [
    "<hr style=\"border: 1px solid #000;\"> \n",
    "\n",
    "<div class=\"alert alert-success\">\n",
    "\n",
    "<strong><font size=5>Комментарий от студента (v.2)</font></strong><br/>\n",
    "    \n",
    "Просто если натыкаешься на такие наблюдения, лучше сразу сформулировать свои мысли. В выводы можно их просто скопировать. А то так у нас остаётся \"подвисший\" вопрос, который требует разъяснений.\n",
    "    \n",
    "</div>\n",
    "<hr style=\"border: 1px solid #000;\"> "
   ]
  },
  {
   "cell_type": "code",
   "execution_count": 87,
   "metadata": {},
   "outputs": [
    {
     "data": {
      "text/html": [
       "<div>\n",
       "<style scoped>\n",
       "    .dataframe tbody tr th:only-of-type {\n",
       "        vertical-align: middle;\n",
       "    }\n",
       "\n",
       "    .dataframe tbody tr th {\n",
       "        vertical-align: top;\n",
       "    }\n",
       "\n",
       "    .dataframe thead th {\n",
       "        text-align: right;\n",
       "    }\n",
       "</style>\n",
       "<table border=\"1\" class=\"dataframe\">\n",
       "  <thead>\n",
       "    <tr style=\"text-align: right;\">\n",
       "      <th></th>\n",
       "      <th>mb_used_ov</th>\n",
       "      <th>message_ov</th>\n",
       "      <th>minute_ov</th>\n",
       "    </tr>\n",
       "    <tr>\n",
       "      <th>month</th>\n",
       "      <th></th>\n",
       "      <th></th>\n",
       "      <th></th>\n",
       "    </tr>\n",
       "  </thead>\n",
       "  <tbody>\n",
       "    <tr>\n",
       "      <td>1</td>\n",
       "      <td>0.000000</td>\n",
       "      <td>0</td>\n",
       "      <td>0.0</td>\n",
       "    </tr>\n",
       "    <tr>\n",
       "      <td>2</td>\n",
       "      <td>157.333333</td>\n",
       "      <td>0</td>\n",
       "      <td>0.0</td>\n",
       "    </tr>\n",
       "    <tr>\n",
       "      <td>3</td>\n",
       "      <td>369.810811</td>\n",
       "      <td>0</td>\n",
       "      <td>0.0</td>\n",
       "    </tr>\n",
       "    <tr>\n",
       "      <td>4</td>\n",
       "      <td>310.145455</td>\n",
       "      <td>0</td>\n",
       "      <td>0.0</td>\n",
       "    </tr>\n",
       "    <tr>\n",
       "      <td>5</td>\n",
       "      <td>716.567164</td>\n",
       "      <td>0</td>\n",
       "      <td>0.0</td>\n",
       "    </tr>\n",
       "    <tr>\n",
       "      <td>6</td>\n",
       "      <td>560.202381</td>\n",
       "      <td>0</td>\n",
       "      <td>0.0</td>\n",
       "    </tr>\n",
       "    <tr>\n",
       "      <td>7</td>\n",
       "      <td>1082.043956</td>\n",
       "      <td>0</td>\n",
       "      <td>0.0</td>\n",
       "    </tr>\n",
       "    <tr>\n",
       "      <td>8</td>\n",
       "      <td>827.065421</td>\n",
       "      <td>0</td>\n",
       "      <td>0.0</td>\n",
       "    </tr>\n",
       "    <tr>\n",
       "      <td>9</td>\n",
       "      <td>435.034783</td>\n",
       "      <td>0</td>\n",
       "      <td>0.0</td>\n",
       "    </tr>\n",
       "    <tr>\n",
       "      <td>10</td>\n",
       "      <td>729.894309</td>\n",
       "      <td>0</td>\n",
       "      <td>0.0</td>\n",
       "    </tr>\n",
       "    <tr>\n",
       "      <td>11</td>\n",
       "      <td>892.835821</td>\n",
       "      <td>0</td>\n",
       "      <td>0.0</td>\n",
       "    </tr>\n",
       "    <tr>\n",
       "      <td>12</td>\n",
       "      <td>1203.172662</td>\n",
       "      <td>0</td>\n",
       "      <td>0.0</td>\n",
       "    </tr>\n",
       "  </tbody>\n",
       "</table>\n",
       "</div>"
      ],
      "text/plain": [
       "        mb_used_ov  message_ov  minute_ov\n",
       "month                                    \n",
       "1         0.000000           0        0.0\n",
       "2       157.333333           0        0.0\n",
       "3       369.810811           0        0.0\n",
       "4       310.145455           0        0.0\n",
       "5       716.567164           0        0.0\n",
       "6       560.202381           0        0.0\n",
       "7      1082.043956           0        0.0\n",
       "8       827.065421           0        0.0\n",
       "9       435.034783           0        0.0\n",
       "10      729.894309           0        0.0\n",
       "11      892.835821           0        0.0\n",
       "12     1203.172662           0        0.0"
      ]
     },
     "execution_count": 87,
     "metadata": {},
     "output_type": "execute_result"
    }
   ],
   "source": [
    "ultra.pivot_table(index='month', values=['minute_ov','mb_used_ov', 'message_ov'], aggfunc='mean')"
   ]
  },
  {
   "cell_type": "markdown",
   "metadata": {},
   "source": [
    "Средние превышения в тарифе ультра по месяцам. Превышения есть только в интернете, остальных параметров в тарифе с избытком. Это тоже не хорошо, люди сильно переплачивают за минуты и сообщения."
   ]
  },
  {
   "cell_type": "markdown",
   "metadata": {},
   "source": [
    "Теперь рассмотрим гистограммы для каждой величины и для каждого тарифа. Можно было бы рассматривать гистограммы по месяцам, но как видно гистограмма по месяцам и гистограмма в общем для величины не сильно различаются, поэтому я буду рассматривать гистограммы в общем."
   ]
  },
  {
   "cell_type": "code",
   "execution_count": 88,
   "metadata": {},
   "outputs": [
    {
     "data": {
      "text/plain": [
       "Text(0, 0.5, 'Кол-во')"
      ]
     },
     "execution_count": 88,
     "metadata": {},
     "output_type": "execute_result"
    },
    {
     "data": {
      "image/png": "[encoded data removed]",
      "text/plain": [
       "<Figure size 648x648 with 1 Axes>"
      ]
     },
     "metadata": {
      "needs_background": "light"
     },
     "output_type": "display_data"
    }
   ],
   "source": [
    "smart.groupby('month')['minute'].plot(\n",
    "    kind='hist',\n",
    "    legend=True,\n",
    "    bins=50,\n",
    "    alpha=0.5,\n",
    "    figsize=(9, 9),\n",
    "    grid=True\n",
    ")\n",
    "plt.axvline(500, color='r', linestyle='--')\n",
    "pl.title(\"Гистограмма разговорных минут по месяцам для тарифа смарт(1.2018-12.2018)\")\n",
    "pl.xlabel(\"Минуты, мин\")\n",
    "pl.ylabel(\"Кол-во\")"
   ]
  },
  {
   "cell_type": "code",
   "execution_count": 89,
   "metadata": {},
   "outputs": [
    {
     "data": {
      "text/plain": [
       "Text(0, 0.5, 'Кол-во')"
      ]
     },
     "execution_count": 89,
     "metadata": {},
     "output_type": "execute_result"
    },
    {
     "data": {
      "image/png": "[encoded data removed]",
      "text/plain": [
       "<Figure size 648x648 with 1 Axes>"
      ]
     },
     "metadata": {
      "needs_background": "light"
     },
     "output_type": "display_data"
    }
   ],
   "source": [
    "smart['minute'].plot(\n",
    "    kind='hist', \n",
    "    legend=True,\n",
    "    bins=50,\n",
    "    alpha=0.5,\n",
    "    figsize=(9, 9),\n",
    "    grid=True\n",
    ")\n",
    "plt.axvline(500, color='r', linestyle='--')\n",
    "pl.title(\"Гистограмма разговорных минут для тарифа смарт(1.2018-12.2018)\")\n",
    "pl.xlabel(\"Минуты, мин\")\n",
    "pl.ylabel(\"Кол-во\")"
   ]
  },
  {
   "cell_type": "markdown",
   "metadata": {},
   "source": [
    "Гистограмма разговорных минут для тарифа смарт имеет нормальное распределение и дает понять, что почти половина всех клиентов превышает тариф."
   ]
  },
  {
   "cell_type": "code",
   "execution_count": 90,
   "metadata": {},
   "outputs": [
    {
     "data": {
      "text/plain": [
       "Text(0, 0.5, 'Кол-во')"
      ]
     },
     "execution_count": 90,
     "metadata": {},
     "output_type": "execute_result"
    },
    {
     "data": {
      "image/png": "[encoded data removed]",
      "text/plain": [
       "<Figure size 648x648 with 1 Axes>"
      ]
     },
     "metadata": {
      "needs_background": "light"
     },
     "output_type": "display_data"
    }
   ],
   "source": [
    "smart['gb_used'].plot(\n",
    "    kind='hist', \n",
    "    legend=True,\n",
    "    bins=50,\n",
    "    alpha=0.5,\n",
    "    figsize=(9, 9),\n",
    "    grid=True\n",
    ")\n",
    "plt.axvline(15, color='r', linestyle='--')\n",
    "pl.title(\"Гистограмма использованных гигабайт для тарифа смарт(1.2018-12.2018)\")\n",
    "pl.xlabel(\"Гигабайты, Гб\")\n",
    "pl.ylabel(\"Кол-во\")"
   ]
  },
  {
   "cell_type": "markdown",
   "metadata": {},
   "source": [
    "Гистограмма использованных гигабайт для тарифа смарт также имеет нормальное распределение и дает понять, что больше половины всех клиентов превышают тариф."
   ]
  },
  {
   "cell_type": "code",
   "execution_count": 91,
   "metadata": {},
   "outputs": [
    {
     "data": {
      "text/plain": [
       "Text(0, 0.5, 'Кол-во')"
      ]
     },
     "execution_count": 91,
     "metadata": {},
     "output_type": "execute_result"
    },
    {
     "data": {
      "image/png": "[encoded data removed]",
      "text/plain": [
       "<Figure size 648x648 with 1 Axes>"
      ]
     },
     "metadata": {
      "needs_background": "light"
     },
     "output_type": "display_data"
    }
   ],
   "source": [
    "smart['message'].plot(\n",
    "    kind='hist',\n",
    "    legend=True,\n",
    "    bins=50,\n",
    "    alpha=0.5,\n",
    "    figsize=(9, 9),\n",
    "    grid=True\n",
    ")\n",
    "plt.axvline(50, color='r', linestyle='--')\n",
    "pl.title(\"Гистограмма сообщений для тарифа смарт(1.2018-12.2018)\")\n",
    "pl.xlabel(\"Сообщения, штк\")\n",
    "pl.ylabel(\"Кол-во\")"
   ]
  },
  {
   "cell_type": "markdown",
   "metadata": {},
   "source": [
    "Гистограмма сообщений для тарифа смарт имеет распределение Пуассона и дает понять, что меньше половины всех клиентов превышают тариф."
   ]
  },
  {
   "cell_type": "code",
   "execution_count": 92,
   "metadata": {},
   "outputs": [
    {
     "data": {
      "text/plain": [
       "Text(0, 0.5, 'Кол-во')"
      ]
     },
     "execution_count": 92,
     "metadata": {},
     "output_type": "execute_result"
    },
    {
     "data": {
      "image/png": "[encoded data removed]",
      "text/plain": [
       "<Figure size 648x648 with 1 Axes>"
      ]
     },
     "metadata": {
      "needs_background": "light"
     },
     "output_type": "display_data"
    }
   ],
   "source": [
    "ultra['minute'].plot(\n",
    "    kind='hist', \n",
    "    legend=True,\n",
    "    bins=50,\n",
    "    alpha=0.5,\n",
    "    figsize=(9, 9),\n",
    "    grid=True\n",
    ")\n",
    "pl.title(\"Гистограмма разговорных минут для тарифа ультра(1.2018-12.2018)\")\n",
    "pl.xlabel(\"Минуты, мин\")\n",
    "pl.ylabel(\"Кол-во\")"
   ]
  },
  {
   "cell_type": "markdown",
   "metadata": {},
   "source": [
    "Гистограмма разговорных минут для тарифа ультра имеет нормальное распределение."
   ]
  },
  {
   "cell_type": "code",
   "execution_count": 93,
   "metadata": {},
   "outputs": [
    {
     "data": {
      "text/plain": [
       "Text(0, 0.5, 'Кол-во')"
      ]
     },
     "execution_count": 93,
     "metadata": {},
     "output_type": "execute_result"
    },
    {
     "data": {
      "image/png": "[encoded data removed]",
      "text/plain": [
       "<Figure size 648x648 with 1 Axes>"
      ]
     },
     "metadata": {
      "needs_background": "light"
     },
     "output_type": "display_data"
    }
   ],
   "source": [
    "ultra['gb_used'].plot(\n",
    "    kind='hist', \n",
    "    legend=True,\n",
    "    bins=50,\n",
    "    alpha=0.5,\n",
    "    figsize=(9, 9),\n",
    "    grid=True\n",
    ")\n",
    "plt.axvline(30, color='r', linestyle='--')\n",
    "pl.title(\"Гистограмма использованных гигабайт для тарифа ультра(1.2018-12.2018)\")\n",
    "pl.xlabel(\"Гигабайты, Гб\")\n",
    "pl.ylabel(\"Кол-во\")"
   ]
  },
  {
   "cell_type": "markdown",
   "metadata": {},
   "source": [
    "Гистограмма использованных гигабайт для тарифа ультра имеет нормальное распределение и дает понять, что меньше половины всех клиентов превышают тариф."
   ]
  },
  {
   "cell_type": "code",
   "execution_count": 94,
   "metadata": {},
   "outputs": [
    {
     "data": {
      "text/plain": [
       "Text(0, 0.5, 'Кол-во')"
      ]
     },
     "execution_count": 94,
     "metadata": {},
     "output_type": "execute_result"
    },
    {
     "data": {
      "image/png": "[encoded data removed]",
      "text/plain": [
       "<Figure size 648x648 with 1 Axes>"
      ]
     },
     "metadata": {
      "needs_background": "light"
     },
     "output_type": "display_data"
    }
   ],
   "source": [
    "ultra['message'].plot(\n",
    "    kind='hist', \n",
    "    legend=True,\n",
    "    bins=50,\n",
    "    alpha=0.5,\n",
    "    figsize=(9, 9),\n",
    "    grid=True\n",
    ")\n",
    "pl.title(\"Гистограмма сообщений для тарифа ультра(1.2018-12.2018)\")\n",
    "pl.xlabel(\"Сообщения, штк\")\n",
    "pl.ylabel(\"Кол-во\")"
   ]
  },
  {
   "cell_type": "markdown",
   "metadata": {},
   "source": [
    "Гистограмма сообщений для тарифа ультра имеет распределение Пуассона."
   ]
  },
  {
   "cell_type": "code",
   "execution_count": 95,
   "metadata": {},
   "outputs": [
    {
     "data": {
      "text/plain": [
       "Text(0, 0.5, 'Прибыль, руб.')"
      ]
     },
     "execution_count": 95,
     "metadata": {},
     "output_type": "execute_result"
    },
    {
     "data": {
      "image/png": "[encoded data removed]",
      "text/plain": [
       "<Figure size 648x432 with 1 Axes>"
      ]
     },
     "metadata": {
      "needs_background": "light"
     },
     "output_type": "display_data"
    }
   ],
   "source": [
    "df_table.pivot_table(index='month', columns='tariff', values='sum_per_month', aggfunc='sum').plot(kind='bar',figsize=(9, 6),\n",
    "    grid=True)\n",
    "pl.title(\"Суммарная прибыль дополнительных услуг для разных тарифов по месяцам(1.2018-12.2018)\")\n",
    "pl.xlabel(\"Месяц\")\n",
    "pl.ylabel(\"Прибыль, руб.\")"
   ]
  },
  {
   "cell_type": "markdown",
   "metadata": {},
   "source": [
    "Интересно было посмотреть на сколько в тарифе смарт дополнительные услуги приносят больше, чем в тарифе ультра."
   ]
  },
  {
   "cell_type": "markdown",
   "metadata": {},
   "source": [
    "<hr style=\"border: 1px solid #000;\"> \n",
    "<div class=\"alert alert-success\">\n",
    "<strong><font size=5>Комментарий от ревьюера</font></strong><br/>\n",
    " \n",
    "Тут нечего добавить. Отличное исследование ты здесь провёл. Всё очень последовательно и наглядно сделано. Можно ещё добавить пару рекомендаций компании, как можно было бы модернизировать существующие тарифы. Наверняка, ты расскажешь об этом в выводах.\n",
    "    \n",
    "</div>\n",
    "<hr style=\"border: 1px solid #000;\"> "
   ]
  },
  {
   "cell_type": "markdown",
   "metadata": {},
   "source": [
    "<b><font size=5>4. Проверим гипотезы.</font></b><a name=\"4.\"></a><br/>\n",
    "[<font size=\"2\">(к содержанию)</font>](#to_content.)"
   ]
  },
  {
   "cell_type": "markdown",
   "metadata": {},
   "source": [
    "Проверка первой гипотезы: средняя выручка пользователей тарифов «Ультра» и «Смарт» различается;"
   ]
  },
  {
   "cell_type": "markdown",
   "metadata": {},
   "source": [
    "Нулевой гипотезой будет гипотеза о том, что средние наших выборок равны. Альтернативной гипотезой будет наша гипотеза \"Средняя выручка пользователей тарифов «Ультра» и «Смарт» различается\"."
   ]
  },
  {
   "cell_type": "markdown",
   "metadata": {},
   "source": [
    "критический уровень значимости 0.05"
   ]
  },
  {
   "cell_type": "code",
   "execution_count": 96,
   "metadata": {},
   "outputs": [
    {
     "name": "stdout",
     "output_type": "stream",
     "text": [
      "P-value: 2.7240946993530856e-246\n",
      "Отвергаем нулевую гипотезу\n"
     ]
    }
   ],
   "source": [
    "from scipy import stats as st\n",
    "alpha = 0.05\n",
    "results = st.ttest_ind(smart['total_price'], ultra['total_price'], equal_var = False)\n",
    "print('P-value:', results.pvalue)\n",
    "\n",
    "if (results.pvalue < alpha):\n",
    "    print(\"Отвергаем нулевую гипотезу\")\n",
    "else:\n",
    "    print(\"Не получилось отвергнуть нулевую гипотезу\")"
   ]
  },
  {
   "cell_type": "markdown",
   "metadata": {},
   "source": [
    "Нулевой гипотезой была гипотеза о равенстве средних наших выборок и очень маленькое p-value говорит нам о том, вероятность случайного совпадения средних наших выборок ничтожно мало. Нулевая гипотеза отвергается!"
   ]
  },
  {
   "cell_type": "markdown",
   "metadata": {},
   "source": [
    "Проверка второй гипотезы: средняя выручка пользователей из Москвы отличается от выручки пользователей из других регионов;"
   ]
  },
  {
   "cell_type": "code",
   "execution_count": 97,
   "metadata": {},
   "outputs": [],
   "source": [
    "moscow=df_table.query('city==\"Москва\"')"
   ]
  },
  {
   "cell_type": "code",
   "execution_count": 98,
   "metadata": {},
   "outputs": [],
   "source": [
    "other=df_table.query('city!=\"Москва\"')"
   ]
  },
  {
   "cell_type": "markdown",
   "metadata": {},
   "source": [
    "Нулевой гипотезой будет гипотеза о том, что средняя выручка пользователей из Москвы не отличается от выручки пользователей из других регионов. Альтернативной гипотезой будет наша гипотеза \"средняя выручка пользователей из Москвы отличается от выручки пользователей из других регионов\""
   ]
  },
  {
   "cell_type": "code",
   "execution_count": 99,
   "metadata": {},
   "outputs": [
    {
     "name": "stdout",
     "output_type": "stream",
     "text": [
      "P-value: 0.5126564657748214\n",
      "Не получилось отвергнуть нулевую гипотезу\n"
     ]
    }
   ],
   "source": [
    "alpha = 0.05\n",
    "results_2 = st.ttest_ind(moscow['total_price'], other['total_price'], equal_var = False)\n",
    "print('P-value:', results_2.pvalue)\n",
    "\n",
    "if (results_2.pvalue < alpha):\n",
    "    print(\"Отвергаем нулевую гипотезу\")\n",
    "else:\n",
    "    print(\"Не получилось отвергнуть нулевую гипотезу\")"
   ]
  },
  {
   "cell_type": "markdown",
   "metadata": {},
   "source": [
    "Полученное нами p-value равно 0.51, а значит есть большая вероятность того, что отличие средних значений наших выборок случайно и мы не можем отвергнуть нулевую гипотезу, которая говорит нам о равенстве средних значений"
   ]
  },
  {
   "cell_type": "markdown",
   "metadata": {},
   "source": [
    "Значит, нашу альтернативную гипотезу отвергаем."
   ]
  },
  {
   "cell_type": "markdown",
   "metadata": {},
   "source": [
    "<hr style=\"border: 1px solid #000;\"> \n",
    "<div class=\"alert alert-success\">\n",
    "<strong><font size=5>Комментарий от ревьюера</font></strong><br/>\n",
    " \n",
    "Здесь корректно.\n",
    "    \n",
    "</div>\n",
    "<hr style=\"border: 1px solid #000;\"> "
   ]
  },
  {
   "cell_type": "markdown",
   "metadata": {},
   "source": [
    "<b><font size=5>Вывод.</font></b><a name=\"5.\"></a><br/>\n",
    "[<font size=\"2\">(к содержанию)</font>](#to_content.)"
   ]
  },
  {
   "cell_type": "markdown",
   "metadata": {},
   "source": [
    "В данной работе я выступал аналитиком компании «Мегалайн», мне предстояло сделать предварительный анализ тарифов на небольшой выборке клиентов и сделать вывод – какой тариф лучше.\n",
    "\n",
    "В ходе работы, была изучена общая информация, исправлены ошибки и убраны пропуски, также некоторые значения были округлены в соответствии с требованием компании «Мегалайн». Были получены сводные таблицы для более удобного просмотра данных по месяцам и интересующим параметрам. \n",
    "\n",
    "Данные были подготовлены к анализу. Была получена сводная таблицы, в которой была информация о каждом пользователи и использованных им услугами тарифа. В эту таблицу были добавлены превышение тарифа по каждому параметру и итоговая стоимость, которую пользователь заплатил за тот или иной месяц.\n",
    "\n",
    "Данные были проанализированы. Посчитаны среднее кол-во, дисперсия и стандартное отклонение для каждого параметра по месяцам.\n",
    "Были проверены гипотезы. Первая гипотеза не была отвергнута, а вот вторую пришлось отвергнуть. \n",
    "\n",
    "Исходя из анализа данных, можно сделать вывод, что тариф «смарт» приносит больше денег чем тариф «ультра». Связано это с тем, что тариф «смарт» лучше продается, этим тарифом пользуется гораздо больше человек, чем тарифом «ультра», Скорее всего потому, что он стоит в 4 раза меньше.\n",
    "\n",
    "Но на вопрос какой же тариф лучше мне ответить сложно. Тариф «смарт» стоит относительно не дорого, но как показывает анализ по выборке у него есть большие проблемы с интернет трафиком, его в среднем не хватает половине пользователь и чем больше пользователь, тем больше превышений лимита. Также не хватает минут для разговора и сообщений, но не так сильно, как интернет трафика. Для меня как для потребителя было бы не очень удобно, в течение месяца пополнять счет, на мой взгляд, гораздо удобнее положить 1 раз деньги на счет и не думать об этом месяц.\n",
    "\n",
    "Тариф «ультра» так же я не могу назвать лучшим. Хоть в нем и интернет трафика больше, но все же есть те, кому его не хватает и таких относительно много, и чем больше будет пользователей этим тарифом, тем больше будет превышений. Что касается минут для разговора и сообщений, на мой взгляд их слишком много, я думаю, никто сейчас столько не пишет и не говорит, как предлагается в этом тарифе. В итоге я переплачиваю за то, что я не смогу полностью потратить, а интернета все равно всем не хватает еще и стоит в 4 раза больше.\n",
    "\n",
    "Я бы посоветовал компании «Мегалайн» добавить еще один, тариф, который будет включать минуты и сообщения как у тарифа «смарт», но при этом интернет трафика иметь как тариф «ультра», и стоить будет чуть подороже чем «смарт», но не в несколько раз. Или сделать тариф с безлимитным интернетом, ведь им сейчас пользуются все и везде.\n"
   ]
  },
  {
   "cell_type": "markdown",
   "metadata": {},
   "source": [
    "<hr style=\"border: 1px solid #000;\"> \n",
    "<div>\n",
    "<strong><font size=5>Комментарий от ревьюера</font></strong><br/>\n",
    " \n",
    "Хорошая работа. Отлчный подход к исследованию. Заданию следуешь, но выполняешь их \"своим\" способом, что получается не просто выполнение заданий по перечню, а полноценный рассказ об имеющихся данных и наблюдениях по ним. \n",
    "    \n",
    "Есть пара пунктов, которые можно поправить.\n",
    "    \n",
    "Жду твою работу на повторную проверку.\n",
    "    \n",
    "</div>\n",
    "<hr style=\"border: 1px solid #000;\"> "
   ]
  },
  {
   "cell_type": "markdown",
   "metadata": {},
   "source": [
    "<hr style=\"border: 1px solid #000;\"> \n",
    "\n",
    "<div class=\"alert alert-success\">\n",
    "\n",
    "<strong><font size=5>Комментарий от студента (v.2)</font></strong><br/>\n",
    "    \n",
    "Теперь все отлично. Солидная работа. Очень глубокий анализ.\n",
    "    \n",
    "Жду тебя на следующих проектах.\n",
    "    \n",
    "</div>\n",
    "<hr style=\"border: 1px solid #000;\"> "
   ]
  }
 ],
 "metadata": {
  "kernelspec": {
   "display_name": "Python 3",
   "language": "python",
   "name": "python3"
  },
  "language_info": {
   "codemirror_mode": {
    "name": "ipython",
    "version": 3
   },
   "file_extension": ".py",
   "mimetype": "text/x-python",
   "name": "python",
   "nbconvert_exporter": "python",
   "pygments_lexer": "ipython3",
   "version": "3.7.8"
  },
  "toc": {
   "base_numbering": 1,
   "nav_menu": {},
   "number_sections": true,
   "sideBar": true,
   "skip_h1_title": true,
   "title_cell": "Table of Contents",
   "title_sidebar": "Contents",
   "toc_cell": false,
   "toc_position": {},
   "toc_section_display": true,
   "toc_window_display": false
  }
 },
 "nbformat": 4,
 "nbformat_minor": 2
}
